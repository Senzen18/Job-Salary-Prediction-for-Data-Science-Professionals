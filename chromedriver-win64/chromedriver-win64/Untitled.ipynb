{
 "cells": [
  {
   "cell_type": "code",
   "execution_count": 1,
   "id": "c52d6c0f-ff8b-4e2e-8cfc-1ba50f7a35a8",
   "metadata": {},
   "outputs": [],
   "source": [
    "dic = {1:2}"
   ]
  },
  {
   "cell_type": "code",
   "execution_count": 2,
   "id": "84fc7290-25cb-4a84-a090-b7f4e2960d74",
   "metadata": {},
   "outputs": [
    {
     "data": {
      "text/plain": [
       "2"
      ]
     },
     "execution_count": 2,
     "metadata": {},
     "output_type": "execute_result"
    }
   ],
   "source": [
    "dic[1]"
   ]
  },
  {
   "cell_type": "code",
   "execution_count": 7,
   "id": "c7b6afcf-e14e-42bb-a8bd-9c0b14282576",
   "metadata": {},
   "outputs": [
    {
     "data": {
      "text/plain": [
       "dict_keys"
      ]
     },
     "execution_count": 7,
     "metadata": {},
     "output_type": "execute_result"
    }
   ],
   "source": [
    " type(dic.keys())"
   ]
  },
  {
   "cell_type": "code",
   "execution_count": 9,
   "id": "de6bab4c-703f-4ae8-92fe-f6cb88b3507d",
   "metadata": {},
   "outputs": [
    {
     "data": {
      "text/plain": [
       "2"
      ]
     },
     "execution_count": 9,
     "metadata": {},
     "output_type": "execute_result"
    }
   ],
   "source": [
    "sum(dic.values())"
   ]
  },
  {
   "cell_type": "code",
   "execution_count": 10,
   "id": "a7ab56bb-6a8a-45be-b484-acf6dc8b1422",
   "metadata": {},
   "outputs": [
    {
     "data": {
      "text/plain": [
       "\u001b[1;31mSignature:\u001b[0m \u001b[0mord\u001b[0m\u001b[1;33m(\u001b[0m\u001b[0mc\u001b[0m\u001b[1;33m,\u001b[0m \u001b[1;33m/\u001b[0m\u001b[1;33m)\u001b[0m\u001b[1;33m\u001b[0m\u001b[1;33m\u001b[0m\u001b[0m\n",
       "\u001b[1;31mDocstring:\u001b[0m Return the Unicode code point for a one-character string.\n",
       "\u001b[1;31mType:\u001b[0m      builtin_function_or_method"
      ]
     },
     "metadata": {},
     "output_type": "display_data"
    }
   ],
   "source": [
    "ord?"
   ]
  },
  {
   "cell_type": "code",
   "execution_count": 11,
   "id": "b0b0d612-f4e5-4d79-bc07-3ae1f5ce74ae",
   "metadata": {},
   "outputs": [
    {
     "data": {
      "text/plain": [
       "97"
      ]
     },
     "execution_count": 11,
     "metadata": {},
     "output_type": "execute_result"
    }
   ],
   "source": [
    "ord('a')"
   ]
  },
  {
   "cell_type": "code",
   "execution_count": 15,
   "id": "ddf6880f-524d-4e6e-a316-0f431a44b326",
   "metadata": {},
   "outputs": [],
   "source": [
    "import collections\n",
    "dic = collections.defaultdict(int)"
   ]
  },
  {
   "cell_type": "code",
   "execution_count": 17,
   "id": "157227a7-6625-405a-86c2-bf66d8ae620e",
   "metadata": {},
   "outputs": [],
   "source": [
    "dic[1] +=1"
   ]
  },
  {
   "cell_type": "code",
   "execution_count": 18,
   "id": "0c703d0c-cafb-4eec-900d-88e7c0e497b6",
   "metadata": {},
   "outputs": [
    {
     "data": {
      "text/plain": [
       "1"
      ]
     },
     "execution_count": 18,
     "metadata": {},
     "output_type": "execute_result"
    }
   ],
   "source": [
    "dic[1]\n"
   ]
  },
  {
   "cell_type": "code",
   "execution_count": 1,
   "id": "87cd32f3-4f57-4267-bb85-7cef5bd25f02",
   "metadata": {},
   "outputs": [],
   "source": [
    "a = set()"
   ]
  },
  {
   "cell_type": "code",
   "execution_count": 13,
   "id": "8897ba3a-c893-4783-b3e7-6dcc66751cf0",
   "metadata": {},
   "outputs": [],
   "source": [
    "a={1,2,6,4}"
   ]
  },
  {
   "cell_type": "code",
   "execution_count": 14,
   "id": "56e75fb6-a5fb-47fb-892f-b0bf06555359",
   "metadata": {},
   "outputs": [],
   "source": [
    "b=set([1,2,3,7])"
   ]
  },
  {
   "cell_type": "code",
   "execution_count": 15,
   "id": "3def8a7d-ce63-4b69-8dfc-9fc3c20b815c",
   "metadata": {},
   "outputs": [],
   "source": [
    "c = set([1,2,5])\n"
   ]
  },
  {
   "cell_type": "code",
   "execution_count": 19,
   "id": "d4012445-aeaf-483e-9808-e122b39c7875",
   "metadata": {},
   "outputs": [
    {
     "data": {
      "text/plain": [
       "{1, 2}"
      ]
     },
     "execution_count": 19,
     "metadata": {},
     "output_type": "execute_result"
    }
   ],
   "source": [
    "a-(a-b)"
   ]
  },
  {
   "cell_type": "code",
   "execution_count": 21,
   "id": "07aaa5d8-f33d-4722-88cb-82c25ce8534f",
   "metadata": {},
   "outputs": [
    {
     "data": {
      "text/plain": [
       "26"
      ]
     },
     "execution_count": 21,
     "metadata": {},
     "output_type": "execute_result"
    }
   ],
   "source": [
    "len([0] *26)"
   ]
  },
  {
   "cell_type": "code",
   "execution_count": 22,
   "id": "08290057-703b-4a0b-bace-036033823896",
   "metadata": {},
   "outputs": [],
   "source": [
    "a = {1:[1,2,3],2:[3,4]}"
   ]
  },
  {
   "cell_type": "code",
   "execution_count": 24,
   "id": "649c43a4-653f-48e8-9e82-94a7b086ad56",
   "metadata": {},
   "outputs": [
    {
     "data": {
      "text/plain": [
       "[[1, 2, 3], [3, 4]]"
      ]
     },
     "execution_count": 24,
     "metadata": {},
     "output_type": "execute_result"
    }
   ],
   "source": [
    "list(a.values())"
   ]
  },
  {
   "cell_type": "code",
   "execution_count": 1,
   "id": "303ee004-bf88-42d1-889f-6bb5c50197e8",
   "metadata": {},
   "outputs": [],
   "source": [
    "a = {1,2,3,4}"
   ]
  },
  {
   "cell_type": "code",
   "execution_count": 3,
   "id": "b7d51742-5582-4646-9766-7fd4ff2bed18",
   "metadata": {},
   "outputs": [],
   "source": [
    "b = {1,1,3,5}"
   ]
  },
  {
   "cell_type": "code",
   "execution_count": 5,
   "id": "f876aca7-351e-438e-a65f-ecf6d782810b",
   "metadata": {},
   "outputs": [],
   "source": [
    "b=set([1,2,4,1])"
   ]
  },
  {
   "cell_type": "code",
   "execution_count": 6,
   "id": "5db29663-3db1-48f7-b1b2-9dcc84c09816",
   "metadata": {},
   "outputs": [
    {
     "data": {
      "text/plain": [
       "{1, 2, 4}"
      ]
     },
     "execution_count": 6,
     "metadata": {},
     "output_type": "execute_result"
    }
   ],
   "source": [
    "b"
   ]
  },
  {
   "cell_type": "code",
   "execution_count": 7,
   "id": "63e3a915-6edc-4589-94d2-f148f67ae390",
   "metadata": {},
   "outputs": [],
   "source": [
    "a = [[\"5\",\"3\",\".\",\".\",\"7\",\".\",\".\",\".\",\".\"]\n",
    ",[\"6\",\".\",\".\",\"1\",\"9\",\"5\",\".\",\".\",\".\"]\n",
    ",[\".\",\"9\",\"8\",\".\",\".\",\".\",\".\",\"6\",\".\"]\n",
    ",[\"8\",\".\",\".\",\".\",\"6\",\".\",\".\",\".\",\"3\"]\n",
    ",[\"4\",\".\",\".\",\"8\",\".\",\"3\",\".\",\".\",\"1\"]\n",
    ",[\"7\",\".\",\".\",\".\",\"2\",\".\",\".\",\".\",\"6\"]\n",
    ",[\".\",\"6\",\".\",\".\",\".\",\".\",\"2\",\"8\",\".\"]\n",
    ",[\".\",\".\",\".\",\"4\",\"1\",\"9\",\".\",\".\",\"5\"]\n",
    ",[\".\",\".\",\".\",\".\",\"8\",\".\",\".\",\"7\",\"9\"]]"
   ]
  },
  {
   "cell_type": "code",
   "execution_count": 16,
   "id": "075fa4ba-97d1-4491-9a40-af2d5358c90e",
   "metadata": {},
   "outputs": [
    {
     "data": {
      "text/plain": [
       "'3'"
      ]
     },
     "execution_count": 16,
     "metadata": {},
     "output_type": "execute_result"
    }
   ],
   "source": [
    "a[0][1]"
   ]
  },
  {
   "cell_type": "code",
   "execution_count": 14,
   "id": "324cbec1-08e8-48e9-a52b-7a741b090325",
   "metadata": {},
   "outputs": [
    {
     "data": {
      "text/plain": [
       "['5', '3', '.', '.', '7', '.', '.', '.', '.']"
      ]
     },
     "execution_count": 14,
     "metadata": {},
     "output_type": "execute_result"
    }
   ],
   "source": [
    "for i in range(0,9):\n",
    "    for j in range(0,9):"
   ]
  },
  {
   "cell_type": "code",
   "execution_count": 21,
   "id": "d5e4d3c1-ba68-4806-a3ec-04dc8fcf6cc4",
   "metadata": {},
   "outputs": [],
   "source": [
    "import collections\n",
    "a = collections.defaultdict(set)"
   ]
  },
  {
   "cell_type": "code",
   "execution_count": 22,
   "id": "856e5a0d-7a97-41d9-8d9a-258463ebaf3d",
   "metadata": {},
   "outputs": [],
   "source": [
    "b = {(1,1):2}"
   ]
  },
  {
   "cell_type": "code",
   "execution_count": 24,
   "id": "af6460b1-58b7-455b-97ad-e0528d18163b",
   "metadata": {},
   "outputs": [
    {
     "data": {
      "text/plain": [
       "2"
      ]
     },
     "execution_count": 24,
     "metadata": {},
     "output_type": "execute_result"
    }
   ],
   "source": [
    "int(8/3)"
   ]
  },
  {
   "cell_type": "code",
   "execution_count": 25,
   "id": "d3bfd2b9-27f3-4cf4-a312-ebec66fede05",
   "metadata": {},
   "outputs": [],
   "source": [
    "import undetected_chromedriver as uc \n",
    "import time "
   ]
  },
  {
   "cell_type": "code",
   "execution_count": 26,
   "id": "a8a8cf93-76ca-4238-9d2d-4bceab2deba2",
   "metadata": {},
   "outputs": [],
   "source": [
    "options = uc.ChromeOptions() \n",
    "options.headless = False  # Set headless to False to run in non-headless mode\n",
    "\n",
    "driver = uc.Chrome(use_subprocess=True, options=options) \n",
    "driver.get(\"https://www.datacamp.com\") "
   ]
  },
  {
   "cell_type": "code",
   "execution_count": 1,
   "id": "1b5490fd-687e-47f6-97ce-ad6554459704",
   "metadata": {},
   "outputs": [],
   "source": [
    "nums = [-1,0,1,2,-1,-4]"
   ]
  },
  {
   "cell_type": "code",
   "execution_count": 2,
   "id": "2f5e068e-9e57-4563-99ee-124fba424a7d",
   "metadata": {},
   "outputs": [],
   "source": [
    "nums.sort()"
   ]
  },
  {
   "cell_type": "code",
   "execution_count": 3,
   "id": "b1dc6c76-f6fb-475c-ab4f-aa20fd97f49a",
   "metadata": {},
   "outputs": [
    {
     "data": {
      "text/plain": [
       "[-4, -1, -1, 0, 1, 2]"
      ]
     },
     "execution_count": 3,
     "metadata": {},
     "output_type": "execute_result"
    }
   ],
   "source": [
    "nums"
   ]
  },
  {
   "cell_type": "code",
   "execution_count": 11,
   "id": "ee223ac8-4711-4530-a003-cb4e848f3fc5",
   "metadata": {},
   "outputs": [
    {
     "data": {
      "text/plain": [
       "[-1, -1, 0, 1, 2]"
      ]
     },
     "execution_count": 11,
     "metadata": {},
     "output_type": "execute_result"
    }
   ],
   "source": [
    "i=0\n",
    "nums[0:i] +  nums[i+1:len(nums) ]"
   ]
  },
  {
   "cell_type": "code",
   "execution_count": 10,
   "id": "af5acc54-bc85-42ed-8cac-b9744163938b",
   "metadata": {},
   "outputs": [
    {
     "data": {
      "text/plain": [
       "1"
      ]
     },
     "execution_count": 10,
     "metadata": {},
     "output_type": "execute_result"
    }
   ],
   "source": [
    "nums[i] * -1"
   ]
  },
  {
   "cell_type": "code",
   "execution_count": 12,
   "id": "0a83f4b9-1255-410c-8e50-08ad0ac961bb",
   "metadata": {},
   "outputs": [],
   "source": [
    "num = nums[0:i] + nums[i+1:len(nums) ]"
   ]
  },
  {
   "cell_type": "code",
   "execution_count": 13,
   "id": "806a1a54-d0e4-4d4e-bdc6-ffba47018bab",
   "metadata": {},
   "outputs": [],
   "source": [
    " l = len(num) - 1"
   ]
  },
  {
   "cell_type": "code",
   "execution_count": 15,
   "id": "c1fef1a0-e3e8-49d9-9d6e-a4462d14e27e",
   "metadata": {},
   "outputs": [
    {
     "data": {
      "text/plain": [
       "2"
      ]
     },
     "execution_count": 15,
     "metadata": {},
     "output_type": "execute_result"
    }
   ],
   "source": [
    "num[l]"
   ]
  },
  {
   "cell_type": "code",
   "execution_count": 24,
   "id": "075a4a62-df93-42e5-91d8-a093f71f2697",
   "metadata": {},
   "outputs": [],
   "source": [
    "def threeSum(nums):\n",
    "        nums.sort()\n",
    "        out = []\n",
    "        for i in range(0,len(nums)):\n",
    "            var = nums[i] * -1\n",
    "            num = nums[0:i] + nums[i+1:len(nums) ]\n",
    "            print(num)\n",
    "            f= 0\n",
    "            l = len(num) - 1\n",
    "            while f < l:\n",
    "                s = num[f] + num[l]\n",
    "                if s == var:\n",
    "                    out.append([-var,num[f],num[l]])\n",
    "                    f += 1 \n",
    "                    l -= 1\n",
    "                elif s < var:\n",
    "                    f += 1 \n",
    "                else:\n",
    "                    l -= 1\n",
    "        return out"
   ]
  },
  {
   "cell_type": "code",
   "execution_count": 25,
   "id": "9ffafa5d-64d4-47eb-96f9-3a2d1eb6d452",
   "metadata": {},
   "outputs": [
    {
     "name": "stdout",
     "output_type": "stream",
     "text": [
      "[-1, -1, 0, 1, 2]\n",
      "[-4, -1, 0, 1, 2]\n",
      "[-4, -1, 0, 1, 2]\n",
      "[-4, -1, -1, 1, 2]\n",
      "[-4, -1, -1, 0, 2]\n",
      "[-4, -1, -1, 0, 1]\n"
     ]
    },
    {
     "data": {
      "text/plain": [
       "[[-1, -1, 2],\n",
       " [-1, 0, 1],\n",
       " [-1, -1, 2],\n",
       " [-1, 0, 1],\n",
       " [0, -1, 1],\n",
       " [1, -1, 0],\n",
       " [2, -1, -1]]"
      ]
     },
     "execution_count": 25,
     "metadata": {},
     "output_type": "execute_result"
    }
   ],
   "source": [
    "threeSum([-1,0,1,2,-1,-4])"
   ]
  },
  {
   "cell_type": "code",
   "execution_count": 4,
   "id": "936388ae-30ef-44eb-98dc-81d4b86937f3",
   "metadata": {},
   "outputs": [],
   "source": [
    "def threeSum(nums) :\n",
    "        nums.sort()\n",
    "        out = []\n",
    "        for i in range(0,len(nums)):\n",
    "            var = nums[i] * -1\n",
    "            f= i+1\n",
    "            l = len(nums) - 1\n",
    "            while f < l:\n",
    "                s = nums[f] + nums[l]\n",
    "                if s == var:\n",
    "                    out.append([-var,nums[f],nums[l]])\n",
    "                    f += 1 \n",
    "                    l -= 1\n",
    "                elif s < var:\n",
    "                    f += 1 \n",
    "                else:\n",
    "                    l -= 1\n",
    "        return out\n"
   ]
  },
  {
   "cell_type": "code",
   "execution_count": 5,
   "id": "c37a2509-b826-44b7-a034-4b6f1e89c315",
   "metadata": {},
   "outputs": [
    {
     "data": {
      "text/plain": [
       "[[-1, -1, 2], [-1, 0, 1], [-1, 0, 1]]"
      ]
     },
     "execution_count": 5,
     "metadata": {},
     "output_type": "execute_result"
    }
   ],
   "source": [
    "threeSum([-1,0,1,2,-1,-4])"
   ]
  },
  {
   "cell_type": "code",
   "execution_count": null,
   "id": "4d90cdae-4575-42a5-b676-98013a0636df",
   "metadata": {},
   "outputs": [],
   "source": []
  }
 ],
 "metadata": {
  "kernelspec": {
   "display_name": "Python 3 (ipykernel)",
   "language": "python",
   "name": "python3"
  },
  "language_info": {
   "codemirror_mode": {
    "name": "ipython",
    "version": 3
   },
   "file_extension": ".py",
   "mimetype": "text/x-python",
   "name": "python",
   "nbconvert_exporter": "python",
   "pygments_lexer": "ipython3",
   "version": "3.10.13"
  }
 },
 "nbformat": 4,
 "nbformat_minor": 5
}
