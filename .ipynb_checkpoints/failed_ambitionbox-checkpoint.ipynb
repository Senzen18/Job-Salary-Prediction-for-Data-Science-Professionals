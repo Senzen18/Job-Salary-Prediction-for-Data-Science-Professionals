{
 "cells": [
  {
   "cell_type": "code",
   "execution_count": 1,
   "id": "8e34c00b-f608-498b-8f7c-5fb43f8c5e7d",
   "metadata": {},
   "outputs": [],
   "source": [
    "website = 'https://www.ambitionbox.com/'\n",
    "path = 'chromedriver-win64/chromedriver-win64/chromedriver.exe'"
   ]
  },
  {
   "cell_type": "code",
   "execution_count": 2,
   "id": "8bfb3fa6-57b0-453f-a8c2-8bc7aa7dbf88",
   "metadata": {},
   "outputs": [],
   "source": [
    "from selenium import webdriver\n",
    "from selenium.webdriver.chrome.service import Service\n",
    "from selenium.webdriver.support.ui import Select\n",
    "from selenium.webdriver.common.keys import Keys\n",
    "from selenium.webdriver.common.by import By"
   ]
  },
  {
   "cell_type": "code",
   "execution_count": 3,
   "id": "9a116a6a-fec2-44bc-80bc-1ffb0f27a7a2",
   "metadata": {},
   "outputs": [],
   "source": [
    "#s = Service('chromedriver-win64/chromedriver-win64/chromedriver.exe')"
   ]
  },
  {
   "cell_type": "code",
   "execution_count": 4,
   "id": "a3fe1d41-7dc0-4c2a-a448-026d3fa6f68f",
   "metadata": {},
   "outputs": [],
   "source": [
    "import undetected_chromedriver as uc \n",
    "import time \n",
    "options = uc.ChromeOptions() \n",
    "options.headless = False  # Set headless to False to run in non-headless mode\n",
    "\n",
    "driver = uc.Chrome(use_subprocess=True, options=options) \n"
   ]
  },
  {
   "cell_type": "code",
   "execution_count": 5,
   "id": "401dedc8-f372-4a14-8885-8333b026c13f",
   "metadata": {},
   "outputs": [],
   "source": [
    "#driver = webdriver.Chrome(service = s)"
   ]
  },
  {
   "cell_type": "code",
   "execution_count": 6,
   "id": "f856f21f-26e3-4cf4-8f34-9c0480929a49",
   "metadata": {},
   "outputs": [],
   "source": [
    "driver.get(website)"
   ]
  },
  {
   "cell_type": "code",
   "execution_count": 12,
   "id": "1be806f8-000d-42ea-8496-785f0bb20a38",
   "metadata": {},
   "outputs": [],
   "source": [
    "search_bar = driver.find_element(by='id', value = \"text-input-what\")"
   ]
  },
  {
   "cell_type": "code",
   "execution_count": 13,
   "id": "1c3f1f06-2a1f-4298-af5f-b0096daebf6f",
   "metadata": {},
   "outputs": [],
   "source": [
    "search_bar.send_keys(\"data analyst,data scientist, Machine Learning, Deep Learning Engineer,data engineer\")\n",
    "search_bar.send_keys(Keys.RETURN)"
   ]
  },
  {
   "cell_type": "code",
   "execution_count": 16,
   "id": "f697d7e9-2b51-48e5-8d48-f1fbdcf4a875",
   "metadata": {},
   "outputs": [],
   "source": [
    "driver.implicitly_wait(2) "
   ]
  },
  {
   "cell_type": "code",
   "execution_count": 17,
   "id": "3e58fa4c-5250-491f-b199-28ac46b27fae",
   "metadata": {},
   "outputs": [
    {
     "data": {
      "text/plain": [
       "' email = driver.find_element(By.XPATH,\"//input[contains(@id,\\'email\\')]\")\\nemail.send_keys(\"asendhan@gmail.com\")\\naddr = driver.find_element(by=\\'id\\', value = \"DesktopSERPJobAlert-LocationSuggestionSpecificLocInput\")\\naddr.send_keys(\"600077\")\\nactivate = driver.find_element(By.XPATH,\"//button[@id=\\'DesktopSERPJobAlertActivateButton\\']\")\\nactivate.click() '"
      ]
     },
     "execution_count": 17,
     "metadata": {},
     "output_type": "execute_result"
    }
   ],
   "source": [
    "''' email = driver.find_element(By.XPATH,\"//input[contains(@id,'email')]\")\n",
    "email.send_keys(\"asendhan@gmail.com\")\n",
    "addr = driver.find_element(by='id', value = \"DesktopSERPJobAlert-LocationSuggestionSpecificLocInput\")\n",
    "addr.send_keys(\"600077\")\n",
    "activate = driver.find_element(By.XPATH,\"//button[@id='DesktopSERPJobAlertActivateButton']\")\n",
    "activate.click() '''"
   ]
  },
  {
   "cell_type": "code",
   "execution_count": 40,
   "id": "1440a32f-89e8-49e8-aa05-9de67e060862",
   "metadata": {},
   "outputs": [],
   "source": [
    "cards = driver.find_elements(By.XPATH,\"//div[@class = 'jobsInfoCardCont']\")"
   ]
  },
  {
   "cell_type": "code",
   "execution_count": 41,
   "id": "8433bd6f-e258-4656-a40e-b31a0bc424b9",
   "metadata": {},
   "outputs": [],
   "source": [
    "cards[2].click()"
   ]
  },
  {
   "cell_type": "code",
   "execution_count": 42,
   "id": "a9a459d4-eaec-4043-b3db-f8b5e6fa13e2",
   "metadata": {},
   "outputs": [
    {
     "data": {
      "text/plain": [
       "20"
      ]
     },
     "execution_count": 42,
     "metadata": {},
     "output_type": "execute_result"
    }
   ],
   "source": [
    "len(cards)"
   ]
  },
  {
   "cell_type": "code",
   "execution_count": 10,
   "id": "24ffaf1a-9953-43df-8f2c-cf356eba8690",
   "metadata": {},
   "outputs": [
    {
     "data": {
      "text/plain": [
       "'Senior Data Analyst'"
      ]
     },
     "execution_count": 10,
     "metadata": {},
     "output_type": "execute_result"
    }
   ],
   "source": [
    " driver.find_element(By.XPATH,\"//h1[@class = 'desig bold-title'] \").text"
   ]
  },
  {
   "cell_type": "code",
   "execution_count": 11,
   "id": "7b1c017f-2c2c-45fe-b20c-b1ccd7ffe688",
   "metadata": {},
   "outputs": [
    {
     "data": {
      "text/plain": [
       "'Walmart Labs'"
      ]
     },
     "execution_count": 11,
     "metadata": {},
     "output_type": "execute_result"
    }
   ],
   "source": [
    "driver.find_element(By.XPATH,\"//a[@class = 'company sbold-section-header']\").text"
   ]
  },
  {
   "cell_type": "code",
   "execution_count": 12,
   "id": "5f147f7a-2d36-4d03-8363-549f84586d70",
   "metadata": {},
   "outputs": [
    {
     "data": {
      "text/plain": [
       "'Bengaluru/Bangalore'"
      ]
     },
     "execution_count": 12,
     "metadata": {},
     "output_type": "execute_result"
    }
   ],
   "source": [
    "driver.find_element(By.XPATH,\"//div[@class='job-info-wrapper']/div[@class='job-basic-info show-flex']/div[@class= 'entity loc']/p\").text"
   ]
  },
  {
   "cell_type": "code",
   "execution_count": 13,
   "id": "a0e36e82-a6c4-4d10-b3b5-b23f734e48ab",
   "metadata": {},
   "outputs": [
    {
     "data": {
      "text/plain": [
       "'4.0'"
      ]
     },
     "execution_count": 13,
     "metadata": {},
     "output_type": "execute_result"
    }
   ],
   "source": [
    "driver.find_element(By.XPATH,\"//a/span[@class='body-medium'] \").text"
   ]
  },
  {
   "cell_type": "code",
   "execution_count": 14,
   "id": "ef8922da-bab4-46bc-a033-c54ed598f36b",
   "metadata": {},
   "outputs": [
    {
     "ename": "NoSuchElementException",
     "evalue": "Message: no such element: Unable to locate element: {\"method\":\"xpath\",\"selector\":\"//div[@class = 'entity salary']/p\"}\n  (Session info: chrome=120.0.6099.224); For documentation on this error, please visit: https://www.selenium.dev/documentation/webdriver/troubleshooting/errors#no-such-element-exception\nStacktrace:\n\tGetHandleVerifier [0x00946EE3+174339]\n\t(No symbol) [0x00870A51]\n\t(No symbol) [0x00586FF6]\n\t(No symbol) [0x005B9876]\n\t(No symbol) [0x005B9C2C]\n\t(No symbol) [0x005EBD42]\n\t(No symbol) [0x005D7054]\n\t(No symbol) [0x005EA104]\n\t(No symbol) [0x005D6DA6]\n\t(No symbol) [0x005B1034]\n\t(No symbol) [0x005B1F8D]\n\tGetHandleVerifier [0x009E4B1C+820540]\n\tsqlite3_dbdata_init [0x00AA53EE+653550]\n\tsqlite3_dbdata_init [0x00AA4E09+652041]\n\tsqlite3_dbdata_init [0x00A997CC+605388]\n\tsqlite3_dbdata_init [0x00AA5D9B+656027]\n\t(No symbol) [0x0087FE6C]\n\t(No symbol) [0x008783B8]\n\t(No symbol) [0x008784DD]\n\t(No symbol) [0x00865818]\n\tBaseThreadInitThunk [0x76687BA9+25]\n\tRtlInitializeExceptionChain [0x7794BD2B+107]\n\tRtlClearBits [0x7794BCAF+191]\n",
     "output_type": "error",
     "traceback": [
      "\u001b[1;31m---------------------------------------------------------------------------\u001b[0m",
      "\u001b[1;31mNoSuchElementException\u001b[0m                    Traceback (most recent call last)",
      "Cell \u001b[1;32mIn[14], line 1\u001b[0m\n\u001b[1;32m----> 1\u001b[0m \u001b[43mdriver\u001b[49m\u001b[38;5;241;43m.\u001b[39;49m\u001b[43mfind_element\u001b[49m\u001b[43m(\u001b[49m\u001b[43mBy\u001b[49m\u001b[38;5;241;43m.\u001b[39;49m\u001b[43mXPATH\u001b[49m\u001b[43m,\u001b[49m\u001b[38;5;124;43m\"\u001b[39;49m\u001b[38;5;124;43m//div[@class = \u001b[39;49m\u001b[38;5;124;43m'\u001b[39;49m\u001b[38;5;124;43mentity salary\u001b[39;49m\u001b[38;5;124;43m'\u001b[39;49m\u001b[38;5;124;43m]/p\u001b[39;49m\u001b[38;5;124;43m\"\u001b[39;49m\u001b[43m)\u001b[49m\u001b[38;5;241m.\u001b[39mtext\n",
      "File \u001b[1;32m~\\anaconda3\\lib\\site-packages\\selenium\\webdriver\\remote\\webdriver.py:742\u001b[0m, in \u001b[0;36mWebDriver.find_element\u001b[1;34m(self, by, value)\u001b[0m\n\u001b[0;32m    739\u001b[0m     by \u001b[38;5;241m=\u001b[39m By\u001b[38;5;241m.\u001b[39mCSS_SELECTOR\n\u001b[0;32m    740\u001b[0m     value \u001b[38;5;241m=\u001b[39m \u001b[38;5;124mf\u001b[39m\u001b[38;5;124m'\u001b[39m\u001b[38;5;124m[name=\u001b[39m\u001b[38;5;124m\"\u001b[39m\u001b[38;5;132;01m{\u001b[39;00mvalue\u001b[38;5;132;01m}\u001b[39;00m\u001b[38;5;124m\"\u001b[39m\u001b[38;5;124m]\u001b[39m\u001b[38;5;124m'\u001b[39m\n\u001b[1;32m--> 742\u001b[0m \u001b[38;5;28;01mreturn\u001b[39;00m \u001b[38;5;28;43mself\u001b[39;49m\u001b[38;5;241;43m.\u001b[39;49m\u001b[43mexecute\u001b[49m\u001b[43m(\u001b[49m\u001b[43mCommand\u001b[49m\u001b[38;5;241;43m.\u001b[39;49m\u001b[43mFIND_ELEMENT\u001b[49m\u001b[43m,\u001b[49m\u001b[43m \u001b[49m\u001b[43m{\u001b[49m\u001b[38;5;124;43m\"\u001b[39;49m\u001b[38;5;124;43musing\u001b[39;49m\u001b[38;5;124;43m\"\u001b[39;49m\u001b[43m:\u001b[49m\u001b[43m \u001b[49m\u001b[43mby\u001b[49m\u001b[43m,\u001b[49m\u001b[43m \u001b[49m\u001b[38;5;124;43m\"\u001b[39;49m\u001b[38;5;124;43mvalue\u001b[39;49m\u001b[38;5;124;43m\"\u001b[39;49m\u001b[43m:\u001b[49m\u001b[43m \u001b[49m\u001b[43mvalue\u001b[49m\u001b[43m}\u001b[49m\u001b[43m)\u001b[49m[\u001b[38;5;124m\"\u001b[39m\u001b[38;5;124mvalue\u001b[39m\u001b[38;5;124m\"\u001b[39m]\n",
      "File \u001b[1;32m~\\anaconda3\\lib\\site-packages\\selenium\\webdriver\\remote\\webdriver.py:348\u001b[0m, in \u001b[0;36mWebDriver.execute\u001b[1;34m(self, driver_command, params)\u001b[0m\n\u001b[0;32m    346\u001b[0m response \u001b[38;5;241m=\u001b[39m \u001b[38;5;28mself\u001b[39m\u001b[38;5;241m.\u001b[39mcommand_executor\u001b[38;5;241m.\u001b[39mexecute(driver_command, params)\n\u001b[0;32m    347\u001b[0m \u001b[38;5;28;01mif\u001b[39;00m response:\n\u001b[1;32m--> 348\u001b[0m     \u001b[38;5;28;43mself\u001b[39;49m\u001b[38;5;241;43m.\u001b[39;49m\u001b[43merror_handler\u001b[49m\u001b[38;5;241;43m.\u001b[39;49m\u001b[43mcheck_response\u001b[49m\u001b[43m(\u001b[49m\u001b[43mresponse\u001b[49m\u001b[43m)\u001b[49m\n\u001b[0;32m    349\u001b[0m     response[\u001b[38;5;124m\"\u001b[39m\u001b[38;5;124mvalue\u001b[39m\u001b[38;5;124m\"\u001b[39m] \u001b[38;5;241m=\u001b[39m \u001b[38;5;28mself\u001b[39m\u001b[38;5;241m.\u001b[39m_unwrap_value(response\u001b[38;5;241m.\u001b[39mget(\u001b[38;5;124m\"\u001b[39m\u001b[38;5;124mvalue\u001b[39m\u001b[38;5;124m\"\u001b[39m, \u001b[38;5;28;01mNone\u001b[39;00m))\n\u001b[0;32m    350\u001b[0m     \u001b[38;5;28;01mreturn\u001b[39;00m response\n",
      "File \u001b[1;32m~\\anaconda3\\lib\\site-packages\\selenium\\webdriver\\remote\\errorhandler.py:229\u001b[0m, in \u001b[0;36mErrorHandler.check_response\u001b[1;34m(self, response)\u001b[0m\n\u001b[0;32m    227\u001b[0m         alert_text \u001b[38;5;241m=\u001b[39m value[\u001b[38;5;124m\"\u001b[39m\u001b[38;5;124malert\u001b[39m\u001b[38;5;124m\"\u001b[39m]\u001b[38;5;241m.\u001b[39mget(\u001b[38;5;124m\"\u001b[39m\u001b[38;5;124mtext\u001b[39m\u001b[38;5;124m\"\u001b[39m)\n\u001b[0;32m    228\u001b[0m     \u001b[38;5;28;01mraise\u001b[39;00m exception_class(message, screen, stacktrace, alert_text)  \u001b[38;5;66;03m# type: ignore[call-arg]  # mypy is not smart enough here\u001b[39;00m\n\u001b[1;32m--> 229\u001b[0m \u001b[38;5;28;01mraise\u001b[39;00m exception_class(message, screen, stacktrace)\n",
      "\u001b[1;31mNoSuchElementException\u001b[0m: Message: no such element: Unable to locate element: {\"method\":\"xpath\",\"selector\":\"//div[@class = 'entity salary']/p\"}\n  (Session info: chrome=120.0.6099.224); For documentation on this error, please visit: https://www.selenium.dev/documentation/webdriver/troubleshooting/errors#no-such-element-exception\nStacktrace:\n\tGetHandleVerifier [0x00946EE3+174339]\n\t(No symbol) [0x00870A51]\n\t(No symbol) [0x00586FF6]\n\t(No symbol) [0x005B9876]\n\t(No symbol) [0x005B9C2C]\n\t(No symbol) [0x005EBD42]\n\t(No symbol) [0x005D7054]\n\t(No symbol) [0x005EA104]\n\t(No symbol) [0x005D6DA6]\n\t(No symbol) [0x005B1034]\n\t(No symbol) [0x005B1F8D]\n\tGetHandleVerifier [0x009E4B1C+820540]\n\tsqlite3_dbdata_init [0x00AA53EE+653550]\n\tsqlite3_dbdata_init [0x00AA4E09+652041]\n\tsqlite3_dbdata_init [0x00A997CC+605388]\n\tsqlite3_dbdata_init [0x00AA5D9B+656027]\n\t(No symbol) [0x0087FE6C]\n\t(No symbol) [0x008783B8]\n\t(No symbol) [0x008784DD]\n\t(No symbol) [0x00865818]\n\tBaseThreadInitThunk [0x76687BA9+25]\n\tRtlInitializeExceptionChain [0x7794BD2B+107]\n\tRtlClearBits [0x7794BCAF+191]\n"
     ]
    }
   ],
   "source": [
    "driver.find_element(By.XPATH,\"//div[@class = 'entity salary']/p\").text"
   ]
  },
  {
   "cell_type": "code",
   "execution_count": 16,
   "id": "48b41f42-745c-45ee-9149-637160918629",
   "metadata": {},
   "outputs": [],
   "source": [
    "a = driver.find_element(By.XPATH,\"//div[@class='avg_value sbold-title-l']\")"
   ]
  },
  {
   "cell_type": "code",
   "execution_count": 29,
   "id": "692e60b0-a79b-4a47-99ec-ce6e4f10b57b",
   "metadata": {},
   "outputs": [
    {
     "data": {
      "text/plain": [
       "'₹ 33.4 L'"
      ]
     },
     "execution_count": 29,
     "metadata": {},
     "output_type": "execute_result"
    }
   ],
   "source": [
    "a.get_attribute('innerText')[:-6]"
   ]
  },
  {
   "cell_type": "code",
   "execution_count": 34,
   "id": "f245d6d3-9802-458c-bc56-27df35384e6e",
   "metadata": {},
   "outputs": [],
   "source": [
    "b = driver.find_element(By.XPATH,\"//div[@class='htmlCont'] \")"
   ]
  },
  {
   "cell_type": "code",
   "execution_count": 35,
   "id": "d7abb50f-cb9b-4e05-b47e-51a0dbd24e32",
   "metadata": {},
   "outputs": [
    {
     "data": {
      "text/plain": [
       "'Demonstrates up-to-date expertise and applies this to the development, execution, and improvement of action plans by providing expert advice and guidance to others in the application of information and best practices; supporting and aligning efforts to meet customer and business needs; and building commitment for perspectives and rationales\\nProvides and supports the implementation of business solutions by building relationships and partnerships with key stakeholders; identifying business needs; determining and carrying out necessary processes and practices; monitoring progress and results; recognizing and capitalizing on improvement opportunities; and adapting to competing demands, organizational changes, and new responsibilities\\nModels compliance with company policies and procedures and supports company mission, values, and standards of ethics and integrity by incorporating these into the development and implementation of business plans; using the Open Door Policy; and demonstrating and assisting others with how to apply these in executing business processes and practices\\n\\nWhat You Will Do\\n\\nDefine metrics, drive roadmaps, and uncover opportunities to improve our products.\\n\\nHave a strong bias towards action, enjoy finding patterns amidst chaos, and have demonstrated success in using analytics to drive business impact.\\n\\nHas the technical skills to surface insights quickly, and the interpersonal skills to communicate those insights in a way that persuades action.\\n\\nWork with your team to develop new analytic methods\\n\\nUse quantitative analysis and the presentation of data to see beyond the numbers and understand what drives our business\\n\\nPartner with product leaders, designers, and engineering managers to improve our products and prioritize projects for impact.\\n\\nRepresent the product analytics team in key meetings and business reviews with our executive team and founders\\n\\nProvide data driven insights and deliver recommendations that address opportunities for product improvements\\n\\nUse statistical methods to generate and test hypotheses. This includes: Performing analytical deep-dives to identify problems, opportunities and actions required; Collecting, processing, and cleaning data from disparate sources using SQL, R, Python, or other scripting and statistical tools\\n\\nManaging the design, execution, and analysis of A/B tests; driving rigor and testing culture through product teams\\n\\nWhat You will Bring\\n\\n5-10 years of experience of working in a high growth analytics team.\\n\\nFluency in SQL, as well as an understanding of statistical analysis, and common pitfalls of data analysis. Basic understanding of query logic is a MUST.\\n\\nBachelors degree in Statistics, Computer Science, Business Administration or related field. Relevant experience in Product analytics will be a PLUS.\\n\\nExcellent written and verbal communication skills for coordinating across teams.\\n\\nStrong problem solving skills with an emphasis on product development.\\n\\nLed or worked independently on major initiatives.'"
      ]
     },
     "execution_count": 35,
     "metadata": {},
     "output_type": "execute_result"
    }
   ],
   "source": [
    "b.get_attribute('innerText')"
   ]
  },
  {
   "cell_type": "code",
   "execution_count": null,
   "id": "7066f3a5-a359-4341-af51-174d5ab6e3e8",
   "metadata": {},
   "outputs": [],
   "source": [
    "driver.execute_script(\"return document.getElementById('locator').innerHTML\")"
   ]
  },
  {
   "cell_type": "code",
   "execution_count": 25,
   "id": "4e05e88f-759a-422f-b318-12ff7c5ac0f2",
   "metadata": {},
   "outputs": [
    {
     "data": {
      "text/plain": [
       "[]"
      ]
     },
     "execution_count": 25,
     "metadata": {},
     "output_type": "execute_result"
    }
   ],
   "source": [
    "a.find_elements(By.XPATH,'.//*[contains(text(), \"₹\")]')"
   ]
  },
  {
   "cell_type": "code",
   "execution_count": 15,
   "id": "6f3c3376-3b52-42c5-9f31-9f8b30d06e17",
   "metadata": {},
   "outputs": [
    {
     "ename": "IndexError",
     "evalue": "list index out of range",
     "output_type": "error",
     "traceback": [
      "\u001b[1;31m---------------------------------------------------------------------------\u001b[0m",
      "\u001b[1;31mIndexError\u001b[0m                                Traceback (most recent call last)",
      "Cell \u001b[1;32mIn[15], line 56\u001b[0m\n\u001b[0;32m     54\u001b[0m     descriptions\u001b[38;5;241m.\u001b[39mappend(description)\n\u001b[0;32m     55\u001b[0m next_page\u001b[38;5;241m=\u001b[39m driver\u001b[38;5;241m.\u001b[39mfind_elements(By\u001b[38;5;241m.\u001b[39mXPATH,\u001b[38;5;124m\"\u001b[39m\u001b[38;5;124m//a[@aria-label = \u001b[39m\u001b[38;5;124m'\u001b[39m\u001b[38;5;124mNext Page\u001b[39m\u001b[38;5;124m'\u001b[39m\u001b[38;5;124m]\u001b[39m\u001b[38;5;124m\"\u001b[39m)\n\u001b[1;32m---> 56\u001b[0m \u001b[43mnext_page\u001b[49m\u001b[43m[\u001b[49m\u001b[38;5;241;43m0\u001b[39;49m\u001b[43m]\u001b[49m\u001b[38;5;241m.\u001b[39mclick()\n",
      "\u001b[1;31mIndexError\u001b[0m: list index out of range"
     ]
    }
   ],
   "source": [
    "titles=[]\n",
    "companies=[]\n",
    "locations=[]\n",
    "links =[]\n",
    "reviews=[]\n",
    "noofreviews=[]\n",
    "salaries = []\n",
    "descriptions=[]\n",
    "count = 0\n",
    "\n",
    "for i in range(0,30):\n",
    "            cards = driver.find_elements(By.XPATH,\"//div[@class = 'jobsInfoCardCont']\")\n",
    "\n",
    "            cards[i].click()\n",
    "            #pane = card.find_elements(By.XPATH,\"//div[@id='jobsearch-ViewjobPaneWrapper']\")\n",
    "            try:\n",
    "                title =  driver.find_element(By.XPATH,\"//h1[@class = 'desig bold-title'] \").text\n",
    "            except:\n",
    "                title = 'None'\n",
    "            titles.append(title)\n",
    "            print(title,count)\n",
    "            try:\n",
    "                company = driver.find_element(By.XPATH,\"//a[@class = 'company sbold-section-header']\").text\n",
    "            except:\n",
    "                company = 'None'\n",
    "            companies.append(company)\n",
    "            try: \n",
    "                location = driver.find_element(By.XPATH,\"//div[@class='job-info-wrapper']/div[@class='job-basic-info show-flex']/div[@class= 'entity loc']/p\").text\n",
    "            except:\n",
    "                location = 'None'\n",
    "            locations.append(location)\n",
    "            try:\n",
    "                #rating_tag= driver.find_element(By.XPATH,\"//a/span[@class='body-medium'] \").text\n",
    "                rating = driver.find_element(By.XPATH,\"//a/span[@class='body-medium'] \").text\n",
    "            except:\n",
    "                rating='None'\n",
    "            reviews.append(rating)\n",
    "            try:\n",
    "                nos =  driver.find_elements(By.XPATH,\".//a[contains(text(),'reviews')]\")[1].text\n",
    "            except:\n",
    "                nos = 'None'\n",
    "            noofreviews.append(nos)\n",
    "            try:\n",
    "                salary = driver.find_element(By.XPATH,\"//div[@class = 'entity salary']/p\").text\n",
    "                if salary != 'None':\n",
    "                    count +=1\n",
    "            except:\n",
    "                a = driver.find_element(By.XPATH,\"//div[@class='avg_value sbold-title-l']\")\n",
    "                salary = a.get_attribute('innerText')[:-6]\n",
    "            finally:\n",
    "                salary = 'None'\n",
    "            salaries.append(salary)\n",
    "            try:\n",
    "                 description = driver.find_elements(By.XPATH,\".//div[@id='jobDescriptionText']\")[0].text\n",
    "            except:\n",
    "                description = 'None'\n",
    "            descriptions.append(description)\n",
    "        #next_page= driver.find_elements(By.XPATH,\"//button[contains(@class,'load')]\")\n",
    "        #next_page[0].click()\n",
    "            if i % 9 == 0:\n",
    "                next_page= driver.find_elements(By.XPATH,\"//button[contains(@class,'load')]\")\n",
    "                next_page[0].click()\n",
    "                \n",
    "            \n",
    "            \n",
    "\n",
    "        \n",
    "        \n",
    "    "
   ]
  },
  {
   "cell_type": "code",
   "execution_count": null,
   "id": "ff9da6b5-4012-483b-a3d9-3e8f50766c15",
   "metadata": {},
   "outputs": [],
   "source": [
    "for i in range(0,420):\n",
    "    cards = driver.find_elements(By.XPATH,\"//div[contains(@class, 'cardOutline')]\")\n",
    "    for card in cards:\n",
    "        card.click()\n",
    "        #pane = card.find_elements(By.XPATH,\"//div[@id='jobsearch-ViewjobPaneWrapper']\")\n",
    "        try:\n",
    "            title = card.find_element(By.XPATH,\".//span[contains(@id,'jobTitle')]\").text\n",
    "        except:\n",
    "            title = 'None'\n",
    "        titles.append(title)\n",
    "        print(title,count)\n",
    "        try:\n",
    "            company = card.find_element(By.XPATH,\".//span[@data-testid='company-name']\").text\n",
    "        except:\n",
    "            company = 'None'\n",
    "        companies.append(company)\n",
    "        try: \n",
    "            location = card.find_element(By.XPATH,\".//div[@data-testid='text-location']\").text\n",
    "        except:\n",
    "            location = 'None'\n",
    "        locations.append(location)\n",
    "        try:\n",
    "            rating_tag= driver.find_elements(By.XPATH,\".//div[@role='img']\")[0]\n",
    "            rating = rating_tag.get_attribute('aria-label')\n",
    "        except:\n",
    "            rating='None'\n",
    "        reviews.append(rating)\n",
    "        try:\n",
    "            nos =  driver.find_elements(By.XPATH,\".//a[contains(text(),'reviews')]\")[1].text\n",
    "        except:\n",
    "            nos = 'None'\n",
    "        noofreviews.append(nos)\n",
    "        try:\n",
    "            salary = card.find_elements(By.XPATH,'.//*[contains(text(), \"₹\")]')[0].text\n",
    "            if salary != 'None':\n",
    "                count +=1\n",
    "        except:\n",
    "            salary = 'None'\n",
    "        salaries.append(salary)\n",
    "        try:\n",
    "             description = driver.find_elements(By.XPATH,\".//div[@id='jobDescriptionText']\")[0].text\n",
    "        except:\n",
    "            description = 'None'\n",
    "        descriptions.append(description)\n",
    "    next_page= driver.find_elements(By.XPATH,\"//a[@aria-label = 'Next Page']\")\n",
    "    next_page[0].click()\n",
    "        \n",
    "            \n",
    "            "
   ]
  },
  {
   "cell_type": "code",
   "execution_count": 17,
   "id": "7a1c4c84-f71f-4d26-9329-716fa8812963",
   "metadata": {},
   "outputs": [],
   "source": [
    "import pandas as pd\n",
    "df = pd.DataFrame()\n",
    "df['titles'] = titles\n",
    "df['companies'] = companies\n",
    "df['locations'] = locations\n",
    "df['reviews'] = reviews\n",
    "df['noofreviews'] = noofreviews\n",
    "df['descriptions'] = descriptions\n",
    "df['salaries'] = salaries"
   ]
  },
  {
   "cell_type": "code",
   "execution_count": 18,
   "id": "c35a94fd-c429-4510-a44c-49035bca449c",
   "metadata": {},
   "outputs": [],
   "source": [
    "df.to_csv('data_analyst_jobs.csv')"
   ]
  },
  {
   "cell_type": "code",
   "execution_count": 19,
   "id": "f8bffec1-04dc-45b7-a3ea-6761ccec8839",
   "metadata": {},
   "outputs": [
    {
     "data": {
      "text/html": [
       "<div>\n",
       "<style scoped>\n",
       "    .dataframe tbody tr th:only-of-type {\n",
       "        vertical-align: middle;\n",
       "    }\n",
       "\n",
       "    .dataframe tbody tr th {\n",
       "        vertical-align: top;\n",
       "    }\n",
       "\n",
       "    .dataframe thead th {\n",
       "        text-align: right;\n",
       "    }\n",
       "</style>\n",
       "<table border=\"1\" class=\"dataframe\">\n",
       "  <thead>\n",
       "    <tr style=\"text-align: right;\">\n",
       "      <th></th>\n",
       "      <th>titles</th>\n",
       "      <th>companies</th>\n",
       "      <th>locations</th>\n",
       "      <th>reviews</th>\n",
       "      <th>noofreviews</th>\n",
       "      <th>descriptions</th>\n",
       "      <th>salaries</th>\n",
       "    </tr>\n",
       "  </thead>\n",
       "  <tbody>\n",
       "    <tr>\n",
       "      <th>0</th>\n",
       "      <td>Supply Chain Analyst</td>\n",
       "      <td>Wabi Sabi Styles</td>\n",
       "      <td>Noida, Uttar Pradesh</td>\n",
       "      <td>None</td>\n",
       "      <td>None</td>\n",
       "      <td>An inventory planner is a professional who is ...</td>\n",
       "      <td>₹20,000 - ₹28,000 a month</td>\n",
       "    </tr>\n",
       "    <tr>\n",
       "      <th>1</th>\n",
       "      <td>Senior Data Analyst/Modeler - Data Engineering</td>\n",
       "      <td>Exusia</td>\n",
       "      <td>Kolkata, West Bengal</td>\n",
       "      <td>4.1 out of 5 stars</td>\n",
       "      <td>205 reviews</td>\n",
       "      <td>Department: Sales and Delivery Team - Empower\\...</td>\n",
       "      <td>₹12,55,575 - ₹28,40,135 a year</td>\n",
       "    </tr>\n",
       "    <tr>\n",
       "      <th>2</th>\n",
       "      <td>Jr. Business Analyst [Walk in drive, good Engl...</td>\n",
       "      <td>BLSD LAB</td>\n",
       "      <td>Indore, Madhya Pradesh</td>\n",
       "      <td>3 out of 5 stars</td>\n",
       "      <td>2 reviews</td>\n",
       "      <td>About Us:\\nData Driven Foundry setting up its ...</td>\n",
       "      <td>₹17,000 - ₹25,000 a month</td>\n",
       "    </tr>\n",
       "    <tr>\n",
       "      <th>3</th>\n",
       "      <td>BPO: Non - Voice (Data Analyst &amp; Research Anal...</td>\n",
       "      <td>A &amp; A Infotech Solutions</td>\n",
       "      <td>Pettah, Thiruvananthapuram, Kerala</td>\n",
       "      <td>None</td>\n",
       "      <td>None</td>\n",
       "      <td>A&amp;A Infotech Solutions is a non-voice BPO comp...</td>\n",
       "      <td>₹9,000 - ₹13,000 a month</td>\n",
       "    </tr>\n",
       "    <tr>\n",
       "      <th>4</th>\n",
       "      <td>Canada Reporting &amp; Analytics — Analyst</td>\n",
       "      <td>Deloitte</td>\n",
       "      <td>Hyderabad, Telangana</td>\n",
       "      <td>3.9 out of 5 stars</td>\n",
       "      <td>12,626 reviews</td>\n",
       "      <td>Core Talent Services | Program &amp; Vendor Relati...</td>\n",
       "      <td>None</td>\n",
       "    </tr>\n",
       "    <tr>\n",
       "      <th>...</th>\n",
       "      <td>...</td>\n",
       "      <td>...</td>\n",
       "      <td>...</td>\n",
       "      <td>...</td>\n",
       "      <td>...</td>\n",
       "      <td>...</td>\n",
       "      <td>...</td>\n",
       "    </tr>\n",
       "    <tr>\n",
       "      <th>4072</th>\n",
       "      <td>Marketing Analyst</td>\n",
       "      <td>Anveshak Technology &amp; Knowledge Solutions</td>\n",
       "      <td>Gurgaon, Haryana</td>\n",
       "      <td>None</td>\n",
       "      <td>None</td>\n",
       "      <td>About Intertoons:\\nIntertoons is a premier pro...</td>\n",
       "      <td>₹20,000 - ₹35,000 a month</td>\n",
       "    </tr>\n",
       "    <tr>\n",
       "      <th>4073</th>\n",
       "      <td>Program Analyst</td>\n",
       "      <td>Streamline Healthcare Solutions</td>\n",
       "      <td>Bengaluru, Karnataka</td>\n",
       "      <td>None</td>\n",
       "      <td>None</td>\n",
       "      <td>About Intertoons:\\nIntertoons is a premier pro...</td>\n",
       "      <td>None</td>\n",
       "    </tr>\n",
       "    <tr>\n",
       "      <th>4074</th>\n",
       "      <td>HRIS Analyst</td>\n",
       "      <td>Bechtel</td>\n",
       "      <td>New Delhi, Delhi</td>\n",
       "      <td>None</td>\n",
       "      <td>None</td>\n",
       "      <td>About Intertoons:\\nIntertoons is a premier pro...</td>\n",
       "      <td>None</td>\n",
       "    </tr>\n",
       "    <tr>\n",
       "      <th>4075</th>\n",
       "      <td>ERP IT Business Analyst - Equipment Financing</td>\n",
       "      <td>Alcon</td>\n",
       "      <td>Bengaluru, Karnataka</td>\n",
       "      <td>None</td>\n",
       "      <td>None</td>\n",
       "      <td>About Intertoons:\\nIntertoons is a premier pro...</td>\n",
       "      <td>None</td>\n",
       "    </tr>\n",
       "    <tr>\n",
       "      <th>4076</th>\n",
       "      <td>Senior Power BI Developer</td>\n",
       "      <td>Autoliv India</td>\n",
       "      <td>Karnataka</td>\n",
       "      <td>None</td>\n",
       "      <td>None</td>\n",
       "      <td>None</td>\n",
       "      <td>None</td>\n",
       "    </tr>\n",
       "  </tbody>\n",
       "</table>\n",
       "<p>4077 rows × 7 columns</p>\n",
       "</div>"
      ],
      "text/plain": [
       "                                                 titles  \\\n",
       "0                                  Supply Chain Analyst   \n",
       "1        Senior Data Analyst/Modeler - Data Engineering   \n",
       "2     Jr. Business Analyst [Walk in drive, good Engl...   \n",
       "3     BPO: Non - Voice (Data Analyst & Research Anal...   \n",
       "4                Canada Reporting & Analytics — Analyst   \n",
       "...                                                 ...   \n",
       "4072                                  Marketing Analyst   \n",
       "4073                                    Program Analyst   \n",
       "4074                                       HRIS Analyst   \n",
       "4075      ERP IT Business Analyst - Equipment Financing   \n",
       "4076                          Senior Power BI Developer   \n",
       "\n",
       "                                      companies  \\\n",
       "0                              Wabi Sabi Styles   \n",
       "1                                        Exusia   \n",
       "2                                      BLSD LAB   \n",
       "3                      A & A Infotech Solutions   \n",
       "4                                      Deloitte   \n",
       "...                                         ...   \n",
       "4072  Anveshak Technology & Knowledge Solutions   \n",
       "4073            Streamline Healthcare Solutions   \n",
       "4074                                    Bechtel   \n",
       "4075                                      Alcon   \n",
       "4076                              Autoliv India   \n",
       "\n",
       "                               locations             reviews     noofreviews  \\\n",
       "0                   Noida, Uttar Pradesh                None            None   \n",
       "1                   Kolkata, West Bengal  4.1 out of 5 stars     205 reviews   \n",
       "2                 Indore, Madhya Pradesh    3 out of 5 stars       2 reviews   \n",
       "3     Pettah, Thiruvananthapuram, Kerala                None            None   \n",
       "4                   Hyderabad, Telangana  3.9 out of 5 stars  12,626 reviews   \n",
       "...                                  ...                 ...             ...   \n",
       "4072                    Gurgaon, Haryana                None            None   \n",
       "4073                Bengaluru, Karnataka                None            None   \n",
       "4074                    New Delhi, Delhi                None            None   \n",
       "4075                Bengaluru, Karnataka                None            None   \n",
       "4076                           Karnataka                None            None   \n",
       "\n",
       "                                           descriptions  \\\n",
       "0     An inventory planner is a professional who is ...   \n",
       "1     Department: Sales and Delivery Team - Empower\\...   \n",
       "2     About Us:\\nData Driven Foundry setting up its ...   \n",
       "3     A&A Infotech Solutions is a non-voice BPO comp...   \n",
       "4     Core Talent Services | Program & Vendor Relati...   \n",
       "...                                                 ...   \n",
       "4072  About Intertoons:\\nIntertoons is a premier pro...   \n",
       "4073  About Intertoons:\\nIntertoons is a premier pro...   \n",
       "4074  About Intertoons:\\nIntertoons is a premier pro...   \n",
       "4075  About Intertoons:\\nIntertoons is a premier pro...   \n",
       "4076                                               None   \n",
       "\n",
       "                            salaries  \n",
       "0          ₹20,000 - ₹28,000 a month  \n",
       "1     ₹12,55,575 - ₹28,40,135 a year  \n",
       "2          ₹17,000 - ₹25,000 a month  \n",
       "3           ₹9,000 - ₹13,000 a month  \n",
       "4                               None  \n",
       "...                              ...  \n",
       "4072       ₹20,000 - ₹35,000 a month  \n",
       "4073                            None  \n",
       "4074                            None  \n",
       "4075                            None  \n",
       "4076                            None  \n",
       "\n",
       "[4077 rows x 7 columns]"
      ]
     },
     "execution_count": 19,
     "metadata": {},
     "output_type": "execute_result"
    }
   ],
   "source": [
    "df"
   ]
  },
  {
   "cell_type": "code",
   "execution_count": 145,
   "id": "f288737b-b19c-4ca3-81cc-352f90cd1832",
   "metadata": {},
   "outputs": [
    {
     "name": "stdout",
     "output_type": "stream",
     "text": [
      "Senior Data scientist <selenium.webdriver.remote.webelement.WebElement (session=\"944691c2de861b10086eca457f75afd0\", element=\"0A0D0E8FF3D66222D38588259D4030EA_element_50\")>\n",
      "Deep Learning Engineer <selenium.webdriver.remote.webelement.WebElement (session=\"944691c2de861b10086eca457f75afd0\", element=\"0A0D0E8FF3D66222D38588259D4030EA_element_51\")>\n",
      "Data Science trainer <selenium.webdriver.remote.webelement.WebElement (session=\"944691c2de861b10086eca457f75afd0\", element=\"0A0D0E8FF3D66222D38588259D4030EA_element_52\")>\n",
      "Senior Associate - Data Science <selenium.webdriver.remote.webelement.WebElement (session=\"944691c2de861b10086eca457f75afd0\", element=\"0A0D0E8FF3D66222D38588259D4030EA_element_53\")>\n",
      "Manager GenAi Data Science <selenium.webdriver.remote.webelement.WebElement (session=\"944691c2de861b10086eca457f75afd0\", element=\"0A0D0E8FF3D66222D38588259D4030EA_element_54\")>\n",
      "DATA SCIENCE TRAINER <selenium.webdriver.remote.webelement.WebElement (session=\"944691c2de861b10086eca457f75afd0\", element=\"0A0D0E8FF3D66222D38588259D4030EA_element_55\")>\n",
      "Data Scientist (3+years) <selenium.webdriver.remote.webelement.WebElement (session=\"944691c2de861b10086eca457f75afd0\", element=\"0A0D0E8FF3D66222D38588259D4030EA_element_56\")>\n",
      "Technical Content Creator - Artificial Intelligence <selenium.webdriver.remote.webelement.WebElement (session=\"944691c2de861b10086eca457f75afd0\", element=\"0A0D0E8FF3D66222D38588259D4030EA_element_57\")>\n",
      "Data Science - Faculty <selenium.webdriver.remote.webelement.WebElement (session=\"944691c2de861b10086eca457f75afd0\", element=\"0A0D0E8FF3D66222D38588259D4030EA_element_58\")>\n",
      "Director - Data Science-Conversational AI <selenium.webdriver.remote.webelement.WebElement (session=\"944691c2de861b10086eca457f75afd0\", element=\"0A0D0E8FF3D66222D38588259D4030EA_element_59\")>\n",
      "Data Scientist - Image Processing <selenium.webdriver.remote.webelement.WebElement (session=\"944691c2de861b10086eca457f75afd0\", element=\"0A0D0E8FF3D66222D38588259D4030EA_element_60\")>\n",
      "ML Engineer - Computer Vision <selenium.webdriver.remote.webelement.WebElement (session=\"944691c2de861b10086eca457f75afd0\", element=\"0A0D0E8FF3D66222D38588259D4030EA_element_61\")>\n",
      "Machine Learning course <selenium.webdriver.remote.webelement.WebElement (session=\"944691c2de861b10086eca457f75afd0\", element=\"0A0D0E8FF3D66222D38588259D4030EA_element_62\")>\n",
      "Principal - Data Scientist <selenium.webdriver.remote.webelement.WebElement (session=\"944691c2de861b10086eca457f75afd0\", element=\"0A0D0E8FF3D66222D38588259D4030EA_element_63\")>\n",
      "Data Scientist - APJ Online Marketplaces Business Intelligence and Optimization Lead <selenium.webdriver.remote.webelement.WebElement (session=\"944691c2de861b10086eca457f75afd0\", element=\"0A0D0E8FF3D66222D38588259D4030EA_element_64\")>\n"
     ]
    }
   ],
   "source": [
    "for i in range(0,1):\n",
    "    cards = driver.find_elements(By.XPATH,\"//div[contains(@class, 'cardOutline')]\")\n",
    "    for card in cards:\n",
    "            card.click()\n",
    "            print(card.find_element(By.XPATH,\".//span[contains(@id,'jobTitle')]\").text,card)\n",
    "    "
   ]
  },
  {
   "cell_type": "code",
   "execution_count": null,
   "id": "3b84c9b7-2db2-4bcd-bbcc-aa97933a8a10",
   "metadata": {},
   "outputs": [],
   "source": []
  },
  {
   "cell_type": "code",
   "execution_count": 200,
   "id": "cec7a5b2-6fec-4efe-aa4f-1184caf525d1",
   "metadata": {},
   "outputs": [],
   "source": [
    "  cards = driver.find_elements(By.XPATH,\"//div[contains(@class, 'cardOutline')]\")"
   ]
  },
  {
   "cell_type": "code",
   "execution_count": 201,
   "id": "9a48b85d-26d1-42a1-b3c3-1b091f5bda4d",
   "metadata": {},
   "outputs": [],
   "source": [
    "cards[0].click()"
   ]
  },
  {
   "cell_type": "code",
   "execution_count": 188,
   "id": "0e0b3958-82c0-4731-b416-c023a49ff43e",
   "metadata": {},
   "outputs": [],
   "source": [
    " pane = driver.find_elements(By.XPATH,\"//div[@id='jobsearch-ViewjobPaneWrapper']\")[0]"
   ]
  },
  {
   "cell_type": "code",
   "execution_count": 189,
   "id": "e29c3eeb-524b-42de-9a4c-bc0668feded2",
   "metadata": {},
   "outputs": [
    {
     "data": {
      "text/plain": [
       "<selenium.webdriver.remote.webelement.WebElement (session=\"944691c2de861b10086eca457f75afd0\", element=\"277C6C30AE8D152C4E6DD4D8F6CE8E2C_element_12514\")>"
      ]
     },
     "execution_count": 189,
     "metadata": {},
     "output_type": "execute_result"
    }
   ],
   "source": [
    "    pane"
   ]
  },
  {
   "cell_type": "code",
   "execution_count": 202,
   "id": "dfb8281b-925a-4585-8a13-c2db095c8baa",
   "metadata": {},
   "outputs": [
    {
     "data": {
      "text/plain": [
       "[<selenium.webdriver.remote.webelement.WebElement (session=\"944691c2de861b10086eca457f75afd0\", element=\"B4B774FC151CD85174A0EF19D3630B63_element_16397\")>]"
      ]
     },
     "execution_count": 202,
     "metadata": {},
     "output_type": "execute_result"
    }
   ],
   "source": [
    "driver.find_elements(By.XPATH,\".//div[@role='img']\")"
   ]
  },
  {
   "cell_type": "code",
   "execution_count": 203,
   "id": "45e1e766-5d7a-4611-b66d-7d52b1b67a58",
   "metadata": {},
   "outputs": [
    {
     "data": {
      "text/plain": [
       "'3.9 out of 5 stars'"
      ]
     },
     "execution_count": 203,
     "metadata": {},
     "output_type": "execute_result"
    }
   ],
   "source": [
    "r = driver.find_elements(By.XPATH,\".//div[@role='img']\")[0]\n",
    "r.get_attribute('aria-label')"
   ]
  },
  {
   "cell_type": "code",
   "execution_count": 162,
   "id": "fe1ca7b3-6765-412c-9732-b0d17ec31905",
   "metadata": {},
   "outputs": [
    {
     "data": {
      "text/plain": [
       "'Analytics Engineer (WFH)'"
      ]
     },
     "execution_count": 162,
     "metadata": {},
     "output_type": "execute_result"
    }
   ],
   "source": [
    "cards[4].find_element(By.XPATH,\".//span[contains(@id,'jobTitle')]\").text"
   ]
  },
  {
   "cell_type": "code",
   "execution_count": 142,
   "id": "e83f5992-4f8e-4146-97c8-0d7bbce669f9",
   "metadata": {},
   "outputs": [
    {
     "data": {
      "text/plain": [
       "[<selenium.webdriver.remote.webelement.WebElement (session=\"944691c2de861b10086eca457f75afd0\", element=\"E9B5E468C66D10E55FF5D8F606EA194D_element_1540\")>,\n",
       " <selenium.webdriver.remote.webelement.WebElement (session=\"944691c2de861b10086eca457f75afd0\", element=\"E9B5E468C66D10E55FF5D8F606EA194D_element_1550\")>,\n",
       " <selenium.webdriver.remote.webelement.WebElement (session=\"944691c2de861b10086eca457f75afd0\", element=\"E9B5E468C66D10E55FF5D8F606EA194D_element_1551\")>,\n",
       " <selenium.webdriver.remote.webelement.WebElement (session=\"944691c2de861b10086eca457f75afd0\", element=\"E9B5E468C66D10E55FF5D8F606EA194D_element_1552\")>,\n",
       " <selenium.webdriver.remote.webelement.WebElement (session=\"944691c2de861b10086eca457f75afd0\", element=\"E9B5E468C66D10E55FF5D8F606EA194D_element_1553\")>,\n",
       " <selenium.webdriver.remote.webelement.WebElement (session=\"944691c2de861b10086eca457f75afd0\", element=\"E9B5E468C66D10E55FF5D8F606EA194D_element_1554\")>,\n",
       " <selenium.webdriver.remote.webelement.WebElement (session=\"944691c2de861b10086eca457f75afd0\", element=\"E9B5E468C66D10E55FF5D8F606EA194D_element_1555\")>,\n",
       " <selenium.webdriver.remote.webelement.WebElement (session=\"944691c2de861b10086eca457f75afd0\", element=\"E9B5E468C66D10E55FF5D8F606EA194D_element_1556\")>,\n",
       " <selenium.webdriver.remote.webelement.WebElement (session=\"944691c2de861b10086eca457f75afd0\", element=\"E9B5E468C66D10E55FF5D8F606EA194D_element_1557\")>,\n",
       " <selenium.webdriver.remote.webelement.WebElement (session=\"944691c2de861b10086eca457f75afd0\", element=\"E9B5E468C66D10E55FF5D8F606EA194D_element_1558\")>,\n",
       " <selenium.webdriver.remote.webelement.WebElement (session=\"944691c2de861b10086eca457f75afd0\", element=\"E9B5E468C66D10E55FF5D8F606EA194D_element_1559\")>,\n",
       " <selenium.webdriver.remote.webelement.WebElement (session=\"944691c2de861b10086eca457f75afd0\", element=\"E9B5E468C66D10E55FF5D8F606EA194D_element_1560\")>,\n",
       " <selenium.webdriver.remote.webelement.WebElement (session=\"944691c2de861b10086eca457f75afd0\", element=\"E9B5E468C66D10E55FF5D8F606EA194D_element_1561\")>,\n",
       " <selenium.webdriver.remote.webelement.WebElement (session=\"944691c2de861b10086eca457f75afd0\", element=\"E9B5E468C66D10E55FF5D8F606EA194D_element_1562\")>,\n",
       " <selenium.webdriver.remote.webelement.WebElement (session=\"944691c2de861b10086eca457f75afd0\", element=\"E9B5E468C66D10E55FF5D8F606EA194D_element_1563\")>]"
      ]
     },
     "execution_count": 142,
     "metadata": {},
     "output_type": "execute_result"
    }
   ],
   "source": [
    "cards"
   ]
  },
  {
   "cell_type": "code",
   "execution_count": 118,
   "id": "b010e8a8-931c-4ebe-861d-58bfc766a001",
   "metadata": {},
   "outputs": [],
   "source": [
    "a.append(2)"
   ]
  },
  {
   "cell_type": "code",
   "execution_count": 119,
   "id": "c3d36d70-56d9-41a1-bea4-f8b5ce0429d0",
   "metadata": {},
   "outputs": [
    {
     "data": {
      "text/plain": [
       "[2]"
      ]
     },
     "execution_count": 119,
     "metadata": {},
     "output_type": "execute_result"
    }
   ],
   "source": [
    "a"
   ]
  },
  {
   "cell_type": "code",
   "execution_count": null,
   "id": "b1ddd075-b705-4fee-86d4-58cb17fcf46f",
   "metadata": {},
   "outputs": [],
   "source": []
  }
 ],
 "metadata": {
  "kernelspec": {
   "display_name": "Python 3 (ipykernel)",
   "language": "python",
   "name": "python3"
  },
  "language_info": {
   "codemirror_mode": {
    "name": "ipython",
    "version": 3
   },
   "file_extension": ".py",
   "mimetype": "text/x-python",
   "name": "python",
   "nbconvert_exporter": "python",
   "pygments_lexer": "ipython3",
   "version": "3.10.9"
  }
 },
 "nbformat": 4,
 "nbformat_minor": 5
}
