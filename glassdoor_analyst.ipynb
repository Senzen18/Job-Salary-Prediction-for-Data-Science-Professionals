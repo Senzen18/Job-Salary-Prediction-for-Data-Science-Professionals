{
 "cells": [
  {
   "cell_type": "code",
   "execution_count": 87,
   "id": "8e34c00b-f608-498b-8f7c-5fb43f8c5e7d",
   "metadata": {},
   "outputs": [],
   "source": [
    "website = 'https://www.glassdoor.co.in/Job'\n",
    "path = 'chromedriver-win64/chromedriver-win64/chromedriver.exe'"
   ]
  },
  {
   "cell_type": "code",
   "execution_count": 89,
   "id": "8bfb3fa6-57b0-453f-a8c2-8bc7aa7dbf88",
   "metadata": {},
   "outputs": [],
   "source": [
    "from selenium import webdriver\n",
    "from selenium.webdriver.chrome.service import Service\n",
    "from selenium.webdriver.support.ui import Select\n",
    "from selenium.webdriver.common.keys import Keys\n",
    "from selenium.webdriver.common.by import By\n",
    "from selenium.webdriver import ActionChains\n",
    "from selenium.webdriver.common.actions.wheel_input import ScrollOrigin\n",
    "from selenium.webdriver.support.wait import WebDriverWait"
   ]
  },
  {
   "cell_type": "code",
   "execution_count": 90,
   "id": "9a116a6a-fec2-44bc-80bc-1ffb0f27a7a2",
   "metadata": {},
   "outputs": [],
   "source": [
    "#s = Service('chromedriver-win64/chromedriver-win64/chromedriver.exe')"
   ]
  },
  {
   "cell_type": "code",
   "execution_count": 91,
   "id": "a3fe1d41-7dc0-4c2a-a448-026d3fa6f68f",
   "metadata": {},
   "outputs": [],
   "source": [
    "import undetected_chromedriver as uc \n",
    "import time \n",
    "options = uc.ChromeOptions() \n",
    "#options.headless = False  # Set headless to False to run in non-headless mode\n",
    "options.headless = False\n",
    "driver = uc.Chrome(use_subprocess=True, options=options) \n"
   ]
  },
  {
   "cell_type": "code",
   "execution_count": 92,
   "id": "401dedc8-f372-4a14-8885-8333b026c13f",
   "metadata": {},
   "outputs": [],
   "source": [
    "#driver = webdriver.Chrome(service = s)"
   ]
  },
  {
   "cell_type": "code",
   "execution_count": 93,
   "id": "f856f21f-26e3-4cf4-8f34-9c0480929a49",
   "metadata": {},
   "outputs": [],
   "source": [
    "driver.get(website)"
   ]
  },
  {
   "cell_type": "code",
   "execution_count": 94,
   "id": "1be806f8-000d-42ea-8496-785f0bb20a38",
   "metadata": {},
   "outputs": [
    {
     "ename": "NoSuchElementException",
     "evalue": "Message: no such element: Unable to locate element: {\"method\":\"xpath\",\"selector\":\"//input[@type='search'] \"}\n  (Session info: chrome=120.0.6099.224); For documentation on this error, please visit: https://www.selenium.dev/documentation/webdriver/troubleshooting/errors#no-such-element-exception\nStacktrace:\n\tGetHandleVerifier [0x00946EE3+174339]\n\t(No symbol) [0x00870A51]\n\t(No symbol) [0x00586FF6]\n\t(No symbol) [0x005B9876]\n\t(No symbol) [0x005B9C2C]\n\t(No symbol) [0x005EBD42]\n\t(No symbol) [0x005D7054]\n\t(No symbol) [0x005EA104]\n\t(No symbol) [0x005D6DA6]\n\t(No symbol) [0x005B1034]\n\t(No symbol) [0x005B1F8D]\n\tGetHandleVerifier [0x009E4B1C+820540]\n\tsqlite3_dbdata_init [0x00AA53EE+653550]\n\tsqlite3_dbdata_init [0x00AA4E09+652041]\n\tsqlite3_dbdata_init [0x00A997CC+605388]\n\tsqlite3_dbdata_init [0x00AA5D9B+656027]\n\t(No symbol) [0x0087FE6C]\n\t(No symbol) [0x008783B8]\n\t(No symbol) [0x008784DD]\n\t(No symbol) [0x00865818]\n\tBaseThreadInitThunk [0x76687BA9+25]\n\tRtlInitializeExceptionChain [0x7794BD2B+107]\n\tRtlClearBits [0x7794BCAF+191]\n",
     "output_type": "error",
     "traceback": [
      "\u001b[1;31m---------------------------------------------------------------------------\u001b[0m",
      "\u001b[1;31mNoSuchElementException\u001b[0m                    Traceback (most recent call last)",
      "Cell \u001b[1;32mIn[94], line 1\u001b[0m\n\u001b[1;32m----> 1\u001b[0m search_bar \u001b[38;5;241m=\u001b[39m   \u001b[43mdriver\u001b[49m\u001b[38;5;241;43m.\u001b[39;49m\u001b[43mfind_element\u001b[49m\u001b[43m(\u001b[49m\u001b[43mBy\u001b[49m\u001b[38;5;241;43m.\u001b[39;49m\u001b[43mXPATH\u001b[49m\u001b[43m,\u001b[49m\u001b[38;5;124;43m\"\u001b[39;49m\u001b[38;5;124;43m//input[@type=\u001b[39;49m\u001b[38;5;124;43m'\u001b[39;49m\u001b[38;5;124;43msearch\u001b[39;49m\u001b[38;5;124;43m'\u001b[39;49m\u001b[38;5;124;43m] \u001b[39;49m\u001b[38;5;124;43m\"\u001b[39;49m\u001b[43m)\u001b[49m\n",
      "File \u001b[1;32m~\\anaconda3\\lib\\site-packages\\selenium\\webdriver\\remote\\webdriver.py:742\u001b[0m, in \u001b[0;36mWebDriver.find_element\u001b[1;34m(self, by, value)\u001b[0m\n\u001b[0;32m    739\u001b[0m     by \u001b[38;5;241m=\u001b[39m By\u001b[38;5;241m.\u001b[39mCSS_SELECTOR\n\u001b[0;32m    740\u001b[0m     value \u001b[38;5;241m=\u001b[39m \u001b[38;5;124mf\u001b[39m\u001b[38;5;124m'\u001b[39m\u001b[38;5;124m[name=\u001b[39m\u001b[38;5;124m\"\u001b[39m\u001b[38;5;132;01m{\u001b[39;00mvalue\u001b[38;5;132;01m}\u001b[39;00m\u001b[38;5;124m\"\u001b[39m\u001b[38;5;124m]\u001b[39m\u001b[38;5;124m'\u001b[39m\n\u001b[1;32m--> 742\u001b[0m \u001b[38;5;28;01mreturn\u001b[39;00m \u001b[38;5;28;43mself\u001b[39;49m\u001b[38;5;241;43m.\u001b[39;49m\u001b[43mexecute\u001b[49m\u001b[43m(\u001b[49m\u001b[43mCommand\u001b[49m\u001b[38;5;241;43m.\u001b[39;49m\u001b[43mFIND_ELEMENT\u001b[49m\u001b[43m,\u001b[49m\u001b[43m \u001b[49m\u001b[43m{\u001b[49m\u001b[38;5;124;43m\"\u001b[39;49m\u001b[38;5;124;43musing\u001b[39;49m\u001b[38;5;124;43m\"\u001b[39;49m\u001b[43m:\u001b[49m\u001b[43m \u001b[49m\u001b[43mby\u001b[49m\u001b[43m,\u001b[49m\u001b[43m \u001b[49m\u001b[38;5;124;43m\"\u001b[39;49m\u001b[38;5;124;43mvalue\u001b[39;49m\u001b[38;5;124;43m\"\u001b[39;49m\u001b[43m:\u001b[49m\u001b[43m \u001b[49m\u001b[43mvalue\u001b[49m\u001b[43m}\u001b[49m\u001b[43m)\u001b[49m[\u001b[38;5;124m\"\u001b[39m\u001b[38;5;124mvalue\u001b[39m\u001b[38;5;124m\"\u001b[39m]\n",
      "File \u001b[1;32m~\\anaconda3\\lib\\site-packages\\selenium\\webdriver\\remote\\webdriver.py:348\u001b[0m, in \u001b[0;36mWebDriver.execute\u001b[1;34m(self, driver_command, params)\u001b[0m\n\u001b[0;32m    346\u001b[0m response \u001b[38;5;241m=\u001b[39m \u001b[38;5;28mself\u001b[39m\u001b[38;5;241m.\u001b[39mcommand_executor\u001b[38;5;241m.\u001b[39mexecute(driver_command, params)\n\u001b[0;32m    347\u001b[0m \u001b[38;5;28;01mif\u001b[39;00m response:\n\u001b[1;32m--> 348\u001b[0m     \u001b[38;5;28;43mself\u001b[39;49m\u001b[38;5;241;43m.\u001b[39;49m\u001b[43merror_handler\u001b[49m\u001b[38;5;241;43m.\u001b[39;49m\u001b[43mcheck_response\u001b[49m\u001b[43m(\u001b[49m\u001b[43mresponse\u001b[49m\u001b[43m)\u001b[49m\n\u001b[0;32m    349\u001b[0m     response[\u001b[38;5;124m\"\u001b[39m\u001b[38;5;124mvalue\u001b[39m\u001b[38;5;124m\"\u001b[39m] \u001b[38;5;241m=\u001b[39m \u001b[38;5;28mself\u001b[39m\u001b[38;5;241m.\u001b[39m_unwrap_value(response\u001b[38;5;241m.\u001b[39mget(\u001b[38;5;124m\"\u001b[39m\u001b[38;5;124mvalue\u001b[39m\u001b[38;5;124m\"\u001b[39m, \u001b[38;5;28;01mNone\u001b[39;00m))\n\u001b[0;32m    350\u001b[0m     \u001b[38;5;28;01mreturn\u001b[39;00m response\n",
      "File \u001b[1;32m~\\anaconda3\\lib\\site-packages\\selenium\\webdriver\\remote\\errorhandler.py:229\u001b[0m, in \u001b[0;36mErrorHandler.check_response\u001b[1;34m(self, response)\u001b[0m\n\u001b[0;32m    227\u001b[0m         alert_text \u001b[38;5;241m=\u001b[39m value[\u001b[38;5;124m\"\u001b[39m\u001b[38;5;124malert\u001b[39m\u001b[38;5;124m\"\u001b[39m]\u001b[38;5;241m.\u001b[39mget(\u001b[38;5;124m\"\u001b[39m\u001b[38;5;124mtext\u001b[39m\u001b[38;5;124m\"\u001b[39m)\n\u001b[0;32m    228\u001b[0m     \u001b[38;5;28;01mraise\u001b[39;00m exception_class(message, screen, stacktrace, alert_text)  \u001b[38;5;66;03m# type: ignore[call-arg]  # mypy is not smart enough here\u001b[39;00m\n\u001b[1;32m--> 229\u001b[0m \u001b[38;5;28;01mraise\u001b[39;00m exception_class(message, screen, stacktrace)\n",
      "\u001b[1;31mNoSuchElementException\u001b[0m: Message: no such element: Unable to locate element: {\"method\":\"xpath\",\"selector\":\"//input[@type='search'] \"}\n  (Session info: chrome=120.0.6099.224); For documentation on this error, please visit: https://www.selenium.dev/documentation/webdriver/troubleshooting/errors#no-such-element-exception\nStacktrace:\n\tGetHandleVerifier [0x00946EE3+174339]\n\t(No symbol) [0x00870A51]\n\t(No symbol) [0x00586FF6]\n\t(No symbol) [0x005B9876]\n\t(No symbol) [0x005B9C2C]\n\t(No symbol) [0x005EBD42]\n\t(No symbol) [0x005D7054]\n\t(No symbol) [0x005EA104]\n\t(No symbol) [0x005D6DA6]\n\t(No symbol) [0x005B1034]\n\t(No symbol) [0x005B1F8D]\n\tGetHandleVerifier [0x009E4B1C+820540]\n\tsqlite3_dbdata_init [0x00AA53EE+653550]\n\tsqlite3_dbdata_init [0x00AA4E09+652041]\n\tsqlite3_dbdata_init [0x00A997CC+605388]\n\tsqlite3_dbdata_init [0x00AA5D9B+656027]\n\t(No symbol) [0x0087FE6C]\n\t(No symbol) [0x008783B8]\n\t(No symbol) [0x008784DD]\n\t(No symbol) [0x00865818]\n\tBaseThreadInitThunk [0x76687BA9+25]\n\tRtlInitializeExceptionChain [0x7794BD2B+107]\n\tRtlClearBits [0x7794BCAF+191]\n"
     ]
    }
   ],
   "source": [
    "search_bar =   driver.find_element(By.XPATH,\"//input[@type='search'] \")"
   ]
  },
  {
   "cell_type": "code",
   "execution_count": 339,
   "id": "59a8b34e-34b4-404e-ac3d-8760999423b1",
   "metadata": {},
   "outputs": [
    {
     "data": {
      "text/plain": [
       "<undetected_chromedriver.webelement.WebElement (session=\"1f94b309900e3796045fe7101398bddb\", element=\"1A10008B119AD4C05BADB7147AC936DF_element_1\")>"
      ]
     },
     "execution_count": 339,
     "metadata": {},
     "output_type": "execute_result"
    }
   ],
   "source": [
    "search_bar"
   ]
  },
  {
   "cell_type": "code",
   "execution_count": 340,
   "id": "1c3f1f06-2a1f-4298-af5f-b0096daebf6f",
   "metadata": {},
   "outputs": [],
   "source": [
    "search_bar.send_keys(\"data analyst\")\n",
    "search_bar.send_keys(Keys.RETURN)"
   ]
  },
  {
   "cell_type": "code",
   "execution_count": 108,
   "id": "f697d7e9-2b51-48e5-8d48-f1fbdcf4a875",
   "metadata": {},
   "outputs": [],
   "source": [
    "driver.implicitly_wait(2.5)"
   ]
  },
  {
   "cell_type": "code",
   "execution_count": 342,
   "id": "3e58fa4c-5250-491f-b199-28ac46b27fae",
   "metadata": {},
   "outputs": [
    {
     "data": {
      "text/plain": [
       "' email = driver.find_element(By.XPATH,\"//input[contains(@id,\\'email\\')]\")\\nemail.send_keys(\"asendhan@gmail.com\")\\naddr = driver.find_element(by=\\'id\\', value = \"DesktopSERPJobAlert-LocationSuggestionSpecificLocInput\")\\naddr.send_keys(\"600077\")\\nactivate = driver.find_element(By.XPATH,\"//button[@id=\\'DesktopSERPJobAlertActivateButton\\']\")\\nactivate.click() '"
      ]
     },
     "execution_count": 342,
     "metadata": {},
     "output_type": "execute_result"
    }
   ],
   "source": [
    "''' email = driver.find_element(By.XPATH,\"//input[contains(@id,'email')]\")\n",
    "email.send_keys(\"asendhan@gmail.com\")\n",
    "addr = driver.find_element(by='id', value = \"DesktopSERPJobAlert-LocationSuggestionSpecificLocInput\")\n",
    "addr.send_keys(\"600077\")\n",
    "activate = driver.find_element(By.XPATH,\"//button[@id='DesktopSERPJobAlertActivateButton']\")\n",
    "activate.click() '''"
   ]
  },
  {
   "cell_type": "code",
   "execution_count": 48,
   "id": "1440a32f-89e8-49e8-aa05-9de67e060862",
   "metadata": {},
   "outputs": [],
   "source": [
    " cards = driver.find_elements(By.XPATH,\"//div[contains(@class , 'jobCardContainer')]\")"
   ]
  },
  {
   "cell_type": "code",
   "execution_count": 49,
   "id": "8433bd6f-e258-4656-a40e-b31a0bc424b9",
   "metadata": {},
   "outputs": [],
   "source": [
    "cards[0].click()"
   ]
  },
  {
   "cell_type": "code",
   "execution_count": 38,
   "id": "a9a459d4-eaec-4043-b3db-f8b5e6fa13e2",
   "metadata": {},
   "outputs": [
    {
     "data": {
      "text/plain": [
       "30"
      ]
     },
     "execution_count": 38,
     "metadata": {},
     "output_type": "execute_result"
    }
   ],
   "source": [
    "len(cards)"
   ]
  },
  {
   "cell_type": "code",
   "execution_count": 56,
   "id": "24ffaf1a-9953-43df-8f2c-cf356eba8690",
   "metadata": {},
   "outputs": [
    {
     "data": {
      "text/plain": [
       "'Associate Data Analyst'"
      ]
     },
     "execution_count": 56,
     "metadata": {},
     "output_type": "execute_result"
    }
   ],
   "source": [
    " driver.find_element(By.XPATH,\"//div[contains(@class,'JobDetails_jobTitle')]\").text"
   ]
  },
  {
   "cell_type": "code",
   "execution_count": 46,
   "id": "7b1c017f-2c2c-45fe-b20c-b1ccd7ffe688",
   "metadata": {},
   "outputs": [
    {
     "data": {
      "text/plain": [
       "'Scrut Automation'"
      ]
     },
     "execution_count": 46,
     "metadata": {},
     "output_type": "execute_result"
    }
   ],
   "source": [
    "cards[0].find_element(By.XPATH,\"//span[contains(@class,'EmployerProfile_employer')]\").text"
   ]
  },
  {
   "cell_type": "code",
   "execution_count": 40,
   "id": "5f147f7a-2d36-4d03-8363-549f84586d70",
   "metadata": {},
   "outputs": [
    {
     "data": {
      "text/plain": [
       "'Bengaluru'"
      ]
     },
     "execution_count": 40,
     "metadata": {},
     "output_type": "execute_result"
    }
   ],
   "source": [
    "driver.find_element(By.XPATH,\"//div[contains(@class,'JobDetails_location')]\").text"
   ]
  },
  {
   "cell_type": "code",
   "execution_count": 52,
   "id": "a0e36e82-a6c4-4d10-b3b5-b23f734e48ab",
   "metadata": {},
   "outputs": [
    {
     "data": {
      "text/plain": [
       "'4.1'"
      ]
     },
     "execution_count": 52,
     "metadata": {},
     "output_type": "execute_result"
    }
   ],
   "source": [
    "cards[0].find_element(By.XPATH,\"//div[contains(@class,'EmployerProfile_rating')]\").text"
   ]
  },
  {
   "cell_type": "code",
   "execution_count": 51,
   "id": "ef8922da-bab4-46bc-a033-c54ed598f36b",
   "metadata": {},
   "outputs": [
    {
     "data": {
      "text/plain": [
       "'₹4L - ₹8L (Glassdoor Est.)'"
      ]
     },
     "execution_count": 51,
     "metadata": {},
     "output_type": "execute_result"
    }
   ],
   "source": [
    "cards[1].find_element(By.XPATH,\"//div[contains(@class,'JobCard_salaryEstimate')]\").text"
   ]
  },
  {
   "cell_type": "code",
   "execution_count": 71,
   "id": "3c93b149-0f35-411b-b1f3-ac7a52b11a7c",
   "metadata": {},
   "outputs": [
    {
     "data": {
      "text/plain": [
       "'Job Title: Associate Data Analyst\\nCareer Level - C1\\nIntroduction to Role:\\nAre you passionate about turning data into actionable insights? AstraZeneca, a world-leading Pharmaceutical company operating in over 100 countries, is seeking an Associate Data Analyst. This role offers the opportunity to make a significant impact on business decisions and contribute to our mission of improving lives worldwide.\\nAccountabilities:\\nAs an Associate Data Analyst, you will work closely with both business and IT partners to understand data requirements. You will acquire data from primary or secondary sources, perform data profiling, and interpret complex datasets to identify trends or patterns. Your responsibilities will also include building bus matrices, proof of concepts, source mapping documents, and raw source data models. You will identify and report data quality issues and support data modelers and information architects with required information and analysis.'"
      ]
     },
     "execution_count": 71,
     "metadata": {},
     "output_type": "execute_result"
    }
   ],
   "source": [
    "driver.find_element(By.XPATH,\"//div[contains(@class,'JobDetails_jobDescription_')]\").text"
   ]
  },
  {
   "cell_type": "code",
   "execution_count": null,
   "id": "39e39a68-8a15-47d0-8aca-3a5e0787f5ab",
   "metadata": {},
   "outputs": [],
   "source": [
    "from selenium.webdriver import ActionChains"
   ]
  },
  {
   "cell_type": "code",
   "execution_count": 131,
   "id": "89fd1ed0-4606-4ad2-aa37-e0b4484976f8",
   "metadata": {},
   "outputs": [],
   "source": [
    "iframe = driver.find_element(By.XPATH,\"//div[@class='avg_value sbold-title-l']\")\n",
    "\n",
    "ActionChains(driver).move_to_element(iframe).perform()"
   ]
  },
  {
   "cell_type": "code",
   "execution_count": 126,
   "id": "7c8391de-da11-4dc5-9036-0c0f0a5c94c1",
   "metadata": {},
   "outputs": [
    {
     "ename": "TypeError",
     "evalue": "'WebElement' object is not callable",
     "output_type": "error",
     "traceback": [
      "\u001b[1;31m---------------------------------------------------------------------------\u001b[0m",
      "\u001b[1;31mTypeError\u001b[0m                                 Traceback (most recent call last)",
      "Cell \u001b[1;32mIn[126], line 7\u001b[0m\n\u001b[0;32m      3\u001b[0m ActionChains(driver)\\\n\u001b[0;32m      4\u001b[0m         \u001b[38;5;241m.\u001b[39mscroll_from_origin(scroll_origin, \u001b[38;5;241m0\u001b[39m, \u001b[38;5;241m400\u001b[39m)\\\n\u001b[0;32m      5\u001b[0m         \u001b[38;5;241m.\u001b[39mperform()\n\u001b[0;32m      6\u001b[0m wait \u001b[38;5;241m=\u001b[39m WebDriverWait(driver, \u001b[38;5;241m10\u001b[39m)\n\u001b[1;32m----> 7\u001b[0m element \u001b[38;5;241m=\u001b[39m \u001b[43mwait\u001b[49m\u001b[38;5;241;43m.\u001b[39;49m\u001b[43muntil\u001b[49m\u001b[43m(\u001b[49m\u001b[43mdriver\u001b[49m\u001b[38;5;241;43m.\u001b[39;49m\u001b[43mfind_element\u001b[49m\u001b[43m(\u001b[49m\u001b[43mBy\u001b[49m\u001b[38;5;241;43m.\u001b[39;49m\u001b[43mXPATH\u001b[49m\u001b[43m,\u001b[49m\u001b[38;5;124;43m\"\u001b[39;49m\u001b[38;5;124;43m//div[@class=\u001b[39;49m\u001b[38;5;124;43m'\u001b[39;49m\u001b[38;5;124;43mavg_value sbold-title-l\u001b[39;49m\u001b[38;5;124;43m'\u001b[39;49m\u001b[38;5;124;43m]\u001b[39;49m\u001b[38;5;124;43m\"\u001b[39;49m\u001b[43m)\u001b[49m\u001b[43m)\u001b[49m\n",
      "File \u001b[1;32m~\\anaconda3\\lib\\site-packages\\selenium\\webdriver\\support\\wait.py:96\u001b[0m, in \u001b[0;36mWebDriverWait.until\u001b[1;34m(self, method, message)\u001b[0m\n\u001b[0;32m     94\u001b[0m \u001b[38;5;28;01mwhile\u001b[39;00m \u001b[38;5;28;01mTrue\u001b[39;00m:\n\u001b[0;32m     95\u001b[0m     \u001b[38;5;28;01mtry\u001b[39;00m:\n\u001b[1;32m---> 96\u001b[0m         value \u001b[38;5;241m=\u001b[39m \u001b[43mmethod\u001b[49m\u001b[43m(\u001b[49m\u001b[38;5;28;43mself\u001b[39;49m\u001b[38;5;241;43m.\u001b[39;49m\u001b[43m_driver\u001b[49m\u001b[43m)\u001b[49m\n\u001b[0;32m     97\u001b[0m         \u001b[38;5;28;01mif\u001b[39;00m value:\n\u001b[0;32m     98\u001b[0m             \u001b[38;5;28;01mreturn\u001b[39;00m value\n",
      "\u001b[1;31mTypeError\u001b[0m: 'WebElement' object is not callable"
     ]
    }
   ],
   "source": [
    "iframe = driver.find_element(By.XPATH,\"//div[@class='avg_value sbold-title-l']\")\n",
    "scroll_origin = ScrollOrigin.from_element(iframe)\n",
    "ActionChains(driver)\\\n",
    "        .scroll_from_origin(scroll_origin, 0, 400)\\\n",
    "        .perform()\n",
    "wait = WebDriverWait(driver, 10)\n",
    "element = wait.until(driver.find_element(By.XPATH,\"//div[@class='avg_value sbold-title-l']\"))"
   ]
  },
  {
   "cell_type": "code",
   "execution_count": 82,
   "id": "48b41f42-745c-45ee-9149-637160918629",
   "metadata": {},
   "outputs": [],
   "source": [
    "a = driver.find_element(By.XPATH,\"//div[@class='avg_value sbold-title-l']\")"
   ]
  },
  {
   "cell_type": "code",
   "execution_count": 83,
   "id": "692e60b0-a79b-4a47-99ec-ce6e4f10b57b",
   "metadata": {},
   "outputs": [
    {
     "data": {
      "text/plain": [
       "'₹ 33.4 L'"
      ]
     },
     "execution_count": 83,
     "metadata": {},
     "output_type": "execute_result"
    }
   ],
   "source": [
    "a.get_attribute('innerText')[:-6]"
   ]
  },
  {
   "cell_type": "code",
   "execution_count": 34,
   "id": "f245d6d3-9802-458c-bc56-27df35384e6e",
   "metadata": {},
   "outputs": [],
   "source": [
    "b = driver.find_element(By.XPATH,\"//div[@class='htmlCont'] \")"
   ]
  },
  {
   "cell_type": "code",
   "execution_count": 35,
   "id": "d7abb50f-cb9b-4e05-b47e-51a0dbd24e32",
   "metadata": {},
   "outputs": [
    {
     "data": {
      "text/plain": [
       "'Demonstrates up-to-date expertise and applies this to the development, execution, and improvement of action plans by providing expert advice and guidance to others in the application of information and best practices; supporting and aligning efforts to meet customer and business needs; and building commitment for perspectives and rationales\\nProvides and supports the implementation of business solutions by building relationships and partnerships with key stakeholders; identifying business needs; determining and carrying out necessary processes and practices; monitoring progress and results; recognizing and capitalizing on improvement opportunities; and adapting to competing demands, organizational changes, and new responsibilities\\nModels compliance with company policies and procedures and supports company mission, values, and standards of ethics and integrity by incorporating these into the development and implementation of business plans; using the Open Door Policy; and demonstrating and assisting others with how to apply these in executing business processes and practices\\n\\nWhat You Will Do\\n\\nDefine metrics, drive roadmaps, and uncover opportunities to improve our products.\\n\\nHave a strong bias towards action, enjoy finding patterns amidst chaos, and have demonstrated success in using analytics to drive business impact.\\n\\nHas the technical skills to surface insights quickly, and the interpersonal skills to communicate those insights in a way that persuades action.\\n\\nWork with your team to develop new analytic methods\\n\\nUse quantitative analysis and the presentation of data to see beyond the numbers and understand what drives our business\\n\\nPartner with product leaders, designers, and engineering managers to improve our products and prioritize projects for impact.\\n\\nRepresent the product analytics team in key meetings and business reviews with our executive team and founders\\n\\nProvide data driven insights and deliver recommendations that address opportunities for product improvements\\n\\nUse statistical methods to generate and test hypotheses. This includes: Performing analytical deep-dives to identify problems, opportunities and actions required; Collecting, processing, and cleaning data from disparate sources using SQL, R, Python, or other scripting and statistical tools\\n\\nManaging the design, execution, and analysis of A/B tests; driving rigor and testing culture through product teams\\n\\nWhat You will Bring\\n\\n5-10 years of experience of working in a high growth analytics team.\\n\\nFluency in SQL, as well as an understanding of statistical analysis, and common pitfalls of data analysis. Basic understanding of query logic is a MUST.\\n\\nBachelors degree in Statistics, Computer Science, Business Administration or related field. Relevant experience in Product analytics will be a PLUS.\\n\\nExcellent written and verbal communication skills for coordinating across teams.\\n\\nStrong problem solving skills with an emphasis on product development.\\n\\nLed or worked independently on major initiatives.'"
      ]
     },
     "execution_count": 35,
     "metadata": {},
     "output_type": "execute_result"
    }
   ],
   "source": [
    "b.get_attribute('innerText')"
   ]
  },
  {
   "cell_type": "code",
   "execution_count": null,
   "id": "7066f3a5-a359-4341-af51-174d5ab6e3e8",
   "metadata": {},
   "outputs": [],
   "source": [
    "driver.execute_script(\"return document.getElementById('locator').innerHTML\")"
   ]
  },
  {
   "cell_type": "code",
   "execution_count": 25,
   "id": "4e05e88f-759a-422f-b318-12ff7c5ac0f2",
   "metadata": {},
   "outputs": [
    {
     "data": {
      "text/plain": [
       "[]"
      ]
     },
     "execution_count": 25,
     "metadata": {},
     "output_type": "execute_result"
    }
   ],
   "source": [
    "a.find_elements(By.XPATH,'.//*[contains(text(), \"₹\")]')"
   ]
  },
  {
   "cell_type": "code",
   "execution_count": 43,
   "id": "bd720205-8a9c-4245-87b3-de48930a1d85",
   "metadata": {},
   "outputs": [],
   "source": [
    "next_page= driver.find_elements(By.XPATH,\"//button[contains(@class,'load')]\")\n",
    "next_page[0].click()"
   ]
  },
  {
   "cell_type": "code",
   "execution_count": 234,
   "id": "5066ad7a-6b7e-421a-9e8d-3aad65b2f412",
   "metadata": {},
   "outputs": [],
   "source": [
    "iframe = driver.find_element(By.XPATH,\"//button[contains(@class,'load')]\")\n",
    "\n",
    "ActionChains(driver).move_to_element(iframe).perform()"
   ]
  },
  {
   "cell_type": "code",
   "execution_count": 256,
   "id": "ca79255c-88e9-465c-aaad-5a01a10da43f",
   "metadata": {},
   "outputs": [
    {
     "ename": "JavascriptException",
     "evalue": "Message: javascript error: arguments[0].scrollIntoView is not a function\n  (Session info: chrome=120.0.6099.224)\nStacktrace:\n\tGetHandleVerifier [0x00946EE3+174339]\n\t(No symbol) [0x00870A51]\n\t(No symbol) [0x00586FF6]\n\t(No symbol) [0x0058AEAC]\n\t(No symbol) [0x0058C7C1]\n\t(No symbol) [0x005EACD8]\n\t(No symbol) [0x005D700C]\n\t(No symbol) [0x005EA104]\n\t(No symbol) [0x005D6DA6]\n\t(No symbol) [0x005B1034]\n\t(No symbol) [0x005B1F8D]\n\tGetHandleVerifier [0x009E4B1C+820540]\n\tsqlite3_dbdata_init [0x00AA53EE+653550]\n\tsqlite3_dbdata_init [0x00AA4E09+652041]\n\tsqlite3_dbdata_init [0x00A997CC+605388]\n\tsqlite3_dbdata_init [0x00AA5D9B+656027]\n\t(No symbol) [0x0087FE6C]\n\t(No symbol) [0x008783B8]\n\t(No symbol) [0x008784DD]\n\t(No symbol) [0x00865818]\n\tBaseThreadInitThunk [0x76687BA9+25]\n\tRtlInitializeExceptionChain [0x7794BD2B+107]\n\tRtlClearBits [0x7794BCAF+191]\n",
     "output_type": "error",
     "traceback": [
      "\u001b[1;31m---------------------------------------------------------------------------\u001b[0m",
      "\u001b[1;31mJavascriptException\u001b[0m                       Traceback (most recent call last)",
      "Cell \u001b[1;32mIn[256], line 2\u001b[0m\n\u001b[0;32m      1\u001b[0m element \u001b[38;5;241m=\u001b[39m driver\u001b[38;5;241m.\u001b[39mfind_elements(By\u001b[38;5;241m.\u001b[39mXPATH,\u001b[38;5;124m\"\u001b[39m\u001b[38;5;124m//div[@class = \u001b[39m\u001b[38;5;124m'\u001b[39m\u001b[38;5;124mcol-left jdDesktop\u001b[39m\u001b[38;5;124m'\u001b[39m\u001b[38;5;124m]\u001b[39m\u001b[38;5;124m\"\u001b[39m)\n\u001b[1;32m----> 2\u001b[0m \u001b[43mdriver\u001b[49m\u001b[38;5;241;43m.\u001b[39;49m\u001b[43mexecute_script\u001b[49m\u001b[43m(\u001b[49m\u001b[38;5;124;43m\"\u001b[39;49m\u001b[38;5;124;43marguments[0].scrollIntoView(true);\u001b[39;49m\u001b[38;5;124;43m\"\u001b[39;49m\u001b[43m,\u001b[49m\u001b[43m \u001b[49m\u001b[43melement\u001b[49m\u001b[43m)\u001b[49m\n",
      "File \u001b[1;32m~\\anaconda3\\lib\\site-packages\\selenium\\webdriver\\remote\\webdriver.py:408\u001b[0m, in \u001b[0;36mWebDriver.execute_script\u001b[1;34m(self, script, *args)\u001b[0m\n\u001b[0;32m    405\u001b[0m converted_args \u001b[38;5;241m=\u001b[39m \u001b[38;5;28mlist\u001b[39m(args)\n\u001b[0;32m    406\u001b[0m command \u001b[38;5;241m=\u001b[39m Command\u001b[38;5;241m.\u001b[39mW3C_EXECUTE_SCRIPT\n\u001b[1;32m--> 408\u001b[0m \u001b[38;5;28;01mreturn\u001b[39;00m \u001b[38;5;28;43mself\u001b[39;49m\u001b[38;5;241;43m.\u001b[39;49m\u001b[43mexecute\u001b[49m\u001b[43m(\u001b[49m\u001b[43mcommand\u001b[49m\u001b[43m,\u001b[49m\u001b[43m \u001b[49m\u001b[43m{\u001b[49m\u001b[38;5;124;43m\"\u001b[39;49m\u001b[38;5;124;43mscript\u001b[39;49m\u001b[38;5;124;43m\"\u001b[39;49m\u001b[43m:\u001b[49m\u001b[43m \u001b[49m\u001b[43mscript\u001b[49m\u001b[43m,\u001b[49m\u001b[43m \u001b[49m\u001b[38;5;124;43m\"\u001b[39;49m\u001b[38;5;124;43margs\u001b[39;49m\u001b[38;5;124;43m\"\u001b[39;49m\u001b[43m:\u001b[49m\u001b[43m \u001b[49m\u001b[43mconverted_args\u001b[49m\u001b[43m}\u001b[49m\u001b[43m)\u001b[49m[\u001b[38;5;124m\"\u001b[39m\u001b[38;5;124mvalue\u001b[39m\u001b[38;5;124m\"\u001b[39m]\n",
      "File \u001b[1;32m~\\anaconda3\\lib\\site-packages\\selenium\\webdriver\\remote\\webdriver.py:348\u001b[0m, in \u001b[0;36mWebDriver.execute\u001b[1;34m(self, driver_command, params)\u001b[0m\n\u001b[0;32m    346\u001b[0m response \u001b[38;5;241m=\u001b[39m \u001b[38;5;28mself\u001b[39m\u001b[38;5;241m.\u001b[39mcommand_executor\u001b[38;5;241m.\u001b[39mexecute(driver_command, params)\n\u001b[0;32m    347\u001b[0m \u001b[38;5;28;01mif\u001b[39;00m response:\n\u001b[1;32m--> 348\u001b[0m     \u001b[38;5;28;43mself\u001b[39;49m\u001b[38;5;241;43m.\u001b[39;49m\u001b[43merror_handler\u001b[49m\u001b[38;5;241;43m.\u001b[39;49m\u001b[43mcheck_response\u001b[49m\u001b[43m(\u001b[49m\u001b[43mresponse\u001b[49m\u001b[43m)\u001b[49m\n\u001b[0;32m    349\u001b[0m     response[\u001b[38;5;124m\"\u001b[39m\u001b[38;5;124mvalue\u001b[39m\u001b[38;5;124m\"\u001b[39m] \u001b[38;5;241m=\u001b[39m \u001b[38;5;28mself\u001b[39m\u001b[38;5;241m.\u001b[39m_unwrap_value(response\u001b[38;5;241m.\u001b[39mget(\u001b[38;5;124m\"\u001b[39m\u001b[38;5;124mvalue\u001b[39m\u001b[38;5;124m\"\u001b[39m, \u001b[38;5;28;01mNone\u001b[39;00m))\n\u001b[0;32m    350\u001b[0m     \u001b[38;5;28;01mreturn\u001b[39;00m response\n",
      "File \u001b[1;32m~\\anaconda3\\lib\\site-packages\\selenium\\webdriver\\remote\\errorhandler.py:229\u001b[0m, in \u001b[0;36mErrorHandler.check_response\u001b[1;34m(self, response)\u001b[0m\n\u001b[0;32m    227\u001b[0m         alert_text \u001b[38;5;241m=\u001b[39m value[\u001b[38;5;124m\"\u001b[39m\u001b[38;5;124malert\u001b[39m\u001b[38;5;124m\"\u001b[39m]\u001b[38;5;241m.\u001b[39mget(\u001b[38;5;124m\"\u001b[39m\u001b[38;5;124mtext\u001b[39m\u001b[38;5;124m\"\u001b[39m)\n\u001b[0;32m    228\u001b[0m     \u001b[38;5;28;01mraise\u001b[39;00m exception_class(message, screen, stacktrace, alert_text)  \u001b[38;5;66;03m# type: ignore[call-arg]  # mypy is not smart enough here\u001b[39;00m\n\u001b[1;32m--> 229\u001b[0m \u001b[38;5;28;01mraise\u001b[39;00m exception_class(message, screen, stacktrace)\n",
      "\u001b[1;31mJavascriptException\u001b[0m: Message: javascript error: arguments[0].scrollIntoView is not a function\n  (Session info: chrome=120.0.6099.224)\nStacktrace:\n\tGetHandleVerifier [0x00946EE3+174339]\n\t(No symbol) [0x00870A51]\n\t(No symbol) [0x00586FF6]\n\t(No symbol) [0x0058AEAC]\n\t(No symbol) [0x0058C7C1]\n\t(No symbol) [0x005EACD8]\n\t(No symbol) [0x005D700C]\n\t(No symbol) [0x005EA104]\n\t(No symbol) [0x005D6DA6]\n\t(No symbol) [0x005B1034]\n\t(No symbol) [0x005B1F8D]\n\tGetHandleVerifier [0x009E4B1C+820540]\n\tsqlite3_dbdata_init [0x00AA53EE+653550]\n\tsqlite3_dbdata_init [0x00AA4E09+652041]\n\tsqlite3_dbdata_init [0x00A997CC+605388]\n\tsqlite3_dbdata_init [0x00AA5D9B+656027]\n\t(No symbol) [0x0087FE6C]\n\t(No symbol) [0x008783B8]\n\t(No symbol) [0x008784DD]\n\t(No symbol) [0x00865818]\n\tBaseThreadInitThunk [0x76687BA9+25]\n\tRtlInitializeExceptionChain [0x7794BD2B+107]\n\tRtlClearBits [0x7794BCAF+191]\n"
     ]
    }
   ],
   "source": [
    "element = driver.find_elements(By.XPATH,\"//div[@class = 'col-left jdDesktop']\")\n",
    "driver.execute_script(\"arguments[0].scrollIntoView(true);\", element);"
   ]
  },
  {
   "cell_type": "code",
   "execution_count": 282,
   "id": "df8ff839-1ac5-449f-8ccf-80467b5f82dd",
   "metadata": {},
   "outputs": [],
   "source": [
    "element = driver.find_elements(By.XPATH,\"//div[@class = 'jobsList']\")[0]"
   ]
  },
  {
   "cell_type": "code",
   "execution_count": 284,
   "id": "f3ce6e25-5163-4484-bb22-e133f7272a24",
   "metadata": {},
   "outputs": [
    {
     "data": {
      "text/plain": [
       "<undetected_chromedriver.webelement.WebElement (session=\"93b8b323d193cf55e518d1cbb7315a06\", element=\"3161C49765741D9C719052E887B49170_element_45\")>"
      ]
     },
     "execution_count": 284,
     "metadata": {},
     "output_type": "execute_result"
    }
   ],
   "source": [
    "element"
   ]
  },
  {
   "cell_type": "code",
   "execution_count": 293,
   "id": "58d410d0-d54b-43fa-a5e0-bac3ac78eb07",
   "metadata": {},
   "outputs": [],
   "source": [
    "iframe = driver.find_element(By.XPATH,\"//button[contains(@class,'load')]\")\n",
    "ActionChains(driver)\\\n",
    "        .scroll_to_element(iframe)\\\n",
    "        .perform()"
   ]
  },
  {
   "cell_type": "code",
   "execution_count": 105,
   "id": "a1cda98f-f5fe-4b61-96f4-9e55eae314e1",
   "metadata": {},
   "outputs": [],
   "source": [
    " cards = driver.find_elements(By.XPATH,\"//div[contains(@class , 'jobCardContainer')]\")"
   ]
  },
  {
   "cell_type": "code",
   "execution_count": 106,
   "id": "3430a066-c2e7-4a09-b47e-fc60ebfe4ceb",
   "metadata": {},
   "outputs": [
    {
     "data": {
      "text/plain": [
       "900"
      ]
     },
     "execution_count": 106,
     "metadata": {},
     "output_type": "execute_result"
    }
   ],
   "source": [
    "len(cards)"
   ]
  },
  {
   "cell_type": "code",
   "execution_count": 17,
   "id": "d4e92bc3-d6a2-4774-ad95-56416d7dd8b2",
   "metadata": {},
   "outputs": [],
   "source": [
    "cards[1].click()"
   ]
  },
  {
   "cell_type": "code",
   "execution_count": null,
   "id": "964a1d38-53ef-4d74-8fb2-555b890b1129",
   "metadata": {},
   "outputs": [],
   "source": [
    "//div[@id='left-column']\n",
    "//button[@data-test=\"load-more\"]"
   ]
  },
  {
   "cell_type": "code",
   "execution_count": 104,
   "id": "d33817e9-39a5-4909-bc82-ddab82dccf0e",
   "metadata": {},
   "outputs": [
    {
     "ename": "IndexError",
     "evalue": "list index out of range",
     "output_type": "error",
     "traceback": [
      "\u001b[1;31m---------------------------------------------------------------------------\u001b[0m",
      "\u001b[1;31mIndexError\u001b[0m                                Traceback (most recent call last)",
      "Cell \u001b[1;32mIn[104], line 7\u001b[0m\n\u001b[0;32m      5\u001b[0m \u001b[38;5;28;01mif\u001b[39;00m i \u001b[38;5;241m%\u001b[39m \u001b[38;5;241m29\u001b[39m \u001b[38;5;241m==\u001b[39m \u001b[38;5;241m0\u001b[39m:\n\u001b[0;32m      6\u001b[0m             next_page\u001b[38;5;241m=\u001b[39m driver\u001b[38;5;241m.\u001b[39mfind_elements(By\u001b[38;5;241m.\u001b[39mXPATH,\u001b[38;5;124m\"\u001b[39m\u001b[38;5;124m//button[@data-test=\u001b[39m\u001b[38;5;124m'\u001b[39m\u001b[38;5;124mload-more\u001b[39m\u001b[38;5;124m'\u001b[39m\u001b[38;5;124m]\u001b[39m\u001b[38;5;124m\"\u001b[39m)\n\u001b[1;32m----> 7\u001b[0m             \u001b[43mnext_page\u001b[49m\u001b[43m[\u001b[49m\u001b[38;5;241;43m0\u001b[39;49m\u001b[43m]\u001b[49m\u001b[38;5;241m.\u001b[39mclick()\n",
      "\u001b[1;31mIndexError\u001b[0m: list index out of range"
     ]
    }
   ],
   "source": [
    "import time\n",
    "for i in range(0,5000):\n",
    "    cards = driver.find_elements(By.XPATH,\"//div[contains(@class , 'jobCardContainer')]\")\n",
    "    cards[i].click()\n",
    "    if i % 29 == 0:\n",
    "                next_page= driver.find_elements(By.XPATH,\"//button[@data-test='load-more']\")\n",
    "                next_page[0].click()\n",
    "    "
   ]
  },
  {
   "cell_type": "code",
   "execution_count": 110,
   "id": "be462a8c-e806-495d-bbc0-f8bdf841a9cf",
   "metadata": {},
   "outputs": [],
   "source": [
    "titles=[]\n",
    "companies=[]\n",
    "locations=[]\n",
    "links =[]\n",
    "reviews=[]\n",
    "noofreviews=[]\n",
    "salaries = []\n",
    "descriptions=[]\n",
    "count = 0"
   ]
  },
  {
   "cell_type": "code",
   "execution_count": 111,
   "id": "65277e55-e9e9-408b-842f-202830f60cd8",
   "metadata": {},
   "outputs": [
    {
     "data": {
      "text/plain": [
       "900"
      ]
     },
     "execution_count": 111,
     "metadata": {},
     "output_type": "execute_result"
    }
   ],
   "source": [
    "len(cards)"
   ]
  },
  {
   "cell_type": "code",
   "execution_count": 112,
   "id": "bd1317fd-6196-48d7-9468-e7396f221ae1",
   "metadata": {},
   "outputs": [
    {
     "name": "stdout",
     "output_type": "stream",
     "text": [
      "Senior Analyst, Data Science 0 no:: 812 pg no:: 28\n",
      "FES - FAIR Techno Functional Data Analyst - Senior Associate -Bangalore 1 no:: 812 pg no:: 28\n",
      "FES - AWM Technical Functional Analyst - Manager - Bangalore 2 no:: 812 pg no:: 28\n",
      "Business Analyst 3 no:: 812 pg no:: 28\n",
      "Power BI Developer– 3 Positions 3 no:: 812 pg no:: 28\n",
      "RE Process Analyst EMEA 4 no:: 812 pg no:: 28\n",
      "Reporting - Operations Analyst 5 no:: 812 pg no:: 28\n",
      "(US) Solutions Analyst 5 no:: 812 pg no:: 28\n",
      "CMS-Hardware Asset Management Analyst-Senior Associate 5 no:: 812 pg no:: 28\n",
      "Salesforce Business Analyst 6 no:: 812 pg no:: 28\n",
      "Analyst 7 no:: 812 pg no:: 28\n",
      "Sr. Business Analyst 8 no:: 812 pg no:: 28\n",
      "BPO Metrics & Reporting Analyst 9 no:: 812 pg no:: 28\n",
      "Financial reporting and Risk Analyst 10 no:: 812 pg no:: 28\n",
      "Senior Database Engineer - Power BI 11 no:: 812 pg no:: 28\n",
      "Business Intelligence Chapter Lead 12 no:: 812 pg no:: 28\n",
      "Associate Data Analyst 13 no:: 812 pg no:: 28\n",
      "Data engineer analyst 13 no:: 812 pg no:: 28\n",
      "Data Analyst 14 no:: 812 pg no:: 28\n",
      "Business Analyst I, Field Medical 15 no:: 812 pg no:: 28\n",
      "Data Analyst 16 no:: 812 pg no:: 28\n",
      "Consultant – Data Analyst Python 17 no:: 812 pg no:: 28\n",
      "Supply Chain Data Analyst 18 no:: 812 pg no:: 28\n",
      "Analyst - GBS General Ledger 19 no:: 812 pg no:: 28\n",
      "RA-A&IC-Internal Audit - Sr Analyst 1 20 no:: 812 pg no:: 28\n",
      "Associate Research Analyst 21 no:: 812 pg no:: 28\n",
      "Senior Associate, Database Management Analyst 22 no:: 812 pg no:: 28\n",
      "Data Analyst 23 no:: 812 pg no:: 28\n",
      "Business Analyst (Lending Domain) 24 no:: 812 pg no:: 28\n",
      "Software Developer BI 25 no:: 812 pg no:: 28\n",
      "Business Intelligence Developer 26 no:: 812 pg no:: 28\n",
      "Lead Business Analyst 27 no:: 812 pg no:: 28\n",
      "Business Analyst-Customer Success (US) 28 no:: 812 pg no:: 28\n",
      "IT Database Analyst/Sr Data Engineering Analyst (MSSQL) 29 no:: 812 pg no:: 28\n",
      "BI Engineer 30 no:: 812 pg no:: 28\n",
      "Senior Research Analyst 31 no:: 812 pg no:: 28\n",
      "BPO Metrics & Reporting Analyst 32 no:: 812 pg no:: 28\n",
      "Business Analyst 33 no:: 812 pg no:: 28\n",
      "Lead - Business Analyst 34 no:: 812 pg no:: 28\n",
      "Business Analyst 35 no:: 812 pg no:: 28\n",
      "Data Analyst 35 no:: 812 pg no:: 28\n",
      "TULIP Support Analyst 36 no:: 812 pg no:: 28\n",
      "Business Strategy Analyst 36 no:: 812 pg no:: 28\n",
      "Senior Analyst - AVEVA- PI DevOps 36 no:: 812 pg no:: 28\n",
      "Senior Analyst / Manager, Business Operations 36 no:: 812 pg no:: 28\n",
      "Finance Analyst (Contractual) Full-Time 37 no:: 812 pg no:: 28\n",
      "Sr.Manager - Analyst Relations (AR) 38 no:: 812 pg no:: 28\n",
      "Graduate Data Analyst 39 no:: 812 pg no:: 28\n",
      "Data Analytics Specialist IV 40 no:: 812 pg no:: 28\n",
      "Data Analysis 41 no:: 812 pg no:: 28\n",
      "Master Data Management Analyst 42 no:: 812 pg no:: 28\n",
      "Human Resources Data Analyst II 43 no:: 812 pg no:: 28\n",
      "P&I Finance Reporting Analyst 44 no:: 812 pg no:: 28\n",
      "Data Insights Analyst 45 no:: 812 pg no:: 28\n",
      "Consulting: SA&MA: AI & Data-Business Analyst (Senior Consultant) 45 no:: 812 pg no:: 28\n",
      "Consulting: SA&MA: AI & Data- Incident & Release Management Analyst (Senior Consultant) 46 no:: 812 pg no:: 28\n",
      "Senior Product Analyst 47 no:: 812 pg no:: 28\n",
      "Business Analyst - Business Analysis 48 no:: 812 pg no:: 28\n",
      "S/4HANA IT Business Analyst 49 no:: 812 pg no:: 28\n",
      "Analyst 49 no:: 812 pg no:: 28\n",
      "Financial Analyst (India) 50 no:: 812 pg no:: 28\n",
      "Assistant Manager || Data Analyst 50 no:: 812 pg no:: 28\n",
      "Sr. Data Analyst - Data Analysis 51 no:: 812 pg no:: 28\n",
      "Business Analyst, CLM/Configurator 52 no:: 812 pg no:: 28\n",
      "Procurement Analyst 52 no:: 812 pg no:: 28\n",
      "Research Analyst - Valuations 53 no:: 812 pg no:: 28\n",
      "Product Analyst, Lucknow- Asha Kiran 54 no:: 812 pg no:: 28\n",
      "Product Analyst, Private Credit 55 no:: 812 pg no:: 28\n",
      "Senior Consultant - Tech Consulting - National - CNS - TC - Data & Analytics - Gurgaon 56 no:: 812 pg no:: 28\n",
      "Project & Bid Academy Data Analytics Manager 57 no:: 812 pg no:: 28\n",
      "Analyst, TMCB 58 no:: 812 pg no:: 28\n",
      "Business Intelligence Engineer II 59 no:: 812 pg no:: 28\n",
      "Inventory analyst 60 no:: 812 pg no:: 28\n",
      "Business Intelligence Engineer I, FinOps FP&A 61 no:: 812 pg no:: 28\n",
      "REF25217Q-Deputy Manager - MIS (Power BI, Dashboard, Excel) - GGN 62 no:: 812 pg no:: 28\n",
      "Analyst - General Ledger 63 no:: 812 pg no:: 28\n",
      "Cloud/D&A/Microsoft/AI - Data Analyst 64 no:: 812 pg no:: 28\n",
      "Senior Consultant - Tech Consulting - Data & Analytics - Bangalore, Gurgaon, Mumbai 65 no:: 812 pg no:: 28\n",
      "Business Analyst : Ops MI and Reporting Developer 66 no:: 812 pg no:: 28\n",
      "IND-Sr Analyst 67 no:: 812 pg no:: 28\n",
      "Research Analyst - Maps 68 no:: 812 pg no:: 28\n",
      "Operations Analyst 69 no:: 812 pg no:: 28\n",
      "Portfolio Analyst 69 no:: 812 pg no:: 28\n",
      "Power BI Developer 70 no:: 812 pg no:: 28\n",
      "Performance Analyst - Consultant 71 no:: 812 pg no:: 28\n",
      "Senior Consultant - Tech Consulting - National - CNS - TC - Data & Analytics - Gurugram 71 no:: 812 pg no:: 28\n",
      "Senior Data Analyst (Asst. Manager)- Global Sourcing & Procurement 72 no:: 812 pg no:: 28\n",
      "Business Analyst - SAP PAPM 73 no:: 812 pg no:: 28\n",
      "Senior Marketing Operations Analyst 74 no:: 812 pg no:: 28\n",
      "Business Analyst, CLM 75 no:: 812 pg no:: 28\n",
      "Senior Quantitative Analytics Specialist 75 no:: 812 pg no:: 28\n",
      "Senior Analyst - Programmatic 75 no:: 812 pg no:: 28\n",
      "Business Operations Analyst 76 no:: 812 pg no:: 28\n",
      "Principal Analyst - Short Term Refinery 76 no:: 812 pg no:: 28\n",
      "Reporting Analyst 77 no:: 812 pg no:: 28\n",
      "Business Analyst 78 no:: 812 pg no:: 28\n",
      "Business Intelligence Analyst 79 no:: 812 pg no:: 28\n",
      "I.T. Commercial Business Systems Analyst 80 no:: 812 pg no:: 28\n",
      "Software Business Analyst 80 no:: 812 pg no:: 28\n",
      "Senior Research Analyst - Valuations 81 no:: 812 pg no:: 28\n",
      "Power BI (Exp 5-7 yrs, SAP exp. req.) 82 no:: 812 pg no:: 28\n",
      "Financial Analyst 83 no:: 812 pg no:: 28\n",
      "Senior Digital Market Analyst 84 no:: 812 pg no:: 28\n",
      "Senior Process Associate/ Tax Analyst 85 no:: 812 pg no:: 28\n",
      "Sr Business Unit Fin. Analyst 85 no:: 812 pg no:: 28\n",
      "Business Analyst - Post sales 86 no:: 812 pg no:: 28\n",
      "Digital Marketing Analyst 87 no:: 812 pg no:: 28\n",
      "Business Analyst 88 no:: 812 pg no:: 28\n",
      "Data Analyst | Sql , Python , GCP | 6+ years 89 no:: 812 pg no:: 28\n",
      "Data Analyst 90 no:: 812 pg no:: 28\n",
      "Technology Business Analyst, Finance & Risk 91 no:: 812 pg no:: 28\n",
      "APAC Enterprise Operations and Technology, 2024 Summer Analyst, India (Chennai) 92 no:: 812 pg no:: 28\n",
      "Business Analyst 93 no:: 812 pg no:: 28\n",
      "Senior Engineer, Data Analytics Engineering 94 no:: 812 pg no:: 28\n",
      "#Lead Business Analyst 95 no:: 812 pg no:: 28\n",
      "Field Marketing Manager Data Analytics, APAC 96 no:: 812 pg no:: 28\n",
      "Service Delivery Ops Senior Analyst 97 no:: 812 pg no:: 28\n",
      "S&C Global Network - AI - Supply Chain Analytics-Analyst 97 no:: 812 pg no:: 28\n",
      "APAC Enterprise Operations and Technology, 2024 Summer Analyst, India (Pune) 97 no:: 812 pg no:: 28\n",
      "Data/ Business Analyst Training Faculty 98 no:: 812 pg no:: 28\n",
      "Senior SEO Analyst 99 no:: 812 pg no:: 28\n",
      "Social Media Analyst 100 no:: 812 pg no:: 28\n",
      "Data Analyst-Processing Mining,Ind,Blr Grp 4.2 101 no:: 812 pg no:: 28\n",
      "Data Analyst 102 no:: 812 pg no:: 28\n",
      "Data Analyst_SQL 103 no:: 812 pg no:: 28\n",
      "Analyst- Data 104 no:: 812 pg no:: 28\n",
      "Tech Data Analyst-Digital Analytics 105 no:: 812 pg no:: 28\n",
      "Financial Analyst 105 no:: 812 pg no:: 28\n",
      "Data Analyst - II 106 no:: 812 pg no:: 28\n",
      "ESG Data Operations Analyst 107 no:: 812 pg no:: 28\n",
      "Business Analyst- Service Now 108 no:: 812 pg no:: 28\n",
      "Data Analyst- Impact Solutions 109 no:: 812 pg no:: 28\n",
      "Data Analyst 110 no:: 812 pg no:: 28\n",
      "Product Analyst - Intern 110 no:: 812 pg no:: 28\n",
      "Business Analyst 110 no:: 812 pg no:: 28\n",
      "Data Analyst (ML) 111 no:: 812 pg no:: 28\n",
      "Data Analyst (Mumbai) 112 no:: 812 pg no:: 28\n",
      "Data Analyst - Data Operations 112 no:: 812 pg no:: 28\n",
      "Data Analytics Expert 113 no:: 812 pg no:: 28\n",
      "Data and Tech Analyst - PJAA / BVJVY 114 no:: 812 pg no:: 28\n",
      "Developer, BI & Data Analytics 115 no:: 812 pg no:: 28\n",
      "Data Analyst II (SQL Query Writing) 116 no:: 812 pg no:: 28\n",
      "Data Analyst II, Enterprise Data Quality 117 no:: 812 pg no:: 28\n",
      "Data Discovery Analyst 118 no:: 812 pg no:: 28\n",
      "Business Analyst 1, Analytics operations and programs (AOP) 118 no:: 812 pg no:: 28\n",
      "Associate - PSG Data Analyst (Investment Management) 119 no:: 812 pg no:: 28\n",
      "Analyst - Liquidity Risk Reporting 120 no:: 812 pg no:: 28\n",
      "Business Analyst 121 no:: 812 pg no:: 28\n",
      "Data Analyst 122 no:: 812 pg no:: 28\n",
      "Lead Data Analyst (Finance) 123 no:: 812 pg no:: 28\n",
      "Data Governance - Analyst 123 no:: 812 pg no:: 28\n",
      "Lead Analyst 123 no:: 812 pg no:: 28\n",
      "Jr. Data & Analytics Engineer - WCG Clinical 124 no:: 812 pg no:: 28\n",
      "Senior Business Analyst - CSI 124 no:: 812 pg no:: 28\n",
      "Sr Data Analyst - People Analytics & Insights 125 no:: 812 pg no:: 28\n",
      "Senior Business Analyst - C10 126 no:: 812 pg no:: 28\n",
      "Market Research Analyst 127 no:: 812 pg no:: 28\n",
      "IT Business Analyst II 128 no:: 812 pg no:: 28\n",
      "Data Analyst 128 no:: 812 pg no:: 28\n",
      "Market Risk IT Support Analyst 129 no:: 812 pg no:: 28\n",
      "Analyst - ESS 130 no:: 812 pg no:: 28\n",
      "Associate Business Analyst 131 no:: 812 pg no:: 28\n",
      "MANAGER- BUSINESS INTELLIGENCE ENGINEERING 132 no:: 812 pg no:: 28\n",
      "Data Analyst 133 no:: 812 pg no:: 28\n",
      "Associate Business Analyst- Center of Data Excellence 134 no:: 812 pg no:: 28\n",
      "Operational Technology (OT) Risk Analyst 135 no:: 812 pg no:: 28\n",
      "CIB_GRC_Equity_Research_Analyst 135 no:: 812 pg no:: 28\n",
      "Business Analyst 2 135 no:: 812 pg no:: 28\n",
      "Senior/Lead Data Analyst 135 no:: 812 pg no:: 28\n",
      "Business Analyst 136 no:: 812 pg no:: 28\n",
      "Intermediate Representative, Data Management & Quantitative Analysis 137 no:: 812 pg no:: 28\n",
      "Quant Analyst 137 no:: 812 pg no:: 28\n",
      "Business Intelligence Manager, Analytics Engineering 137 no:: 812 pg no:: 28\n",
      "Senior Business Analyst - CSI 137 no:: 812 pg no:: 28\n",
      "Data and Analytics Engineer 138 no:: 812 pg no:: 28\n",
      "Business Analyst 139 no:: 812 pg no:: 28\n",
      "Resource Management Information Services – Senior Analyst 140 no:: 812 pg no:: 28\n",
      "Market Research Analyst 141 no:: 812 pg no:: 28\n",
      "Senior Business Analyst 142 no:: 812 pg no:: 28\n",
      "Business Analyst 143 no:: 812 pg no:: 28\n",
      "Project Manager_Business Analyst, DCS Ops Change 144 no:: 812 pg no:: 28\n",
      "Data Analyst 144 no:: 812 pg no:: 28\n",
      "Data Analyst 145 no:: 812 pg no:: 28\n",
      "Data Analyst Trainer 145 no:: 812 pg no:: 28\n",
      "Portfolio Management Group – Trade Implementation Analyst 146 no:: 812 pg no:: 28\n",
      "Business Analyst 146 no:: 812 pg no:: 28\n",
      "Data Visualization Engineer - Ideata Analytics 146 no:: 812 pg no:: 28\n",
      "Senior Data Analyst - Assistant Manager 146 no:: 812 pg no:: 28\n",
      "Business Analyst - Client Reporting - Assistant Manager 147 no:: 812 pg no:: 28\n",
      "Data Mining Analyst 148 no:: 812 pg no:: 28\n",
      "Major Markets - UK Business Analyst I 149 no:: 812 pg no:: 28\n",
      "Analyst - TAX - National - TAX - GCR - Global Compliance & Reporting - New Delhi 150 no:: 812 pg no:: 28\n",
      "Manager_Lead_Reporting Analyst_Pune 150 no:: 812 pg no:: 28\n",
      "Business Intelligence Engineer, Amazon Gift Cards 151 no:: 812 pg no:: 28\n",
      "Data Analyst /Science Instructor 152 no:: 812 pg no:: 28\n",
      "Data Quality Analyst 153 no:: 812 pg no:: 28\n",
      "Senior Analyst - Planning & Reporting 154 no:: 812 pg no:: 28\n",
      "Lead Quantitative Analytics Specialist 155 no:: 812 pg no:: 28\n",
      "Business Analyst – Power BI Reporting 155 no:: 812 pg no:: 28\n",
      "Sr Process Analyst - Risk and Compliance 156 no:: 812 pg no:: 28\n",
      "Senior Business Analyst / Product Manager 157 no:: 812 pg no:: 28\n",
      "Market Research Analyst - Pristine Market Insights - (Kharadi, Pune) 158 no:: 812 pg no:: 28\n",
      "Analyst, Credit Ratings 158 no:: 812 pg no:: 28\n",
      "Sourcing Analyst - Engineered System and Forging 159 no:: 812 pg no:: 28\n",
      "Business Analyst - ServiceNow CSM 160 no:: 812 pg no:: 28\n",
      "Senior Business Analyst 161 no:: 812 pg no:: 28\n",
      "ARC Analyst 162 no:: 812 pg no:: 28\n",
      "BC_Analytics_Business_Intelligence_Analyst 163 no:: 812 pg no:: 28\n",
      "Senior BI & Analytics Analyst 164 no:: 812 pg no:: 28\n",
      "Senior Product Analyst, Disney+ Hotstar 165 no:: 812 pg no:: 28\n",
      "Senior Business Analyst 166 no:: 812 pg no:: 28\n",
      "Sr. OMS Support Analyst 167 no:: 812 pg no:: 28\n",
      "Power BI Task Management Analyst 168 no:: 812 pg no:: 28\n",
      "Data Engineer, Ad Finance, Display Finance BI 169 no:: 812 pg no:: 28\n",
      "Senior Analyst - Financial Reporting & Control 170 no:: 812 pg no:: 28\n",
      "Analyst, Retail Marketing 170 no:: 812 pg no:: 28\n",
      "ITTS_Transfer Pricing_Advanced Analyst 171 no:: 812 pg no:: 28\n",
      "Analyst - TAX - AMI - TAX - GCR - Global Compliance & Reporting - New Delhi 172 no:: 812 pg no:: 28\n",
      "GA, Analyst 172 no:: 812 pg no:: 28\n",
      "BI Systems Admin 2 173 no:: 812 pg no:: 28\n",
      "Analyst - Procurement 173 no:: 812 pg no:: 28\n",
      "Senior Data Analyst 173 no:: 812 pg no:: 28\n",
      "Senior Quality Analyst Test and Automation Engineer. 174 no:: 812 pg no:: 28\n",
      "Campaign Management Sr Analyst 175 no:: 812 pg no:: 28\n",
      "(BAMS/BHMS)Doctor Healthcare Data Analyst 175 no:: 812 pg no:: 28\n",
      "Analyst - Business Consulting Risk - FS - CNS - BC - Technology Risk - Mumbai 176 no:: 812 pg no:: 28\n",
      "Sr. Business Analyst -Trade OU 177 no:: 812 pg no:: 28\n",
      "AVP Liquidity Data & Analytics Developer GSC's 177 no:: 812 pg no:: 28\n",
      "Sr. Business Analyst -SRM Finance 177 no:: 812 pg no:: 28\n",
      "Business Analyst (Fresher) 177 no:: 812 pg no:: 28\n",
      "Data & Business Intelligence Manager 178 no:: 812 pg no:: 28\n",
      "Senior Business Intelligence Engineer 179 no:: 812 pg no:: 28\n",
      "Senior Murex Business Analyst 180 no:: 812 pg no:: 28\n",
      "Business Analyst 181 no:: 812 pg no:: 28\n",
      "Instructor Analyst 182 no:: 812 pg no:: 28\n",
      "Microsoft Power BI Consultant 182 no:: 812 pg no:: 28\n",
      "Quality Analyst 183 no:: 812 pg no:: 28\n",
      "Business Analyst-Contract Management – Billing Support 184 no:: 812 pg no:: 28\n",
      "Digital Marketing Analyst 185 no:: 812 pg no:: 28\n",
      "SAP Business System Analyst 186 no:: 812 pg no:: 28\n",
      "Research Analyst 187 no:: 812 pg no:: 28\n",
      "Analyst [Brand Development Team] 188 no:: 812 pg no:: 28\n",
      "Market Research Analyst(Fresher) 189 no:: 812 pg no:: 28\n",
      "Sr. Business Analyst -SRM Strategy 190 no:: 812 pg no:: 28\n",
      "Pricing Analyst 190 no:: 812 pg no:: 28\n",
      "REF27361G - MIS /reporting / excel - Senior Program Analyst - EIT- Mumbai 191 no:: 812 pg no:: 28\n",
      "AVP – Climate Risk Scenario Analysis 192 no:: 812 pg no:: 28\n",
      "Senior Business Analyst, Corporate function 193 no:: 812 pg no:: 28\n",
      "Senior SEO Analyst 193 no:: 812 pg no:: 28\n",
      "Senior BI Systems Admin 193 no:: 812 pg no:: 28\n",
      "Database Engineer/Business Intelligence Developer - India, Bengaluru 194 no:: 812 pg no:: 28\n",
      "Database Engineer/Business Intelligence Developer - India, Delhi 195 no:: 812 pg no:: 28\n",
      "Database Engineer/Business Intelligence Developer - India, Pune 195 no:: 812 pg no:: 28\n",
      "Database Engineer/Business Intelligence Developer - India, Mumbai 196 no:: 812 pg no:: 28\n",
      "Data Analyst Intern 197 no:: 812 pg no:: 28\n",
      "Data Insights & Analytics Analyst 197 no:: 812 pg no:: 28\n",
      "Data Analyst 198 no:: 812 pg no:: 28\n",
      "Power BI - Data Analyst 199 no:: 812 pg no:: 28\n",
      "Data Operations / Data Analyst 199 no:: 812 pg no:: 28\n",
      "Business Analyst 200 no:: 812 pg no:: 28\n",
      "Data Analyst - Technology Consulting 201 no:: 812 pg no:: 28\n",
      "Software Data Analyst 202 no:: 812 pg no:: 28\n",
      "Data Analyst-Digital Product Management [SQL/Python] 203 no:: 812 pg no:: 28\n",
      "Analyst - Data Analyst 204 no:: 812 pg no:: 28\n",
      "Data Analyst 205 no:: 812 pg no:: 28\n",
      "Business Analyst II - Associate 206 no:: 812 pg no:: 28\n",
      "Risk Advisory Internal Audit Analyst 206 no:: 812 pg no:: 28\n",
      "International Market Insights & Capabilities - MM, ICON Analyst I 207 no:: 812 pg no:: 28\n",
      "Supply chain Data Analyst 208 no:: 812 pg no:: 28\n",
      "Associate Analyst 208 no:: 812 pg no:: 28\n",
      "Staff Business Data Analyst 209 no:: 812 pg no:: 28\n",
      "Quant Modeling - Analyst 210 no:: 812 pg no:: 28\n",
      "Data Analyst ESG 211 no:: 812 pg no:: 28\n",
      "Data Analyst / Senior Data Analyst 212 no:: 812 pg no:: 28\n",
      "Quant Analytics Associate I 213 no:: 812 pg no:: 28\n",
      "Data Analyst Intern(Bcom Graduates/ Excel mandatory) 214 no:: 812 pg no:: 28\n",
      "Data Management - Analyst - Encore 215 no:: 812 pg no:: 28\n",
      "Business Analyst, Trustworthy Shopping Experience 216 no:: 812 pg no:: 28\n",
      "Lead Financial Analyst 217 no:: 812 pg no:: 28\n",
      "Business Analyst I 218 no:: 812 pg no:: 28\n",
      "Business Intelligence and Analytics Lead, Google Play 219 no:: 812 pg no:: 28\n",
      "BI Developer - Associate 219 no:: 812 pg no:: 28\n",
      "Business Analyst, Data Analytics products, Route to Market 219 no:: 812 pg no:: 28\n",
      "Senior Business Analyst 220 no:: 812 pg no:: 28\n",
      "Senior Data Analyst 220 no:: 812 pg no:: 28\n",
      "Global ESG Reporting Analyst 221 no:: 812 pg no:: 28\n",
      "Financial Data Analyst 222 no:: 812 pg no:: 28\n",
      "Corporate Trainer - Data Analyst 222 no:: 812 pg no:: 28\n",
      "Insights Analyst 223 no:: 812 pg no:: 28\n",
      "Service Level and Reporting Analyst ( Power BI ) 223 no:: 812 pg no:: 28\n",
      "SQL Server Developer_Data Analysis 223 no:: 812 pg no:: 28\n",
      "APJ Zero Waste Advisor & Program Analyst 224 no:: 812 pg no:: 28\n",
      "Business Consultant - Data Analyst - Sales 225 no:: 812 pg no:: 28\n",
      "NLP - Senior Analyst / Data Scientist 226 no:: 812 pg no:: 28\n",
      "Financial Analyst 227 no:: 812 pg no:: 28\n",
      "Senior Analyst - Power BI 228 no:: 812 pg no:: 28\n",
      "Data Analytics - Manager 229 no:: 812 pg no:: 28\n",
      "Analyst, Financial & Prudential Reporting Accountant 229 no:: 812 pg no:: 28\n",
      "Export Customer Screening Analyst 230 no:: 812 pg no:: 28\n",
      "Reporting Analyst, SRC 231 no:: 812 pg no:: 28\n",
      "Business Analyst 232 no:: 812 pg no:: 28\n",
      "Senior Analyst / Data Scientist 232 no:: 812 pg no:: 28\n",
      "Senior Analyst 233 no:: 812 pg no:: 28\n",
      "Analyst GSC’s 234 no:: 812 pg no:: 28\n",
      "BI Developer 234 no:: 812 pg no:: 28\n",
      "Workday Business Analyst 235 no:: 812 pg no:: 28\n",
      "data quality control analyst 236 no:: 812 pg no:: 28\n",
      "Business Analyst – Oracle (EMSSI) 237 no:: 812 pg no:: 28\n",
      "Software Engineer Business Intelligence 238 no:: 812 pg no:: 28\n",
      "Principal Consultant, Business Analyst 239 no:: 812 pg no:: 28\n",
      "Technical Analysts 240 no:: 812 pg no:: 28\n",
      "Salesforce Business Analyst 240 no:: 812 pg no:: 28\n",
      "Senior Analyst - Investment Research (Valuation) 241 no:: 812 pg no:: 28\n",
      "Analyst , Inventory Allocation 242 no:: 812 pg no:: 28\n",
      "Lead Analyst, Carrier Billing Services 243 no:: 812 pg no:: 28\n",
      "Analyst - Business Consulting Risk - FS - CNS - BC - Internal Audit - Mumbai 244 no:: 812 pg no:: 28\n",
      "Research Analyst - Oil & Chemicals 245 no:: 812 pg no:: 28\n",
      "ERP/CRM/SAP - Data Analyst 246 no:: 812 pg no:: 28\n",
      "Risk Mining Analyst II, Account Integrity 247 no:: 812 pg no:: 28\n",
      "Data Analyst 248 no:: 812 pg no:: 28\n",
      "Database Administration Analyst 249 no:: 812 pg no:: 28\n",
      "Credit Risk Business Analyst, BFS Consulting 250 no:: 812 pg no:: 28\n",
      "Institutional Client Reporting Senior Analyst 251 no:: 812 pg no:: 28\n",
      "Senior Analyst, Business Development, Global Healthcare 251 no:: 812 pg no:: 28\n",
      "Senior Business Analyst, Finance Transformation 251 no:: 812 pg no:: 28\n",
      "AR Analyst 252 no:: 812 pg no:: 28\n",
      "Business Advisory Analyst 253 no:: 812 pg no:: 28\n",
      "Senior Research Analyst - Quant 253 no:: 812 pg no:: 28\n",
      "Business Intelligence Engineer, WHS Data 254 no:: 812 pg no:: 28\n",
      "Sr. Business Intelligence Engineer, WHS Data 255 no:: 812 pg no:: 28\n",
      "IT SAP Business Analyst - Field Service 256 no:: 812 pg no:: 28\n",
      "Data Analyst 257 no:: 812 pg no:: 28\n",
      "Senior Analyst / MLE - ML Ops 257 no:: 812 pg no:: 28\n",
      "Procurement Analyst 258 no:: 812 pg no:: 28\n",
      "Analyst, Financial & Prudential Reporting 259 no:: 812 pg no:: 28\n",
      "Power-BI Intern 260 no:: 812 pg no:: 28\n",
      "Actuarial Analyst 260 no:: 812 pg no:: 28\n",
      "Business Analyst Senior 261 no:: 812 pg no:: 28\n",
      "Business Analyst - Lead 262 no:: 812 pg no:: 28\n",
      "Sr.Supply Chain Analyst 263 no:: 812 pg no:: 28\n",
      "Sr. Business System Analyst - Blue Yonder Supply Planning 264 no:: 812 pg no:: 28\n",
      "Data Engineer / Data Analyst 265 no:: 812 pg no:: 28\n",
      "Research Analyst - Gas & LNG 266 no:: 812 pg no:: 28\n",
      "Cyber Security Analyst 267 no:: 812 pg no:: 28\n",
      "Business Systems Analyst - Salesforce CPQ 268 no:: 812 pg no:: 28\n",
      "- Lead Quality Analyst - Product Support 269 no:: 812 pg no:: 28\n",
      "HRIS Reporting Analyst 270 no:: 812 pg no:: 28\n",
      "Product Services Senior Analyst (EDU-RES) 271 no:: 812 pg no:: 28\n",
      "Database Administration Analyst 272 no:: 812 pg no:: 28\n",
      "Inventory Analyst 273 no:: 812 pg no:: 28\n",
      "JR0266750 (Worldpay) Compensation Consultant/Analyst 274 no:: 812 pg no:: 28\n",
      "Business Analyst 275 no:: 812 pg no:: 28\n",
      "Sr. Data Analyst 276 no:: 812 pg no:: 28\n",
      "Senior Analyst- Trading Compliance 277 no:: 812 pg no:: 28\n",
      "Senior Data Engineer - Power BI 278 no:: 812 pg no:: 28\n",
      "Presales Analyst 279 no:: 812 pg no:: 28\n",
      "Capacity Planning and WFM Analyst, Account Integrity 280 no:: 812 pg no:: 28\n",
      "Senior Associate Research Analyst (R-15616) 281 no:: 812 pg no:: 28\n",
      "Analyst - Investor reporting 282 no:: 812 pg no:: 28\n",
      "GFS-SAP HANA Developer-Senior Analyst 282 no:: 812 pg no:: 28\n",
      "Sr. Data Analyst 283 no:: 812 pg no:: 28\n",
      "Risk and Compliance Senior Analyst 284 no:: 812 pg no:: 28\n",
      "IT Business Analyst & SAP Specialist 284 no:: 812 pg no:: 28\n",
      "Senior Business Analyst SAP-Manufacturing (PP, MM) and BI 284 no:: 812 pg no:: 28\n",
      "Business Analyst 284 no:: 812 pg no:: 28\n",
      "Senior PeopleSoft HCM Analyst & Scrum Master 285 no:: 812 pg no:: 28\n",
      "Lead Data Science Consultant for Marketing Analytics 285 no:: 812 pg no:: 28\n",
      "Ecommerce Business Analyst 285 no:: 812 pg no:: 28\n",
      "Research Analyst 286 no:: 812 pg no:: 28\n",
      "Data Analyst / MIS Developer 287 no:: 812 pg no:: 28\n",
      "Digital Marketing Analyst 288 no:: 812 pg no:: 28\n",
      "E-commerce Business Analyst 289 no:: 812 pg no:: 28\n",
      "Business Analyst 290 no:: 812 pg no:: 28\n",
      "Senior Performance Marketing Analyst 291 no:: 812 pg no:: 28\n",
      "Senior BI Engineer 292 no:: 812 pg no:: 28\n",
      "Business Analyst 293 no:: 812 pg no:: 28\n",
      "LCMS Analyst 294 no:: 812 pg no:: 28\n",
      "RFP / Web Research Analyst (Freshers & Ahmedabad Only) 295 no:: 812 pg no:: 28\n",
      "Senior Analyst / MLE - ML Ops (GCP) 296 no:: 812 pg no:: 28\n",
      "BI Lead 297 no:: 812 pg no:: 28\n",
      "Accounts and Inventory Analyst 298 no:: 812 pg no:: 28\n",
      "MIS Analyst 299 no:: 812 pg no:: 28\n",
      "Principal Business Analyst – SAP SD/FI 300 no:: 812 pg no:: 28\n",
      "MIS & Data Analytics 301 no:: 812 pg no:: 28\n",
      "Data Analyst 301 no:: 812 pg no:: 28\n",
      "Associate, Data Management & Quantitative Analysis I 302 no:: 812 pg no:: 28\n",
      "Business Operations Analyst 303 no:: 812 pg no:: 28\n",
      "Total Rewards Data Analyst 304 no:: 812 pg no:: 28\n",
      "Data Analyst 304 no:: 812 pg no:: 28\n",
      "Associate Analyst, Client Analytics 305 no:: 812 pg no:: 28\n",
      "Organisation Analytics and Insights Analyst 306 no:: 812 pg no:: 28\n",
      "Partnership Impact Data and System Analyst 307 no:: 812 pg no:: 28\n",
      "Risk Analyst 307 no:: 812 pg no:: 28\n",
      "Security Analyst, Trust and Safety (English) 308 no:: 812 pg no:: 28\n",
      "Power BI Developer 308 no:: 812 pg no:: 28\n",
      "Sr. Data Analyst - Power BI 309 no:: 812 pg no:: 28\n",
      "MIS Data Analyst 310 no:: 812 pg no:: 28\n",
      "Data Analyst 311 no:: 812 pg no:: 28\n",
      "Market Data Analyst 312 no:: 812 pg no:: 28\n",
      "Data Analyst. PowerBI/PowerApp 313 no:: 812 pg no:: 28\n",
      "Business Analyst 313 no:: 812 pg no:: 28\n",
      "Configuration Management Database - Analyst 314 no:: 812 pg no:: 28\n",
      "Analyst - Business Consulting Risk - TMT - CNS - BC - Internal Audit - Hyderabad 315 no:: 812 pg no:: 28\n",
      "SalesForce Business Analyst 316 no:: 812 pg no:: 28\n",
      "International Market Insights & Capabilities - MM, ICON Analyst I (Forecasting Analyst) 317 no:: 812 pg no:: 28\n",
      "Lead Data Analyst 318 no:: 812 pg no:: 28\n",
      "Analyst - Business Consulting Risk - FS - CNS - BC - Internal Audit - Bangalore 319 no:: 812 pg no:: 28\n",
      "Business Operations Analyst 320 no:: 812 pg no:: 28\n",
      "Interest Rate Risk Reporting Analyst 321 no:: 812 pg no:: 28\n",
      "Analyst 322 no:: 812 pg no:: 28\n",
      "Quantitative Analyst, Bespoke & Expert Based Corporate Credit Risk 323 no:: 812 pg no:: 28\n",
      "Economics Analyst 324 no:: 812 pg no:: 28\n",
      "USTT D&A Analytics & Reporting - Senior Analyst 324 no:: 812 pg no:: 28\n",
      "Research Analyst 325 no:: 812 pg no:: 28\n",
      "Assistant Fleet Performance Analyst 326 no:: 812 pg no:: 28\n",
      "Advanced Business Analyst I 327 no:: 812 pg no:: 28\n",
      "IT Business Analyst II-Salesforce CRM 328 no:: 812 pg no:: 28\n",
      "Celonis Business Process Analyst 328 no:: 812 pg no:: 28\n",
      "Python Developer - Business Analyst - GR - BO-38357-60996 - JR95716 328 no:: 812 pg no:: 28\n",
      "Business Intelligence Expert 328 no:: 812 pg no:: 28\n",
      "Business Analyst II 329 no:: 812 pg no:: 28\n",
      "PowerBI Business and Operations Analyst 330 no:: 812 pg no:: 28\n",
      "Data Analyst Intern 331 no:: 812 pg no:: 28\n",
      "Business Analyst 332 no:: 812 pg no:: 28\n",
      "Industry 4.0 Senior Analyst 332 no:: 812 pg no:: 28\n",
      "Business Analyst III 333 no:: 812 pg no:: 28\n",
      "Product Analyst 334 no:: 812 pg no:: 28\n",
      "Data Analyst 335 no:: 812 pg no:: 28\n",
      "Analyst/Senior Analyst - CMG - GPS - Web Developer 336 no:: 812 pg no:: 28\n",
      "Senior Business Analyst with Automotive Domain 337 no:: 812 pg no:: 28\n",
      "Business Analyst – Database Management 338 no:: 812 pg no:: 28\n",
      "Senior Manager - Operations Data Analyst - Investment Management (Parametric) 339 no:: 812 pg no:: 28\n",
      "Analytics Engineer - Data Engineer 340 no:: 812 pg no:: 28\n",
      "Senior Analyst - BUSINESS INTELLIGENCE 341 no:: 812 pg no:: 28\n",
      "Business Analyst/PMO - Capital Markets 342 no:: 812 pg no:: 28\n",
      "Senior Knowledge Analyst - Insurance 343 no:: 812 pg no:: 28\n",
      "Business Analyst 343 no:: 812 pg no:: 28\n",
      "Data Analyst 344 no:: 812 pg no:: 28\n",
      "Business Analyst 345 no:: 812 pg no:: 28\n",
      "Market Insights Senior Analyst 346 no:: 812 pg no:: 28\n",
      "Data Analyst 347 no:: 812 pg no:: 28\n",
      "Major Markets - UK Business Analyst III (Forecasting Analyst III) 348 no:: 812 pg no:: 28\n",
      "Sr System Analyst 349 no:: 812 pg no:: 28\n",
      "Specialist Business Analyst 350 no:: 812 pg no:: 28\n",
      "Plant Cost Analyst (Costing or FP&A experience mandatory) 350 no:: 812 pg no:: 28\n",
      "Business Analyst - SE/ SSE 351 no:: 812 pg no:: 28\n",
      "Sr. Analyst- Support Inventory and Planning 352 no:: 812 pg no:: 28\n",
      "Senior Solution Delivery Analyst 352 no:: 812 pg no:: 28\n",
      "Product Analyst Senior 353 no:: 812 pg no:: 28\n",
      "Senior Analyst-Pricing 354 no:: 812 pg no:: 28\n",
      "Business Analyst - SE/ SSE 355 no:: 812 pg no:: 28\n",
      "Senior Analyst-L&D-Consulting-Finance Program management-HYD/BLR 356 no:: 812 pg no:: 28\n",
      "Business Analyst : Actuarial 356 no:: 812 pg no:: 28\n",
      "Data Analyst 357 no:: 812 pg no:: 28\n",
      "Analyst-Reporting 358 no:: 812 pg no:: 28\n",
      "Quality Engineering Analyst 358 no:: 812 pg no:: 28\n",
      "Data Analyst-Pharmaceutical industry 358 no:: 812 pg no:: 28\n",
      "Intern Analyst 359 no:: 812 pg no:: 28\n",
      "Senior Manager, Analytics Data Platforms 360 no:: 812 pg no:: 28\n",
      "Senior Data Analyst 361 no:: 812 pg no:: 28\n",
      "Sr System Analyst 362 no:: 812 pg no:: 28\n",
      "Business Intelligence Intern 363 no:: 812 pg no:: 28\n",
      "Major Markets - SP/PT Business Analyst II 363 no:: 812 pg no:: 28\n",
      "Senior Business Analyst 364 no:: 812 pg no:: 28\n",
      "Product Technical Analyst 364 no:: 812 pg no:: 28\n",
      "Senior Analytics Engineer - Data Engineer 365 no:: 812 pg no:: 28\n",
      "Data Analyst 366 no:: 812 pg no:: 28\n",
      "Senior Financial Analyst, Controllership 367 no:: 812 pg no:: 28\n",
      "IT Analyst III - SAP Finance & Controlling 368 no:: 812 pg no:: 28\n",
      "AS&T Analyst B7 II - IND 369 no:: 812 pg no:: 28\n",
      "Analyst - Digital Marketing 370 no:: 812 pg no:: 28\n",
      "Business Development Analyst 371 no:: 812 pg no:: 28\n",
      "Equity Research Analyst 372 no:: 812 pg no:: 28\n",
      "Oracle Fusion BI Specialist 373 no:: 812 pg no:: 28\n",
      "Senior Financial Analyst 373 no:: 812 pg no:: 28\n",
      "Sr. Analyst, IS Enterprise Architecture 374 no:: 812 pg no:: 28\n",
      "Faculty - Data Analytics 374 no:: 812 pg no:: 28\n",
      "Senior Technical Business Analyst 375 no:: 812 pg no:: 28\n",
      "Quality Analyst Sales 376 no:: 812 pg no:: 28\n",
      "Finance and Marketing Analyst 377 no:: 812 pg no:: 28\n",
      "Financial Reporting Analyst 377 no:: 812 pg no:: 28\n",
      "MIS Analyst 378 no:: 812 pg no:: 28\n",
      "Marketing Analyst 379 no:: 812 pg no:: 28\n",
      "Senior Analyst - Product Marketing 380 no:: 812 pg no:: 28\n",
      "Sr Business Analyst 381 no:: 812 pg no:: 28\n",
      "Business Analyst 381 no:: 812 pg no:: 28\n",
      "Business Analyst Teacher 382 no:: 812 pg no:: 28\n",
      "BI-Visiting Faculty 382 no:: 812 pg no:: 28\n",
      "Market Research Analyst(1-2 yrs) 383 no:: 812 pg no:: 28\n",
      "Lead Business Analyst 384 no:: 812 pg no:: 28\n",
      "Digital Trust IT Audit Analyst 384 no:: 812 pg no:: 28\n",
      "Business Intelligence Developer (BI Developer) 385 no:: 812 pg no:: 28\n",
      "Principal Business Analyst – SAP PP/PLM 386 no:: 812 pg no:: 28\n",
      "Data Analyst 387 no:: 812 pg no:: 28\n",
      "Data and Analytics Managing Consultant 388 no:: 812 pg no:: 28\n",
      "Power BI Analyst 389 no:: 812 pg no:: 28\n",
      "Data and Analytics Managing Consultant 390 no:: 812 pg no:: 28\n",
      "Data Analyst 391 no:: 812 pg no:: 28\n",
      "Business Analyst, Finance, Fulfilment & Operation, Finance 391 no:: 812 pg no:: 28\n",
      "SUPPLY CHAIN ANALYST I SUPPLY 392 no:: 812 pg no:: 28\n",
      "Research Analyst 392 no:: 812 pg no:: 28\n",
      "HR Data Analyst 393 no:: 812 pg no:: 28\n",
      "IT Service Delivery Analyst 394 no:: 812 pg no:: 28\n",
      "SA-Data Quality Analyst. 395 no:: 812 pg no:: 28\n",
      "Senior Data Operations Analyst 396 no:: 812 pg no:: 28\n",
      "Data Quality Analyst 397 no:: 812 pg no:: 28\n",
      "Risk Analyst 398 no:: 812 pg no:: 28\n",
      "Senior Analyst - Business Intelligence 399 no:: 812 pg no:: 28\n",
      "Risk Compliance and Governance Analyst 400 no:: 812 pg no:: 28\n",
      "Global Rewards Operations Analyst 401 no:: 812 pg no:: 28\n",
      "Senior Analyst - GTM Operations 402 no:: 812 pg no:: 28\n",
      "Trainee in Business Intelligence 403 no:: 812 pg no:: 28\n",
      "Staff Analyst - SAP MM, Logistics & GTS 404 no:: 812 pg no:: 28\n",
      "Senior Data Analyst 405 no:: 812 pg no:: 28\n",
      "Manager, Business Analyst - Data 406 no:: 812 pg no:: 28\n",
      "Business Analyst - NLP Data Scientist 407 no:: 812 pg no:: 28\n",
      "Data Analyst 408 no:: 812 pg no:: 28\n",
      "GBS Data Operations - CAD, Engineering Isometric Data Analyst 409 no:: 812 pg no:: 28\n",
      "Senior Risk & Control Assurance Analyst 410 no:: 812 pg no:: 28\n",
      "Research Analyst (Marketing) 411 no:: 812 pg no:: 28\n",
      "Analyst- Treasury 412 no:: 812 pg no:: 28\n",
      "ServiceNow Senior Business Analyst 412 no:: 812 pg no:: 28\n",
      "Business Analyst - Enterprise Risk 413 no:: 812 pg no:: 28\n",
      "GBS Data Operations - CAD, Engineering Isometric Data Senior Analyst 414 no:: 812 pg no:: 28\n",
      "Senior Business Analyst 414 no:: 812 pg no:: 28\n",
      "Senior Product Analyst 415 no:: 812 pg no:: 28\n",
      "Senior Financial Analyst, AMZL Finance 416 no:: 812 pg no:: 28\n",
      "IT Systems Analyst - SAP Group Reporting and Consolidations 417 no:: 812 pg no:: 28\n",
      "Senior Governance, Risk & Compliance Firewall Analyst 417 no:: 812 pg no:: 28\n",
      "IT Analyst II - SAP Sales & Distribution 417 no:: 812 pg no:: 28\n",
      "IT Application Analyst - CB2 - M 418 no:: 812 pg no:: 28\n",
      "Market Analyst 419 no:: 812 pg no:: 28\n",
      "Workday Senior Analyst, Security & Cross App Technology 420 no:: 812 pg no:: 28\n",
      "IT Business Systems Senior Analyst - CB3 - NM 421 no:: 812 pg no:: 28\n",
      "Senior Database Analyst-PRIME 422 no:: 812 pg no:: 28\n",
      "Business Analyst Internship 423 no:: 812 pg no:: 28\n",
      "QUANTITATIVE RESEARCHER - STATA/R 424 no:: 812 pg no:: 28\n",
      "Banking Operations Senior Analyst - Transaction risk management 425 no:: 812 pg no:: 28\n",
      "Bi-Lingual Project Manager 425 no:: 812 pg no:: 28\n",
      "Digital Marketing Analyst 426 no:: 812 pg no:: 28\n",
      "SEO Analyst 427 no:: 812 pg no:: 28\n",
      "Brand Analyst 428 no:: 812 pg no:: 28\n",
      "Digital Marketing Analyst 429 no:: 812 pg no:: 28\n",
      "SEO Analyst 430 no:: 812 pg no:: 28\n",
      "Data Analytics Trainer 431 no:: 812 pg no:: 28\n",
      "Adobe Analytics - Lead Analyst - Media Analytics_US Timezone 432 no:: 812 pg no:: 28\n",
      "Digital Trust S&G-Data Privacy and Ethics Analyst 433 no:: 812 pg no:: 28\n",
      "Senior Analyst - CMG - Demand Gen - Data Analysis 434 no:: 812 pg no:: 28\n",
      "Data Analyst 2 435 no:: 812 pg no:: 28\n",
      "Reference Data Analyst - Team Leader 436 no:: 812 pg no:: 28\n",
      "Data Analytics Digital- Sr Associate 437 no:: 812 pg no:: 28\n",
      "Operations Reporting Analyst - Mumbai 437 no:: 812 pg no:: 28\n",
      "Data Analyst Intern 438 no:: 812 pg no:: 28\n",
      "Sr. BI Analyst (Salesforce CRM- Analytics) 439 no:: 812 pg no:: 28\n",
      "Finance Risk and Controls Analyst- B3.1, GSC’s 440 no:: 812 pg no:: 28\n",
      "Quantitative Research – Wholesale Credit Risk – Documentation Specialist/Technical Writer – Analyst 440 no:: 812 pg no:: 28\n",
      "Data and Analytics - Associate 440 no:: 812 pg no:: 28\n",
      "Business Analyst - Global Markets 440 no:: 812 pg no:: 28\n",
      "Spec Analytics Analyst - C10 – Digital Analytics - C10 441 no:: 812 pg no:: 28\n",
      "Business Analyst / Product Owner Team Member 441 no:: 812 pg no:: 28\n",
      "Clinical Data Svs Analyst 441 no:: 812 pg no:: 28\n",
      "Service Management Analyst - Reporting 441 no:: 812 pg no:: 28\n",
      "Customer Service Analyst 441 no:: 812 pg no:: 28\n",
      "Risk Engineering Analyst-Insurance 441 no:: 812 pg no:: 28\n",
      "Analytics Senior Analyst - Insights and Intelligence 441 no:: 812 pg no:: 28\n",
      "Clinical Data Svs Sr Analyst 441 no:: 812 pg no:: 28\n",
      "Analytics Specialist - Data Management 441 no:: 812 pg no:: 28\n",
      "Analytics Senior Analyst - Data Management 441 no:: 812 pg no:: 28\n",
      "Senior Data Analyst 441 no:: 812 pg no:: 28\n",
      "Engineering Services Analyst - Supply chain product operations 442 no:: 812 pg no:: 28\n",
      "Marketing Analyst - Digital Marketing 442 no:: 812 pg no:: 28\n",
      "Quality Auditing Analyst - Content Management 442 no:: 812 pg no:: 28\n",
      "Content Mgmt Advisory Analyst - Content Management 442 no:: 812 pg no:: 28\n",
      "Data Science Analytics Specialist - Human Resources Shared Services (HRSS) 442 no:: 812 pg no:: 28\n",
      "Research Analyst 442 no:: 812 pg no:: 28\n",
      "Program & Project Mgmt Analyst-Digital Marketing 443 no:: 812 pg no:: 28\n",
      "Senior Data Analyst 443 no:: 812 pg no:: 28\n",
      "Tax data analyst, Global Tax Services 444 no:: 812 pg no:: 28\n",
      "Trust & Safety Senior Analyst - Content Management 445 no:: 812 pg no:: 28\n",
      "Business Analyst - Senior 445 no:: 812 pg no:: 28\n",
      "Business Analyst 446 no:: 812 pg no:: 28\n",
      "Marketing Platform Auto Analyst - Digital Marketing and Campaigns 447 no:: 812 pg no:: 28\n",
      "Func & Ind Intelligence Analyst - Supply chain engineering service 447 no:: 812 pg no:: 28\n",
      "Claims Management Analyst - Supply chain planning 447 no:: 812 pg no:: 28\n",
      "Banking Operations Analyst - Transaction risk management 447 no:: 812 pg no:: 28\n",
      "Finance Business Management Analyst - Order to Cash Processing 447 no:: 812 pg no:: 28\n",
      "Trust & Safety Senior Analyst (Team Lead) 447 no:: 812 pg no:: 28\n",
      "Trust & Safety Senior Analyst - Capability Development 447 no:: 812 pg no:: 28\n",
      "Revenue Cycle Authorization Analyst 447 no:: 812 pg no:: 28\n",
      "Service Management Senior Analyst - Governance 448 no:: 812 pg no:: 28\n",
      "Campaign Quality Analyst 448 no:: 812 pg no:: 28\n",
      "Finance Business Management Sr Analyst-Record To Report 449 no:: 812 pg no:: 28\n",
      "Business Analyst 449 no:: 812 pg no:: 28\n",
      "Finance Process & Ops Analyst - Telecom Operations 449 no:: 812 pg no:: 28\n",
      "Manuf & Supp Chain System Sr Analyst - Supply chain engineering service 449 no:: 812 pg no:: 28\n",
      "Campaign Management Sr Analyst-Digital Marketing and Campaigns 449 no:: 812 pg no:: 28\n",
      "Business Operations Analyst 449 no:: 812 pg no:: 28\n",
      "Sr. Data analytics and AI expert 450 no:: 812 pg no:: 28\n",
      "Talent Planning & Ops Senior Analyst 451 no:: 812 pg no:: 28\n",
      "Instructor Senior Analyst - Capability Development 451 no:: 812 pg no:: 28\n",
      "Bus Process Delivery Senior Analyst - Campaign Management 451 no:: 812 pg no:: 28\n",
      "Web Developer Analyst - Digital Marketing 451 no:: 812 pg no:: 28\n",
      "Service Delivery Ops Senior Analyst - Content Management 451 no:: 812 pg no:: 28\n",
      "Campaign Management Analyst - Digital Marketing and Campaigns 451 no:: 812 pg no:: 28\n",
      "Finance Business Management Analyst - Record To Report 451 no:: 812 pg no:: 28\n",
      "Marketing Platform Auto Senior Analyst - Digital Marketing and Campaigns 451 no:: 812 pg no:: 28\n",
      "Junior Data Analyst 451 no:: 812 pg no:: 28\n",
      "Healthcare Data Analyst 452 no:: 812 pg no:: 28\n",
      "Global Learning Administration Services-Learning Admin-Analyst-Hyderabad 453 no:: 812 pg no:: 28\n",
      "Data Analyst 454 no:: 812 pg no:: 28\n",
      "Data Analyst 455 no:: 812 pg no:: 28\n",
      "Data Analyst 455 no:: 812 pg no:: 28\n",
      "Data Analyst, AVP 456 no:: 812 pg no:: 28\n",
      "Analyst-Data Science 457 no:: 812 pg no:: 28\n",
      "Client Reporting Analyst 458 no:: 812 pg no:: 28\n",
      "Associate Analyst/Analyst - Quantitative Analysis 459 no:: 812 pg no:: 28\n",
      "Data Analyst 460 no:: 812 pg no:: 28\n",
      "Healthcare Business analyst 461 no:: 812 pg no:: 28\n",
      "Data Analyst 462 no:: 812 pg no:: 28\n",
      "Associate Data Analyst 463 no:: 812 pg no:: 28\n",
      "Powertrain NVH Analyst 464 no:: 812 pg no:: 28\n",
      "Business Intelligence Reporting Analyst I 464 no:: 812 pg no:: 28\n",
      "Senior Data Analyst 464 no:: 812 pg no:: 28\n",
      "Data Analyst 465 no:: 812 pg no:: 28\n",
      "Reporting & Metrics Data Analyst 466 no:: 812 pg no:: 28\n",
      "Digital Trust DRSG-S&G-Data Privacy and Ethics Analyst 467 no:: 812 pg no:: 28\n",
      "Market and Competitor Analyst 468 no:: 812 pg no:: 28\n",
      "Data Lineage Analyst 468 no:: 812 pg no:: 28\n",
      "Data & Reporting Analyst II 469 no:: 812 pg no:: 28\n",
      "Data Analytics 470 no:: 812 pg no:: 28\n",
      "Data Analyst 471 no:: 812 pg no:: 28\n",
      "Data Analyst 472 no:: 812 pg no:: 28\n",
      "FHIR Data Analyst 473 no:: 812 pg no:: 28\n",
      "Research Analyst - Quantitative and Derivatives 474 no:: 812 pg no:: 28\n",
      "Data Governance Analyst 474 no:: 812 pg no:: 28\n",
      "Senior Data Analyst I 474 no:: 812 pg no:: 28\n",
      "Technology Analyst (Database Administrators) 475 no:: 812 pg no:: 28\n",
      "Data Management Analyst - Night Shift 475 no:: 812 pg no:: 28\n",
      "Reference Data Analyst 476 no:: 812 pg no:: 28\n",
      "Financial Systems Analyst I 477 no:: 812 pg no:: 28\n",
      "Associate – Data Management and Analysis 478 no:: 812 pg no:: 28\n",
      "Operations Analyst 479 no:: 812 pg no:: 28\n",
      "Associate Analyst 479 no:: 812 pg no:: 28\n",
      "Data Analyst 480 no:: 812 pg no:: 28\n",
      "Data Analyst 480 no:: 812 pg no:: 28\n",
      "Data Analyst with Marketing Analytics 481 no:: 812 pg no:: 28\n",
      "Jr. Data & Analytics Engineer 481 no:: 812 pg no:: 28\n",
      "Product Management Internship: Data Analysis 481 no:: 812 pg no:: 28\n",
      "Data Analyst 481 no:: 812 pg no:: 28\n",
      "Busines Analyst, Data Operations 482 no:: 812 pg no:: 28\n",
      "Survey Operations Analyst 483 no:: 812 pg no:: 28\n",
      "Analyst, Data Science (R-15410) 484 no:: 812 pg no:: 28\n",
      "Market Risk Analyst 485 no:: 812 pg no:: 28\n",
      "Senior Analyst - Privacy & Data Protection 486 no:: 812 pg no:: 28\n",
      "Looker Developer - Data Analyst 487 no:: 812 pg no:: 28\n",
      "Revenue Analyst 1-Fin 488 no:: 812 pg no:: 28\n",
      "Associate, Junior Central Testing Analyst 489 no:: 812 pg no:: 28\n",
      "SQL Analyst 490 no:: 812 pg no:: 28\n",
      "Data Analyst 491 no:: 812 pg no:: 28\n",
      "Senior Data Analyst I 492 no:: 812 pg no:: 28\n",
      "Data Analyst - Intern 493 no:: 812 pg no:: 28\n",
      "Business Analyst, Fresh 493 no:: 812 pg no:: 28\n",
      "Quality Analyst 494 no:: 812 pg no:: 28\n",
      "Data Analytics - TrackWise/Veeva/Palantir Foundry 495 no:: 812 pg no:: 28\n",
      "Data Analyst 496 no:: 812 pg no:: 28\n",
      "Associate Analyst - Tax - TMT - TAX - GCR - Global Compliance & Reporting - Bangalore 496 no:: 812 pg no:: 28\n",
      "Data Analyst 497 no:: 812 pg no:: 28\n",
      "Data Quality Assurance Analyst 498 no:: 812 pg no:: 28\n",
      "Business Analyst 499 no:: 812 pg no:: 28\n",
      "Data Analyst 500 no:: 812 pg no:: 28\n",
      "Inventory Manager- Data Analyst 501 no:: 812 pg no:: 28\n",
      "Power Development Analyst (Business Analyst) 502 no:: 812 pg no:: 28\n",
      "Business Analyst (Pune + 183634) 503 no:: 812 pg no:: 28\n",
      "Accounting & Reporting Analyst - Accounts Payable 504 no:: 812 pg no:: 28\n",
      "Business Analyst - Integration 505 no:: 812 pg no:: 28\n",
      "Accounting & Reporting Analyst-Receivable 505 no:: 812 pg no:: 28\n",
      "Asset Management - Quant Analyst EMAP Equities - Associate 506 no:: 812 pg no:: 28\n",
      "Marketing Analyst (JL4) 507 no:: 812 pg no:: 28\n",
      "Lead Associate (Data Analysis) 508 no:: 812 pg no:: 28\n",
      "Lead Associate (Data Analysis) 509 no:: 812 pg no:: 28\n",
      "Data Analyst 510 no:: 812 pg no:: 28\n",
      "Data and Reporting Analyst I 511 no:: 812 pg no:: 28\n",
      "Practice Area Analyst 512 no:: 812 pg no:: 28\n",
      "Lead Data Analyst (Advanced SQL Experience) 512 no:: 812 pg no:: 28\n",
      "Power BI Developer 513 no:: 812 pg no:: 28\n",
      "Junior Data Analyst 514 no:: 812 pg no:: 28\n",
      "Analyst – Snowflake Data Engineer 515 no:: 812 pg no:: 28\n",
      "Business Intelligence Specialist IV 516 no:: 812 pg no:: 28\n",
      "Mis Analyst/Power BI 516 no:: 812 pg no:: 28\n",
      "Data & Reporting Analyst II 517 no:: 812 pg no:: 28\n",
      "Marketing Analyst 518 no:: 812 pg no:: 28\n",
      "Payment Processing Analyst 519 no:: 812 pg no:: 28\n",
      "Client Data Management and Data Quality Remediation - Operations Analyst 520 no:: 812 pg no:: 28\n",
      "Reference Data Management Ops - Market Data - Analyst 520 no:: 812 pg no:: 28\n",
      "Modelling Analyst - MM 520 no:: 812 pg no:: 28\n",
      "Product Analyst 521 no:: 812 pg no:: 28\n",
      "Data Analytics SME 522 no:: 812 pg no:: 28\n",
      "Data Analyst - HCPL3303 523 no:: 812 pg no:: 28\n",
      "Senior Data Analyst 523 no:: 812 pg no:: 28\n",
      "Digital Marketing Data Analyst 524 no:: 812 pg no:: 28\n",
      "Business Analyst 524 no:: 812 pg no:: 28\n",
      "Principal Data Analyst 525 no:: 812 pg no:: 28\n",
      "1700_ Data and Market Research Analyst 525 no:: 812 pg no:: 28\n",
      "Consulting: BO: Cloud Engineering: Senior Consultant: Data Analyst 526 no:: 812 pg no:: 28\n",
      "Research Analyst I 526 no:: 812 pg no:: 28\n",
      "Business Analyst - Product/Solutions 526 no:: 812 pg no:: 28\n",
      "Senior Product Analyst- Product Analytics || Gurgaon 526 no:: 812 pg no:: 28\n",
      "AI Research Analyst 527 no:: 812 pg no:: 28\n",
      "Data Analyst 528 no:: 812 pg no:: 28\n",
      "Senior Associate - Business Analyst 529 no:: 812 pg no:: 28\n",
      "Analyst Operational Insights 529 no:: 812 pg no:: 28\n",
      "Financial Data Analyst - Mumbai - C11 (R23071419) 530 no:: 812 pg no:: 28\n",
      "Sr. Data Analyst, Marketing Planning & Analytics 531 no:: 812 pg no:: 28\n",
      "Data Quality Analyst 531 no:: 812 pg no:: 28\n",
      "Senior Financial Data Analyst 532 no:: 812 pg no:: 28\n",
      "Assistant Manager_Senior Engineer_Data Analyst-DAIS_PUNE 533 no:: 812 pg no:: 28\n",
      "Business Analyst 534 no:: 812 pg no:: 28\n",
      "Lead Data Analyst 534 no:: 812 pg no:: 28\n",
      "Operations Excellence Reporting Analyst 535 no:: 812 pg no:: 28\n",
      "Business Analyst - Product 536 no:: 812 pg no:: 28\n",
      "SEO Analyst - Digital Marketing 536 no:: 812 pg no:: 28\n",
      "Ops BPR India - Insight Technical Analyst 537 no:: 812 pg no:: 28\n",
      "Product Delivery Analyst 537 no:: 812 pg no:: 28\n",
      "Reference Data Analyst 538 no:: 812 pg no:: 28\n",
      "Data Analyst Trainer 539 no:: 812 pg no:: 28\n",
      "Data Analyst ( SQL, Google Cloud Platform, ETL 5-10 Years) 540 no:: 812 pg no:: 28\n",
      "Data Analyst- Asset Liability Management- Manager 541 no:: 812 pg no:: 28\n",
      "Business Data Analyst 542 no:: 812 pg no:: 28\n",
      "HR Risk & Control Analyst 543 no:: 812 pg no:: 28\n",
      "Sr Data Analyst 544 no:: 812 pg no:: 28\n",
      "Privacy Data Analyst 545 no:: 812 pg no:: 28\n",
      "Trade Compliance Analyst I 546 no:: 812 pg no:: 28\n",
      "Senior Analyst - Business Analyst 547 no:: 812 pg no:: 28\n",
      "Business Systems Analyst 548 no:: 812 pg no:: 28\n",
      "Asset Management - Client Reporting - Analyst 549 no:: 812 pg no:: 28\n",
      "KYC Analyst 549 no:: 812 pg no:: 28\n",
      "Urgent Hiring Data Analyst For Gurgaon 550 no:: 812 pg no:: 28\n",
      "Reference Data Management Operations - Analyst 551 no:: 812 pg no:: 28\n",
      "Business Analyst - PS US 551 no:: 812 pg no:: 28\n",
      "Consultant - Data Analytics 552 no:: 812 pg no:: 28\n",
      "We are Looking for - Power-BI Developers 553 no:: 812 pg no:: 28\n",
      "Business and Data Analyst, Manager 554 no:: 812 pg no:: 28\n",
      "Incentive Compensation Data Analyst I On-site, Bangalore 555 no:: 812 pg no:: 28\n",
      "1700_Clinical Statistical Analyst 555 no:: 812 pg no:: 28\n",
      "Lead Data Analyst 556 no:: 812 pg no:: 28\n",
      "Supply Chain Operations Analyst 557 no:: 812 pg no:: 28\n",
      "Industry X - Aero Engineering - Data Analyst - 11 557 no:: 812 pg no:: 28\n",
      "External Regulatory Reporting - Analyst 557 no:: 812 pg no:: 28\n",
      "Data Analytics Intern 557 no:: 812 pg no:: 28\n",
      "Business Systems Analyst 558 no:: 812 pg no:: 28\n",
      "Data Analyst with Marketing Analytics 559 no:: 812 pg no:: 28\n",
      "Business Data Analyst with Marketing Analytics 559 no:: 812 pg no:: 28\n",
      "Data Operation Analyst 559 no:: 812 pg no:: 28\n",
      "Senior Data Analyst 560 no:: 812 pg no:: 28\n",
      "Senior Data Scientist, Analytics 561 no:: 812 pg no:: 28\n",
      "Business Analyst 561 no:: 812 pg no:: 28\n",
      "Quantitative Analytics Associate Manager 562 no:: 812 pg no:: 28\n",
      "Business Analyst 562 no:: 812 pg no:: 28\n",
      "Senior Associate, Business Intelligence & Data Management 563 no:: 812 pg no:: 28\n",
      "Data Analyst || Delhi 564 no:: 812 pg no:: 28\n",
      "Data Analyst 565 no:: 812 pg no:: 28\n",
      "Senior Data Analyst 566 no:: 812 pg no:: 28\n",
      "Power BI Developer 566 no:: 812 pg no:: 28\n",
      "Data Scientist /Quantitative Equity Researcher 566 no:: 812 pg no:: 28\n",
      "Financial Analyst 567 no:: 812 pg no:: 28\n",
      "Senior Data Analyst 568 no:: 812 pg no:: 28\n",
      "Data Quality Analyst 569 no:: 812 pg no:: 28\n",
      "Assistant Manager - Data Visualization with Insight Generation 570 no:: 812 pg no:: 28\n",
      "Business Analyst with SQL and Data Management - Assistant Manger 571 no:: 812 pg no:: 28\n",
      "Analyst - Global Compliance Engagement Testing 572 no:: 812 pg no:: 28\n",
      "Data Analyst 573 no:: 812 pg no:: 28\n",
      "R&D Engineer- Embedded data analytics 574 no:: 812 pg no:: 28\n",
      "Senior Data Analyst - India 575 no:: 812 pg no:: 28\n",
      "Business Intelligence Advisor 575 no:: 812 pg no:: 28\n",
      "Digital Engine Services ProActive Analyst 576 no:: 812 pg no:: 28\n",
      "Business Analyst - Xceptor 576 no:: 812 pg no:: 28\n",
      "Business Integration Analyst 577 no:: 812 pg no:: 28\n",
      "Analyst - Third Party Risk Management 578 no:: 812 pg no:: 28\n",
      "Business Analyst 579 no:: 812 pg no:: 28\n",
      "Business Analytics Int Analyst - C11 579 no:: 812 pg no:: 28\n",
      "Data Analyst 580 no:: 812 pg no:: 28\n",
      "Senior Business Analyst 581 no:: 812 pg no:: 28\n",
      "SaaS Business Systems Analyst II 581 no:: 812 pg no:: 28\n",
      "Senior Data Management Analyst 582 no:: 812 pg no:: 28\n",
      "Product Analyst 582 no:: 812 pg no:: 28\n",
      "Consulting-ETP-Oracle-Business Analyst-Consultant 583 no:: 812 pg no:: 28\n",
      "Product Analyst 584 no:: 812 pg no:: 28\n",
      "Senior Data Analyst 585 no:: 812 pg no:: 28\n",
      "Data Analytics Manager 586 no:: 812 pg no:: 28\n",
      "Customer Support Analyst 586 no:: 812 pg no:: 28\n",
      "Product Analyst - AVOD, Digital Business 586 no:: 812 pg no:: 28\n",
      "Healthcare Data Analyst (Pharm-D) 587 no:: 812 pg no:: 28\n",
      "Sr. Technical Data Analyst - Clinical Data 588 no:: 812 pg no:: 28\n",
      "Power BI Developer @ Pune 589 no:: 812 pg no:: 28\n",
      "Senior Analyst - Python 590 no:: 812 pg no:: 28\n",
      "Finance Analyst 591 no:: 812 pg no:: 28\n",
      "Senior Consultant - Data & Analytics 592 no:: 812 pg no:: 28\n",
      "Data Analyst- Product based companies only 592 no:: 812 pg no:: 28\n",
      "Funds Credit Risk Analyst 592 no:: 812 pg no:: 28\n",
      "Tax Analyst 592 no:: 812 pg no:: 28\n",
      "Business Analyst - Adobe Experience Manager (AEM) 593 no:: 812 pg no:: 28\n",
      "Consultant – Senior Data Analyst 594 no:: 812 pg no:: 28\n",
      "DGM- Senior RM Data Analyst Lead 594 no:: 812 pg no:: 28\n",
      "Analyst - Salesforce 594 no:: 812 pg no:: 28\n",
      "Third Party Risk Analyst 595 no:: 812 pg no:: 28\n",
      "Guidewire - Business Analyst Rating / DATA 596 no:: 812 pg no:: 28\n",
      "Process Improvement Analyst 597 no:: 812 pg no:: 28\n",
      "Techno Functional Analyst - TA29.1 598 no:: 812 pg no:: 28\n",
      "Financial Data Analyst 599 no:: 812 pg no:: 28\n",
      "BI&A Senior Analyst 600 no:: 812 pg no:: 28\n",
      "Data Analyst with Marketing Analytics 600 no:: 812 pg no:: 28\n",
      "Issue Remediation Data Analyst - C11 600 no:: 812 pg no:: 28\n",
      "Analyst - Business Consulting Risk - AMI - CNS - BC - Internal Audit - Mumbai 601 no:: 812 pg no:: 28\n",
      "Sr Associate Analyst- VAT 602 no:: 812 pg no:: 28\n",
      "HR Business Analyst 603 no:: 812 pg no:: 28\n",
      "Jr. Research Analyst (WFH/Remote) 604 no:: 812 pg no:: 28\n",
      "Research Analyst, Market Operations Support 605 no:: 812 pg no:: 28\n",
      "Analyst - Market Research 606 no:: 812 pg no:: 28\n",
      "Business Analyst - Servicenow (Location : Mumbai) 606 no:: 812 pg no:: 28\n",
      "Business Analysis / Data Analysis-Hyderabad- 5 to 8 years 606 no:: 812 pg no:: 28\n",
      "EA_TSD-Power & Utilities Sector_Operational Technology Data Analyst_Senior 607 no:: 812 pg no:: 28\n",
      "Business Analyst - Cat Modelling - P&S 608 no:: 812 pg no:: 28\n",
      "IT Risk Analyst 608 no:: 812 pg no:: 28\n",
      "Senior Business Analyst – DGRSE Programme Management 609 no:: 812 pg no:: 28\n",
      "Data Analytics-Health SBU 610 no:: 812 pg no:: 28\n",
      "IT Project Analyst - C11 - CTS Chennai 611 no:: 812 pg no:: 28\n",
      "Data Research Analyst- EST Shift 612 no:: 812 pg no:: 28\n",
      "Global Quality Data Management Analyst 613 no:: 812 pg no:: 28\n",
      "Data Quality Analyst 614 no:: 812 pg no:: 28\n",
      "Senio Manager, Data and Analytics 615 no:: 812 pg no:: 28\n",
      "Product Analyst 616 no:: 812 pg no:: 28\n",
      "Product Control GTSM Support Analyst 617 no:: 812 pg no:: 28\n",
      "Logistics Financial Analyst 618 no:: 812 pg no:: 28\n",
      "Principal Analyst Supply Chain (Supply Planning) 619 no:: 812 pg no:: 28\n",
      "Managed Services Finance Managed Services Analyst 620 no:: 812 pg no:: 28\n",
      "Analyst , Third Party Risk Management (TPRM) 621 no:: 812 pg no:: 28\n",
      "Credit Middle Office - Data Analytics - Team Leader 622 no:: 812 pg no:: 28\n",
      "Reporting Analyst 622 no:: 812 pg no:: 28\n",
      "Power BI Developer 623 no:: 812 pg no:: 28\n",
      "External Reporting Quality Assurance - Analyst 624 no:: 812 pg no:: 28\n",
      "SC Master Data Analyst - Gurgaon 624 no:: 812 pg no:: 28\n",
      "Lead Analyst - Generic/Healthcare Research 624 no:: 812 pg no:: 28\n",
      "Lead Business Analyst - DB Projects 625 no:: 812 pg no:: 28\n",
      "Product Manager - OSING and Data Analytics / Visualization 626 no:: 812 pg no:: 28\n",
      "Global Finance Change Business Analyst, GSC's 626 no:: 812 pg no:: 28\n",
      "Consulting - BO - Cloud Engineering - Power BI Senior Consultant 626 no:: 812 pg no:: 28\n",
      "Senior Research Analyst, Neuroscience 627 no:: 812 pg no:: 28\n",
      "Financial Analyst, FinOps FP&A 628 no:: 812 pg no:: 28\n",
      "Technical Support Analyst (Supply Chain) 629 no:: 812 pg no:: 28\n",
      "Senior Research Analyst - BASES 630 no:: 812 pg no:: 28\n",
      "Manager - Business Intelligence & Reporting 630 no:: 812 pg no:: 28\n",
      "Business Analyst 631 no:: 812 pg no:: 28\n",
      "Analyst-Risk & Info Management 632 no:: 812 pg no:: 28\n",
      "Business Analyst- Automation dept. 633 no:: 812 pg no:: 28\n",
      "Senior Analyst - Energy/Financial Research 634 no:: 812 pg no:: 28\n",
      "Intercon Markets - CEETII Business Analyst III 635 no:: 812 pg no:: 28\n",
      "Lead Consultant, Technical Business Analyst 636 no:: 812 pg no:: 28\n",
      "Associate System Analyst - GOC - Assistant Manager 637 no:: 812 pg no:: 28\n",
      "Carbon Markets Data Analyst 638 no:: 812 pg no:: 28\n",
      "Vertical Head ? Data Analytics Health SBU 639 no:: 812 pg no:: 28\n",
      "AES - Guidewire Senior Business Analyst - BillingCenter - Senior Associate 639 no:: 812 pg no:: 28\n",
      "Data Analytics - Sr Manager 640 no:: 812 pg no:: 28\n",
      "Analyst D&A - Service Management 641 no:: 812 pg no:: 28\n",
      "Business System Analyst 642 no:: 812 pg no:: 28\n",
      "Jr. IT Asset Management Analyst 643 no:: 812 pg no:: 28\n",
      "Business Systems Analyst, Enterprise Resource Planning, Supply Chain 644 no:: 812 pg no:: 28\n",
      "Senior Project Analyst 644 no:: 812 pg no:: 28\n",
      "Consulting: BO: Cloud Engineering: Consultant: Data Analyst 644 no:: 812 pg no:: 28\n",
      "Data Analyst 644 no:: 812 pg no:: 28\n",
      "Senior Analyst - Generic Research 645 no:: 812 pg no:: 28\n",
      "Senior Business Analyst 646 no:: 812 pg no:: 28\n",
      "Data Analyst 647 no:: 812 pg no:: 28\n",
      "Business Systems Analyst 648 no:: 812 pg no:: 28\n",
      "Business Systems Analyst 649 no:: 812 pg no:: 28\n",
      "Manager - Business Intelligence & Reporting 650 no:: 812 pg no:: 28\n",
      "Databricks Unified Data Analytics Platform-Data Platform Engineer 651 no:: 812 pg no:: 28\n",
      "Data Analyst Intern 651 no:: 812 pg no:: 28\n",
      "Analytics and Modelling Senior Analyst 652 no:: 812 pg no:: 28\n",
      "Data Analyst 652 no:: 812 pg no:: 28\n",
      "Business Systems Analyst - Product Cost Planning and Inventory Valuation 653 no:: 812 pg no:: 28\n",
      "Data Analyst - ETL 654 no:: 812 pg no:: 28\n",
      "Senior Business Analyst 655 no:: 812 pg no:: 28\n",
      "Manager Data Analytics 656 no:: 812 pg no:: 28\n",
      "Sr Business Analyst II 657 no:: 812 pg no:: 28\n",
      "Senior Product Analyst, Disney+ Hotstar 658 no:: 812 pg no:: 28\n",
      "Sr Data Analyst 659 no:: 812 pg no:: 28\n",
      "Senior Business Analyst 659 no:: 812 pg no:: 28\n",
      "Consulting - BO - Cloud Engineering - Power BI Consultant 660 no:: 812 pg no:: 28\n",
      "M&A Analyst 661 no:: 812 pg no:: 28\n",
      "Senior Analyst - CMG - Marketing Instrumentation - Data & Products 661 no:: 812 pg no:: 28\n",
      "Associate Analyst - TAX - FS - TAX - GCR - Global Compliance & Reporting - Mumbai 662 no:: 812 pg no:: 28\n",
      "Payment Processig Analyst 663 no:: 812 pg no:: 28\n",
      "Payment Procesing Analyst 664 no:: 812 pg no:: 28\n",
      "Business Intelligence Engineer, ROW APEX Supply Chain BI 665 no:: 812 pg no:: 28\n",
      "System analyst, FBA Supply Chain 666 no:: 812 pg no:: 28\n",
      "Consulting: BO: Cloud Engineering: Senior Consultant: Business Analyst 667 no:: 812 pg no:: 28\n",
      "Research Analyst 667 no:: 812 pg no:: 28\n",
      "Senior Analyst - Private Product Support 667 no:: 812 pg no:: 28\n",
      "Data Management Analyst 668 no:: 812 pg no:: 28\n",
      "Finance on the Cloud Data Controls Analyst, Finance Change GSC’s 668 no:: 812 pg no:: 28\n"
     ]
    }
   ],
   "source": [
    "for  card in cards:\n",
    "            #cards = driver.find_elements(By.XPATH,\"//div[contains(@class , 'jobCardContainer')]\")\n",
    "\n",
    "            card.click()\n",
    "            #pane = card.find_elements(By.XPATH,\"//div[@id='jobsearch-ViewjobPaneWrapper']\")\n",
    "            try:\n",
    "                title =   driver.find_element(By.XPATH,\"//div[contains(@class,'JobDetails_jobTitle')]\").text\n",
    "            except:\n",
    "                title = 'None'\n",
    "            titles.append(title)\n",
    "            print(title,count,\"no::\",i,\"pg no::\",int(i/29))\n",
    "            try:\n",
    "                company = card.find_element(By.XPATH,\".//span[contains(@class,'EmployerProfile_employer')]\").text\n",
    "            except:\n",
    "                company = 'None'\n",
    "            companies.append(company)\n",
    "            try: \n",
    "                location = driver.find_element(By.XPATH,\"//div[contains(@class,'JobDetails_location')]\").text\n",
    "            except:\n",
    "                location = 'None'\n",
    "            locations.append(location)\n",
    "            try:\n",
    "                #rating_tag= driver.find_element(By.XPATH,\"//a/span[@class='body-medium'] \").text\n",
    "                rating = card.find_element(By.XPATH,\".//div[contains(@class,'EmployerProfile_rating')]\").text\n",
    "            except:\n",
    "                rating='None'\n",
    "            reviews.append(rating)\n",
    "            try:\n",
    "                salary = card.find_element(By.XPATH,\".//div[contains(@class,'JobCard_salaryEstimate')]\").text\n",
    "                if salary != 'None':\n",
    "                        count +=1\n",
    "            except:\n",
    "                #try:\n",
    "                    #iframe = driver.find_element(By.XPATH,\"//div[@class='avg_value sbold-title-l']\")\n",
    "                    #ActionChains(driver).move_to_element(iframe).perform()\n",
    "                    #a = driver.find_element(By.XPATH,\"//div[@class='avg_value sbold-title-l']\")\n",
    "                    #salary = a.get_attribute('innerText')[:-6]\n",
    "                #except:\n",
    "                salary = 'None'\n",
    "            salaries.append(salary)\n",
    "                   \n",
    "            try:  \n",
    "                show =  driver.find_element(By.XPATH,\"//button/span[contains(text(),'Show more')]\")\n",
    "                show.click()\n",
    "                description = driver.find_element(By.XPATH,\"//div[contains(@class,'JobDetails_jobDescription_')]\").text\n",
    "            except:\n",
    "                description = 'None'\n",
    "            descriptions.append(description)\n",
    "        #next_page= driver.find_elements(By.XPATH,\"//button[contains(@class,'load')]\")\n",
    "        #next_page[0].click()\n",
    "           # if i % 29 == 0:\n",
    "               # next_page= driver.find_elements(By.XPATH,\"//button[@data-test='load-more']\")\n",
    "               # next_page[0].click()\n",
    "                \n",
    "            \n",
    "            \n",
    "\n",
    "        \n",
    "        \n",
    "    "
   ]
  },
  {
   "cell_type": "code",
   "execution_count": 114,
   "id": "243cf7e4-a944-4f86-921f-ee20399327f5",
   "metadata": {},
   "outputs": [
    {
     "data": {
      "text/plain": [
       "900"
      ]
     },
     "execution_count": 114,
     "metadata": {},
     "output_type": "execute_result"
    }
   ],
   "source": [
    "len(descriptions)"
   ]
  },
  {
   "cell_type": "code",
   "execution_count": null,
   "id": "ff9da6b5-4012-483b-a3d9-3e8f50766c15",
   "metadata": {},
   "outputs": [],
   "source": [
    "for i in range(0,420):\n",
    "    cards = driver.find_elements(By.XPATH,\"//div[contains(@class, 'cardOutline')]\")\n",
    "    for card in cards:\n",
    "        card.click()\n",
    "        #pane = card.find_elements(By.XPATH,\"//div[@id='jobsearch-ViewjobPaneWrapper']\")\n",
    "        try:\n",
    "            title = card.find_element(By.XPATH,\".//span[contains(@id,'jobTitle')]\").text\n",
    "        except:\n",
    "            title = 'None'\n",
    "        titles.append(title)\n",
    "        print(title,count)\n",
    "        try:\n",
    "            company = card.find_element(By.XPATH,\".//span[@data-testid='company-name']\").text\n",
    "        except:\n",
    "            company = 'None'\n",
    "        companies.append(company)\n",
    "        try: \n",
    "            location = card.find_element(By.XPATH,\".//div[@data-testid='text-location']\").text\n",
    "        except:\n",
    "            location = 'None'\n",
    "        locations.append(location)\n",
    "        try:\n",
    "            rating_tag= driver.find_elements(By.XPATH,\".//div[@role='img']\")[0]\n",
    "            rating = rating_tag.get_attribute('aria-label')\n",
    "        except:\n",
    "            rating='None'\n",
    "        reviews.append(rating)\n",
    "        try:\n",
    "            nos =  driver.find_elements(By.XPATH,\".//a[contains(text(),'reviews')]\")[1].text\n",
    "        except:\n",
    "            nos = 'None'\n",
    "        noofreviews.append(nos)\n",
    "        try:\n",
    "            salary = card.find_elements(By.XPATH,'.//*[contains(text(), \"₹\")]')[0].text\n",
    "            if salary != 'None':\n",
    "                count +=1\n",
    "        except:\n",
    "            salary = 'None'\n",
    "        salaries.append(salary)\n",
    "        try: b = driver.find_element(By.XPATH,\"//div[@class='htmlCont'] \")\n",
    "             description = driver.find_elements(By.XPATH,\".//div[@id='jobDescriptionText']\")[0].text\n",
    "        except:\n",
    "            description = 'None'\n",
    "        descriptions.append(description)\n",
    "    next_page= driver.find_elements(By.XPATH,\"//a[@aria-label = 'Next Page']\")\n",
    "    next_page[0].click()\n",
    "        \n",
    "            \n",
    "            "
   ]
  },
  {
   "cell_type": "code",
   "execution_count": 115,
   "id": "7a1c4c84-f71f-4d26-9329-716fa8812963",
   "metadata": {},
   "outputs": [],
   "source": [
    "import pandas as pd\n",
    "df = pd.DataFrame()\n",
    "df['titles'] = titles\n",
    "df['companies'] = companies\n",
    "df['locations'] = locations\n",
    "df['reviews'] = reviews\n",
    "df['descriptions'] = descriptions\n",
    "df['salaries'] = salaries"
   ]
  },
  {
   "cell_type": "code",
   "execution_count": 117,
   "id": "c35a94fd-c429-4510-a44c-49035bca449c",
   "metadata": {},
   "outputs": [],
   "source": [
    "df.to_csv('glassdoor_analyst.csv')"
   ]
  },
  {
   "cell_type": "code",
   "execution_count": 19,
   "id": "f8bffec1-04dc-45b7-a3ea-6761ccec8839",
   "metadata": {},
   "outputs": [
    {
     "data": {
      "text/html": [
       "<div>\n",
       "<style scoped>\n",
       "    .dataframe tbody tr th:only-of-type {\n",
       "        vertical-align: middle;\n",
       "    }\n",
       "\n",
       "    .dataframe tbody tr th {\n",
       "        vertical-align: top;\n",
       "    }\n",
       "\n",
       "    .dataframe thead th {\n",
       "        text-align: right;\n",
       "    }\n",
       "</style>\n",
       "<table border=\"1\" class=\"dataframe\">\n",
       "  <thead>\n",
       "    <tr style=\"text-align: right;\">\n",
       "      <th></th>\n",
       "      <th>titles</th>\n",
       "      <th>companies</th>\n",
       "      <th>locations</th>\n",
       "      <th>reviews</th>\n",
       "      <th>noofreviews</th>\n",
       "      <th>descriptions</th>\n",
       "      <th>salaries</th>\n",
       "    </tr>\n",
       "  </thead>\n",
       "  <tbody>\n",
       "    <tr>\n",
       "      <th>0</th>\n",
       "      <td>Supply Chain Analyst</td>\n",
       "      <td>Wabi Sabi Styles</td>\n",
       "      <td>Noida, Uttar Pradesh</td>\n",
       "      <td>None</td>\n",
       "      <td>None</td>\n",
       "      <td>An inventory planner is a professional who is ...</td>\n",
       "      <td>₹20,000 - ₹28,000 a month</td>\n",
       "    </tr>\n",
       "    <tr>\n",
       "      <th>1</th>\n",
       "      <td>Senior Data Analyst/Modeler - Data Engineering</td>\n",
       "      <td>Exusia</td>\n",
       "      <td>Kolkata, West Bengal</td>\n",
       "      <td>4.1 out of 5 stars</td>\n",
       "      <td>205 reviews</td>\n",
       "      <td>Department: Sales and Delivery Team - Empower\\...</td>\n",
       "      <td>₹12,55,575 - ₹28,40,135 a year</td>\n",
       "    </tr>\n",
       "    <tr>\n",
       "      <th>2</th>\n",
       "      <td>Jr. Business Analyst [Walk in drive, good Engl...</td>\n",
       "      <td>BLSD LAB</td>\n",
       "      <td>Indore, Madhya Pradesh</td>\n",
       "      <td>3 out of 5 stars</td>\n",
       "      <td>2 reviews</td>\n",
       "      <td>About Us:\\nData Driven Foundry setting up its ...</td>\n",
       "      <td>₹17,000 - ₹25,000 a month</td>\n",
       "    </tr>\n",
       "    <tr>\n",
       "      <th>3</th>\n",
       "      <td>BPO: Non - Voice (Data Analyst &amp; Research Anal...</td>\n",
       "      <td>A &amp; A Infotech Solutions</td>\n",
       "      <td>Pettah, Thiruvananthapuram, Kerala</td>\n",
       "      <td>None</td>\n",
       "      <td>None</td>\n",
       "      <td>A&amp;A Infotech Solutions is a non-voice BPO comp...</td>\n",
       "      <td>₹9,000 - ₹13,000 a month</td>\n",
       "    </tr>\n",
       "    <tr>\n",
       "      <th>4</th>\n",
       "      <td>Canada Reporting &amp; Analytics — Analyst</td>\n",
       "      <td>Deloitte</td>\n",
       "      <td>Hyderabad, Telangana</td>\n",
       "      <td>3.9 out of 5 stars</td>\n",
       "      <td>12,626 reviews</td>\n",
       "      <td>Core Talent Services | Program &amp; Vendor Relati...</td>\n",
       "      <td>None</td>\n",
       "    </tr>\n",
       "    <tr>\n",
       "      <th>...</th>\n",
       "      <td>...</td>\n",
       "      <td>...</td>\n",
       "      <td>...</td>\n",
       "      <td>...</td>\n",
       "      <td>...</td>\n",
       "      <td>...</td>\n",
       "      <td>...</td>\n",
       "    </tr>\n",
       "    <tr>\n",
       "      <th>4072</th>\n",
       "      <td>Marketing Analyst</td>\n",
       "      <td>Anveshak Technology &amp; Knowledge Solutions</td>\n",
       "      <td>Gurgaon, Haryana</td>\n",
       "      <td>None</td>\n",
       "      <td>None</td>\n",
       "      <td>About Intertoons:\\nIntertoons is a premier pro...</td>\n",
       "      <td>₹20,000 - ₹35,000 a month</td>\n",
       "    </tr>\n",
       "    <tr>\n",
       "      <th>4073</th>\n",
       "      <td>Program Analyst</td>\n",
       "      <td>Streamline Healthcare Solutions</td>\n",
       "      <td>Bengaluru, Karnataka</td>\n",
       "      <td>None</td>\n",
       "      <td>None</td>\n",
       "      <td>About Intertoons:\\nIntertoons is a premier pro...</td>\n",
       "      <td>None</td>\n",
       "    </tr>\n",
       "    <tr>\n",
       "      <th>4074</th>\n",
       "      <td>HRIS Analyst</td>\n",
       "      <td>Bechtel</td>\n",
       "      <td>New Delhi, Delhi</td>\n",
       "      <td>None</td>\n",
       "      <td>None</td>\n",
       "      <td>About Intertoons:\\nIntertoons is a premier pro...</td>\n",
       "      <td>None</td>\n",
       "    </tr>\n",
       "    <tr>\n",
       "      <th>4075</th>\n",
       "      <td>ERP IT Business Analyst - Equipment Financing</td>\n",
       "      <td>Alcon</td>\n",
       "      <td>Bengaluru, Karnataka</td>\n",
       "      <td>None</td>\n",
       "      <td>None</td>\n",
       "      <td>About Intertoons:\\nIntertoons is a premier pro...</td>\n",
       "      <td>None</td>\n",
       "    </tr>\n",
       "    <tr>\n",
       "      <th>4076</th>\n",
       "      <td>Senior Power BI Developer</td>\n",
       "      <td>Autoliv India</td>\n",
       "      <td>Karnataka</td>\n",
       "      <td>None</td>\n",
       "      <td>None</td>\n",
       "      <td>None</td>\n",
       "      <td>None</td>\n",
       "    </tr>\n",
       "  </tbody>\n",
       "</table>\n",
       "<p>4077 rows × 7 columns</p>\n",
       "</div>"
      ],
      "text/plain": [
       "                                                 titles  \\\n",
       "0                                  Supply Chain Analyst   \n",
       "1        Senior Data Analyst/Modeler - Data Engineering   \n",
       "2     Jr. Business Analyst [Walk in drive, good Engl...   \n",
       "3     BPO: Non - Voice (Data Analyst & Research Anal...   \n",
       "4                Canada Reporting & Analytics — Analyst   \n",
       "...                                                 ...   \n",
       "4072                                  Marketing Analyst   \n",
       "4073                                    Program Analyst   \n",
       "4074                                       HRIS Analyst   \n",
       "4075      ERP IT Business Analyst - Equipment Financing   \n",
       "4076                          Senior Power BI Developer   \n",
       "\n",
       "                                      companies  \\\n",
       "0                              Wabi Sabi Styles   \n",
       "1                                        Exusia   \n",
       "2                                      BLSD LAB   \n",
       "3                      A & A Infotech Solutions   \n",
       "4                                      Deloitte   \n",
       "...                                         ...   \n",
       "4072  Anveshak Technology & Knowledge Solutions   \n",
       "4073            Streamline Healthcare Solutions   \n",
       "4074                                    Bechtel   \n",
       "4075                                      Alcon   \n",
       "4076                              Autoliv India   \n",
       "\n",
       "                               locations             reviews     noofreviews  \\\n",
       "0                   Noida, Uttar Pradesh                None            None   \n",
       "1                   Kolkata, West Bengal  4.1 out of 5 stars     205 reviews   \n",
       "2                 Indore, Madhya Pradesh    3 out of 5 stars       2 reviews   \n",
       "3     Pettah, Thiruvananthapuram, Kerala                None            None   \n",
       "4                   Hyderabad, Telangana  3.9 out of 5 stars  12,626 reviews   \n",
       "...                                  ...                 ...             ...   \n",
       "4072                    Gurgaon, Haryana                None            None   \n",
       "4073                Bengaluru, Karnataka                None            None   \n",
       "4074                    New Delhi, Delhi                None            None   \n",
       "4075                Bengaluru, Karnataka                None            None   \n",
       "4076                           Karnataka                None            None   \n",
       "\n",
       "                                           descriptions  \\\n",
       "0     An inventory planner is a professional who is ...   \n",
       "1     Department: Sales and Delivery Team - Empower\\...   \n",
       "2     About Us:\\nData Driven Foundry setting up its ...   \n",
       "3     A&A Infotech Solutions is a non-voice BPO comp...   \n",
       "4     Core Talent Services | Program & Vendor Relati...   \n",
       "...                                                 ...   \n",
       "4072  About Intertoons:\\nIntertoons is a premier pro...   \n",
       "4073  About Intertoons:\\nIntertoons is a premier pro...   \n",
       "4074  About Intertoons:\\nIntertoons is a premier pro...   \n",
       "4075  About Intertoons:\\nIntertoons is a premier pro...   \n",
       "4076                                               None   \n",
       "\n",
       "                            salaries  \n",
       "0          ₹20,000 - ₹28,000 a month  \n",
       "1     ₹12,55,575 - ₹28,40,135 a year  \n",
       "2          ₹17,000 - ₹25,000 a month  \n",
       "3           ₹9,000 - ₹13,000 a month  \n",
       "4                               None  \n",
       "...                              ...  \n",
       "4072       ₹20,000 - ₹35,000 a month  \n",
       "4073                            None  \n",
       "4074                            None  \n",
       "4075                            None  \n",
       "4076                            None  \n",
       "\n",
       "[4077 rows x 7 columns]"
      ]
     },
     "execution_count": 19,
     "metadata": {},
     "output_type": "execute_result"
    }
   ],
   "source": [
    "df"
   ]
  },
  {
   "cell_type": "code",
   "execution_count": 145,
   "id": "f288737b-b19c-4ca3-81cc-352f90cd1832",
   "metadata": {},
   "outputs": [
    {
     "name": "stdout",
     "output_type": "stream",
     "text": [
      "Senior Data scientist <selenium.webdriver.remote.webelement.WebElement (session=\"944691c2de861b10086eca457f75afd0\", element=\"0A0D0E8FF3D66222D38588259D4030EA_element_50\")>\n",
      "Deep Learning Engineer <selenium.webdriver.remote.webelement.WebElement (session=\"944691c2de861b10086eca457f75afd0\", element=\"0A0D0E8FF3D66222D38588259D4030EA_element_51\")>\n",
      "Data Science trainer <selenium.webdriver.remote.webelement.WebElement (session=\"944691c2de861b10086eca457f75afd0\", element=\"0A0D0E8FF3D66222D38588259D4030EA_element_52\")>\n",
      "Senior Associate - Data Science <selenium.webdriver.remote.webelement.WebElement (session=\"944691c2de861b10086eca457f75afd0\", element=\"0A0D0E8FF3D66222D38588259D4030EA_element_53\")>\n",
      "Manager GenAi Data Science <selenium.webdriver.remote.webelement.WebElement (session=\"944691c2de861b10086eca457f75afd0\", element=\"0A0D0E8FF3D66222D38588259D4030EA_element_54\")>\n",
      "DATA SCIENCE TRAINER <selenium.webdriver.remote.webelement.WebElement (session=\"944691c2de861b10086eca457f75afd0\", element=\"0A0D0E8FF3D66222D38588259D4030EA_element_55\")>\n",
      "Data Scientist (3+years) <selenium.webdriver.remote.webelement.WebElement (session=\"944691c2de861b10086eca457f75afd0\", element=\"0A0D0E8FF3D66222D38588259D4030EA_element_56\")>\n",
      "Technical Content Creator - Artificial Intelligence <selenium.webdriver.remote.webelement.WebElement (session=\"944691c2de861b10086eca457f75afd0\", element=\"0A0D0E8FF3D66222D38588259D4030EA_element_57\")>\n",
      "Data Science - Faculty <selenium.webdriver.remote.webelement.WebElement (session=\"944691c2de861b10086eca457f75afd0\", element=\"0A0D0E8FF3D66222D38588259D4030EA_element_58\")>\n",
      "Director - Data Science-Conversational AI <selenium.webdriver.remote.webelement.WebElement (session=\"944691c2de861b10086eca457f75afd0\", element=\"0A0D0E8FF3D66222D38588259D4030EA_element_59\")>\n",
      "Data Scientist - Image Processing <selenium.webdriver.remote.webelement.WebElement (session=\"944691c2de861b10086eca457f75afd0\", element=\"0A0D0E8FF3D66222D38588259D4030EA_element_60\")>\n",
      "ML Engineer - Computer Vision <selenium.webdriver.remote.webelement.WebElement (session=\"944691c2de861b10086eca457f75afd0\", element=\"0A0D0E8FF3D66222D38588259D4030EA_element_61\")>\n",
      "Machine Learning course <selenium.webdriver.remote.webelement.WebElement (session=\"944691c2de861b10086eca457f75afd0\", element=\"0A0D0E8FF3D66222D38588259D4030EA_element_62\")>\n",
      "Principal - Data Scientist <selenium.webdriver.remote.webelement.WebElement (session=\"944691c2de861b10086eca457f75afd0\", element=\"0A0D0E8FF3D66222D38588259D4030EA_element_63\")>\n",
      "Data Scientist - APJ Online Marketplaces Business Intelligence and Optimization Lead <selenium.webdriver.remote.webelement.WebElement (session=\"944691c2de861b10086eca457f75afd0\", element=\"0A0D0E8FF3D66222D38588259D4030EA_element_64\")>\n"
     ]
    }
   ],
   "source": [
    "for i in range(0,1):\n",
    "    cards = driver.find_elements(By.XPATH,\"//div[contains(@class, 'cardOutline')]\")\n",
    "    for card in cards:\n",
    "            card.click()\n",
    "            print(card.find_element(By.XPATH,\".//span[contains(@id,'jobTitle')]\").text,card)\n",
    "    "
   ]
  },
  {
   "cell_type": "code",
   "execution_count": null,
   "id": "3b84c9b7-2db2-4bcd-bbcc-aa97933a8a10",
   "metadata": {},
   "outputs": [],
   "source": []
  },
  {
   "cell_type": "code",
   "execution_count": 200,
   "id": "cec7a5b2-6fec-4efe-aa4f-1184caf525d1",
   "metadata": {},
   "outputs": [],
   "source": [
    "  cards = driver.find_elements(By.XPATH,\"//div[contains(@class, 'cardOutline')]\")"
   ]
  },
  {
   "cell_type": "code",
   "execution_count": 201,
   "id": "9a48b85d-26d1-42a1-b3c3-1b091f5bda4d",
   "metadata": {},
   "outputs": [],
   "source": [
    "cards[0].click()"
   ]
  },
  {
   "cell_type": "code",
   "execution_count": 188,
   "id": "0e0b3958-82c0-4731-b416-c023a49ff43e",
   "metadata": {},
   "outputs": [],
   "source": [
    " pane = driver.find_elements(By.XPATH,\"//div[@id='jobsearch-ViewjobPaneWrapper']\")[0]"
   ]
  },
  {
   "cell_type": "code",
   "execution_count": 189,
   "id": "e29c3eeb-524b-42de-9a4c-bc0668feded2",
   "metadata": {},
   "outputs": [
    {
     "data": {
      "text/plain": [
       "<selenium.webdriver.remote.webelement.WebElement (session=\"944691c2de861b10086eca457f75afd0\", element=\"277C6C30AE8D152C4E6DD4D8F6CE8E2C_element_12514\")>"
      ]
     },
     "execution_count": 189,
     "metadata": {},
     "output_type": "execute_result"
    }
   ],
   "source": [
    "    pane"
   ]
  },
  {
   "cell_type": "code",
   "execution_count": 202,
   "id": "dfb8281b-925a-4585-8a13-c2db095c8baa",
   "metadata": {},
   "outputs": [
    {
     "data": {
      "text/plain": [
       "[<selenium.webdriver.remote.webelement.WebElement (session=\"944691c2de861b10086eca457f75afd0\", element=\"B4B774FC151CD85174A0EF19D3630B63_element_16397\")>]"
      ]
     },
     "execution_count": 202,
     "metadata": {},
     "output_type": "execute_result"
    }
   ],
   "source": [
    "driver.find_elements(By.XPATH,\".//div[@role='img']\")"
   ]
  },
  {
   "cell_type": "code",
   "execution_count": 203,
   "id": "45e1e766-5d7a-4611-b66d-7d52b1b67a58",
   "metadata": {},
   "outputs": [
    {
     "data": {
      "text/plain": [
       "'3.9 out of 5 stars'"
      ]
     },
     "execution_count": 203,
     "metadata": {},
     "output_type": "execute_result"
    }
   ],
   "source": [
    "r = driver.find_elements(By.XPATH,\".//div[@role='img']\")[0]\n",
    "r.get_attribute('aria-label')"
   ]
  },
  {
   "cell_type": "code",
   "execution_count": 162,
   "id": "fe1ca7b3-6765-412c-9732-b0d17ec31905",
   "metadata": {},
   "outputs": [
    {
     "data": {
      "text/plain": [
       "'Analytics Engineer (WFH)'"
      ]
     },
     "execution_count": 162,
     "metadata": {},
     "output_type": "execute_result"
    }
   ],
   "source": [
    "cards[4].find_element(By.XPATH,\".//span[contains(@id,'jobTitle')]\").text"
   ]
  },
  {
   "cell_type": "code",
   "execution_count": 142,
   "id": "e83f5992-4f8e-4146-97c8-0d7bbce669f9",
   "metadata": {},
   "outputs": [
    {
     "data": {
      "text/plain": [
       "[<selenium.webdriver.remote.webelement.WebElement (session=\"944691c2de861b10086eca457f75afd0\", element=\"E9B5E468C66D10E55FF5D8F606EA194D_element_1540\")>,\n",
       " <selenium.webdriver.remote.webelement.WebElement (session=\"944691c2de861b10086eca457f75afd0\", element=\"E9B5E468C66D10E55FF5D8F606EA194D_element_1550\")>,\n",
       " <selenium.webdriver.remote.webelement.WebElement (session=\"944691c2de861b10086eca457f75afd0\", element=\"E9B5E468C66D10E55FF5D8F606EA194D_element_1551\")>,\n",
       " <selenium.webdriver.remote.webelement.WebElement (session=\"944691c2de861b10086eca457f75afd0\", element=\"E9B5E468C66D10E55FF5D8F606EA194D_element_1552\")>,\n",
       " <selenium.webdriver.remote.webelement.WebElement (session=\"944691c2de861b10086eca457f75afd0\", element=\"E9B5E468C66D10E55FF5D8F606EA194D_element_1553\")>,\n",
       " <selenium.webdriver.remote.webelement.WebElement (session=\"944691c2de861b10086eca457f75afd0\", element=\"E9B5E468C66D10E55FF5D8F606EA194D_element_1554\")>,\n",
       " <selenium.webdriver.remote.webelement.WebElement (session=\"944691c2de861b10086eca457f75afd0\", element=\"E9B5E468C66D10E55FF5D8F606EA194D_element_1555\")>,\n",
       " <selenium.webdriver.remote.webelement.WebElement (session=\"944691c2de861b10086eca457f75afd0\", element=\"E9B5E468C66D10E55FF5D8F606EA194D_element_1556\")>,\n",
       " <selenium.webdriver.remote.webelement.WebElement (session=\"944691c2de861b10086eca457f75afd0\", element=\"E9B5E468C66D10E55FF5D8F606EA194D_element_1557\")>,\n",
       " <selenium.webdriver.remote.webelement.WebElement (session=\"944691c2de861b10086eca457f75afd0\", element=\"E9B5E468C66D10E55FF5D8F606EA194D_element_1558\")>,\n",
       " <selenium.webdriver.remote.webelement.WebElement (session=\"944691c2de861b10086eca457f75afd0\", element=\"E9B5E468C66D10E55FF5D8F606EA194D_element_1559\")>,\n",
       " <selenium.webdriver.remote.webelement.WebElement (session=\"944691c2de861b10086eca457f75afd0\", element=\"E9B5E468C66D10E55FF5D8F606EA194D_element_1560\")>,\n",
       " <selenium.webdriver.remote.webelement.WebElement (session=\"944691c2de861b10086eca457f75afd0\", element=\"E9B5E468C66D10E55FF5D8F606EA194D_element_1561\")>,\n",
       " <selenium.webdriver.remote.webelement.WebElement (session=\"944691c2de861b10086eca457f75afd0\", element=\"E9B5E468C66D10E55FF5D8F606EA194D_element_1562\")>,\n",
       " <selenium.webdriver.remote.webelement.WebElement (session=\"944691c2de861b10086eca457f75afd0\", element=\"E9B5E468C66D10E55FF5D8F606EA194D_element_1563\")>]"
      ]
     },
     "execution_count": 142,
     "metadata": {},
     "output_type": "execute_result"
    }
   ],
   "source": [
    "cards"
   ]
  },
  {
   "cell_type": "code",
   "execution_count": 118,
   "id": "b010e8a8-931c-4ebe-861d-58bfc766a001",
   "metadata": {},
   "outputs": [],
   "source": [
    "a.append(2)"
   ]
  },
  {
   "cell_type": "code",
   "execution_count": 119,
   "id": "c3d36d70-56d9-41a1-bea4-f8b5ce0429d0",
   "metadata": {},
   "outputs": [
    {
     "data": {
      "text/plain": [
       "[2]"
      ]
     },
     "execution_count": 119,
     "metadata": {},
     "output_type": "execute_result"
    }
   ],
   "source": [
    "a"
   ]
  },
  {
   "cell_type": "code",
   "execution_count": null,
   "id": "b1ddd075-b705-4fee-86d4-58cb17fcf46f",
   "metadata": {},
   "outputs": [],
   "source": []
  }
 ],
 "metadata": {
  "kernelspec": {
   "display_name": "Python 3 (ipykernel)",
   "language": "python",
   "name": "python3"
  },
  "language_info": {
   "codemirror_mode": {
    "name": "ipython",
    "version": 3
   },
   "file_extension": ".py",
   "mimetype": "text/x-python",
   "name": "python",
   "nbconvert_exporter": "python",
   "pygments_lexer": "ipython3",
   "version": "3.10.9"
  }
 },
 "nbformat": 4,
 "nbformat_minor": 5
}
