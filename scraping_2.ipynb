{
 "cells": [
  {
   "cell_type": "code",
   "execution_count": 2,
   "id": "8e34c00b-f608-498b-8f7c-5fb43f8c5e7d",
   "metadata": {},
   "outputs": [],
   "source": [
    "website = 'https://ai-jobs.net'\n",
    "path = 'chromedriver-win64/chromedriver-win64/chromedriver.exe'"
   ]
  },
  {
   "cell_type": "code",
   "execution_count": 3,
   "id": "8bfb3fa6-57b0-453f-a8c2-8bc7aa7dbf88",
   "metadata": {},
   "outputs": [],
   "source": [
    "from selenium import webdriver\n",
    "from selenium.webdriver.chrome.service import Service\n",
    "from selenium.webdriver.support.ui import Select\n",
    "from selenium.webdriver.common.keys import Keys\n",
    "from selenium.webdriver.common.by import By"
   ]
  },
  {
   "cell_type": "code",
   "execution_count": 4,
   "id": "9a116a6a-fec2-44bc-80bc-1ffb0f27a7a2",
   "metadata": {},
   "outputs": [],
   "source": [
    "#s = Service('chromedriver-win64/chromedriver-win64/chromedriver.exe')"
   ]
  },
  {
   "cell_type": "code",
   "execution_count": 5,
   "id": "a3fe1d41-7dc0-4c2a-a448-026d3fa6f68f",
   "metadata": {},
   "outputs": [],
   "source": [
    "import undetected_chromedriver as uc \n",
    "import time \n",
    "options = uc.ChromeOptions() \n",
    "options.headless = False  # Set headless to False to run in non-headless mode\n",
    "\n",
    "driver = uc.Chrome(use_subprocess=True, options=options) \n"
   ]
  },
  {
   "cell_type": "code",
   "execution_count": 6,
   "id": "401dedc8-f372-4a14-8885-8333b026c13f",
   "metadata": {},
   "outputs": [],
   "source": [
    "#driver = webdriver.Chrome(service = s)"
   ]
  },
  {
   "cell_type": "code",
   "execution_count": 7,
   "id": "f856f21f-26e3-4cf4-8f34-9c0480929a49",
   "metadata": {},
   "outputs": [],
   "source": [
    "driver.get(website)"
   ]
  },
  {
   "cell_type": "code",
   "execution_count": 7,
   "id": "1be806f8-000d-42ea-8496-785f0bb20a38",
   "metadata": {},
   "outputs": [],
   "source": [
    "search_bar = driver.find_element(by='id', value = \"text-input-what\")"
   ]
  },
  {
   "cell_type": "code",
   "execution_count": 9,
   "id": "1c3f1f06-2a1f-4298-af5f-b0096daebf6f",
   "metadata": {},
   "outputs": [],
   "source": [
    "search_bar.send_keys(\"data scientist\")\n",
    "search_bar.send_keys(Keys.RETURN)"
   ]
  },
  {
   "cell_type": "code",
   "execution_count": 85,
   "id": "f697d7e9-2b51-48e5-8d48-f1fbdcf4a875",
   "metadata": {},
   "outputs": [],
   "source": [
    "driver.implicitly_wait(0.5) "
   ]
  },
  {
   "cell_type": "code",
   "execution_count": 1,
   "id": "3e58fa4c-5250-491f-b199-28ac46b27fae",
   "metadata": {},
   "outputs": [
    {
     "data": {
      "text/plain": [
       "' email = driver.find_element(By.XPATH,\"//input[contains(@id,\\'email\\')]\")\\nemail.send_keys(\"asendhan@gmail.com\")\\naddr = driver.find_element(by=\\'id\\', value = \"DesktopSERPJobAlert-LocationSuggestionSpecificLocInput\")\\naddr.send_keys(\"600077\")\\nactivate = driver.find_element(By.XPATH,\"//button[@id=\\'DesktopSERPJobAlertActivateButton\\']\")\\nactivate.click() '"
      ]
     },
     "execution_count": 1,
     "metadata": {},
     "output_type": "execute_result"
    }
   ],
   "source": [
    "''' email = driver.find_element(By.XPATH,\"//input[contains(@id,'email')]\")\n",
    "email.send_keys(\"asendhan@gmail.com\")\n",
    "addr = driver.find_element(by='id', value = \"DesktopSERPJobAlert-LocationSuggestionSpecificLocInput\")\n",
    "addr.send_keys(\"600077\")\n",
    "activate = driver.find_element(By.XPATH,\"//button[@id='DesktopSERPJobAlertActivateButton']\")\n",
    "activate.click() '''"
   ]
  },
  {
   "cell_type": "code",
   "execution_count": 22,
   "id": "fd4eb501-c236-4ccb-8718-a88377985868",
   "metadata": {},
   "outputs": [],
   "source": [
    "cards = driver.find_elements(By.XPATH,\"//li[contains(@class,'list-group-item list-group-item-action')]\")"
   ]
  },
  {
   "cell_type": "code",
   "execution_count": 83,
   "id": "07e26be4-3499-4085-84f1-9b852362ff34",
   "metadata": {},
   "outputs": [],
   "source": [
    "cards = driver.find_elements(By.XPATH,\"//a[contains(@class,'col pt-2 pb-3')]\")"
   ]
  },
  {
   "cell_type": "code",
   "execution_count": 84,
   "id": "cf170a19-651c-44f6-8b96-c8703bf2538a",
   "metadata": {},
   "outputs": [
    {
     "data": {
      "text/plain": [
       "804"
      ]
     },
     "execution_count": 84,
     "metadata": {},
     "output_type": "execute_result"
    }
   ],
   "source": [
    "len(cards)"
   ]
  },
  {
   "cell_type": "code",
   "execution_count": 12,
   "id": "0ff44194-bbc4-4512-93c9-e2ded6c9b5de",
   "metadata": {},
   "outputs": [
    {
     "data": {
      "text/plain": [
       "'Senior Applied AI Engineer'"
      ]
     },
     "execution_count": 12,
     "metadata": {},
     "output_type": "execute_result"
    }
   ],
   "source": [
    "driver.find_element(By.XPATH,\"//h1[contains(@class,'display-5')]\").text"
   ]
  },
  {
   "cell_type": "code",
   "execution_count": 13,
   "id": "5c578d1f-2bfa-43b5-b473-819a9ed03d19",
   "metadata": {},
   "outputs": [
    {
     "data": {
      "text/plain": [
       "'Ultimate'"
      ]
     },
     "execution_count": 13,
     "metadata": {},
     "output_type": "execute_result"
    }
   ],
   "source": [
    "driver.find_element(By.XPATH,\"//h2[@class='h5']\").text"
   ]
  },
  {
   "cell_type": "code",
   "execution_count": 14,
   "id": "882137da-ec0f-4123-b0e3-504959eedd9d",
   "metadata": {},
   "outputs": [
    {
     "data": {
      "text/plain": [
       "'EUR 80K - 90K'"
      ]
     },
     "execution_count": 14,
     "metadata": {},
     "output_type": "execute_result"
    }
   ],
   "source": [
    " driver.find_element(By.XPATH,\"//span[contains(@title,' annual salary ')] \").text"
   ]
  },
  {
   "cell_type": "code",
   "execution_count": 15,
   "id": "b34b7718-998e-4bc6-9232-59c16feea9d2",
   "metadata": {},
   "outputs": [
    {
     "data": {
      "text/plain": [
       "'SNC-Lavalin Atkins Bengaluru Office'"
      ]
     },
     "execution_count": 15,
     "metadata": {},
     "output_type": "execute_result"
    }
   ],
   "source": [
    " driver.find_element(By.XPATH,\"//h3[contains(@class,'lead py-3')] \").text"
   ]
  },
  {
   "cell_type": "code",
   "execution_count": 74,
   "id": "566c9062-461c-44ce-9fe9-4496e69a363d",
   "metadata": {},
   "outputs": [],
   "source": [
    "driver.execute_script(\"window.scrollTo(0, document.body.scrollHeight);\")"
   ]
  },
  {
   "cell_type": "code",
   "execution_count": 17,
   "id": "697493b8-913c-4246-82b4-dbc663464a5b",
   "metadata": {},
   "outputs": [
    {
     "data": {
      "text/plain": [
       "'Senior-level / Expert'"
      ]
     },
     "execution_count": 17,
     "metadata": {},
     "output_type": "execute_result"
    }
   ],
   "source": [
    "  driver.find_element(By.XPATH,\"//span[contains(@title,'minimum required experience')]\").text"
   ]
  },
  {
   "cell_type": "code",
   "execution_count": 75,
   "id": "29878778-f89a-46ea-a296-17210389c038",
   "metadata": {},
   "outputs": [
    {
     "ename": "ElementClickInterceptedException",
     "evalue": "Message: element click intercepted: Element is not clickable at point (759, -7983)\n  (Session info: chrome=120.0.6099.217)\nStacktrace:\n\tGetHandleVerifier [0x00996EE3+174339]\n\t(No symbol) [0x008C0A51]\n\t(No symbol) [0x005D6FF6]\n\t(No symbol) [0x0060E48E]\n\t(No symbol) [0x0060D09E]\n\t(No symbol) [0x0060B5F8]\n\t(No symbol) [0x0060AD7F]\n\t(No symbol) [0x00602B4E]\n\t(No symbol) [0x0062700C]\n\t(No symbol) [0x006025B0]\n\t(No symbol) [0x00627414]\n\t(No symbol) [0x0063A104]\n\t(No symbol) [0x00626DA6]\n\t(No symbol) [0x00601034]\n\t(No symbol) [0x00601F8D]\n\tGetHandleVerifier [0x00A34B1C+820540]\n\tsqlite3_dbdata_init [0x00AF53EE+653550]\n\tsqlite3_dbdata_init [0x00AF4E09+652041]\n\tsqlite3_dbdata_init [0x00AE97CC+605388]\n\tsqlite3_dbdata_init [0x00AF5D9B+656027]\n\t(No symbol) [0x008CFE6C]\n\t(No symbol) [0x008C83B8]\n\t(No symbol) [0x008C84DD]\n\t(No symbol) [0x008B5818]\n\tBaseThreadInitThunk [0x76D67BA9+25]\n\tRtlInitializeExceptionChain [0x77BCBD2B+107]\n\tRtlClearBits [0x77BCBCAF+191]\n",
     "output_type": "error",
     "traceback": [
      "\u001b[1;31m---------------------------------------------------------------------------\u001b[0m",
      "\u001b[1;31mElementClickInterceptedException\u001b[0m          Traceback (most recent call last)",
      "Cell \u001b[1;32mIn[75], line 1\u001b[0m\n\u001b[1;32m----> 1\u001b[0m \u001b[43mcards\u001b[49m\u001b[43m[\u001b[49m\u001b[38;5;241;43m8\u001b[39;49m\u001b[43m]\u001b[49m\u001b[38;5;241;43m.\u001b[39;49m\u001b[43mclick\u001b[49m\u001b[43m(\u001b[49m\u001b[43m)\u001b[49m\n",
      "File \u001b[1;32m~\\anaconda3\\lib\\site-packages\\selenium\\webdriver\\remote\\webelement.py:94\u001b[0m, in \u001b[0;36mWebElement.click\u001b[1;34m(self)\u001b[0m\n\u001b[0;32m     92\u001b[0m \u001b[38;5;28;01mdef\u001b[39;00m \u001b[38;5;21mclick\u001b[39m(\u001b[38;5;28mself\u001b[39m) \u001b[38;5;241m-\u001b[39m\u001b[38;5;241m>\u001b[39m \u001b[38;5;28;01mNone\u001b[39;00m:\n\u001b[0;32m     93\u001b[0m     \u001b[38;5;124;03m\"\"\"Clicks the element.\"\"\"\u001b[39;00m\n\u001b[1;32m---> 94\u001b[0m     \u001b[38;5;28;43mself\u001b[39;49m\u001b[38;5;241;43m.\u001b[39;49m\u001b[43m_execute\u001b[49m\u001b[43m(\u001b[49m\u001b[43mCommand\u001b[49m\u001b[38;5;241;43m.\u001b[39;49m\u001b[43mCLICK_ELEMENT\u001b[49m\u001b[43m)\u001b[49m\n",
      "File \u001b[1;32m~\\anaconda3\\lib\\site-packages\\selenium\\webdriver\\remote\\webelement.py:395\u001b[0m, in \u001b[0;36mWebElement._execute\u001b[1;34m(self, command, params)\u001b[0m\n\u001b[0;32m    393\u001b[0m     params \u001b[38;5;241m=\u001b[39m {}\n\u001b[0;32m    394\u001b[0m params[\u001b[38;5;124m\"\u001b[39m\u001b[38;5;124mid\u001b[39m\u001b[38;5;124m\"\u001b[39m] \u001b[38;5;241m=\u001b[39m \u001b[38;5;28mself\u001b[39m\u001b[38;5;241m.\u001b[39m_id\n\u001b[1;32m--> 395\u001b[0m \u001b[38;5;28;01mreturn\u001b[39;00m \u001b[38;5;28;43mself\u001b[39;49m\u001b[38;5;241;43m.\u001b[39;49m\u001b[43m_parent\u001b[49m\u001b[38;5;241;43m.\u001b[39;49m\u001b[43mexecute\u001b[49m\u001b[43m(\u001b[49m\u001b[43mcommand\u001b[49m\u001b[43m,\u001b[49m\u001b[43m \u001b[49m\u001b[43mparams\u001b[49m\u001b[43m)\u001b[49m\n",
      "File \u001b[1;32m~\\anaconda3\\lib\\site-packages\\selenium\\webdriver\\remote\\webdriver.py:348\u001b[0m, in \u001b[0;36mWebDriver.execute\u001b[1;34m(self, driver_command, params)\u001b[0m\n\u001b[0;32m    346\u001b[0m response \u001b[38;5;241m=\u001b[39m \u001b[38;5;28mself\u001b[39m\u001b[38;5;241m.\u001b[39mcommand_executor\u001b[38;5;241m.\u001b[39mexecute(driver_command, params)\n\u001b[0;32m    347\u001b[0m \u001b[38;5;28;01mif\u001b[39;00m response:\n\u001b[1;32m--> 348\u001b[0m     \u001b[38;5;28;43mself\u001b[39;49m\u001b[38;5;241;43m.\u001b[39;49m\u001b[43merror_handler\u001b[49m\u001b[38;5;241;43m.\u001b[39;49m\u001b[43mcheck_response\u001b[49m\u001b[43m(\u001b[49m\u001b[43mresponse\u001b[49m\u001b[43m)\u001b[49m\n\u001b[0;32m    349\u001b[0m     response[\u001b[38;5;124m\"\u001b[39m\u001b[38;5;124mvalue\u001b[39m\u001b[38;5;124m\"\u001b[39m] \u001b[38;5;241m=\u001b[39m \u001b[38;5;28mself\u001b[39m\u001b[38;5;241m.\u001b[39m_unwrap_value(response\u001b[38;5;241m.\u001b[39mget(\u001b[38;5;124m\"\u001b[39m\u001b[38;5;124mvalue\u001b[39m\u001b[38;5;124m\"\u001b[39m, \u001b[38;5;28;01mNone\u001b[39;00m))\n\u001b[0;32m    350\u001b[0m     \u001b[38;5;28;01mreturn\u001b[39;00m response\n",
      "File \u001b[1;32m~\\anaconda3\\lib\\site-packages\\selenium\\webdriver\\remote\\errorhandler.py:229\u001b[0m, in \u001b[0;36mErrorHandler.check_response\u001b[1;34m(self, response)\u001b[0m\n\u001b[0;32m    227\u001b[0m         alert_text \u001b[38;5;241m=\u001b[39m value[\u001b[38;5;124m\"\u001b[39m\u001b[38;5;124malert\u001b[39m\u001b[38;5;124m\"\u001b[39m]\u001b[38;5;241m.\u001b[39mget(\u001b[38;5;124m\"\u001b[39m\u001b[38;5;124mtext\u001b[39m\u001b[38;5;124m\"\u001b[39m)\n\u001b[0;32m    228\u001b[0m     \u001b[38;5;28;01mraise\u001b[39;00m exception_class(message, screen, stacktrace, alert_text)  \u001b[38;5;66;03m# type: ignore[call-arg]  # mypy is not smart enough here\u001b[39;00m\n\u001b[1;32m--> 229\u001b[0m \u001b[38;5;28;01mraise\u001b[39;00m exception_class(message, screen, stacktrace)\n",
      "\u001b[1;31mElementClickInterceptedException\u001b[0m: Message: element click intercepted: Element is not clickable at point (759, -7983)\n  (Session info: chrome=120.0.6099.217)\nStacktrace:\n\tGetHandleVerifier [0x00996EE3+174339]\n\t(No symbol) [0x008C0A51]\n\t(No symbol) [0x005D6FF6]\n\t(No symbol) [0x0060E48E]\n\t(No symbol) [0x0060D09E]\n\t(No symbol) [0x0060B5F8]\n\t(No symbol) [0x0060AD7F]\n\t(No symbol) [0x00602B4E]\n\t(No symbol) [0x0062700C]\n\t(No symbol) [0x006025B0]\n\t(No symbol) [0x00627414]\n\t(No symbol) [0x0063A104]\n\t(No symbol) [0x00626DA6]\n\t(No symbol) [0x00601034]\n\t(No symbol) [0x00601F8D]\n\tGetHandleVerifier [0x00A34B1C+820540]\n\tsqlite3_dbdata_init [0x00AF53EE+653550]\n\tsqlite3_dbdata_init [0x00AF4E09+652041]\n\tsqlite3_dbdata_init [0x00AE97CC+605388]\n\tsqlite3_dbdata_init [0x00AF5D9B+656027]\n\t(No symbol) [0x008CFE6C]\n\t(No symbol) [0x008C83B8]\n\t(No symbol) [0x008C84DD]\n\t(No symbol) [0x008B5818]\n\tBaseThreadInitThunk [0x76D67BA9+25]\n\tRtlInitializeExceptionChain [0x77BCBD2B+107]\n\tRtlClearBits [0x77BCBCAF+191]\n"
     ]
    }
   ],
   "source": [
    "cards[8].click()"
   ]
  },
  {
   "cell_type": "code",
   "execution_count": 70,
   "id": "c8930904-1cd8-4b7c-8bcf-4c20651311e4",
   "metadata": {},
   "outputs": [],
   "source": [
    "driver.back()"
   ]
  },
  {
   "cell_type": "code",
   "execution_count": 71,
   "id": "e2ce87ba-7a0f-49ad-9675-90a897cb411b",
   "metadata": {},
   "outputs": [],
   "source": [
    "cards = driver.find_elements(By.XPATH,\"//li[contains(@class,'list-group-item list-group-item-action')]\")"
   ]
  },
  {
   "cell_type": "code",
   "execution_count": 16,
   "id": "b521f00b-2f39-4c82-9b72-d13c66fabec6",
   "metadata": {},
   "outputs": [
    {
     "data": {
      "text/plain": [
       "\"Job Description\\nWe’re AtkinsRéalis, a world-leading Design, Engineering and Project Management organization. Created by the integration of long-standing organizations dating back to 1911, we are a world-leading professional services and project management company dedicated to engineering a better future for our planet and its people. We create sustainable solutions that connect people, data and technology to transform the world's infrastructure and energy systems. We deploy global capabilities locally to our clients and deliver unique end-to-end services across the whole life cycle of an asset including consulting, advisory & environmental services, intelligent networks & cybersecurity, design & engineering, procurement, project & construction management, operations & maintenance, decommissioning and capital. The breadth and depth of our capabilities are delivered to clients in key strategic sectors such as Engineering Services, Nuclear, Operations & Maintenance and Capital.\\nNews and information are available at www.atkinsrealis.com or follow us on LinkedIn.  \\nOur teams are proud to deliver on some of the most prestigious projects across the world. It's thanks to our talented people and their diverse thinking, expertise, and knowledge. Join us and you'll be part of our genuinely collaborative environment, where everyone is supported to make the most of their talents and expertise.\\nWhen it comes to work-life balance, AtkinsRéalis is a great place to be. So, let's discuss how our flexible and remote working policies can support your priorities. We're passionate about are work while valuing each other equally. So, ask us about some of our recent pledges for Women's Equality and being a 'Disability Confidence' and 'Inclusive Employer’.\\nJob Description\\nRole: Group Data Engineering Manager\\nEAI-AtkinsRéalis is a vibrant and continuously growing team. It is an important part of GTC-AtkinsRéalis and widely recognized for its high and quality project deliveries. This would be a vital role to take EAI one step forward in providing data solutions to our business and client. This role would simultaneously work on multiple projects and would provide planning, designing and delivery of data driven projects. Effective communication and a team player are important characteristics of this role.\\nKey Activities for This Role\\nTechnical guide for a team of Lead Data Engineers.\\nDevelop, configure, deploy, and optimize Microsoft Azure based Data solutions.\\nCollaborate with other team members to develop and enhance deliverables.\\nContinuously improve team processes to ensure information is of the highest quality, contributing to the overall effectiveness of the team.\\nStay abreast of industry changes, especially in the areas of cloud data and analytics technologies.\\nAbility to simultaneously work and deliver on more than one project on Individual contributor role.\\nAbility to work on multiple areas like Data pipeline ETL, Data modelling & design, writing complex SQL queries etc.\\nCapable of planning and executing on both short-term and long-term goals on your own and with the team.\\nPartner with other Data Engineers, Data architects, domain experts, data analysts and other teams to build foundational data sets that are trusted, well understood, aligned with business strategy and enable self-service.\\nGuide, mentor guide Data Engineers, Sr Data Engineers on Data Architecture, data models, implementation techniques and technologies.\\nExperience & Skills Required:\\n12+ years of experience designing, developing, Architecture and deploying data solutions using Power BI, Azure platform.\\nExperience on designing Data pipelines (ETL/ELT), Datawarehouse and Data marts.\\nHands-on expert with real-time data processing and analytics, data ingestion (batched and streamed), and data storage solutions.\\nHands on Azure Analysis Services & Power BI and good to have experience on other tools.\\nHands on experience with Data Factory, Data Lake Storage, Databricks, Data Explorer, Machine Learning, and Azure Synapse Analytics is good to have.\\nExpert at creating data dissemination diagrams, data flow diagrams, data lifecycle diagrams, data migration diagrams, and data security diagrams etc.\\nHands on experience with one of the data presentations tools like PowerBI, Tableau etc.\\nA proven expert in writing optimized SQL to deal with large data volumes.\\nHands on coding in Python along its main data libraries like Pandas, NumPy, Beautiful soup etc.\\nGood to have ML exposer.\\nGood to have AWS experience.\\nGood to have GCP experience.\\nWhat We Can Offer You\\nVaried, interesting and meaningful work.\\nA hybrid working environment with flexibility and great opportunities.\\nOpportunities for training and, as the team grows, career progression or sideways moves.\\nAn opportunity to work within a large global multi-disciplinary consultancy on a mission to change the ways we approach business as usual.\\nWhy work for AtkinsRéalis?\\nWe at AtkinsRéalis are committed to developing its people both personally and professionally. Our colleagues have the advantage of access to a high ranging training portfolio and development activities designed to help make the best of individual’s abilities and talents. We also actively support staff in achieving corporate membership of relevant institutions.\\nMeeting Your Needs\\nTo help you get the most out of life in and outside of work, we offer employees ‘Total Reward’.\\nMaking sure you're supported is important to us. So, if you identify as having a disability, tell us ahead of your interview, and we’ll discuss any adjustments you might need.\\nAdditional Information\\nWe are an equal opportunity, drug-free employer committed to promoting a diverse and inclusive community - a place where we can all be ourselves, thrive and develop. To help embed inclusion for all, from day one, we offer a range of family friendly, inclusive employment policies, flexible working arrangements and employee networks to support staff from different backgrounds. As an Equal Opportunities Employer, we value applications from all backgrounds, cultures and ability.\\nWe care about your privacy and are committed to protecting your privacy. Please consult our Privacy Notice on our Careers site to know more about how we collect, use and transfer your Personal Data.\\nLink: Equality, diversity & inclusion | Atkins India (atkinsrealis.com)\\nWorker Type\\nEmployee\\nJob Type\\nRegular\\nAt AtkinsRéalis, we seek to hire individuals with diverse characteristics, backgrounds and perspectives. We strongly believe that world-class talent makes no distinctions based on gender, ethnic or national origin, sexual identity and orientation, age, religion or disability, but enriches itself through these differences.  \""
      ]
     },
     "execution_count": 16,
     "metadata": {},
     "output_type": "execute_result"
    }
   ],
   "source": [
    " driver.find_element(By.XPATH,\"//div[contains(@class,'job-description')]  \").text"
   ]
  },
  {
   "cell_type": "code",
   "execution_count": 93,
   "id": "ab823a9b-454c-42a7-9bb6-ad106e871207",
   "metadata": {},
   "outputs": [],
   "source": [
    "links =[]\n",
    "cards = driver.find_elements(By.XPATH,\"//a[contains(@class,'col pt-2 pb-3')]\")\n",
    "for card in cards:\n",
    "        links.append(card.get_attribute('href'))\n",
    "    \n",
    "    "
   ]
  },
  {
   "cell_type": "code",
   "execution_count": 95,
   "id": "d13dfc35-12bf-4352-b207-6a0f6708c89c",
   "metadata": {},
   "outputs": [
    {
     "data": {
      "text/plain": [
       "804"
      ]
     },
     "execution_count": 95,
     "metadata": {},
     "output_type": "execute_result"
    }
   ],
   "source": [
    "len(links)"
   ]
  },
  {
   "cell_type": "code",
   "execution_count": 97,
   "id": "6f3c3376-3b52-42c5-9f31-9f8b30d06e17",
   "metadata": {},
   "outputs": [
    {
     "name": "stdout",
     "output_type": "stream",
     "text": [
      "Senior Group Data Engineering Manager 0\n",
      "IND (New) Lead Data Scientist - DM 1\n",
      "Cloud Data Engineer 2\n",
      "Analytics Engineer - Data Engineer 3\n",
      "Data Architect 4\n",
      "Data Engineer Level II 5\n",
      "Senior Software Engineer (Data Engineering) 6\n",
      "IND (New) Data Scientist - DM 7\n",
      "Data Engineer III - MPAT1133 8\n",
      "ETL & DB Engineer 9\n",
      "Associate Manager - Data Products 10\n",
      "Senior Manager - Data Science 11\n",
      "Lead Software Engineer - Machine Learning 12\n",
      "Analytics Engineer 13\n",
      "Sr. Data Engineer 14\n",
      "Data Engineer, Digital IT 15\n",
      "Data Engineer 16\n",
      "ETL Developer 17\n",
      "Customer Analytics / Data Science - Lead Analyst - Analytics 18\n",
      "Analytics Engineering Manager 19\n",
      "Data Analyst 20\n",
      "Data Architect 21\n",
      "Modelling / Data Science - Sr Analyst - Analytics 22\n",
      "Technology Specialist (Solution / Data Architect) 23\n",
      "Software Engineering Intern, Data Engineer 24\n",
      "IND (New) Senior Data Scientist - DM 24\n",
      "Senior Data Analyst 25\n",
      "Deputy Manager - Pricing Analytics (Power BI) 26\n",
      "ML Engineer 27\n",
      "Data Analytics - TrackWise, Veeva, Palantir Foundry 28\n",
      "Data Engineer - Bigdata + Java/Scala 29\n",
      "Senior Data Engineer 30\n",
      "Lead Software Engineer - Data Engineering 31\n",
      "Data Engineer 32\n",
      "Data Operation Analyst Job 33\n",
      "EY - GDS Consulting - D&A - Data Scientist - Senior 34\n",
      "Business Intelligence Specialist IV 35\n",
      "Senior Data Engineer 36\n",
      "Incentive Compensation Data Analyst I On-site, Bangalore 37\n",
      "Staff Data Engineer - Product Manager 38\n",
      "Senior Data Scientist Engineer 39\n",
      "Manager, Forward Deployed Data Strategy 40\n",
      "Senior Machine Learning Engineer 41\n",
      "Principal Machine Learning Engineer - Spark, ETL, Pre-Processing, Pipeline, Machine Learning - REF7856R 42\n",
      "AWS Data Engineer 43\n",
      "Big Data Engineers (Airflow, Python, Spark) 44\n",
      "Power BI Data Analyst 45\n",
      "Data Engineer, Analyst 46\n",
      "Technology Specialist- Solution / Data Architect 47\n",
      "Principal Data Engineer (Python, AWS) 48\n",
      "Customer Analytics / Data Science - Manager - Analytics 49\n",
      "Economic Data Lead 50\n",
      "Data Analyst 51\n",
      "IND (New) Lead Data Engineer 52\n",
      "AI Solutions Engineer 53\n",
      "Senior Member Technical ETL Processing 54\n",
      "Associate, Internal Audit Data Analytics 55\n",
      "Data Scientist II 56\n",
      "Junior Data Engineer (Delhi- NCR) 57\n",
      "Lead Data Visualization and Reporting 58\n",
      "Sr. Manager, Data Science- Credit card 59\n",
      "Data Engineer (Python, SQL, Query Optimization, DBMS) 60\n",
      "Senior Data Scientist, Analytics 61\n",
      "Module Lead - Data Modelling Job 62\n",
      "Artificial Intelligence Lead - Airbus India Innovation Centre 63\n",
      "Data operations - Assistant Vice President 64\n",
      "Senior Data Scientist 65\n",
      "Data Scientist 66\n",
      "Senior Data Analyst 67\n",
      "Senior Technologist, Data Analytics Engineering 68\n",
      "Lead/Senior Data Scientist 69\n",
      "Data Engineer 70\n",
      "Track - Data Operations Associate 71\n",
      "Data Analytics & Management Chapter Lead - Data Engineering Director Role 72\n",
      "Senior Data Scientist 73\n",
      "Systems Administrator - Archive Data Management 74\n",
      "Big data Engineer 75\n",
      "Data Science NLP developer 76\n",
      "Engineering Manager - Data Pipes 77\n",
      "Data Analyst 78\n",
      "Big Data Engineer (Java/Python/Scala/SQL) 79\n",
      "Data Scientist 80\n",
      "Associate Technical Architect - Data Engineering 81\n",
      "Junior ETL Developer 82\n",
      "Engineer - Mechanical, Highrise, REC (Noida/Mumbai/Chennai) 83\n",
      "Data Engineer 84\n",
      "Masterdata Analyst 85\n",
      "Big Data Engineers (Java/Scala/Hadoop/Spark/AWS) 86\n",
      "Senior Electrical Engineer (Chennai/Noida/Mumbai) 87\n",
      "Senior Data Analyst (Cloud Finance) 88\n",
      "Supply Chain (Data Analytics) 89\n",
      "Quantitative Analyst / Data Scientist 90\n",
      "Assistant Manager - Data Quality 91\n",
      "Business Data Analyst 92\n",
      "Manager - Risk & Data Science 93\n",
      "Lead Bigdata Developer 94\n",
      "Staff Data Scientist 95\n",
      "Big Data Engineer (Airflow/Python/Spark) 96\n",
      "Senior Quality Analyst - ETL 97\n",
      "Data Scientist 98\n",
      "Big Data Engineer (Airflow/Python/Spark) 99\n",
      "Senior Quality Analyst - ETL 100\n",
      "Data Scientist 101\n",
      "Sr Machine Learning Quality Engineer 102\n",
      "Head of Data Science & AI 103\n",
      "Sr. Data Science Consultant 104\n",
      "Senior Software/ Staff Engineer (Java | Elasticsearch | Cassandra | AWS | Kafka) 105\n",
      "Sr. Manager - Data Science (ML, Python, Modelling) 106\n",
      "Senior Data Engineer 107\n",
      "Sr. Manager, Product Management (Data Management/Data Security) 108\n",
      "Manager-Applied Data Scientist 109\n",
      "Sr. BI Developer 110\n",
      "Assistant Manager Data Quality 111\n",
      "Machine Learning Engineer 112\n",
      "Lead Engineer - Industrial AI Software Engineering 113\n",
      "Manager Machine Learning Engrg Mgmt 114\n",
      "Tech Lead - Generative AI 115\n",
      "Research Intern NLP 116\n",
      "Senior Software Engineer - Generative AI 116\n",
      "Senior Data Engineer 117\n",
      "Senior Analyst-Data Analysis 118\n",
      "Lead - Data Engineer 119\n",
      "Junior Data Engineer 120\n",
      "Insurance Enabling Technologies – DATA Developer - Senior Associate 2 - Hyderabad 121\n",
      "Mgr, AI Engineering 122\n",
      "Data Engineer(ML&LL Mode) 123\n",
      "Operations Engineer - Machine Learning 124\n",
      "Data Engineer 125\n",
      "Big Data Engineer 126\n",
      "Senior Data Analyst 127\n",
      "Computer Vision Algorithm development for ADAS - Technical Architect 128\n",
      "Lead Data Engineer 129\n",
      "Researcher - Data Operations Intern 130\n",
      "Analyst, Data Science (R-15410) 130\n",
      "Machine Learning Engineer 5 131\n",
      "Sr. Manager - Java, Big Data 132\n",
      "Senior Data Engineer 133\n",
      "Senior Data Integration Engineer 134\n",
      "Data Engineering - Senior Consultant (Data Architecture, Python, SQL, PySpark) 135\n",
      "Data Scientist - Visa Consulting & Analytics 136\n",
      "Power BI Engineer 137\n",
      "Lead Data Engineer 138\n",
      "Data Architect – AWS(Presales ) 139\n",
      "Finance Analytics Engineer 140\n",
      "Senior Data Architect 141\n",
      "Power BI developer 142\n",
      "Lead-Applied Data Scientist 143\n",
      "Data Engineer (India) 144\n",
      "Senior Applied Data Scientist 145\n",
      "Principal Consultant - ETL 146\n",
      "Senior Engineer - DataOps 147\n",
      "Sr. Data Scientist 148\n",
      "Data Scientist - AI/ML 149\n",
      "Data Engineer 150\n",
      "Junior Analyst, Digital/Data Science – Customer Service & Aftermarket 151\n",
      "Data Scientist 152\n",
      "Senior Data Engineer 153\n",
      "Senior Data Scientist 154\n",
      "Principal Data Engineer - India 155\n",
      "Data Engineer 156\n",
      "Data Engineer 157\n",
      "Lead Data Scientist (CV, DL, MLOps, LLM) 158\n",
      "Customer Data Operation-II 159\n",
      "Machine Learning Engineer 160\n",
      "Senior Data Engineer 161\n",
      "Senior Data Scientist / Data Scientist 2 162\n",
      "Data Analyst (all genders) 163\n",
      "Data Engineer (Java/Spark/AWS) 164\n",
      "Data Analytics Engineer 165\n",
      "Director - Engineering (Applied AI) 166\n",
      "Data Architect 167\n",
      "Sr. Data Engineer , MLOps, Visa Predictive Models 168\n",
      "BI Developer 169\n",
      "Associate Data Engineer 170\n",
      "Engineer, Data Development 171\n",
      "Associate Data Team Lead 172\n",
      "Assoc Engineer, Data Development 173\n",
      "Manager, Machine Learning 3 174\n",
      "Sr Manager - Data Analyst 175\n",
      "Test Automation Engineer – DH Data analytics 176\n",
      "AI Developer 2 177\n",
      "Associate Data Analyst 178\n",
      "Market Data Analyst (Pune) 179\n",
      "Data Scientist 180\n",
      "Lead Data Scientist 181\n",
      "Senior ML Engineer 182\n",
      "Staff / Sr. Staff Engineer - Big Data Engineering 183\n",
      "Lead Engineer, Database Engineering 184\n",
      "Data Team Lead 185\n",
      "EY - GDS Consulting - D&A - AWS Data Engineer - Senior 186\n",
      "Data Analyst - Digital Health 187\n",
      "Sr. Data Scientist 188\n",
      "Data Scientist - Image Processing 189\n",
      "Digital Health Data Engineering Manager 190\n",
      "Senior ML Engineer 191\n",
      "Data Quality Lead 192\n",
      "Digital Health Data Engineer 193\n",
      "Data Analyst 194\n",
      "Senior Data Scientist 195\n",
      "DW MSBI Developer 196\n",
      "Data Quality Analyst 197\n",
      "Data Analyst 198\n",
      "Data Analyst 199\n",
      "Data Engineer Lead 200\n",
      "Analyst, Business Intelligence 201\n",
      "Data Analyst - Onboarding and Subscription Management 202\n",
      "Quality Assurance Engineer - Data Quality Operations 203\n",
      "Big Data Engineer 204\n",
      "Operations Research Engineer IV 205\n",
      "Senior Consultant, Models Development 206\n",
      "Data Engineer 207\n",
      "Engineer Software Engineering - AI/ML 208\n",
      "Senior Data Product Scientist 209\n",
      "Senior Data Engineer 210\n",
      "Data / ML Engineer-4 211\n",
      "Senior Software Engineer - Data Engineering 212\n",
      "Phd Data Scientist 213\n",
      "Sr. Data Scientist - (SciPy, Scikit-learn, SparkM and PyTorch/Keras) 214\n",
      "Senior Data Analyst (Finance) 215\n",
      "Senior Data Scientist - Generative AI 216\n",
      "Cloud Engineer III- AI/ML 217\n",
      "Sr Engineer, Data Engineer 218\n",
      "Data Engineer 219\n",
      "Data Engineer 220\n",
      "Senior Consultant (Business Intelligence-D/W) 221\n",
      "Sr. Threat Research Analyst 222\n",
      "Lead Data Engineer 223\n",
      "Technical Support Engineer - Fluid Mechanics, AI/ML 224\n",
      "Senior Data Engineer - Analytics 225\n",
      "Associate, Market Data Operations (IDS)- GUR 226\n",
      "Senior Azure Big Data Engineer 227\n",
      "Sr. Software Engineer, Data Operations 228\n",
      "Senior Data Engineer-3 229\n",
      "Research Analyst, Corporate Research 230\n",
      "Staff Data Engineer, Content Intelligence 231\n",
      "Data Scientist (Analytic Engineer) 232\n",
      "Senior Data Scientist 233\n",
      "Senior ETL Developer 234\n",
      "Associate Data Scientist 235\n",
      "Principal Threat Research Analyst 236\n",
      "Unit Manager-Business Excellence (AI) 237\n",
      "Data Scientist 238\n",
      "Senior Manager, Business Intelligence & Insights 239\n",
      "Solution Architect - Power BI 240\n",
      "Assistant Manager - Data Analytics 241\n",
      "Staff Data Scientist 242\n",
      "HR Data Analyst (all genders) 243\n",
      "Data Engineer 244\n",
      "Senior Data Engineer - Glide 245\n",
      "Senior Data Engineer 246\n",
      "Sr Architect, Data Development 247\n",
      "Sr. Software Engineer - PySpark Job 248\n",
      "Data Analyst, Fraud & Payments Reporting 249\n",
      "Manager, Statistical Programming 250\n",
      "Senior Data modeler 251\n",
      "Engineer, Data Services 252\n",
      "Senior Software Development Engineer 2 (Data Analyst) 253\n",
      "Data Engineer 254\n",
      "Healthcare Research & Data Analyst 255\n",
      "Sr. Software Engineer - Microsoft Power BI Job 256\n",
      "Data Modeler 257\n",
      "Data Engineer 258\n",
      "Manager–Applied Data Scientist 259\n",
      "Lead Software Engineer - Data Engineering 260\n",
      "Data Scientist and Senior Data Scientist 261\n",
      "Data Analyst I 262\n",
      "Data Scientist II (Detection + ML) 263\n",
      "Data Scientist 2 264\n",
      "Sr/ Staff/Sr. Staff/Principal Engineer(Python | Spark | BigData | Kubernetes |SQL) 265\n",
      "Trading BI Developer 266\n",
      "Sr Staff Data Engineer 267\n",
      "Bigdata Java Developer -Manager 268\n",
      "EDE3-Senior Data Engineer-Hyderabad 269\n",
      "Senior Data scientist 270\n",
      "Senior Manager, Data Product Engineer 271\n",
      "EDE3 - Data Management Solution Engineer - Bangalore 272\n",
      "Lead BI Analyst – Data Engineering 273\n",
      "Operations Specialist (Data Quality Managment-3) 274\n",
      "Sr Associate Data Analyst - Workday Success Plans 275\n",
      "Sr/ Staff/Sr. Staff/ Principal Engineer (Machine Learning | Data Science | Python) 276\n",
      "Senior / Principal Engineer - Roads (Noida/Gurgaon/Hyderabad/Mumbai) Civil3d 277\n",
      "Data Analyst II 278\n",
      "Data / ML Engineer-4 279\n",
      "Senior Electrical Engineer (Chennai/Noida/Mumbai) 280\n",
      "Sr Applied Research Scientist/Engineer 281\n",
      "Data Analyst and Test Automation Expert EAC 2024 282\n",
      "Data Analyst III 283\n",
      "AVP- Data Analytics Microstrategy 284\n",
      "Data Analytics Associate 285\n",
      "Lead Data Scientist 286\n",
      "AWS  Data Engg Specialist 287\n",
      "HR Data Specialist 288\n",
      "Senior Analyst-Data Analysis 289\n",
      "Data Analyst 290\n",
      "Staff Data Engineer 291\n",
      "Data Scientists 2024 292\n",
      "Operations Specialist (Data Quality Managment-4) 293\n",
      "Mgr, Machine Learning Engrg Mgmt 294\n",
      "Manager (DB/ETL) 295\n",
      "Data Engineer 3 296\n",
      "Robotics Intern 297\n",
      "Software Development Engineer II - Big Data 297\n",
      "Robotics Engineer 298\n",
      "SystemTester AutonomousDriving EXM 2024 299\n",
      "Senior Data Engineer 300\n",
      "Master Data Management Specialist 301\n",
      "Senior Gen-AI Data Scientist 302\n",
      "Senior Data Engineer, e-commerce solutions-1 303\n",
      "Sr Data Engineer 304\n",
      "Engineering Manager - Machine Learning, Computer Vision and AI 305\n",
      "Senior Enterprise Solution Engineer - AI Software 306\n",
      "Software Engineer - NLP , Machine Learning 307\n",
      "Sr Data Operations Engineer 308\n",
      "Data Product Manager, BI Tools 309\n",
      "Research Engineer I (Civil/Structural) 310\n",
      "Sr. ETL Developer 311\n",
      "Sr Data Engineer - Territory Innovation 312\n",
      "MSBI with Power BI Developer | 6 to 9 years | PAN India 313\n",
      "Data Analyst 314\n",
      "Data Science (Generative AI) – Senior Manager – ANI 315\n",
      "Lead Data Analyst 316\n",
      "Senior Consultant (AI) 317\n",
      "Lead Data Engineer 318\n",
      "Senior Business Intelligence Developer 319\n",
      "Data Operations - Emerging Lead 320\n",
      "Data Engineer (Python) - Territory Innovation 321\n",
      "Senior Lead - Big Data Engineer 322\n",
      "Senior Data Engineer, Enabling Functions Data Product Enablement 323\n",
      "Business Intelligence Architect - Career 324\n",
      "Data Scientist 325\n",
      "Software Engineering Manager (Hadoop, Impala, Spark, C#, .Net) 326\n",
      "Associate Director – Big Data Architect - Engineering 327\n",
      "Data Analyst 328\n",
      "Data Scientist II 329\n",
      "Data Engineer 330\n",
      "Data Scientist - Machine Learning Operations (MLOps) Job 331\n",
      "Associate Data Engineer 332\n",
      "Senior Software Engineer - Java, BigData, Distributed 333\n",
      "Sr. BI Analyst 334\n",
      "Senior Data Visualization Engineer, Clinical Operations and Real World Data 335\n",
      "EY - GDS Consulting - Data Analytics - Data Modelliing - Senior 336\n",
      "DET AI Lead GDSN 337\n",
      "Senior Data Scientist 338\n",
      "Senior Software Engineer - Big Data 339\n",
      "Associate Director, Data Science 340\n",
      "Principal Data Engineer 341\n",
      "Power Bi - Data-warehouse Administrator 342\n",
      "Principal AI/ML Engineer 343\n",
      "Data Engineer I, Enabling Functions Data Product Enablement 344\n",
      "Principal Master Data Management (MDM) Engineer 345\n",
      "Manager - Data Engineering 346\n",
      "Bigdata Developer- Assistant Vice President 347\n",
      "Data Specialist, Center of Excellence – Sourcing 348\n",
      "Intelligent Automation - Conversational AI Platform Architect 349\n",
      "Sr. Data Scientist - Machine Learning (ML) Job 350\n",
      "Solution Architect Power BI Job 351\n",
      "Data Engineer 352\n",
      "Data Engineering Lead 353\n",
      "Data Analyst 1 354\n",
      "Sr Associate, Data Science 355\n",
      "Senior Data Engineer 356\n",
      "Senior Data Engineer 357\n",
      "Azure Big Data Specialist 358\n",
      "BI Developer 359\n",
      "Data Engineer 360\n",
      "Technical Specialist Data Management 361\n",
      "Senior Applied Data Scientist 362\n",
      "REF17619U-Python(ML+AI+chatbot) Assistant Manager - WTS 363\n",
      "EY - GDS Consulting - D&A - Data Scientist - Senior 364\n",
      "Analyst 4, Data Analytics 365\n",
      "Data Scientist II 366\n",
      "Data Scientist 367\n",
      "Data Analyst 368\n",
      "MLOps Engineer 369\n",
      "Senior Data Science Consultant 370\n",
      "Data engineer - Azure 371\n",
      "Intelligent Automation (RPA/AI/ML) Service Delivery Lead 372\n",
      "Product Data Analyst 373\n",
      "Senior Market Research Analyst 374\n",
      "Data Engineer- AWS 375\n",
      "Regional Data Scientist APAC - MD,FT COE 376\n",
      "Tech Lead - Azure Databricks Job 377\n",
      "Sr Director, Data Science 378\n",
      "Senior Manager, Data Quality 379\n",
      "Software Engineer - AI/ML 380\n",
      "Data Engineer 2 381\n",
      "Senior Data Scientist 382\n",
      "Data Engineer (Databricks / Scala / Python) 383\n",
      "Senior Analyst, Data Science & Analytics 384\n",
      "Senior Machine Learning Engineer (Python and SQL) 385\n",
      "Assistant Manager - ESG Data Reporting 386\n",
      "Senior Analytics Engineer 387\n",
      "Sr Staff Data Engineer 388\n",
      "IT Data Analytic Architect - Biopharma Commercial 389\n",
      "Manager / Senior Manager - Talent Acquisition (Work Location- Mumbai) 390\n",
      "Data Engineer-Teradata 391\n",
      "Staff Data Engineer 392\n",
      "Staff Machine Learning Engineer 393\n",
      "Software Engineer - Azure Databricks Job 394\n",
      "Wells Analytics Engineer 395\n",
      "Senior Data Operations Engineer, EF Data 396\n",
      "Data Engineer-Tableau 397\n",
      "Sr Data Engineer 398\n",
      "Business Intelligence Analyst, LBA Data Service 399\n",
      "Senior Associate II, Data Engineering 400\n",
      "Senior AI/ML Engineer 401\n",
      "Sr Data Scientist 402\n",
      "Manager Business Process Analyst-ETL / Datastage Senior Admin 403\n",
      "ETL + abinitio | 4 to 12 Years | Pune 404\n",
      "Director, Analytics Engineering 405\n",
      "Senior Manager Big Data Administration 406\n",
      "Assistant Manager - Data Quality 407\n",
      "Manager, Statistical Programming 408\n",
      "Sr Software Engineer - AI/ML 409\n",
      "AI/ML Engineer 410\n",
      "Artificial Intelligence Department Manager 411\n",
      "Data Analyst - Price hub 412\n",
      "BI Developer II (Power BI & SQL) 413\n",
      "Data Engineer with Python /Pyspark 414\n",
      "Enterprise Data Analyst 415\n",
      "Data Specialist 416\n",
      "Modelling / Data Science - Sr Analyst - Analytics 417\n",
      "Teaching Assistant Intern - Data Science 418\n",
      "Data Engineer 418\n",
      "Graduate Engineer Trainee- B.Tech/ B.E - Data Science/ IT/ CS 419\n",
      "AWS Data Dev Engineer 420\n",
      "Tech Prof-Data Science, Assoc 421\n",
      "Mgr, Data Engineer Mgmt 422\n",
      "Manager Data Science 423\n",
      "Machine Learning Engineer 424\n",
      "Sr Machine Learning Engineer 425\n",
      "Sr. Enterprise Data Analyst 426\n",
      "Business Intelligence Engineer II 427\n",
      "Staff Data Scientist (7Yrs to 9Yrs, TensorFlow , Python , Bigdata) 428\n",
      "Data Engineer 429\n",
      "Senior Gen-AI Data Scientist 430\n",
      "Data Analyst 431\n",
      "Data Engineer - Glide 432\n",
      "Data Engineer 433\n",
      "Data Architect, Data Pole 434\n",
      "Senior Data Scientist 435\n",
      "Staff Machine Learning Engineer 436\n",
      "Principal Machine Learning Engineer 437\n",
      "Associate Director, Data Science 438\n",
      "Business Development Manager (Contract/Telcom Services/Mumbai) 439\n",
      "Senior Manager, Clinical Data Management 440\n",
      "Senior Data Engineer 441\n",
      "Senior Machine Learning Engineer 442\n",
      "Team Lead- Field Operations (Chennai) 443\n",
      "Data Quality Analysis 444\n",
      "Data Management Services - Team Leader 445\n",
      "Lead, Decision Scientist 446\n",
      "Data Management Services - Manager 447\n",
      "TC CS IAM(IMP) Data Analyst Senior 448\n",
      "Data Analyst 449\n",
      "Data Engineer | 4 to 9 Years | Bangalore & Pune 450\n",
      "Data Analyst 451\n",
      "Associate Director Clinical Data Management 452\n",
      "Data Engineer 453\n",
      "Senior Data Scientist 454\n",
      "Database Developer, PSQL, ETL Tools - Assistant Vice President 455\n",
      "Software engineering PMTS (AI /ML) 456\n",
      "Machine Learning Specialist for Intelligent Automation 457\n",
      "Data Analyst (Fresher) 458\n",
      "Data Scientist 459\n",
      "Data Scientist 460\n",
      "Data Scientist 461\n",
      "Data Analyst | 4 to 9 Years | Bangalore & Pune 462\n",
      "Senior Data Engineer-2 463\n",
      "Senior Electrical Engineer (Chennai/Noida/Mumbai) 464\n",
      "Data Analyst 465\n",
      "Senior Machine Learning Engineer 466\n",
      "Sr Staff Machine Learning Engineer 467\n",
      "Computer Vision Intern 468\n",
      "Data Scientist (all genders) 468\n",
      "Data Analyst Qliksense 469\n",
      "Data Scientist for 3rd Party Data Management 470\n",
      "Project Data Manager 471\n",
      "Lead Engineer - HVAC (Noida/Chennai/Mumbai) 472\n",
      "Principal Engineer (Python, AWS Data Engineer) 473\n",
      "DMU Integration Engineer (Airframe) 474\n",
      "Data Engineer Fresher 475\n",
      "Senior Data Engineer 476\n",
      "Senior Data Scientist 477\n",
      "Data Operation Engineer 478\n",
      "Senior Full Stack Data Scientist 479\n",
      "GIS Data Engineer I 480\n",
      "Data Engineer III - IN (R-17837) 481\n",
      "DevOps Engineer, MLOps 482\n",
      "Data Engineer 483\n",
      "Staff Data Engineer(Snowflake/ETL) 484\n",
      "Software Engineer - Data Ops 485\n",
      "Senior Consultant - Tech Consulting -Azure Data Engineer - Kochi 486\n",
      "Java Spark Developer – Chennai - Officer/C11 487\n",
      "Machine Learning Engineer 5 488\n",
      "Engineering Manager - Data Engineering 489\n",
      "Analytics Engineer 490\n",
      "Data Science Manager 491\n",
      "Senior Data Engineer 492\n",
      "Project Owner - Data Ops and Analytics 493\n",
      "Data Analyst 494\n",
      "Cloud Technical Lead - AI & ML 495\n",
      "Data Analyst Associate 496\n",
      "Senior Applied Data Scientist 497\n",
      "Data Analyst - Data Ops 498\n",
      "Senior Data Engineer 499\n",
      "Research Data Analyst 500\n",
      "Sr Manager, Data Science and Digitalization 501\n",
      "Data Scientist 502\n",
      "Senior Data Scientist - India 503\n",
      "Business Data Analyst 504\n",
      "Business Intelligence Analyst 505\n",
      "MANAGER - BUSINESS PROCESS MODELS (Retail Credit Risk) 506\n",
      "Senior Associate - Python Developer - AI and Machine Learning and Chat GPT 507\n",
      "STREAM LEAD - BUSINESS PROCESS MODELS (Retail Credit Risk) 508\n",
      "SAP BTP Prompt Engineering Staff 509\n",
      "Manager - HR Data Analyst - RPO 510\n",
      "Manager (DB/ETL) 511\n",
      "Manager - Data Engineering 512\n",
      "Senior Data Scientist 513\n",
      "Sr. AWS Data Engineer Job 514\n",
      "Lead MLOPs Engineer 515\n",
      "Sr Manager, Data Engineering 516\n",
      "Associate Director, Data Product Manager 517\n",
      "Staff Engineer - Data Science 518\n",
      "Senior Data Engineer, Analytics 519\n",
      "Software Engineer II Data Engineering 520\n",
      "EY - GDS Consulting - D&A - Data Scientist - SM 521\n",
      "Cloud BI Data Engineer 522\n",
      "Senior Healthcare Research & Data Analyst 523\n",
      "Client Technology: SAP AI Developer Supply Chain Mgmt 524\n",
      "Data Engineer 2 525\n",
      "Data Analyst - Senior Member of Technical Staff (8-12 years) 526\n",
      "Senior Data Engineer - India 527\n",
      "Core Services Data Operations - Senior Engineer 528\n",
      "Azure Data Engineer Consultant - Tech Consulting - Mumbai 529\n",
      "Data Integration Developer Job 530\n",
      "Principal Data Scientist 531\n",
      "MLOps Engineer 532\n",
      "Associate, Internal Audit Data Analytics 533\n",
      "Senior Software Engineer, Data Platform 534\n",
      "Senior Software Engineer - Bigdata 535\n",
      "Assistant Manager-Data Analyst 536\n",
      "Senior Software Engineer - Search (Solr / Elasticsearch) 537\n",
      "Senior Software Engineer - Data Engineering (Java/Spark) - REF8502E 538\n",
      "Technical Architect - Data Modeling 1 Job 539\n",
      "Data Operations Associate 540\n",
      "Lead-Data Analysis 541\n",
      "Senior Analytics Engineer 542\n",
      "Senior Software Engineer - Data Engineering (Java/Spark) - REF8499G 543\n",
      "Data Integration Engineer 544\n",
      "Senior Consultant Data Engineer – Cloud 545\n",
      "Staff Data Scientist 546\n",
      "Sr Data Engineer 547\n",
      "Senior Data Engineer - Cloud 548\n",
      "Data Scientist 549\n",
      "Staff Machine Learning Engineer 550\n",
      "Sr Operations Research Engineer 551\n",
      "Sr Data Engineer 552\n",
      "Big Data Architect 553\n",
      "Staff Data Engineer - Cloud 554\n",
      "Data Engineer 555\n",
      "Senior Manager - Data Science 556\n",
      "Sr Director, Data Science 557\n",
      "GRR Data Engineering Analyst 558\n",
      "Databricks Developer 559\n",
      "Senior Generative AI Solutions Architect - Retail 560\n",
      "Senior Manager Big Data Administration 561\n",
      "Data Engineer 562\n",
      "Manager - Data Science 563\n",
      "Director, Data Engineering 564\n",
      "Staff Data Engineer 565\n",
      "Sr. Data Scientist 566\n",
      "AI Machine Learning Engineer 567\n",
      "Manager-Applied Data Scientist 568\n",
      "Data Scientist 569\n",
      "Associate, Data Engineer 570\n",
      "Business Intelligence Professional 571\n",
      "Lead-Applied Data Scientist 572\n",
      "Engineer - DocData Management 573\n",
      "HR Data Analyst(HR Data Reporting, Service Now, Workday) 574\n",
      "BI Developer 575\n",
      "Lead Engineer CS(Data Management) 576\n",
      "BI Developer 577\n",
      "BI Developer Specialist 578\n",
      "Data Manager 579\n",
      "QA Engineer – ETL 580\n",
      "Senior Analyst, Data Analysis 581\n",
      "Data Strategy Manager 582\n",
      "Product Data Analyst (L3) 583\n",
      "Sr. Manager Customer Data Analytics 584\n",
      "Business Intelligence Engineer II 585\n",
      "PowerBi Developer 586\n",
      "Data Analyst 587\n",
      "Business Intelligence Engineer, LMAQ 588\n",
      "Sr.Associate - Data Scientist 589\n",
      "Senior Data Analyst 590\n",
      "Data Scientist 591\n",
      "Data Engineer 592\n",
      "Associate Data Engineer 593\n",
      "Senior Data Scientist 594\n",
      "Sr Data Engineer 595\n",
      "Senior Analyst - Business Intelligence 596\n",
      "Senior Data Engineer 597\n",
      "Data Engineer 598\n",
      "Data Scientist 2 599\n",
      "Senior AI/ML Engineer 600\n",
      "Senior Manager Data Engineering 601\n",
      "Lead Data Scientist 602\n",
      "Senior Data Science Analyst (R-15489) 603\n",
      "Senior Data Engineer 604\n",
      "Analyst, Provider data management 605\n",
      "Vice President, NLP Engineer, Gen AI- Portfolio Management Group 606\n",
      "Analyst/Associate, Data Engineering- Gen AI 607\n",
      "Director - Data Management & Centralized Data Review 608\n",
      "Sr. Software Engineer- AWS, Big Data 609\n",
      "Lead/Senior Data Scientist 610\n",
      "Data Science Senior Advisor 611\n",
      "Analyst/Associate, Data Engineering- Gen AI, Portfolio Management Group 612\n",
      "Machine Learning Engineer/SRE 613\n",
      "Senior Manager - Data Management & Centralized Data Review 614\n",
      "Vice President – AI/ML Engineering 615\n",
      "Data Architect 616\n",
      "IND Senior Data Engineer 617\n",
      "Senior Data Engineer 618\n",
      "EDH Data Engineer 619\n",
      "Data Science Consultant 620\n",
      "Data Scientist 1 621\n",
      "Business Intelligence Engineer III, LMAQ 622\n",
      "Head of Data Quality, Ahmedabad 623\n",
      "Senior Analyst-Data Analysis 624\n",
      "Lead Data Scientist 625\n",
      "Expert Data Engineer 626\n",
      "Data Engineer - Intern 627\n",
      "ServiceNow Platform Senior AI Engineer 627\n",
      "Senior Analyst Business Intelligence 628\n",
      "Data Analyst - Senior Associate 629\n",
      "Research Scientist, Alexa Sensitive Content Intelligence (ASCI) 630\n",
      "Manager, Data Science 631\n",
      "Power BI/Power Apps Expert 632\n",
      "AI Architect 633\n",
      "Data Engineer 634\n",
      "Senior Data Engineer 635\n",
      "Principal Data Scientist 636\n",
      "Hadoop Developer (Hadoop/Nifi/Spark) 637\n",
      "Data Scientist Engineer 638\n",
      "Staff Engineer - Data scientist 639\n",
      "Data Architect 640\n",
      "Sr Data Engineer - Remote (Mumbai) 641\n",
      "Sr. Data Engineer 642\n",
      "Sr Data Engineer - Remote (Hyderabad) 643\n",
      "Professional 3, Information Technology - ETL. Apache Spark applications 644\n",
      "Senior Principal Data Engineer 645\n",
      "GSSO - Data Engineering - Specialist / Sr. Specialist 646\n",
      "Sr Data Engineer - Remote (Gurgaon) 647\n",
      "Data Engineering - Senior Consultant (Pyhon, SQL, PySpark) 648\n",
      "Sr Business Intelligence Analyst (Power BI) 649\n",
      "Data Integration Architect 650\n",
      "Associate-Business Intelligence&Data Warehousing 651\n",
      "Data Integration Architect 652\n",
      "Data Engineer Lead 653\n",
      "Data Engineer Lead 654\n",
      "Power BI/Power Apps Expert 655\n",
      "Sr. Systems Engineer - ETL, Python, SQL, Shell, Production Support 656\n",
      "Sr Power BI Developer 657\n",
      "Hadoop Developer (Hadoop/Nifi/Spark) 658\n",
      "Data Analyst,IND,Blr , Grp 5.1 659\n",
      "Lead Data Analyst 660\n",
      "Senior Specialist - Data Engineer 661\n",
      "Data Strategy | 6-13 Years | PAN India 662\n",
      "Data Engineer 663\n",
      "Data Engineer 664\n",
      "Data Engineering Specialist 665\n",
      "Lead, Decision Scientist 666\n",
      "Sr Power BI Developer 667\n",
      "Snowflake Data Engineer | 4 TO 10 YEARS | PAN INDIA 668\n",
      "Lead Data Engineer (m/f/d) 669\n",
      "IT Architecture Specialist-Data quality and Asset management 670\n",
      "Machine Learning Engineer 671\n",
      "Advanced Data Scientist 672\n",
      "Mts Software Engineer (Python Programming and Machine Learning) 673\n",
      "Cloud Technical Lead - AI & ML 674\n",
      "Sr Machine Learning Engineer 675\n",
      "Chatbot|7-9yrs|Hyderabad,Kolkata,Noida 676\n",
      "Data Science Lead Technologist 677\n",
      "Power BI Developer | 6 to 9 years | PAN India 678\n",
      "Data Engineer 679\n",
      "Senior Applied Data Scientist 680\n",
      "Senior Cloud Data Engineer 681\n",
      "Open AI Developer | 4 to 10 years | PAN India 682\n",
      "Cloud Engineer- AI & ML 683\n",
      "Member of Technical Staff - (AI/ML Engineer - GenAI) 684\n",
      "Data Architect 685\n",
      "Senior Data Analyst 686\n",
      "MicroStrategy Development Analytics Engineer (all genders) 687\n",
      "Data Engineer/Senior Data Engineer 688\n",
      "Data Engineer 689\n",
      "Graduate Data Science & AI Engineer 690\n",
      "Business Processes Consultant- Data Management (BTP) 691\n",
      "Data Scientist 692\n",
      "Senior Account Manager-Business Intelligence 693\n",
      "Data Analytics Advisor 694\n",
      "Sr. Analyst - Global Data Management 695\n",
      "Data Scientist (all genders) 696\n",
      "Software Engineer-SE - AWS Big Data 697\n",
      "Sr. Manager - ML Operations 698\n",
      "Manager, Statistical Programming 699\n",
      "Data Engineer 1 700\n",
      "ServiceNow Platform AI Engineer 701\n",
      "Senior Data Analyst 702\n",
      "Senior Software Engineer- Data Science 703\n",
      "Lead-Business Intelligence&Data Warehousing 704\n",
      "Senior BD Data Analytics Consultant 705\n",
      "Senior Data Integration Engineer 706\n",
      "Project Engineer- Data Management 707\n",
      "Trainee - Data Scientist 708\n",
      "Director, Data Analytics Engineering 709\n",
      "Data Architect 710\n",
      "Associate Data Scientist (ML & NLP) 711\n",
      "Data Analyst, Tenant & Employment Solutions 712\n",
      "ML Ops Engineer 713\n",
      "Communication Analyst - Business Intelligence 714\n",
      "Lead Artificial Intelligence Architect 715\n",
      "Data Engineer Lead 716\n",
      "Software Engineering PMTS- Java & Big data 717\n",
      "Associate Data Engineering 718\n",
      "Data Scientist 719\n",
      "Senior Machine Learning Engineer - GenAI 720\n",
      "AI/ML Engineer 721\n",
      "Software Engineer - Data Ops 722\n",
      "Tableau Developer / ETL 723\n",
      "Process Specialist, Product & Supply Master Data Management 724\n",
      "Senior Data Engineer - MySQL, SSIS, SSRS 725\n",
      "Lead-Data Analysis 726\n",
      "Senior Consultant Data Engineer – Cloud 727\n",
      "Project Assistant - Power BI Developer - Gurugram 728\n",
      "Senior Data Engineer 729\n",
      "Power BI Developer/Analyst 730\n",
      "Lead NLP Engineer 731\n",
      "Senior Data Analyst 732\n",
      "Senior Machine Learning Engineer 733\n",
      "Data Engineer 734\n",
      "Geospatial Data Scientist 735\n",
      "Staff AI Scientist 736\n",
      "Civil 3D Technician (Chennai/Gurgaon/Noida/Mumbai) 737\n",
      "Data Engineer-Associate-P&T 738\n",
      "Senior Data Engineer 739\n",
      "Staff Machine Learning Engineer (MLOps) 740\n",
      "Data Engineer - I 741\n",
      "Sr. Associate BI and Data Analyst (Tableau, SQL) 742\n",
      "Software Engineering SMTS- Data Science & ETL 743\n",
      "Data Scientist 744\n",
      "Sr. Engineering Manager - AI/ML 745\n",
      "Data Science Manager - LLM, Deep Learning, Machine Learning - REF7997L 746\n",
      "Data Engineer-Senior Associate-P&T 747\n",
      "Business Analyst with SQL and Data Management - Assistant Manger 748\n",
      "AI/ML Scientist 749\n",
      "Senior Software Engineer- MLOps Platform DevOps Lead 750\n",
      "IET – CP - Azure Databricks - Associate 2 - Bangalore 751\n",
      "Manager - Data Engineer - US Tech - P&T 752\n",
      "Data Engineer 753\n",
      "Senior Software Engineer II - Data Engineering 754\n",
      "AI Software Development Engineer 755\n",
      "Data Scientist 756\n",
      "Data Analytics Manager 757\n",
      "Business Intelligent Specialist 758\n",
      "Senior Site Reliability Engineer, Data Science Platform 759\n",
      "Senior Manager Data Engineering 760\n",
      "Senior Data Modeler 761\n",
      "ML Engineering Intern (6 months) 762\n",
      "Product Management - Vice President - Data Product(Risk Product team) 762\n",
      "Presales Data Architect – Azure 763\n",
      "Data Analyst - Contractual 764\n",
      "Machine Learning Engineer 765\n",
      "Sr Machine Learning Engineer 766\n",
      "Data Scientist 767\n",
      "Senior Gen-AI Developer 768\n",
      "Senior Data Engineer 769\n",
      "R&D Staff Software Development Engineer 1 (Java & Spark) 770\n",
      "Senior Data Engineer, e-commerce solutions-2 771\n",
      "Associate Lead Product Data Management 772\n",
      "Big Data Engineer (Pyspark, Python and SQL)) 773\n",
      "Python Developer and Data Modeler 774\n",
      "Software Engineering MTS-AI/ML 775\n",
      "State Street Global Advisor- ESG Portfolio Characteristics-Data Engineer- Manager 776\n",
      "Specialist, SIMPHONI Data Management Tester, Research IT 777\n",
      "Data Science NLP developer 778\n",
      "Product Data Analyst 779\n",
      "Sr. Associate Revenue Optimization Data Analyst 780\n",
      "Senior Principal - Business Intelligence Architect 781\n",
      "Engineer, Data Analytics 782\n",
      "Machine Learning Specialist for Intelligent Automation 783\n",
      "Senior Data Scientist (AI, ML, CV, MLOps) 784\n",
      "Data Analytics Manager (Data Governance) 785\n",
      "Computer Vision Architect 786\n",
      "Senior Manager, Statistical Programming, SDTM Implementation 787\n",
      "Staff Data Scientist (7Yrs to 9Yrs, TensorFlow , Python , Bigdata) 788\n",
      "Lead ML & AI Engineer 789\n",
      "Data Scientist - Sr. Consultant level ( 9Yrs to 11yrs, TensorFlow , Python,R , Bigdata) 790\n",
      "Lead Data Modeler 791\n",
      "Senior Data Analyst 792\n",
      "Gen AI Architect 793\n",
      "Sr. Systems Engineer - SQL, Shell, ETL Admin, Python 794\n",
      "Marketing Data Analyst 795\n"
     ]
    }
   ],
   "source": [
    "titles=[]\n",
    "companies=[]\n",
    "locations=[]\n",
    "requirements=[]\n",
    "noofreviews=[]\n",
    "salaries = []\n",
    "descriptions=[]\n",
    "count = 0\n",
    "\n",
    "for link in links:\n",
    "        driver.get(link)\n",
    "        #pane = card.find_elements(By.XPATH,\"//div[@id='jobsearch-ViewjobPaneWrapper']\")\n",
    "        try:\n",
    "            title = driver.find_element(By.XPATH,\"//h1[contains(@class,'display-5')]\").text\n",
    "        except:\n",
    "            title = 'None'\n",
    "        titles.append(title)\n",
    "        print(title,count)\n",
    "        try:\n",
    "            company = driver.find_element(By.XPATH,\"//h2[@class='h5']\").text\n",
    "        except:\n",
    "            company = 'None'\n",
    "        companies.append(company)\n",
    "        try: \n",
    "            location =  driver.find_element(By.XPATH,\"//h3[contains(@class,'lead py-3')] \").text\n",
    "        except:\n",
    "            location = 'None'\n",
    "        locations.append(location)\n",
    "        try:\n",
    "            requirement= driver.find_element(By.XPATH,\"//span[contains(@title,'minimum required experience')]\").text\n",
    "        except:\n",
    "            rating='None'\n",
    "        requirements.append(requirement)\n",
    "        try:\n",
    "            salary =  driver.find_element(By.XPATH,\"//span[contains(@title,' annual salary ')] \").text\n",
    "            if salary != 'None':\n",
    "                count +=1\n",
    "        except:\n",
    "            salary = 'None'\n",
    "        salaries.append(salary)\n",
    "        try:\n",
    "             description =  driver.find_element(By.XPATH,\"//div[contains(@class,'job-description')]  \").text\n",
    "        except:\n",
    "            description = 'None'\n",
    "        descriptions.append(description)\n",
    "\n",
    "        \n",
    "            \n",
    "            \n",
    "\n",
    "        \n",
    "        \n",
    "    "
   ]
  },
  {
   "cell_type": "code",
   "execution_count": 91,
   "id": "3aa1d106-9a13-4364-846c-699f151b83f9",
   "metadata": {},
   "outputs": [
    {
     "data": {
      "text/plain": [
       "[]"
      ]
     },
     "execution_count": 91,
     "metadata": {},
     "output_type": "execute_result"
    }
   ],
   "source": [
    "titles"
   ]
  },
  {
   "cell_type": "code",
   "execution_count": 98,
   "id": "b7a8db6b-aa26-4f25-8266-60390a0bf0a0",
   "metadata": {},
   "outputs": [],
   "source": [
    "import pandas as pd\n",
    "df = pd.DataFrame()\n",
    "df['titles'] = titles\n",
    "df['companies'] = companies\n",
    "df['locations'] = locations\n",
    "df['requirements'] = requirements\n",
    "\n",
    "df['descriptions'] = descriptions\n",
    "df['salaries'] = salaries\n"
   ]
  },
  {
   "cell_type": "code",
   "execution_count": 99,
   "id": "c35a94fd-c429-4510-a44c-49035bca449c",
   "metadata": {},
   "outputs": [],
   "source": [
    "df.to_csv('aijobnet.csv')"
   ]
  },
  {
   "cell_type": "code",
   "execution_count": 22,
   "id": "f8bffec1-04dc-45b7-a3ea-6761ccec8839",
   "metadata": {},
   "outputs": [
    {
     "data": {
      "text/plain": [
       "371"
      ]
     },
     "execution_count": 22,
     "metadata": {},
     "output_type": "execute_result"
    }
   ],
   "source": [
    "\n",
    "count = 0\n",
    "for s in salaries:\n",
    "    if  s != 'None':\n",
    "        count += 1\n",
    "count"
   ]
  },
  {
   "cell_type": "code",
   "execution_count": 145,
   "id": "f288737b-b19c-4ca3-81cc-352f90cd1832",
   "metadata": {},
   "outputs": [
    {
     "name": "stdout",
     "output_type": "stream",
     "text": [
      "Senior Data scientist <selenium.webdriver.remote.webelement.WebElement (session=\"944691c2de861b10086eca457f75afd0\", element=\"0A0D0E8FF3D66222D38588259D4030EA_element_50\")>\n",
      "Deep Learning Engineer <selenium.webdriver.remote.webelement.WebElement (session=\"944691c2de861b10086eca457f75afd0\", element=\"0A0D0E8FF3D66222D38588259D4030EA_element_51\")>\n",
      "Data Science trainer <selenium.webdriver.remote.webelement.WebElement (session=\"944691c2de861b10086eca457f75afd0\", element=\"0A0D0E8FF3D66222D38588259D4030EA_element_52\")>\n",
      "Senior Associate - Data Science <selenium.webdriver.remote.webelement.WebElement (session=\"944691c2de861b10086eca457f75afd0\", element=\"0A0D0E8FF3D66222D38588259D4030EA_element_53\")>\n",
      "Manager GenAi Data Science <selenium.webdriver.remote.webelement.WebElement (session=\"944691c2de861b10086eca457f75afd0\", element=\"0A0D0E8FF3D66222D38588259D4030EA_element_54\")>\n",
      "DATA SCIENCE TRAINER <selenium.webdriver.remote.webelement.WebElement (session=\"944691c2de861b10086eca457f75afd0\", element=\"0A0D0E8FF3D66222D38588259D4030EA_element_55\")>\n",
      "Data Scientist (3+years) <selenium.webdriver.remote.webelement.WebElement (session=\"944691c2de861b10086eca457f75afd0\", element=\"0A0D0E8FF3D66222D38588259D4030EA_element_56\")>\n",
      "Technical Content Creator - Artificial Intelligence <selenium.webdriver.remote.webelement.WebElement (session=\"944691c2de861b10086eca457f75afd0\", element=\"0A0D0E8FF3D66222D38588259D4030EA_element_57\")>\n",
      "Data Science - Faculty <selenium.webdriver.remote.webelement.WebElement (session=\"944691c2de861b10086eca457f75afd0\", element=\"0A0D0E8FF3D66222D38588259D4030EA_element_58\")>\n",
      "Director - Data Science-Conversational AI <selenium.webdriver.remote.webelement.WebElement (session=\"944691c2de861b10086eca457f75afd0\", element=\"0A0D0E8FF3D66222D38588259D4030EA_element_59\")>\n",
      "Data Scientist - Image Processing <selenium.webdriver.remote.webelement.WebElement (session=\"944691c2de861b10086eca457f75afd0\", element=\"0A0D0E8FF3D66222D38588259D4030EA_element_60\")>\n",
      "ML Engineer - Computer Vision <selenium.webdriver.remote.webelement.WebElement (session=\"944691c2de861b10086eca457f75afd0\", element=\"0A0D0E8FF3D66222D38588259D4030EA_element_61\")>\n",
      "Machine Learning course <selenium.webdriver.remote.webelement.WebElement (session=\"944691c2de861b10086eca457f75afd0\", element=\"0A0D0E8FF3D66222D38588259D4030EA_element_62\")>\n",
      "Principal - Data Scientist <selenium.webdriver.remote.webelement.WebElement (session=\"944691c2de861b10086eca457f75afd0\", element=\"0A0D0E8FF3D66222D38588259D4030EA_element_63\")>\n",
      "Data Scientist - APJ Online Marketplaces Business Intelligence and Optimization Lead <selenium.webdriver.remote.webelement.WebElement (session=\"944691c2de861b10086eca457f75afd0\", element=\"0A0D0E8FF3D66222D38588259D4030EA_element_64\")>\n"
     ]
    }
   ],
   "source": [
    "for i in range(0,1):\n",
    "    cards = driver.find_elements(By.XPATH,\"//div[contains(@class, 'cardOutline')]\")\n",
    "    for card in cards:\n",
    "            card.click()\n",
    "            print(card.find_element(By.XPATH,\".//span[contains(@id,'jobTitle')]\").text,card)\n",
    "    "
   ]
  },
  {
   "cell_type": "code",
   "execution_count": 200,
   "id": "cec7a5b2-6fec-4efe-aa4f-1184caf525d1",
   "metadata": {},
   "outputs": [],
   "source": [
    "  cards = driver.find_elements(By.XPATH,\"//div[contains(@class, 'cardOutline')]\")"
   ]
  },
  {
   "cell_type": "code",
   "execution_count": 201,
   "id": "9a48b85d-26d1-42a1-b3c3-1b091f5bda4d",
   "metadata": {},
   "outputs": [],
   "source": [
    "cards[0].click()"
   ]
  },
  {
   "cell_type": "code",
   "execution_count": 188,
   "id": "0e0b3958-82c0-4731-b416-c023a49ff43e",
   "metadata": {},
   "outputs": [],
   "source": [
    " pane = driver.find_elements(By.XPATH,\"//div[@id='jobsearch-ViewjobPaneWrapper']\")[0]"
   ]
  },
  {
   "cell_type": "code",
   "execution_count": 189,
   "id": "e29c3eeb-524b-42de-9a4c-bc0668feded2",
   "metadata": {},
   "outputs": [
    {
     "data": {
      "text/plain": [
       "<selenium.webdriver.remote.webelement.WebElement (session=\"944691c2de861b10086eca457f75afd0\", element=\"277C6C30AE8D152C4E6DD4D8F6CE8E2C_element_12514\")>"
      ]
     },
     "execution_count": 189,
     "metadata": {},
     "output_type": "execute_result"
    }
   ],
   "source": [
    "    pane"
   ]
  },
  {
   "cell_type": "code",
   "execution_count": 202,
   "id": "dfb8281b-925a-4585-8a13-c2db095c8baa",
   "metadata": {},
   "outputs": [
    {
     "data": {
      "text/plain": [
       "[<selenium.webdriver.remote.webelement.WebElement (session=\"944691c2de861b10086eca457f75afd0\", element=\"B4B774FC151CD85174A0EF19D3630B63_element_16397\")>]"
      ]
     },
     "execution_count": 202,
     "metadata": {},
     "output_type": "execute_result"
    }
   ],
   "source": [
    "driver.find_elements(By.XPATH,\".//div[@role='img']\")"
   ]
  },
  {
   "cell_type": "code",
   "execution_count": 203,
   "id": "45e1e766-5d7a-4611-b66d-7d52b1b67a58",
   "metadata": {},
   "outputs": [
    {
     "data": {
      "text/plain": [
       "'3.9 out of 5 stars'"
      ]
     },
     "execution_count": 203,
     "metadata": {},
     "output_type": "execute_result"
    }
   ],
   "source": [
    "r = driver.find_elements(By.XPATH,\".//div[@role='img']\")[0]\n",
    "r.get_attribute('aria-label')"
   ]
  },
  {
   "cell_type": "code",
   "execution_count": 162,
   "id": "fe1ca7b3-6765-412c-9732-b0d17ec31905",
   "metadata": {},
   "outputs": [
    {
     "data": {
      "text/plain": [
       "'Analytics Engineer (WFH)'"
      ]
     },
     "execution_count": 162,
     "metadata": {},
     "output_type": "execute_result"
    }
   ],
   "source": [
    "cards[4].find_element(By.XPATH,\".//span[contains(@id,'jobTitle')]\").text"
   ]
  },
  {
   "cell_type": "code",
   "execution_count": 142,
   "id": "e83f5992-4f8e-4146-97c8-0d7bbce669f9",
   "metadata": {},
   "outputs": [
    {
     "data": {
      "text/plain": [
       "[<selenium.webdriver.remote.webelement.WebElement (session=\"944691c2de861b10086eca457f75afd0\", element=\"E9B5E468C66D10E55FF5D8F606EA194D_element_1540\")>,\n",
       " <selenium.webdriver.remote.webelement.WebElement (session=\"944691c2de861b10086eca457f75afd0\", element=\"E9B5E468C66D10E55FF5D8F606EA194D_element_1550\")>,\n",
       " <selenium.webdriver.remote.webelement.WebElement (session=\"944691c2de861b10086eca457f75afd0\", element=\"E9B5E468C66D10E55FF5D8F606EA194D_element_1551\")>,\n",
       " <selenium.webdriver.remote.webelement.WebElement (session=\"944691c2de861b10086eca457f75afd0\", element=\"E9B5E468C66D10E55FF5D8F606EA194D_element_1552\")>,\n",
       " <selenium.webdriver.remote.webelement.WebElement (session=\"944691c2de861b10086eca457f75afd0\", element=\"E9B5E468C66D10E55FF5D8F606EA194D_element_1553\")>,\n",
       " <selenium.webdriver.remote.webelement.WebElement (session=\"944691c2de861b10086eca457f75afd0\", element=\"E9B5E468C66D10E55FF5D8F606EA194D_element_1554\")>,\n",
       " <selenium.webdriver.remote.webelement.WebElement (session=\"944691c2de861b10086eca457f75afd0\", element=\"E9B5E468C66D10E55FF5D8F606EA194D_element_1555\")>,\n",
       " <selenium.webdriver.remote.webelement.WebElement (session=\"944691c2de861b10086eca457f75afd0\", element=\"E9B5E468C66D10E55FF5D8F606EA194D_element_1556\")>,\n",
       " <selenium.webdriver.remote.webelement.WebElement (session=\"944691c2de861b10086eca457f75afd0\", element=\"E9B5E468C66D10E55FF5D8F606EA194D_element_1557\")>,\n",
       " <selenium.webdriver.remote.webelement.WebElement (session=\"944691c2de861b10086eca457f75afd0\", element=\"E9B5E468C66D10E55FF5D8F606EA194D_element_1558\")>,\n",
       " <selenium.webdriver.remote.webelement.WebElement (session=\"944691c2de861b10086eca457f75afd0\", element=\"E9B5E468C66D10E55FF5D8F606EA194D_element_1559\")>,\n",
       " <selenium.webdriver.remote.webelement.WebElement (session=\"944691c2de861b10086eca457f75afd0\", element=\"E9B5E468C66D10E55FF5D8F606EA194D_element_1560\")>,\n",
       " <selenium.webdriver.remote.webelement.WebElement (session=\"944691c2de861b10086eca457f75afd0\", element=\"E9B5E468C66D10E55FF5D8F606EA194D_element_1561\")>,\n",
       " <selenium.webdriver.remote.webelement.WebElement (session=\"944691c2de861b10086eca457f75afd0\", element=\"E9B5E468C66D10E55FF5D8F606EA194D_element_1562\")>,\n",
       " <selenium.webdriver.remote.webelement.WebElement (session=\"944691c2de861b10086eca457f75afd0\", element=\"E9B5E468C66D10E55FF5D8F606EA194D_element_1563\")>]"
      ]
     },
     "execution_count": 142,
     "metadata": {},
     "output_type": "execute_result"
    }
   ],
   "source": [
    "cards"
   ]
  },
  {
   "cell_type": "code",
   "execution_count": 118,
   "id": "b010e8a8-931c-4ebe-861d-58bfc766a001",
   "metadata": {},
   "outputs": [],
   "source": [
    "a.append(2)"
   ]
  },
  {
   "cell_type": "code",
   "execution_count": 119,
   "id": "c3d36d70-56d9-41a1-bea4-f8b5ce0429d0",
   "metadata": {},
   "outputs": [
    {
     "data": {
      "text/plain": [
       "[2]"
      ]
     },
     "execution_count": 119,
     "metadata": {},
     "output_type": "execute_result"
    }
   ],
   "source": [
    "a"
   ]
  },
  {
   "cell_type": "code",
   "execution_count": null,
   "id": "b1ddd075-b705-4fee-86d4-58cb17fcf46f",
   "metadata": {},
   "outputs": [],
   "source": []
  }
 ],
 "metadata": {
  "kernelspec": {
   "display_name": "Python 3 (ipykernel)",
   "language": "python",
   "name": "python3"
  },
  "language_info": {
   "codemirror_mode": {
    "name": "ipython",
    "version": 3
   },
   "file_extension": ".py",
   "mimetype": "text/x-python",
   "name": "python",
   "nbconvert_exporter": "python",
   "pygments_lexer": "ipython3",
   "version": "3.10.13"
  }
 },
 "nbformat": 4,
 "nbformat_minor": 5
}
