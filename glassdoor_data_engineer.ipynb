{
 "cells": [
  {
   "cell_type": "code",
   "execution_count": 5,
   "id": "8e34c00b-f608-498b-8f7c-5fb43f8c5e7d",
   "metadata": {},
   "outputs": [],
   "source": [
    "website = 'https://www.glassdoor.co.in/Job'\n",
    "path = 'chromedriver-win64/chromedriver-win64/chromedriver.exe'"
   ]
  },
  {
   "cell_type": "code",
   "execution_count": 6,
   "id": "8bfb3fa6-57b0-453f-a8c2-8bc7aa7dbf88",
   "metadata": {},
   "outputs": [],
   "source": [
    "from selenium import webdriver\n",
    "from selenium.webdriver.chrome.service import Service\n",
    "from selenium.webdriver.support.ui import Select\n",
    "from selenium.webdriver.common.keys import Keys\n",
    "from selenium.webdriver.common.by import By\n",
    "from selenium.webdriver import ActionChains\n",
    "from selenium.webdriver.common.actions.wheel_input import ScrollOrigin\n",
    "from selenium.webdriver.support.wait import WebDriverWait"
   ]
  },
  {
   "cell_type": "code",
   "execution_count": 7,
   "id": "9a116a6a-fec2-44bc-80bc-1ffb0f27a7a2",
   "metadata": {},
   "outputs": [],
   "source": [
    "#s = Service('chromedriver-win64/chromedriver-win64/chromedriver.exe')"
   ]
  },
  {
   "cell_type": "code",
   "execution_count": 8,
   "id": "a3fe1d41-7dc0-4c2a-a448-026d3fa6f68f",
   "metadata": {},
   "outputs": [],
   "source": [
    "import undetected_chromedriver as uc \n",
    "import time \n",
    "options = uc.ChromeOptions() \n",
    "#options.headless = False  # Set headless to False to run in non-headless mode\n",
    "options.headless = False\n",
    "driver = uc.Chrome(use_subprocess=True, options=options) \n"
   ]
  },
  {
   "cell_type": "code",
   "execution_count": 9,
   "id": "401dedc8-f372-4a14-8885-8333b026c13f",
   "metadata": {},
   "outputs": [],
   "source": [
    "#driver = webdriver.Chrome(service = s)"
   ]
  },
  {
   "cell_type": "code",
   "execution_count": 10,
   "id": "f856f21f-26e3-4cf4-8f34-9c0480929a49",
   "metadata": {},
   "outputs": [],
   "source": [
    "driver.get(website)"
   ]
  },
  {
   "cell_type": "code",
   "execution_count": 94,
   "id": "1be806f8-000d-42ea-8496-785f0bb20a38",
   "metadata": {},
   "outputs": [
    {
     "ename": "NoSuchElementException",
     "evalue": "Message: no such element: Unable to locate element: {\"method\":\"xpath\",\"selector\":\"//input[@type='search'] \"}\n  (Session info: chrome=120.0.6099.224); For documentation on this error, please visit: https://www.selenium.dev/documentation/webdriver/troubleshooting/errors#no-such-element-exception\nStacktrace:\n\tGetHandleVerifier [0x00946EE3+174339]\n\t(No symbol) [0x00870A51]\n\t(No symbol) [0x00586FF6]\n\t(No symbol) [0x005B9876]\n\t(No symbol) [0x005B9C2C]\n\t(No symbol) [0x005EBD42]\n\t(No symbol) [0x005D7054]\n\t(No symbol) [0x005EA104]\n\t(No symbol) [0x005D6DA6]\n\t(No symbol) [0x005B1034]\n\t(No symbol) [0x005B1F8D]\n\tGetHandleVerifier [0x009E4B1C+820540]\n\tsqlite3_dbdata_init [0x00AA53EE+653550]\n\tsqlite3_dbdata_init [0x00AA4E09+652041]\n\tsqlite3_dbdata_init [0x00A997CC+605388]\n\tsqlite3_dbdata_init [0x00AA5D9B+656027]\n\t(No symbol) [0x0087FE6C]\n\t(No symbol) [0x008783B8]\n\t(No symbol) [0x008784DD]\n\t(No symbol) [0x00865818]\n\tBaseThreadInitThunk [0x76687BA9+25]\n\tRtlInitializeExceptionChain [0x7794BD2B+107]\n\tRtlClearBits [0x7794BCAF+191]\n",
     "output_type": "error",
     "traceback": [
      "\u001b[1;31m---------------------------------------------------------------------------\u001b[0m",
      "\u001b[1;31mNoSuchElementException\u001b[0m                    Traceback (most recent call last)",
      "Cell \u001b[1;32mIn[94], line 1\u001b[0m\n\u001b[1;32m----> 1\u001b[0m search_bar \u001b[38;5;241m=\u001b[39m   \u001b[43mdriver\u001b[49m\u001b[38;5;241;43m.\u001b[39;49m\u001b[43mfind_element\u001b[49m\u001b[43m(\u001b[49m\u001b[43mBy\u001b[49m\u001b[38;5;241;43m.\u001b[39;49m\u001b[43mXPATH\u001b[49m\u001b[43m,\u001b[49m\u001b[38;5;124;43m\"\u001b[39;49m\u001b[38;5;124;43m//input[@type=\u001b[39;49m\u001b[38;5;124;43m'\u001b[39;49m\u001b[38;5;124;43msearch\u001b[39;49m\u001b[38;5;124;43m'\u001b[39;49m\u001b[38;5;124;43m] \u001b[39;49m\u001b[38;5;124;43m\"\u001b[39;49m\u001b[43m)\u001b[49m\n",
      "File \u001b[1;32m~\\anaconda3\\lib\\site-packages\\selenium\\webdriver\\remote\\webdriver.py:742\u001b[0m, in \u001b[0;36mWebDriver.find_element\u001b[1;34m(self, by, value)\u001b[0m\n\u001b[0;32m    739\u001b[0m     by \u001b[38;5;241m=\u001b[39m By\u001b[38;5;241m.\u001b[39mCSS_SELECTOR\n\u001b[0;32m    740\u001b[0m     value \u001b[38;5;241m=\u001b[39m \u001b[38;5;124mf\u001b[39m\u001b[38;5;124m'\u001b[39m\u001b[38;5;124m[name=\u001b[39m\u001b[38;5;124m\"\u001b[39m\u001b[38;5;132;01m{\u001b[39;00mvalue\u001b[38;5;132;01m}\u001b[39;00m\u001b[38;5;124m\"\u001b[39m\u001b[38;5;124m]\u001b[39m\u001b[38;5;124m'\u001b[39m\n\u001b[1;32m--> 742\u001b[0m \u001b[38;5;28;01mreturn\u001b[39;00m \u001b[38;5;28;43mself\u001b[39;49m\u001b[38;5;241;43m.\u001b[39;49m\u001b[43mexecute\u001b[49m\u001b[43m(\u001b[49m\u001b[43mCommand\u001b[49m\u001b[38;5;241;43m.\u001b[39;49m\u001b[43mFIND_ELEMENT\u001b[49m\u001b[43m,\u001b[49m\u001b[43m \u001b[49m\u001b[43m{\u001b[49m\u001b[38;5;124;43m\"\u001b[39;49m\u001b[38;5;124;43musing\u001b[39;49m\u001b[38;5;124;43m\"\u001b[39;49m\u001b[43m:\u001b[49m\u001b[43m \u001b[49m\u001b[43mby\u001b[49m\u001b[43m,\u001b[49m\u001b[43m \u001b[49m\u001b[38;5;124;43m\"\u001b[39;49m\u001b[38;5;124;43mvalue\u001b[39;49m\u001b[38;5;124;43m\"\u001b[39;49m\u001b[43m:\u001b[49m\u001b[43m \u001b[49m\u001b[43mvalue\u001b[49m\u001b[43m}\u001b[49m\u001b[43m)\u001b[49m[\u001b[38;5;124m\"\u001b[39m\u001b[38;5;124mvalue\u001b[39m\u001b[38;5;124m\"\u001b[39m]\n",
      "File \u001b[1;32m~\\anaconda3\\lib\\site-packages\\selenium\\webdriver\\remote\\webdriver.py:348\u001b[0m, in \u001b[0;36mWebDriver.execute\u001b[1;34m(self, driver_command, params)\u001b[0m\n\u001b[0;32m    346\u001b[0m response \u001b[38;5;241m=\u001b[39m \u001b[38;5;28mself\u001b[39m\u001b[38;5;241m.\u001b[39mcommand_executor\u001b[38;5;241m.\u001b[39mexecute(driver_command, params)\n\u001b[0;32m    347\u001b[0m \u001b[38;5;28;01mif\u001b[39;00m response:\n\u001b[1;32m--> 348\u001b[0m     \u001b[38;5;28;43mself\u001b[39;49m\u001b[38;5;241;43m.\u001b[39;49m\u001b[43merror_handler\u001b[49m\u001b[38;5;241;43m.\u001b[39;49m\u001b[43mcheck_response\u001b[49m\u001b[43m(\u001b[49m\u001b[43mresponse\u001b[49m\u001b[43m)\u001b[49m\n\u001b[0;32m    349\u001b[0m     response[\u001b[38;5;124m\"\u001b[39m\u001b[38;5;124mvalue\u001b[39m\u001b[38;5;124m\"\u001b[39m] \u001b[38;5;241m=\u001b[39m \u001b[38;5;28mself\u001b[39m\u001b[38;5;241m.\u001b[39m_unwrap_value(response\u001b[38;5;241m.\u001b[39mget(\u001b[38;5;124m\"\u001b[39m\u001b[38;5;124mvalue\u001b[39m\u001b[38;5;124m\"\u001b[39m, \u001b[38;5;28;01mNone\u001b[39;00m))\n\u001b[0;32m    350\u001b[0m     \u001b[38;5;28;01mreturn\u001b[39;00m response\n",
      "File \u001b[1;32m~\\anaconda3\\lib\\site-packages\\selenium\\webdriver\\remote\\errorhandler.py:229\u001b[0m, in \u001b[0;36mErrorHandler.check_response\u001b[1;34m(self, response)\u001b[0m\n\u001b[0;32m    227\u001b[0m         alert_text \u001b[38;5;241m=\u001b[39m value[\u001b[38;5;124m\"\u001b[39m\u001b[38;5;124malert\u001b[39m\u001b[38;5;124m\"\u001b[39m]\u001b[38;5;241m.\u001b[39mget(\u001b[38;5;124m\"\u001b[39m\u001b[38;5;124mtext\u001b[39m\u001b[38;5;124m\"\u001b[39m)\n\u001b[0;32m    228\u001b[0m     \u001b[38;5;28;01mraise\u001b[39;00m exception_class(message, screen, stacktrace, alert_text)  \u001b[38;5;66;03m# type: ignore[call-arg]  # mypy is not smart enough here\u001b[39;00m\n\u001b[1;32m--> 229\u001b[0m \u001b[38;5;28;01mraise\u001b[39;00m exception_class(message, screen, stacktrace)\n",
      "\u001b[1;31mNoSuchElementException\u001b[0m: Message: no such element: Unable to locate element: {\"method\":\"xpath\",\"selector\":\"//input[@type='search'] \"}\n  (Session info: chrome=120.0.6099.224); For documentation on this error, please visit: https://www.selenium.dev/documentation/webdriver/troubleshooting/errors#no-such-element-exception\nStacktrace:\n\tGetHandleVerifier [0x00946EE3+174339]\n\t(No symbol) [0x00870A51]\n\t(No symbol) [0x00586FF6]\n\t(No symbol) [0x005B9876]\n\t(No symbol) [0x005B9C2C]\n\t(No symbol) [0x005EBD42]\n\t(No symbol) [0x005D7054]\n\t(No symbol) [0x005EA104]\n\t(No symbol) [0x005D6DA6]\n\t(No symbol) [0x005B1034]\n\t(No symbol) [0x005B1F8D]\n\tGetHandleVerifier [0x009E4B1C+820540]\n\tsqlite3_dbdata_init [0x00AA53EE+653550]\n\tsqlite3_dbdata_init [0x00AA4E09+652041]\n\tsqlite3_dbdata_init [0x00A997CC+605388]\n\tsqlite3_dbdata_init [0x00AA5D9B+656027]\n\t(No symbol) [0x0087FE6C]\n\t(No symbol) [0x008783B8]\n\t(No symbol) [0x008784DD]\n\t(No symbol) [0x00865818]\n\tBaseThreadInitThunk [0x76687BA9+25]\n\tRtlInitializeExceptionChain [0x7794BD2B+107]\n\tRtlClearBits [0x7794BCAF+191]\n"
     ]
    }
   ],
   "source": [
    "search_bar =   driver.find_element(By.XPATH,\"//input[@type='search'] \")"
   ]
  },
  {
   "cell_type": "code",
   "execution_count": 339,
   "id": "59a8b34e-34b4-404e-ac3d-8760999423b1",
   "metadata": {},
   "outputs": [
    {
     "data": {
      "text/plain": [
       "<undetected_chromedriver.webelement.WebElement (session=\"1f94b309900e3796045fe7101398bddb\", element=\"1A10008B119AD4C05BADB7147AC936DF_element_1\")>"
      ]
     },
     "execution_count": 339,
     "metadata": {},
     "output_type": "execute_result"
    }
   ],
   "source": [
    "search_bar"
   ]
  },
  {
   "cell_type": "code",
   "execution_count": 340,
   "id": "1c3f1f06-2a1f-4298-af5f-b0096daebf6f",
   "metadata": {},
   "outputs": [],
   "source": [
    "search_bar.send_keys(\"data analyst\")\n",
    "search_bar.send_keys(Keys.RETURN)"
   ]
  },
  {
   "cell_type": "code",
   "execution_count": 15,
   "id": "f697d7e9-2b51-48e5-8d48-f1fbdcf4a875",
   "metadata": {},
   "outputs": [],
   "source": [
    "driver.implicitly_wait(2.5)"
   ]
  },
  {
   "cell_type": "code",
   "execution_count": 342,
   "id": "3e58fa4c-5250-491f-b199-28ac46b27fae",
   "metadata": {},
   "outputs": [
    {
     "data": {
      "text/plain": [
       "' email = driver.find_element(By.XPATH,\"//input[contains(@id,\\'email\\')]\")\\nemail.send_keys(\"asendhan@gmail.com\")\\naddr = driver.find_element(by=\\'id\\', value = \"DesktopSERPJobAlert-LocationSuggestionSpecificLocInput\")\\naddr.send_keys(\"600077\")\\nactivate = driver.find_element(By.XPATH,\"//button[@id=\\'DesktopSERPJobAlertActivateButton\\']\")\\nactivate.click() '"
      ]
     },
     "execution_count": 342,
     "metadata": {},
     "output_type": "execute_result"
    }
   ],
   "source": [
    "''' email = driver.find_element(By.XPATH,\"//input[contains(@id,'email')]\")\n",
    "email.send_keys(\"asendhan@gmail.com\")\n",
    "addr = driver.find_element(by='id', value = \"DesktopSERPJobAlert-LocationSuggestionSpecificLocInput\")\n",
    "addr.send_keys(\"600077\")\n",
    "activate = driver.find_element(By.XPATH,\"//button[@id='DesktopSERPJobAlertActivateButton']\")\n",
    "activate.click() '''"
   ]
  },
  {
   "cell_type": "code",
   "execution_count": 48,
   "id": "1440a32f-89e8-49e8-aa05-9de67e060862",
   "metadata": {},
   "outputs": [],
   "source": [
    " cards = driver.find_elements(By.XPATH,\"//div[contains(@class , 'jobCardContainer')]\")"
   ]
  },
  {
   "cell_type": "code",
   "execution_count": 49,
   "id": "8433bd6f-e258-4656-a40e-b31a0bc424b9",
   "metadata": {},
   "outputs": [],
   "source": [
    "cards[0].click()"
   ]
  },
  {
   "cell_type": "code",
   "execution_count": 38,
   "id": "a9a459d4-eaec-4043-b3db-f8b5e6fa13e2",
   "metadata": {},
   "outputs": [
    {
     "data": {
      "text/plain": [
       "30"
      ]
     },
     "execution_count": 38,
     "metadata": {},
     "output_type": "execute_result"
    }
   ],
   "source": [
    "len(cards)"
   ]
  },
  {
   "cell_type": "code",
   "execution_count": 56,
   "id": "24ffaf1a-9953-43df-8f2c-cf356eba8690",
   "metadata": {},
   "outputs": [
    {
     "data": {
      "text/plain": [
       "'Associate Data Analyst'"
      ]
     },
     "execution_count": 56,
     "metadata": {},
     "output_type": "execute_result"
    }
   ],
   "source": [
    " driver.find_element(By.XPATH,\"//div[contains(@class,'JobDetails_jobTitle')]\").text"
   ]
  },
  {
   "cell_type": "code",
   "execution_count": 46,
   "id": "7b1c017f-2c2c-45fe-b20c-b1ccd7ffe688",
   "metadata": {},
   "outputs": [
    {
     "data": {
      "text/plain": [
       "'Scrut Automation'"
      ]
     },
     "execution_count": 46,
     "metadata": {},
     "output_type": "execute_result"
    }
   ],
   "source": [
    "cards[0].find_element(By.XPATH,\"//span[contains(@class,'EmployerProfile_employer')]\").text"
   ]
  },
  {
   "cell_type": "code",
   "execution_count": 40,
   "id": "5f147f7a-2d36-4d03-8363-549f84586d70",
   "metadata": {},
   "outputs": [
    {
     "data": {
      "text/plain": [
       "'Bengaluru'"
      ]
     },
     "execution_count": 40,
     "metadata": {},
     "output_type": "execute_result"
    }
   ],
   "source": [
    "driver.find_element(By.XPATH,\"//div[contains(@class,'JobDetails_location')]\").text"
   ]
  },
  {
   "cell_type": "code",
   "execution_count": 52,
   "id": "a0e36e82-a6c4-4d10-b3b5-b23f734e48ab",
   "metadata": {},
   "outputs": [
    {
     "data": {
      "text/plain": [
       "'4.1'"
      ]
     },
     "execution_count": 52,
     "metadata": {},
     "output_type": "execute_result"
    }
   ],
   "source": [
    "cards[0].find_element(By.XPATH,\"//div[contains(@class,'EmployerProfile_rating')]\").text"
   ]
  },
  {
   "cell_type": "code",
   "execution_count": 51,
   "id": "ef8922da-bab4-46bc-a033-c54ed598f36b",
   "metadata": {},
   "outputs": [
    {
     "data": {
      "text/plain": [
       "'₹4L - ₹8L (Glassdoor Est.)'"
      ]
     },
     "execution_count": 51,
     "metadata": {},
     "output_type": "execute_result"
    }
   ],
   "source": [
    "cards[1].find_element(By.XPATH,\"//div[contains(@class,'JobCard_salaryEstimate')]\").text"
   ]
  },
  {
   "cell_type": "code",
   "execution_count": 71,
   "id": "3c93b149-0f35-411b-b1f3-ac7a52b11a7c",
   "metadata": {},
   "outputs": [
    {
     "data": {
      "text/plain": [
       "'Job Title: Associate Data Analyst\\nCareer Level - C1\\nIntroduction to Role:\\nAre you passionate about turning data into actionable insights? AstraZeneca, a world-leading Pharmaceutical company operating in over 100 countries, is seeking an Associate Data Analyst. This role offers the opportunity to make a significant impact on business decisions and contribute to our mission of improving lives worldwide.\\nAccountabilities:\\nAs an Associate Data Analyst, you will work closely with both business and IT partners to understand data requirements. You will acquire data from primary or secondary sources, perform data profiling, and interpret complex datasets to identify trends or patterns. Your responsibilities will also include building bus matrices, proof of concepts, source mapping documents, and raw source data models. You will identify and report data quality issues and support data modelers and information architects with required information and analysis.'"
      ]
     },
     "execution_count": 71,
     "metadata": {},
     "output_type": "execute_result"
    }
   ],
   "source": [
    "driver.find_element(By.XPATH,\"//div[contains(@class,'JobDetails_jobDescription_')]\").text"
   ]
  },
  {
   "cell_type": "code",
   "execution_count": null,
   "id": "39e39a68-8a15-47d0-8aca-3a5e0787f5ab",
   "metadata": {},
   "outputs": [],
   "source": [
    "from selenium.webdriver import ActionChains"
   ]
  },
  {
   "cell_type": "code",
   "execution_count": 131,
   "id": "89fd1ed0-4606-4ad2-aa37-e0b4484976f8",
   "metadata": {},
   "outputs": [],
   "source": [
    "iframe = driver.find_element(By.XPATH,\"//div[@class='avg_value sbold-title-l']\")\n",
    "\n",
    "ActionChains(driver).move_to_element(iframe).perform()"
   ]
  },
  {
   "cell_type": "code",
   "execution_count": 126,
   "id": "7c8391de-da11-4dc5-9036-0c0f0a5c94c1",
   "metadata": {},
   "outputs": [
    {
     "ename": "TypeError",
     "evalue": "'WebElement' object is not callable",
     "output_type": "error",
     "traceback": [
      "\u001b[1;31m---------------------------------------------------------------------------\u001b[0m",
      "\u001b[1;31mTypeError\u001b[0m                                 Traceback (most recent call last)",
      "Cell \u001b[1;32mIn[126], line 7\u001b[0m\n\u001b[0;32m      3\u001b[0m ActionChains(driver)\\\n\u001b[0;32m      4\u001b[0m         \u001b[38;5;241m.\u001b[39mscroll_from_origin(scroll_origin, \u001b[38;5;241m0\u001b[39m, \u001b[38;5;241m400\u001b[39m)\\\n\u001b[0;32m      5\u001b[0m         \u001b[38;5;241m.\u001b[39mperform()\n\u001b[0;32m      6\u001b[0m wait \u001b[38;5;241m=\u001b[39m WebDriverWait(driver, \u001b[38;5;241m10\u001b[39m)\n\u001b[1;32m----> 7\u001b[0m element \u001b[38;5;241m=\u001b[39m \u001b[43mwait\u001b[49m\u001b[38;5;241;43m.\u001b[39;49m\u001b[43muntil\u001b[49m\u001b[43m(\u001b[49m\u001b[43mdriver\u001b[49m\u001b[38;5;241;43m.\u001b[39;49m\u001b[43mfind_element\u001b[49m\u001b[43m(\u001b[49m\u001b[43mBy\u001b[49m\u001b[38;5;241;43m.\u001b[39;49m\u001b[43mXPATH\u001b[49m\u001b[43m,\u001b[49m\u001b[38;5;124;43m\"\u001b[39;49m\u001b[38;5;124;43m//div[@class=\u001b[39;49m\u001b[38;5;124;43m'\u001b[39;49m\u001b[38;5;124;43mavg_value sbold-title-l\u001b[39;49m\u001b[38;5;124;43m'\u001b[39;49m\u001b[38;5;124;43m]\u001b[39;49m\u001b[38;5;124;43m\"\u001b[39;49m\u001b[43m)\u001b[49m\u001b[43m)\u001b[49m\n",
      "File \u001b[1;32m~\\anaconda3\\lib\\site-packages\\selenium\\webdriver\\support\\wait.py:96\u001b[0m, in \u001b[0;36mWebDriverWait.until\u001b[1;34m(self, method, message)\u001b[0m\n\u001b[0;32m     94\u001b[0m \u001b[38;5;28;01mwhile\u001b[39;00m \u001b[38;5;28;01mTrue\u001b[39;00m:\n\u001b[0;32m     95\u001b[0m     \u001b[38;5;28;01mtry\u001b[39;00m:\n\u001b[1;32m---> 96\u001b[0m         value \u001b[38;5;241m=\u001b[39m \u001b[43mmethod\u001b[49m\u001b[43m(\u001b[49m\u001b[38;5;28;43mself\u001b[39;49m\u001b[38;5;241;43m.\u001b[39;49m\u001b[43m_driver\u001b[49m\u001b[43m)\u001b[49m\n\u001b[0;32m     97\u001b[0m         \u001b[38;5;28;01mif\u001b[39;00m value:\n\u001b[0;32m     98\u001b[0m             \u001b[38;5;28;01mreturn\u001b[39;00m value\n",
      "\u001b[1;31mTypeError\u001b[0m: 'WebElement' object is not callable"
     ]
    }
   ],
   "source": [
    "iframe = driver.find_element(By.XPATH,\"//div[@class='avg_value sbold-title-l']\")\n",
    "scroll_origin = ScrollOrigin.from_element(iframe)\n",
    "ActionChains(driver)\\\n",
    "        .scroll_from_origin(scroll_origin, 0, 400)\\\n",
    "        .perform()\n",
    "wait = WebDriverWait(driver, 10)\n",
    "element = wait.until(driver.find_element(By.XPATH,\"//div[@class='avg_value sbold-title-l']\"))"
   ]
  },
  {
   "cell_type": "code",
   "execution_count": 82,
   "id": "48b41f42-745c-45ee-9149-637160918629",
   "metadata": {},
   "outputs": [],
   "source": [
    "a = driver.find_element(By.XPATH,\"//div[@class='avg_value sbold-title-l']\")"
   ]
  },
  {
   "cell_type": "code",
   "execution_count": 83,
   "id": "692e60b0-a79b-4a47-99ec-ce6e4f10b57b",
   "metadata": {},
   "outputs": [
    {
     "data": {
      "text/plain": [
       "'₹ 33.4 L'"
      ]
     },
     "execution_count": 83,
     "metadata": {},
     "output_type": "execute_result"
    }
   ],
   "source": [
    "a.get_attribute('innerText')[:-6]"
   ]
  },
  {
   "cell_type": "code",
   "execution_count": 34,
   "id": "f245d6d3-9802-458c-bc56-27df35384e6e",
   "metadata": {},
   "outputs": [],
   "source": [
    "b = driver.find_element(By.XPATH,\"//div[@class='htmlCont'] \")"
   ]
  },
  {
   "cell_type": "code",
   "execution_count": 35,
   "id": "d7abb50f-cb9b-4e05-b47e-51a0dbd24e32",
   "metadata": {},
   "outputs": [
    {
     "data": {
      "text/plain": [
       "'Demonstrates up-to-date expertise and applies this to the development, execution, and improvement of action plans by providing expert advice and guidance to others in the application of information and best practices; supporting and aligning efforts to meet customer and business needs; and building commitment for perspectives and rationales\\nProvides and supports the implementation of business solutions by building relationships and partnerships with key stakeholders; identifying business needs; determining and carrying out necessary processes and practices; monitoring progress and results; recognizing and capitalizing on improvement opportunities; and adapting to competing demands, organizational changes, and new responsibilities\\nModels compliance with company policies and procedures and supports company mission, values, and standards of ethics and integrity by incorporating these into the development and implementation of business plans; using the Open Door Policy; and demonstrating and assisting others with how to apply these in executing business processes and practices\\n\\nWhat You Will Do\\n\\nDefine metrics, drive roadmaps, and uncover opportunities to improve our products.\\n\\nHave a strong bias towards action, enjoy finding patterns amidst chaos, and have demonstrated success in using analytics to drive business impact.\\n\\nHas the technical skills to surface insights quickly, and the interpersonal skills to communicate those insights in a way that persuades action.\\n\\nWork with your team to develop new analytic methods\\n\\nUse quantitative analysis and the presentation of data to see beyond the numbers and understand what drives our business\\n\\nPartner with product leaders, designers, and engineering managers to improve our products and prioritize projects for impact.\\n\\nRepresent the product analytics team in key meetings and business reviews with our executive team and founders\\n\\nProvide data driven insights and deliver recommendations that address opportunities for product improvements\\n\\nUse statistical methods to generate and test hypotheses. This includes: Performing analytical deep-dives to identify problems, opportunities and actions required; Collecting, processing, and cleaning data from disparate sources using SQL, R, Python, or other scripting and statistical tools\\n\\nManaging the design, execution, and analysis of A/B tests; driving rigor and testing culture through product teams\\n\\nWhat You will Bring\\n\\n5-10 years of experience of working in a high growth analytics team.\\n\\nFluency in SQL, as well as an understanding of statistical analysis, and common pitfalls of data analysis. Basic understanding of query logic is a MUST.\\n\\nBachelors degree in Statistics, Computer Science, Business Administration or related field. Relevant experience in Product analytics will be a PLUS.\\n\\nExcellent written and verbal communication skills for coordinating across teams.\\n\\nStrong problem solving skills with an emphasis on product development.\\n\\nLed or worked independently on major initiatives.'"
      ]
     },
     "execution_count": 35,
     "metadata": {},
     "output_type": "execute_result"
    }
   ],
   "source": [
    "b.get_attribute('innerText')"
   ]
  },
  {
   "cell_type": "code",
   "execution_count": null,
   "id": "7066f3a5-a359-4341-af51-174d5ab6e3e8",
   "metadata": {},
   "outputs": [],
   "source": [
    "driver.execute_script(\"return document.getElementById('locator').innerHTML\")"
   ]
  },
  {
   "cell_type": "code",
   "execution_count": 25,
   "id": "4e05e88f-759a-422f-b318-12ff7c5ac0f2",
   "metadata": {},
   "outputs": [
    {
     "data": {
      "text/plain": [
       "[]"
      ]
     },
     "execution_count": 25,
     "metadata": {},
     "output_type": "execute_result"
    }
   ],
   "source": [
    "a.find_elements(By.XPATH,'.//*[contains(text(), \"₹\")]')"
   ]
  },
  {
   "cell_type": "code",
   "execution_count": 43,
   "id": "bd720205-8a9c-4245-87b3-de48930a1d85",
   "metadata": {},
   "outputs": [],
   "source": [
    "next_page= driver.find_elements(By.XPATH,\"//button[contains(@class,'load')]\")\n",
    "next_page[0].click()"
   ]
  },
  {
   "cell_type": "code",
   "execution_count": 234,
   "id": "5066ad7a-6b7e-421a-9e8d-3aad65b2f412",
   "metadata": {},
   "outputs": [],
   "source": [
    "iframe = driver.find_element(By.XPATH,\"//button[contains(@class,'load')]\")\n",
    "\n",
    "ActionChains(driver).move_to_element(iframe).perform()"
   ]
  },
  {
   "cell_type": "code",
   "execution_count": 256,
   "id": "ca79255c-88e9-465c-aaad-5a01a10da43f",
   "metadata": {},
   "outputs": [
    {
     "ename": "JavascriptException",
     "evalue": "Message: javascript error: arguments[0].scrollIntoView is not a function\n  (Session info: chrome=120.0.6099.224)\nStacktrace:\n\tGetHandleVerifier [0x00946EE3+174339]\n\t(No symbol) [0x00870A51]\n\t(No symbol) [0x00586FF6]\n\t(No symbol) [0x0058AEAC]\n\t(No symbol) [0x0058C7C1]\n\t(No symbol) [0x005EACD8]\n\t(No symbol) [0x005D700C]\n\t(No symbol) [0x005EA104]\n\t(No symbol) [0x005D6DA6]\n\t(No symbol) [0x005B1034]\n\t(No symbol) [0x005B1F8D]\n\tGetHandleVerifier [0x009E4B1C+820540]\n\tsqlite3_dbdata_init [0x00AA53EE+653550]\n\tsqlite3_dbdata_init [0x00AA4E09+652041]\n\tsqlite3_dbdata_init [0x00A997CC+605388]\n\tsqlite3_dbdata_init [0x00AA5D9B+656027]\n\t(No symbol) [0x0087FE6C]\n\t(No symbol) [0x008783B8]\n\t(No symbol) [0x008784DD]\n\t(No symbol) [0x00865818]\n\tBaseThreadInitThunk [0x76687BA9+25]\n\tRtlInitializeExceptionChain [0x7794BD2B+107]\n\tRtlClearBits [0x7794BCAF+191]\n",
     "output_type": "error",
     "traceback": [
      "\u001b[1;31m---------------------------------------------------------------------------\u001b[0m",
      "\u001b[1;31mJavascriptException\u001b[0m                       Traceback (most recent call last)",
      "Cell \u001b[1;32mIn[256], line 2\u001b[0m\n\u001b[0;32m      1\u001b[0m element \u001b[38;5;241m=\u001b[39m driver\u001b[38;5;241m.\u001b[39mfind_elements(By\u001b[38;5;241m.\u001b[39mXPATH,\u001b[38;5;124m\"\u001b[39m\u001b[38;5;124m//div[@class = \u001b[39m\u001b[38;5;124m'\u001b[39m\u001b[38;5;124mcol-left jdDesktop\u001b[39m\u001b[38;5;124m'\u001b[39m\u001b[38;5;124m]\u001b[39m\u001b[38;5;124m\"\u001b[39m)\n\u001b[1;32m----> 2\u001b[0m \u001b[43mdriver\u001b[49m\u001b[38;5;241;43m.\u001b[39;49m\u001b[43mexecute_script\u001b[49m\u001b[43m(\u001b[49m\u001b[38;5;124;43m\"\u001b[39;49m\u001b[38;5;124;43marguments[0].scrollIntoView(true);\u001b[39;49m\u001b[38;5;124;43m\"\u001b[39;49m\u001b[43m,\u001b[49m\u001b[43m \u001b[49m\u001b[43melement\u001b[49m\u001b[43m)\u001b[49m\n",
      "File \u001b[1;32m~\\anaconda3\\lib\\site-packages\\selenium\\webdriver\\remote\\webdriver.py:408\u001b[0m, in \u001b[0;36mWebDriver.execute_script\u001b[1;34m(self, script, *args)\u001b[0m\n\u001b[0;32m    405\u001b[0m converted_args \u001b[38;5;241m=\u001b[39m \u001b[38;5;28mlist\u001b[39m(args)\n\u001b[0;32m    406\u001b[0m command \u001b[38;5;241m=\u001b[39m Command\u001b[38;5;241m.\u001b[39mW3C_EXECUTE_SCRIPT\n\u001b[1;32m--> 408\u001b[0m \u001b[38;5;28;01mreturn\u001b[39;00m \u001b[38;5;28;43mself\u001b[39;49m\u001b[38;5;241;43m.\u001b[39;49m\u001b[43mexecute\u001b[49m\u001b[43m(\u001b[49m\u001b[43mcommand\u001b[49m\u001b[43m,\u001b[49m\u001b[43m \u001b[49m\u001b[43m{\u001b[49m\u001b[38;5;124;43m\"\u001b[39;49m\u001b[38;5;124;43mscript\u001b[39;49m\u001b[38;5;124;43m\"\u001b[39;49m\u001b[43m:\u001b[49m\u001b[43m \u001b[49m\u001b[43mscript\u001b[49m\u001b[43m,\u001b[49m\u001b[43m \u001b[49m\u001b[38;5;124;43m\"\u001b[39;49m\u001b[38;5;124;43margs\u001b[39;49m\u001b[38;5;124;43m\"\u001b[39;49m\u001b[43m:\u001b[49m\u001b[43m \u001b[49m\u001b[43mconverted_args\u001b[49m\u001b[43m}\u001b[49m\u001b[43m)\u001b[49m[\u001b[38;5;124m\"\u001b[39m\u001b[38;5;124mvalue\u001b[39m\u001b[38;5;124m\"\u001b[39m]\n",
      "File \u001b[1;32m~\\anaconda3\\lib\\site-packages\\selenium\\webdriver\\remote\\webdriver.py:348\u001b[0m, in \u001b[0;36mWebDriver.execute\u001b[1;34m(self, driver_command, params)\u001b[0m\n\u001b[0;32m    346\u001b[0m response \u001b[38;5;241m=\u001b[39m \u001b[38;5;28mself\u001b[39m\u001b[38;5;241m.\u001b[39mcommand_executor\u001b[38;5;241m.\u001b[39mexecute(driver_command, params)\n\u001b[0;32m    347\u001b[0m \u001b[38;5;28;01mif\u001b[39;00m response:\n\u001b[1;32m--> 348\u001b[0m     \u001b[38;5;28;43mself\u001b[39;49m\u001b[38;5;241;43m.\u001b[39;49m\u001b[43merror_handler\u001b[49m\u001b[38;5;241;43m.\u001b[39;49m\u001b[43mcheck_response\u001b[49m\u001b[43m(\u001b[49m\u001b[43mresponse\u001b[49m\u001b[43m)\u001b[49m\n\u001b[0;32m    349\u001b[0m     response[\u001b[38;5;124m\"\u001b[39m\u001b[38;5;124mvalue\u001b[39m\u001b[38;5;124m\"\u001b[39m] \u001b[38;5;241m=\u001b[39m \u001b[38;5;28mself\u001b[39m\u001b[38;5;241m.\u001b[39m_unwrap_value(response\u001b[38;5;241m.\u001b[39mget(\u001b[38;5;124m\"\u001b[39m\u001b[38;5;124mvalue\u001b[39m\u001b[38;5;124m\"\u001b[39m, \u001b[38;5;28;01mNone\u001b[39;00m))\n\u001b[0;32m    350\u001b[0m     \u001b[38;5;28;01mreturn\u001b[39;00m response\n",
      "File \u001b[1;32m~\\anaconda3\\lib\\site-packages\\selenium\\webdriver\\remote\\errorhandler.py:229\u001b[0m, in \u001b[0;36mErrorHandler.check_response\u001b[1;34m(self, response)\u001b[0m\n\u001b[0;32m    227\u001b[0m         alert_text \u001b[38;5;241m=\u001b[39m value[\u001b[38;5;124m\"\u001b[39m\u001b[38;5;124malert\u001b[39m\u001b[38;5;124m\"\u001b[39m]\u001b[38;5;241m.\u001b[39mget(\u001b[38;5;124m\"\u001b[39m\u001b[38;5;124mtext\u001b[39m\u001b[38;5;124m\"\u001b[39m)\n\u001b[0;32m    228\u001b[0m     \u001b[38;5;28;01mraise\u001b[39;00m exception_class(message, screen, stacktrace, alert_text)  \u001b[38;5;66;03m# type: ignore[call-arg]  # mypy is not smart enough here\u001b[39;00m\n\u001b[1;32m--> 229\u001b[0m \u001b[38;5;28;01mraise\u001b[39;00m exception_class(message, screen, stacktrace)\n",
      "\u001b[1;31mJavascriptException\u001b[0m: Message: javascript error: arguments[0].scrollIntoView is not a function\n  (Session info: chrome=120.0.6099.224)\nStacktrace:\n\tGetHandleVerifier [0x00946EE3+174339]\n\t(No symbol) [0x00870A51]\n\t(No symbol) [0x00586FF6]\n\t(No symbol) [0x0058AEAC]\n\t(No symbol) [0x0058C7C1]\n\t(No symbol) [0x005EACD8]\n\t(No symbol) [0x005D700C]\n\t(No symbol) [0x005EA104]\n\t(No symbol) [0x005D6DA6]\n\t(No symbol) [0x005B1034]\n\t(No symbol) [0x005B1F8D]\n\tGetHandleVerifier [0x009E4B1C+820540]\n\tsqlite3_dbdata_init [0x00AA53EE+653550]\n\tsqlite3_dbdata_init [0x00AA4E09+652041]\n\tsqlite3_dbdata_init [0x00A997CC+605388]\n\tsqlite3_dbdata_init [0x00AA5D9B+656027]\n\t(No symbol) [0x0087FE6C]\n\t(No symbol) [0x008783B8]\n\t(No symbol) [0x008784DD]\n\t(No symbol) [0x00865818]\n\tBaseThreadInitThunk [0x76687BA9+25]\n\tRtlInitializeExceptionChain [0x7794BD2B+107]\n\tRtlClearBits [0x7794BCAF+191]\n"
     ]
    }
   ],
   "source": [
    "element = driver.find_elements(By.XPATH,\"//div[@class = 'col-left jdDesktop']\")\n",
    "driver.execute_script(\"arguments[0].scrollIntoView(true);\", element);"
   ]
  },
  {
   "cell_type": "code",
   "execution_count": 282,
   "id": "df8ff839-1ac5-449f-8ccf-80467b5f82dd",
   "metadata": {},
   "outputs": [],
   "source": [
    "element = driver.find_elements(By.XPATH,\"//div[@class = 'jobsList']\")[0]"
   ]
  },
  {
   "cell_type": "code",
   "execution_count": 284,
   "id": "f3ce6e25-5163-4484-bb22-e133f7272a24",
   "metadata": {},
   "outputs": [
    {
     "data": {
      "text/plain": [
       "<undetected_chromedriver.webelement.WebElement (session=\"93b8b323d193cf55e518d1cbb7315a06\", element=\"3161C49765741D9C719052E887B49170_element_45\")>"
      ]
     },
     "execution_count": 284,
     "metadata": {},
     "output_type": "execute_result"
    }
   ],
   "source": [
    "element"
   ]
  },
  {
   "cell_type": "code",
   "execution_count": 293,
   "id": "58d410d0-d54b-43fa-a5e0-bac3ac78eb07",
   "metadata": {},
   "outputs": [],
   "source": [
    "iframe = driver.find_element(By.XPATH,\"//button[contains(@class,'load')]\")\n",
    "ActionChains(driver)\\\n",
    "        .scroll_to_element(iframe)\\\n",
    "        .perform()"
   ]
  },
  {
   "cell_type": "code",
   "execution_count": 25,
   "id": "a1cda98f-f5fe-4b61-96f4-9e55eae314e1",
   "metadata": {},
   "outputs": [],
   "source": [
    " cards = driver.find_elements(By.XPATH,\"//div[contains(@class , 'jobCardContainer')]\")"
   ]
  },
  {
   "cell_type": "code",
   "execution_count": 26,
   "id": "3430a066-c2e7-4a09-b47e-fc60ebfe4ceb",
   "metadata": {},
   "outputs": [
    {
     "data": {
      "text/plain": [
       "900"
      ]
     },
     "execution_count": 26,
     "metadata": {},
     "output_type": "execute_result"
    }
   ],
   "source": [
    "len(cards)"
   ]
  },
  {
   "cell_type": "code",
   "execution_count": 17,
   "id": "d4e92bc3-d6a2-4774-ad95-56416d7dd8b2",
   "metadata": {},
   "outputs": [],
   "source": [
    "cards[1].click()"
   ]
  },
  {
   "cell_type": "code",
   "execution_count": null,
   "id": "964a1d38-53ef-4d74-8fb2-555b890b1129",
   "metadata": {},
   "outputs": [],
   "source": [
    "//div[@id='left-column']\n",
    "//button[@data-test=\"load-more\"]"
   ]
  },
  {
   "cell_type": "code",
   "execution_count": 24,
   "id": "d33817e9-39a5-4909-bc82-ddab82dccf0e",
   "metadata": {},
   "outputs": [
    {
     "ename": "IndexError",
     "evalue": "list index out of range",
     "output_type": "error",
     "traceback": [
      "\u001b[1;31m---------------------------------------------------------------------------\u001b[0m",
      "\u001b[1;31mIndexError\u001b[0m                                Traceback (most recent call last)",
      "Cell \u001b[1;32mIn[24], line 7\u001b[0m\n\u001b[0;32m      5\u001b[0m \u001b[38;5;28;01mif\u001b[39;00m i \u001b[38;5;241m%\u001b[39m \u001b[38;5;241m29\u001b[39m \u001b[38;5;241m==\u001b[39m \u001b[38;5;241m0\u001b[39m:\n\u001b[0;32m      6\u001b[0m             next_page\u001b[38;5;241m=\u001b[39m driver\u001b[38;5;241m.\u001b[39mfind_elements(By\u001b[38;5;241m.\u001b[39mXPATH,\u001b[38;5;124m\"\u001b[39m\u001b[38;5;124m//button[@data-test=\u001b[39m\u001b[38;5;124m'\u001b[39m\u001b[38;5;124mload-more\u001b[39m\u001b[38;5;124m'\u001b[39m\u001b[38;5;124m]\u001b[39m\u001b[38;5;124m\"\u001b[39m)\n\u001b[1;32m----> 7\u001b[0m             \u001b[43mnext_page\u001b[49m\u001b[43m[\u001b[49m\u001b[38;5;241;43m0\u001b[39;49m\u001b[43m]\u001b[49m\u001b[38;5;241m.\u001b[39mclick()\n",
      "\u001b[1;31mIndexError\u001b[0m: list index out of range"
     ]
    }
   ],
   "source": [
    "import time\n",
    "for i in range(0,5000):\n",
    "    cards = driver.find_elements(By.XPATH,\"//div[contains(@class , 'jobCardContainer')]\")\n",
    "    cards[i].click()\n",
    "    if i % 29 == 0:\n",
    "                next_page= driver.find_elements(By.XPATH,\"//button[@data-test='load-more']\")\n",
    "                next_page[0].click()\n",
    "    "
   ]
  },
  {
   "cell_type": "code",
   "execution_count": 27,
   "id": "be462a8c-e806-495d-bbc0-f8bdf841a9cf",
   "metadata": {},
   "outputs": [],
   "source": [
    "titles=[]\n",
    "companies=[]\n",
    "locations=[]\n",
    "links =[]\n",
    "reviews=[]\n",
    "noofreviews=[]\n",
    "salaries = []\n",
    "descriptions=[]\n",
    "count = 0"
   ]
  },
  {
   "cell_type": "code",
   "execution_count": 17,
   "id": "65277e55-e9e9-408b-842f-202830f60cd8",
   "metadata": {},
   "outputs": [
    {
     "data": {
      "text/plain": [
       "900"
      ]
     },
     "execution_count": 17,
     "metadata": {},
     "output_type": "execute_result"
    }
   ],
   "source": [
    "len(cards)"
   ]
  },
  {
   "cell_type": "code",
   "execution_count": 31,
   "id": "bd1317fd-6196-48d7-9468-e7396f221ae1",
   "metadata": {},
   "outputs": [
    {
     "name": "stdout",
     "output_type": "stream",
     "text": [
      "Experinced Computing Architect - ServiceNow 48 no:: 841 pg no:: 29\n",
      "Associate System Design and Integration Specialist – Splunk 49 no:: 841 pg no:: 29\n",
      "Solution Architect - PLM 50 no:: 841 pg no:: 29\n",
      "Data Engineer III 51 no:: 841 pg no:: 29\n",
      "Experienced Java Full Stack Developer 51 no:: 841 pg no:: 29\n",
      "Data Engineer 52 no:: 841 pg no:: 29\n",
      "Data Engineer, Research IDS 53 no:: 841 pg no:: 29\n",
      "Dev ops Engineer 54 no:: 841 pg no:: 29\n",
      "Software Engineer II 55 no:: 841 pg no:: 29\n",
      "Software Engineer - I (Python Programming, Linux) 56 no:: 841 pg no:: 29\n",
      "IT Systems Engineer 57 no:: 841 pg no:: 29\n",
      "Sr. Data Engineer 57 no:: 841 pg no:: 29\n",
      "Data Engineer, JioCinema 58 no:: 841 pg no:: 29\n",
      "Python Developer 59 no:: 841 pg no:: 29\n",
      "Lead Data Engineer 60 no:: 841 pg no:: 29\n",
      "Staff Data Engineer 61 no:: 841 pg no:: 29\n",
      "Technical Support Engineer III 62 no:: 841 pg no:: 29\n",
      "Data Analyst / Scientist 3 62 no:: 841 pg no:: 29\n",
      "AWS Cloud Engineer 63 no:: 841 pg no:: 29\n",
      "Software Engineering II 63 no:: 841 pg no:: 29\n",
      "Product Management Specialist 64 no:: 841 pg no:: 29\n",
      "Automation QA 65 no:: 841 pg no:: 29\n",
      "Sr AI/ML Infrastructure Engineer 66 no:: 841 pg no:: 29\n",
      "Quality Engineer (Tester) 67 no:: 841 pg no:: 29\n",
      "Azure Senior Data Engineer at Hyderabad,IN 67 no:: 841 pg no:: 29\n",
      "Software Engineering II - Transportation 67 no:: 841 pg no:: 29\n",
      "Software Engineer, Mobile, Android 68 no:: 841 pg no:: 29\n",
      "Lead Data Engineer IRC207521 68 no:: 841 pg no:: 29\n",
      "Artificial Intelligence Assoc Principal - Insights and Intelligence 69 no:: 841 pg no:: 29\n",
      "BT Systems Engineer 69 no:: 841 pg no:: 29\n",
      "India-Bangalore: Associate Principal Software Engineer 70 no:: 841 pg no:: 29\n",
      "Sr. Cloud Engineer 71 no:: 841 pg no:: 29\n",
      "Senior Cloud Data Platform Administrator 71 no:: 841 pg no:: 29\n",
      "Application Support Engineer 71 no:: 841 pg no:: 29\n",
      "Sr. Data Engineer 71 no:: 841 pg no:: 29\n",
      "Senior Software Engineer 71 no:: 841 pg no:: 29\n",
      "Software Architect I 72 no:: 841 pg no:: 29\n",
      "Digital Engineering Sr. Engineer 72 no:: 841 pg no:: 29\n",
      "TC_CS_IAM_IGA 73 no:: 841 pg no:: 29\n",
      "Cloud Operation Engineer 73 no:: 841 pg no:: 29\n",
      "DevNet / Network Automation Engineer 74 no:: 841 pg no:: 29\n",
      "QA Automation Engineer (Standard) 75 no:: 841 pg no:: 29\n",
      "Network Engineer 76 no:: 841 pg no:: 29\n",
      "Software Development Engineer 76 no:: 841 pg no:: 29\n",
      "Data Governance Architect 76 no:: 841 pg no:: 29\n",
      "Interns - AI 77 no:: 841 pg no:: 29\n",
      "Python Developer & Data 77 no:: 841 pg no:: 29\n",
      "Software Engineer IV - Transportation 78 no:: 841 pg no:: 29\n",
      "Storage Administrator III - R - 18788 79 no:: 841 pg no:: 29\n",
      "Customer Engineer, Infrastructure Modernization, Google Cloud 79 no:: 841 pg no:: 29\n",
      "Senior BizOps Engineer 79 no:: 841 pg no:: 29\n",
      "Specialist - Software Engineering 79 no:: 841 pg no:: 29\n",
      "Sr. Software Engineer - Informatica 80 no:: 841 pg no:: 29\n",
      "Dot Net Developer 81 no:: 841 pg no:: 29\n",
      "DataBricks Engineer 81 no:: 841 pg no:: 29\n",
      "SMTS Silicon Design Engineer 82 no:: 841 pg no:: 29\n",
      "Senior Vice President, Data Scientist 83 no:: 841 pg no:: 29\n",
      "Director Data Engineering 84 no:: 841 pg no:: 29\n",
      "Specialist - Quality Engineering 85 no:: 841 pg no:: 29\n",
      "Software Engineer 86 no:: 841 pg no:: 29\n",
      "Principal - Data Engineering - DevOps Engineer 87 no:: 841 pg no:: 29\n",
      "Control Software Engineer 88 no:: 841 pg no:: 29\n",
      "Network Security Operations Engineer 89 no:: 841 pg no:: 29\n",
      "Sr Data Analyst 90 no:: 841 pg no:: 29\n",
      "Associate Process Manager 91 no:: 841 pg no:: 29\n",
      "Senior MS Engineer - Systems 92 no:: 841 pg no:: 29\n",
      "Principal Software Engineering Manager 92 no:: 841 pg no:: 29\n",
      "Sr. QA Engineer 93 no:: 841 pg no:: 29\n",
      "Data labeling 94 no:: 841 pg no:: 29\n",
      "DevOps Engineer 95 no:: 841 pg no:: 29\n",
      "Software Engineer 96 no:: 841 pg no:: 29\n",
      "Software Engineer 97 no:: 841 pg no:: 29\n",
      "Backend Engineer 98 no:: 841 pg no:: 29\n",
      "AWS Cloud Engineer 99 no:: 841 pg no:: 29\n",
      "Automation tester (Cypress) 99 no:: 841 pg no:: 29\n",
      "Lead Software Developer 99 no:: 841 pg no:: 29\n",
      "Software Engineer 100 no:: 841 pg no:: 29\n",
      "Senior Software Engineer in Test 101 no:: 841 pg no:: 29\n",
      "TC_CS_IAM(IMP)_CyberArk_Senior 102 no:: 841 pg no:: 29\n",
      "Associate Principal 103 no:: 841 pg no:: 29\n",
      "AWS CDK Developer (Typescript or C#)| IRC206380 104 no:: 841 pg no:: 29\n",
      "Automation QE IRC207709 104 no:: 841 pg no:: 29\n",
      "SSE - AWS , Java , Bigdata 105 no:: 841 pg no:: 29\n",
      "Automation QE ||Cypress IRC207708 106 no:: 841 pg no:: 29\n",
      "Enterprise Architect IRC209208 107 no:: 841 pg no:: 29\n",
      ".Net Full Stack IRC208046 108 no:: 841 pg no:: 29\n",
      "Nodejs | React IRC206616 109 no:: 841 pg no:: 29\n",
      "Artificial Intelligence Specialist - Insights and Intelligence 110 no:: 841 pg no:: 29\n",
      "Java with Vertex Senior Specialist - Software Engineering 110 no:: 841 pg no:: 29\n",
      "Network Engineering Specialist 111 no:: 841 pg no:: 29\n",
      "Vice President, Data Scientist II 112 no:: 841 pg no:: 29\n",
      ".Net – Sr. Software Engineer IRC207989 113 no:: 841 pg no:: 29\n",
      "Senior engineer 114 no:: 841 pg no:: 29\n",
      "DevOps Engineer 115 no:: 841 pg no:: 29\n",
      "MTS Silicon Design Engineer (AECG ASIC) 116 no:: 841 pg no:: 29\n",
      "Data Analyst 117 no:: 841 pg no:: 29\n",
      "Cloud and DevOps Engineer 118 no:: 841 pg no:: 29\n",
      "Sr Software Engineer 119 no:: 841 pg no:: 29\n",
      "Lead Software Engineer - C#, C++, .Net 120 no:: 841 pg no:: 29\n",
      "Manager (Global Plant Maintenance – IBM Maximo) 121 no:: 841 pg no:: 29\n",
      "Director, SDE 122 no:: 841 pg no:: 29\n",
      "Automation QE COE IRC209040 123 no:: 841 pg no:: 29\n",
      "Senior Staff Software Development Engineer in Test 124 no:: 841 pg no:: 29\n",
      "MTS Silicon Design Engineer ( Soc /IP Verification Lead) 125 no:: 841 pg no:: 29\n",
      "Node js developer 126 no:: 841 pg no:: 29\n",
      "Senior Software Engineer - C#, C++, .Net 127 no:: 841 pg no:: 29\n",
      ".Net Full Stack Lead – Replacement IRC200422 128 no:: 841 pg no:: 29\n",
      "Technical Lead 129 no:: 841 pg no:: 29\n",
      "Security Engineer II (R-15484) 130 no:: 841 pg no:: 29\n",
      "Senior AWS Quicksight Developer 131 no:: 841 pg no:: 29\n",
      "Senior Software Engineer – .NET Developer (WPF) 132 no:: 841 pg no:: 29\n",
      ".Net Sr Developer IRC206068 132 no:: 841 pg no:: 29\n",
      "Data Engineer 133 no:: 841 pg no:: 29\n",
      "Data Engineer 134 no:: 841 pg no:: 29\n",
      "Data Engineer 135 no:: 841 pg no:: 29\n",
      "Data Engineer 136 no:: 841 pg no:: 29\n",
      "Data Engineer 137 no:: 841 pg no:: 29\n",
      "AWS Data Engineer 137 no:: 841 pg no:: 29\n",
      "Software QA Engineer 138 no:: 841 pg no:: 29\n",
      "CDC Data Analyst 139 no:: 841 pg no:: 29\n",
      "Lead Data Engineer 140 no:: 841 pg no:: 29\n",
      "Data Analyst 2 140 no:: 841 pg no:: 29\n",
      "Software Engineer II 140 no:: 841 pg no:: 29\n",
      "AWS Data Engineer 141 no:: 841 pg no:: 29\n",
      "System Integration Engineer 141 no:: 841 pg no:: 29\n",
      "Data Engineer–AWS 141 no:: 841 pg no:: 29\n",
      "Data Engineer 141 no:: 841 pg no:: 29\n",
      "Product Support Engineer 142 no:: 841 pg no:: 29\n",
      "Principal Data Engineer - WFH 143 no:: 841 pg no:: 29\n",
      "Distributed Hosting – System Engineer 143 no:: 841 pg no:: 29\n",
      "BI Tools Platform Engineer 144 no:: 841 pg no:: 29\n",
      "Software Development Engineer - IV (Backend) 144 no:: 841 pg no:: 29\n",
      "Consultant – AWS Cloud Engineer 145 no:: 841 pg no:: 29\n",
      "Software Engineer III - Cloud Engineer 145 no:: 841 pg no:: 29\n",
      "GPU Software Development Engineer (AI, Deep Learning) 145 no:: 841 pg no:: 29\n",
      "Senior Software Engineer (Test Engineering)-1 146 no:: 841 pg no:: 29\n",
      "Senior Support Engineer 147 no:: 841 pg no:: 29\n",
      "Software Engineer Specialist 148 no:: 841 pg no:: 29\n",
      "IT Integrations Developer (Python + Mulesoft) 149 no:: 841 pg no:: 29\n",
      "Data Scientist 150 no:: 841 pg no:: 29\n",
      "Lead Data Analytics 151 no:: 841 pg no:: 29\n",
      "Software Engineer III - SRE 152 no:: 841 pg no:: 29\n",
      "Specialist System Verification Engineer 153 no:: 841 pg no:: 29\n",
      "Cloud Security Engineer 154 no:: 841 pg no:: 29\n",
      "Technical Support Engineer – Cloud Support Desk 155 no:: 841 pg no:: 29\n",
      "SW Support Engineer III 156 no:: 841 pg no:: 29\n",
      "IAM Engineer 157 no:: 841 pg no:: 29\n",
      "Trading Services Analyst 158 no:: 841 pg no:: 29\n",
      "Sr Data Analyst 158 no:: 841 pg no:: 29\n",
      "Engineer - Firmware Testing 159 no:: 841 pg no:: 29\n",
      "Software Engineer II 159 no:: 841 pg no:: 29\n",
      "Software Development Engineer (AWS), Amazon OpenSearch 160 no:: 841 pg no:: 29\n",
      "Software Engineer III - AS400 161 no:: 841 pg no:: 29\n",
      "Software Engineer II - Quality Assurance 162 no:: 841 pg no:: 29\n",
      "Cloud Security Specialist 163 no:: 841 pg no:: 29\n",
      "Engineer II - Digital Engine Services ProActive Analyst 163 no:: 841 pg no:: 29\n",
      "Engineer 163 no:: 841 pg no:: 29\n",
      "Business Analyst 164 no:: 841 pg no:: 29\n",
      "Lead Data Engineer 165 no:: 841 pg no:: 29\n",
      "Software Engineer III 165 no:: 841 pg no:: 29\n",
      "Software Engineer lll - DotNet 166 no:: 841 pg no:: 29\n",
      "Software Development Engineer 3 167 no:: 841 pg no:: 29\n",
      "Software Engineer III Java Full Stack 168 no:: 841 pg no:: 29\n",
      "UI/UX Engineer 168 no:: 841 pg no:: 29\n",
      "QA Engineer 169 no:: 841 pg no:: 29\n",
      "Advanced Data Scientist 170 no:: 841 pg no:: 29\n",
      "IT Support Engineer 171 no:: 841 pg no:: 29\n",
      "Software Engineer Java 171 no:: 841 pg no:: 29\n",
      "Software Engineer III - UI Developer 171 no:: 841 pg no:: 29\n",
      "Senior Software Engineer 171 no:: 841 pg no:: 29\n",
      "Cloud Software Engineer III 172 no:: 841 pg no:: 29\n",
      "Senior Software Development Engineer - Performance Engineering 172 no:: 841 pg no:: 29\n",
      "Firmware Developer 173 no:: 841 pg no:: 29\n",
      "CP4D Data Admin (Senior Engineer - Database Administration 173 no:: 841 pg no:: 29\n",
      "Senior Data Science Expert 174 no:: 841 pg no:: 29\n",
      "Sr Software Engineer 174 no:: 841 pg no:: 29\n",
      "Software Engineer(React.js) 175 no:: 841 pg no:: 29\n",
      "Software Engineer II - IBM_Planning_Analytics_Developer 176 no:: 841 pg no:: 29\n",
      "Staff Software Engineer 176 no:: 841 pg no:: 29\n",
      "Application Engineer, Devices and Services FinTech 176 no:: 841 pg no:: 29\n",
      "Engineer 177 no:: 841 pg no:: 29\n",
      "IT&D Director, Platform & Product Stream Architect 178 no:: 841 pg no:: 29\n",
      "Sr Engineer 179 no:: 841 pg no:: 29\n",
      "Engineer - Core 180 no:: 841 pg no:: 29\n",
      "Physical Design Engineer 181 no:: 841 pg no:: 29\n",
      "1 Expert IT Process Consulting - Production Solution - MES 181 no:: 841 pg no:: 29\n",
      "Enabling Areas - Full-Stack Tech Lead - DM 181 no:: 841 pg no:: 29\n",
      "DevOps Engineer 182 no:: 841 pg no:: 29\n",
      "Cloud DevOps Engineer 182 no:: 841 pg no:: 29\n",
      "Engineer, R&D Software Engineering 183 no:: 841 pg no:: 29\n",
      "Digital Solutions Consultant II 183 no:: 841 pg no:: 29\n",
      "Senior Engineer-DC Operations 183 no:: 841 pg no:: 29\n",
      "Senior Test Automation Engineer 184 no:: 841 pg no:: 29\n",
      "Cyber Security Engineer I - Threat Governance 185 no:: 841 pg no:: 29\n",
      "Lead Platform Engineer 186 no:: 841 pg no:: 29\n",
      "Software Engineer II - Legal Technology 187 no:: 841 pg no:: 29\n",
      "Engineer 2 - Linux Admin (SKY-GSM-F034_GS-048) 188 no:: 841 pg no:: 29\n",
      "Staff Engineer, Software Engineering 188 no:: 841 pg no:: 29\n",
      "Network Engineer II 189 no:: 841 pg no:: 29\n",
      "QA Automation Engineer 190 no:: 841 pg no:: 29\n",
      "Autonomy Sr. Engineer 191 no:: 841 pg no:: 29\n",
      "CDC Cloud Engineer 192 no:: 841 pg no:: 29\n",
      "Full Stack developer - Analyst/Associate 192 no:: 841 pg no:: 29\n",
      "PS SW Engineer III 193 no:: 841 pg no:: 29\n",
      "Azure Cloud Ops 194 no:: 841 pg no:: 29\n",
      "Implementation Engineer 194 no:: 841 pg no:: 29\n",
      "Senior Associate- SQL Server DBA 195 no:: 841 pg no:: 29\n",
      "IET - Data Conversion - Senior Associate 2 - Bangalore 195 no:: 841 pg no:: 29\n",
      "Senior Analyst 196 no:: 841 pg no:: 29\n",
      "Product Manager -AI/ML 197 no:: 841 pg no:: 29\n",
      "AWS Python Developer 198 no:: 841 pg no:: 29\n",
      "Sr. Engineering Manager - Agile Program Manager 198 no:: 841 pg no:: 29\n",
      "SW Quality Engineer III 199 no:: 841 pg no:: 29\n",
      "DB2 Engineer 200 no:: 841 pg no:: 29\n",
      "Engineering Manager- Platform 201 no:: 841 pg no:: 29\n",
      "Lead Software Engineer - Backend 202 no:: 841 pg no:: 29\n",
      "Sr Mgr, Inbound Product Mgmt 203 no:: 841 pg no:: 29\n",
      "Azure Machine Learning Engineer 204 no:: 841 pg no:: 29\n",
      "Product Owner - Markets Client Portal 204 no:: 841 pg no:: 29\n",
      "Software Engineer III - Fullstack 204 no:: 841 pg no:: 29\n",
      "Azure Lead Data Engineer 205 no:: 841 pg no:: 29\n",
      "Principal Product Manager 205 no:: 841 pg no:: 29\n",
      "PLM Teamcenter Sr. Developer 206 no:: 841 pg no:: 29\n",
      "Sr IT Engineer 207 no:: 841 pg no:: 29\n",
      "Senior Automation Test Engineer 208 no:: 841 pg no:: 29\n",
      "SDE 3 Backend 208 no:: 841 pg no:: 29\n",
      "Senior NFT Analyst 208 no:: 841 pg no:: 29\n",
      "Sr Associate, SW Eng 209 no:: 841 pg no:: 29\n",
      "TC_CS_IAM(IMP)_Role Engineer_Senior 210 no:: 841 pg no:: 29\n",
      "Team Lead - MS Service Delivery 211 no:: 841 pg no:: 29\n",
      "CDC PowerBI Developer 212 no:: 841 pg no:: 29\n",
      "Senior Engineering Manager 213 no:: 841 pg no:: 29\n",
      "Sr Cloud Developer 214 no:: 841 pg no:: 29\n",
      "Lead Engineer QA 214 no:: 841 pg no:: 29\n",
      "Lead Software Engineer - .Net 215 no:: 841 pg no:: 29\n",
      "Specialist, Software Development Engineering 215 no:: 841 pg no:: 29\n",
      "Project Manager - Bangalore 216 no:: 841 pg no:: 29\n",
      "Sr Eng, Test (SDET) 216 no:: 841 pg no:: 29\n",
      "CDC Graph Engineer 217 no:: 841 pg no:: 29\n",
      "Senior Software Engineer – Apache Superset 218 no:: 841 pg no:: 29\n",
      "Sr Advanced Software Engineer 219 no:: 841 pg no:: 29\n",
      "Software Engineer / Senior Software Engineer - Backend 220 no:: 841 pg no:: 29\n",
      "Senior Engineer 221 no:: 841 pg no:: 29\n",
      "Network Engineer 222 no:: 841 pg no:: 29\n",
      "Consultant 223 no:: 841 pg no:: 29\n",
      "Software Developer 224 no:: 841 pg no:: 29\n",
      "Specialist - Package Implementation 225 no:: 841 pg no:: 29\n",
      "INS_Staff_Guidewire Integration 226 no:: 841 pg no:: 29\n",
      "EY - GDS Consulting - D&A - MDM Engineer - Senior 226 no:: 841 pg no:: 29\n",
      "Cloud Support Engineer L1/L2 226 no:: 841 pg no:: 29\n",
      "Senior Engineer - Cloud & Infra Management 227 no:: 841 pg no:: 29\n",
      "Project Manager_CCaSS Digital 228 no:: 841 pg no:: 29\n",
      "Java Support Engineer 229 no:: 841 pg no:: 29\n",
      "Senior Software Test Engineer 230 no:: 841 pg no:: 29\n",
      "Principal Digital Product Owner 231 no:: 841 pg no:: 29\n",
      "DB2 Engineer 231 no:: 841 pg no:: 29\n",
      "Senior DevOps Engineer Kubernetes 232 no:: 841 pg no:: 29\n",
      "Sr Staff Software Engineer 233 no:: 841 pg no:: 29\n",
      "Front End – SDE2 234 no:: 841 pg no:: 29\n",
      "Senior Engineer-Ground Station System Engineer 234 no:: 841 pg no:: 29\n",
      "Senior Software Engineer- Node.js 234 no:: 841 pg no:: 29\n",
      "Consulting-ET&P-Testing-Fullstack Tester 234 no:: 841 pg no:: 29\n",
      "Principal Salesforce Developer 235 no:: 841 pg no:: 29\n",
      "Senior Engineer-Digital Engine Services Analytics PT6A Engineer 235 no:: 841 pg no:: 29\n",
      "Fullstack Engineer 235 no:: 841 pg no:: 29\n",
      "Business Analyst 235 no:: 841 pg no:: 29\n",
      "Senior Product Performance Test Engineer 236 no:: 841 pg no:: 29\n",
      "Network Engineering Senior Specialist 236 no:: 841 pg no:: 29\n",
      "Ping Engineer 237 no:: 841 pg no:: 29\n",
      "Network Project Engineer 238 no:: 841 pg no:: 29\n",
      "Infra engineer 238 no:: 841 pg no:: 29\n",
      "Network Engineer 239 no:: 841 pg no:: 29\n",
      "Senior Software Engineer - Golang 240 no:: 841 pg no:: 29\n",
      "Firmware Developer 241 no:: 841 pg no:: 29\n",
      "Software Engineer III - JAVA Developer /AWS 242 no:: 841 pg no:: 29\n",
      "Tech Lead 242 no:: 841 pg no:: 29\n",
      "WAM_ Manager _ Aladdin Interface 243 no:: 841 pg no:: 29\n",
      "QA Engineer 244 no:: 841 pg no:: 29\n",
      "Senior Embedded QA - Automation 245 no:: 841 pg no:: 29\n",
      "Senior Full Stack Developer 245 no:: 841 pg no:: 29\n",
      "DevOps Engineer 246 no:: 841 pg no:: 29\n",
      "TC_CS_IAM(IMP)_Saviynt _Senior 247 no:: 841 pg no:: 29\n",
      "Automation Test Engineer (Selenium) 247 no:: 841 pg no:: 29\n",
      "TC_CS_IAM (IMP)_OIM Dev_Staff 247 no:: 841 pg no:: 29\n",
      "Senior Consultant - (SAS Admin /Coding) 247 no:: 841 pg no:: 29\n",
      "Technical Lead - SDA/GCA IT 247 no:: 841 pg no:: 29\n",
      "Network Engineering Specialist 248 no:: 841 pg no:: 29\n",
      "AWS IOT Engineer 249 no:: 841 pg no:: 29\n",
      "TC_CS_IAM (IMP)_OIM Dev_Senior 250 no:: 841 pg no:: 29\n",
      "Hardware & Network Engineer L3 250 no:: 841 pg no:: 29\n",
      "PS Engineer III 251 no:: 841 pg no:: 29\n",
      "Lead Cloud Software Engineer 252 no:: 841 pg no:: 29\n",
      "Senior BI Analyst 252 no:: 841 pg no:: 29\n",
      "TC_CS_IAM(IMP)_Saivynt_Senior 253 no:: 841 pg no:: 29\n",
      "Windows Server Administrator 253 no:: 841 pg no:: 29\n",
      "C++ Developer 254 no:: 841 pg no:: 29\n",
      "PySpark - Senior Engineer 255 no:: 841 pg no:: 29\n",
      "Cloud Devops/Senior Lead Consultant Specialist/ Pune/Wholesale IT: 0000JTCS 256 no:: 841 pg no:: 29\n",
      "2023 CB Tech Production Internalization - CBProd 256 no:: 841 pg no:: 29\n",
      "Android/IOS Developer 257 no:: 841 pg no:: 29\n",
      "Senior Software Engineer( Android + IOS) 258 no:: 841 pg no:: 29\n",
      "Senior Software Engineer - Java, Springboot, microservices, AWS 259 no:: 841 pg no:: 29\n",
      "Field Engineer 260 no:: 841 pg no:: 29\n",
      "Senior Software Engineer (NodeJS + React) 261 no:: 841 pg no:: 29\n",
      "Manager 262 no:: 841 pg no:: 29\n",
      "Senior Manager Engineering ( Prisma Cloud ) 263 no:: 841 pg no:: 29\n",
      "ISO Executive 263 no:: 841 pg no:: 29\n",
      "Senior Tech Lead- DevOps with Cloud Infrastructure 263 no:: 841 pg no:: 29\n",
      "Desktop Support Engineer 263 no:: 841 pg no:: 29\n",
      "Technical Lead DevOps 264 no:: 841 pg no:: 29\n",
      ".NET FS - Senior Engineer 265 no:: 841 pg no:: 29\n",
      "Android Developer 266 no:: 841 pg no:: 29\n",
      "Sr, Software Engineer (Java, Angular, Full stack Developer) 267 no:: 841 pg no:: 29\n",
      "Full Stack Engineer 268 no:: 841 pg no:: 29\n",
      "IT Executive 269 no:: 841 pg no:: 29\n",
      "Lead SDET 270 no:: 841 pg no:: 29\n",
      "Business Consulting_Non FS Risk Transformation_Regulatory Compliance_Senior Manager 271 no:: 841 pg no:: 29\n",
      "Senior Principal Consultant-Site Reliability Engineer 272 no:: 841 pg no:: 29\n",
      "Desktop Engineer 273 no:: 841 pg no:: 29\n",
      "DevOps Engineer 274 no:: 841 pg no:: 29\n",
      "Lead Consultant - Full Stack Development 275 no:: 841 pg no:: 29\n",
      "Senior Physical Design Engineer 276 no:: 841 pg no:: 29\n",
      "IAM(IMP) CyberArk Senior 276 no:: 841 pg no:: 29\n",
      "Software Engineer (.NET with Angular) 277 no:: 841 pg no:: 29\n",
      "Senior Software Engineer (Java Full Stack and Payments Domain) 278 no:: 841 pg no:: 29\n",
      "Big Data Engineer 279 no:: 841 pg no:: 29\n",
      "Azure Data Engineer 280 no:: 841 pg no:: 29\n",
      "Data Science Engineer - EXP1_2024 281 no:: 841 pg no:: 29\n",
      "Enabling Areas - Business Analyst - Sr. Executive - DEC 282 no:: 841 pg no:: 29\n",
      "Staff Systems Engineer 283 no:: 841 pg no:: 29\n",
      "Azure Data Engineer 283 no:: 841 pg no:: 29\n",
      "Cloud Support Engineer (Analytics) 284 no:: 841 pg no:: 29\n",
      "Cloud Support Engineer (Linux), 7312 - SE 285 no:: 841 pg no:: 29\n",
      "Sr.Data Engineer 286 no:: 841 pg no:: 29\n",
      "Backend Engineer - Integration/Pipeline (Remote) 287 no:: 841 pg no:: 29\n",
      "Software Engineer, Associate 287 no:: 841 pg no:: 29\n",
      "B2B Data Engineer 287 no:: 841 pg no:: 29\n",
      "Systems Engineer I 288 no:: 841 pg no:: 29\n",
      "Lead Data Engineer 289 no:: 841 pg no:: 29\n",
      "Support Engineer, Global Store 289 no:: 841 pg no:: 29\n",
      "Data Engineer 290 no:: 841 pg no:: 29\n",
      "Data Scientist: Artificial Intelligence 291 no:: 841 pg no:: 29\n",
      "Engineer, QA 1 292 no:: 841 pg no:: 29\n",
      "Backup Engineer (Linux Knowledge) 293 no:: 841 pg no:: 29\n",
      "Data Engineer: Big Data-Azure 294 no:: 841 pg no:: 29\n",
      "Product Owner -Architect Data Engineering 295 no:: 841 pg no:: 29\n",
      "AWS-Data Engineer 296 no:: 841 pg no:: 29\n",
      "Lead Software Engineer 297 no:: 841 pg no:: 29\n",
      "Platform Engineering Engineer 3 298 no:: 841 pg no:: 29\n",
      "Enabling Areas - Business Analyst - Executive - DEC 299 no:: 841 pg no:: 29\n",
      "Engineer-TPG WFD 300 no:: 841 pg no:: 29\n",
      "ePT System Integration Engineer 300 no:: 841 pg no:: 29\n",
      "Engineer- Display Testing 301 no:: 841 pg no:: 29\n",
      "Data Engineer 302 no:: 841 pg no:: 29\n",
      "Senior Network Engineer 303 no:: 841 pg no:: 29\n",
      "Sr. AWS Data Engineer 304 no:: 841 pg no:: 29\n",
      "Azure Data Engineer 305 no:: 841 pg no:: 29\n",
      "Lead Data Engineer 306 no:: 841 pg no:: 29\n",
      "SDE 1 - Frontend 307 no:: 841 pg no:: 29\n",
      "Software Quality Engineer 308 no:: 841 pg no:: 29\n",
      "Cloud Support Engineer (Linux) 309 no:: 841 pg no:: 29\n",
      "React Frontend Developer 310 no:: 841 pg no:: 29\n",
      "Data Engineer Trainer 311 no:: 841 pg no:: 29\n",
      "Senior Data Engineer 312 no:: 841 pg no:: 29\n",
      "Software Development Manager 313 no:: 841 pg no:: 29\n",
      "Software Engineer II 314 no:: 841 pg no:: 29\n",
      "Software Engineer | (Springboot , Java, nodejs , MongoDB , Cassandra ) |5+ years 315 no:: 841 pg no:: 29\n",
      "Senior Application Engineer, AGS 316 no:: 841 pg no:: 29\n",
      "Software Engineer Lead 317 no:: 841 pg no:: 29\n",
      "Advanced Project Engr 318 no:: 841 pg no:: 29\n",
      "Specialist Software Engineer - Java, SQL- H/F/X 319 no:: 841 pg no:: 29\n",
      "Design Engineer 320 no:: 841 pg no:: 29\n",
      "Senior Service Engineer 321 no:: 841 pg no:: 29\n",
      "RAN SME 321 no:: 841 pg no:: 29\n",
      "Cloud Support Engineer (Linux), Support Engineering 322 no:: 841 pg no:: 29\n",
      "Senior Software Engineer 323 no:: 841 pg no:: 29\n",
      "Data Analytics engineer(Scala) 324 no:: 841 pg no:: 29\n",
      "Senior QA Engineer 325 no:: 841 pg no:: 29\n",
      "Sr Technical Consultant 326 no:: 841 pg no:: 29\n",
      "Senior / Lead Data Scientist 326 no:: 841 pg no:: 29\n",
      "WALKIN DRIVE - 03rd FEB - TRIVANDRUM 327 no:: 841 pg no:: 29\n",
      "Senior Manager QA (Prisma Cloud) 328 no:: 841 pg no:: 29\n",
      "Senior Software Engineer - SDX 329 no:: 841 pg no:: 29\n",
      "Senior Developer Support Engineer 330 no:: 841 pg no:: 29\n",
      "Sr Software Engineer 331 no:: 841 pg no:: 29\n",
      "Senior Java Engineer 332 no:: 841 pg no:: 29\n",
      "Technical Lead Data Engineer Python 333 no:: 841 pg no:: 29\n",
      "Associate consultant 334 no:: 841 pg no:: 29\n",
      "Technical Solutions Consultant 335 no:: 841 pg no:: 29\n",
      "Consultant 335 no:: 841 pg no:: 29\n",
      "Staff Site Reliability Engineer 336 no:: 841 pg no:: 29\n",
      "Sr. SDET I 337 no:: 841 pg no:: 29\n",
      "Lead Digital Product Owner 338 no:: 841 pg no:: 29\n",
      "Software Development Engineer 338 no:: 841 pg no:: 29\n",
      "Reporting Lead - Workflow Reporting 339 no:: 841 pg no:: 29\n",
      "IT Network Engineer 340 no:: 841 pg no:: 29\n",
      "Software Engineer, Backend 341 no:: 841 pg no:: 29\n",
      "Principal Software Engineer (Prisma Cloud) 342 no:: 841 pg no:: 29\n",
      "AI Chatbot Developer 343 no:: 841 pg no:: 29\n",
      "Sr. Associate - Projects 344 no:: 841 pg no:: 29\n",
      "Big Data Engineer 344 no:: 841 pg no:: 29\n",
      "Senior Software Engineer 345 no:: 841 pg no:: 29\n",
      "Senior Analyst / MLE (React-Native) 346 no:: 841 pg no:: 29\n",
      "Digital Engineering Sr. Engineer 347 no:: 841 pg no:: 29\n",
      "Security Delivery Specalist-IAM-CyberArk 348 no:: 841 pg no:: 29\n",
      "Senior Threat Researcher (Detection Engineering) 348 no:: 841 pg no:: 29\n",
      "Application Developer: Google Cloud FullStack 348 no:: 841 pg no:: 29\n",
      "Site Reliability Engineer 349 no:: 841 pg no:: 29\n",
      "MTS Software Development Eng. 350 no:: 841 pg no:: 29\n",
      "Software Performance Analyst, Performance Engineering 351 no:: 841 pg no:: 29\n",
      "Associate - Projects 352 no:: 841 pg no:: 29\n",
      "Technical support specialist 353 no:: 841 pg no:: 29\n",
      "Expert Essential Services consultant: CP41 354 no:: 841 pg no:: 29\n",
      "Frontend Engineer - Mobile (Flutter) 355 no:: 841 pg no:: 29\n",
      "Architect / Senior Architect - ML Ops 356 no:: 841 pg no:: 29\n",
      "MLOps-Machine Learning Engineer 357 no:: 841 pg no:: 29\n",
      "Java - Senior Engineer 358 no:: 841 pg no:: 29\n",
      "IoT Software Lead 359 no:: 841 pg no:: 29\n",
      "MLOps -Machine Learning Engineer 360 no:: 841 pg no:: 29\n",
      "Associate Designer, UX 361 no:: 841 pg no:: 29\n",
      "Software Engineer 362 no:: 841 pg no:: 29\n",
      "Application Developer: SAP ABAP 363 no:: 841 pg no:: 29\n",
      "Senior Manager, ASIC Digital Design 364 no:: 841 pg no:: 29\n",
      "Software Test Engineer 365 no:: 841 pg no:: 29\n",
      "Javascript Developer (Lead) 366 no:: 841 pg no:: 29\n",
      "Lead Software Engineer 367 no:: 841 pg no:: 29\n",
      "Design Technologist, Amazon Ads Design 368 no:: 841 pg no:: 29\n",
      "Senior Software Engineer 369 no:: 841 pg no:: 29\n",
      "Technical Support Engineer 370 no:: 841 pg no:: 29\n",
      "Advisory System Development Engineer 371 no:: 841 pg no:: 29\n",
      "UI/UX Product Designer - WFH 372 no:: 841 pg no:: 29\n",
      "DevOps Engineer 373 no:: 841 pg no:: 29\n",
      "Lead Engineer - SDET 374 no:: 841 pg no:: 29\n",
      "Backend Developer 375 no:: 841 pg no:: 29\n",
      "Project Coordinator 376 no:: 841 pg no:: 29\n",
      "Test Engineer 377 no:: 841 pg no:: 29\n",
      "Sr. Network Engineer (Passive) 378 no:: 841 pg no:: 29\n",
      "Senior Embedded Software Engineer 378 no:: 841 pg no:: 29\n",
      "Laptop Service Engineer (Bhubaneswar) 379 no:: 841 pg no:: 29\n",
      "Senior Software Engineer 380 no:: 841 pg no:: 29\n",
      "ServiceNow Admin 380 no:: 841 pg no:: 29\n",
      "Databricks Developer 381 no:: 841 pg no:: 29\n",
      "IDP Developers (internal developer platform ) 382 no:: 841 pg no:: 29\n",
      "Senior / Lead MLE (Fullstack) 383 no:: 841 pg no:: 29\n",
      "Sr. Dot Net Developer 384 no:: 841 pg no:: 29\n",
      "SDE 3 - Site Reliability Engineer 384 no:: 841 pg no:: 29\n",
      "CAD DEVELOPER 385 no:: 841 pg no:: 29\n",
      "Network Support Engineer 386 no:: 841 pg no:: 29\n",
      "Senior UX Designer - WFH 387 no:: 841 pg no:: 29\n",
      "Jira Architecture & Support 388 no:: 841 pg no:: 29\n",
      "Java Developer 389 no:: 841 pg no:: 29\n",
      "Lead React .Net Developer 390 no:: 841 pg no:: 29\n",
      "Looking for Performance Testing Engineer Selenium web driver + Jmeter 391 no:: 841 pg no:: 29\n",
      "AI / ML Engineer 391 no:: 841 pg no:: 29\n",
      "Senior Data Engineer 392 no:: 841 pg no:: 29\n",
      "Python Developer 392 no:: 841 pg no:: 29\n",
      "Desktop Support Engineer L1 393 no:: 841 pg no:: 29\n",
      "Frontend Developer 394 no:: 841 pg no:: 29\n",
      "Senior Software Engineer (Java Full Stack, React.JS) 395 no:: 841 pg no:: 29\n",
      "Python Full Stack Developer 396 no:: 841 pg no:: 29\n",
      "MIS Cum Account Executive 397 no:: 841 pg no:: 29\n",
      "Java Full Stack Developer 398 no:: 841 pg no:: 29\n",
      "Networking Engineer 399 no:: 841 pg no:: 29\n",
      "Data Engineer 400 no:: 841 pg no:: 29\n",
      "Data Engineer 401 no:: 841 pg no:: 29\n",
      "Data Engineer IV 401 no:: 841 pg no:: 29\n",
      "Software Engineer 402 no:: 841 pg no:: 29\n",
      "Software Quality Analyst Engineer - Test and Automation 403 no:: 841 pg no:: 29\n",
      "Senior Data Engineer 404 no:: 841 pg no:: 29\n",
      "High Performance Computing Networking Software development Engineer 405 no:: 841 pg no:: 29\n",
      "Website Engineer – SDE II 406 no:: 841 pg no:: 29\n",
      "Product System Design Engineering Product Specialist 407 no:: 841 pg no:: 29\n",
      "Senior Software Development Engineer 407 no:: 841 pg no:: 29\n",
      "Software Development Engineer II, SDE II, DataZone 408 no:: 841 pg no:: 29\n",
      "Senior Software Engineer 409 no:: 841 pg no:: 29\n",
      "Hiring for Operations Analyst 410 no:: 841 pg no:: 29\n",
      "Senior Data Engineer 411 no:: 841 pg no:: 29\n",
      "Product System Design Engineering Product Specialist 412 no:: 841 pg no:: 29\n",
      "Site Reliability Developer 412 no:: 841 pg no:: 29\n",
      "Network Engineer 413 no:: 841 pg no:: 29\n",
      "Senior Engineer 414 no:: 841 pg no:: 29\n",
      "Senior Quality Engineer 415 no:: 841 pg no:: 29\n",
      "Principal Member of Technical Staff 416 no:: 841 pg no:: 29\n",
      "Domain Consultant 416 no:: 841 pg no:: 29\n",
      "Software Engineer (.NET) 416 no:: 841 pg no:: 29\n",
      "Software Quality Analyst - Test and Automation Engineer 416 no:: 841 pg no:: 29\n",
      "Support Engineer 417 no:: 841 pg no:: 29\n",
      "Data Architect 10+ yrs 418 no:: 841 pg no:: 29\n",
      "QA Engineer,2 418 no:: 841 pg no:: 29\n",
      "Application Developer 419 no:: 841 pg no:: 29\n",
      "Solutions Architect 419 no:: 841 pg no:: 29\n",
      "Software Developer 420 no:: 841 pg no:: 29\n",
      "Principal Software Developer 421 no:: 841 pg no:: 29\n",
      "Global Banking Test Engineer - Techno Functional 422 no:: 841 pg no:: 29\n",
      "Business Engineer - BIT - BD Vendor & Publisher 422 no:: 841 pg no:: 29\n",
      "Software Engineering Lead 423 no:: 841 pg no:: 29\n",
      "Senior SQA Engineer 424 no:: 841 pg no:: 29\n",
      "MTS Silicon Design Engineer (Verification Engineer) 425 no:: 841 pg no:: 29\n",
      "Design Control PPS, Manager 426 no:: 841 pg no:: 29\n",
      "MTS SoC Verification Engineer 426 no:: 841 pg no:: 29\n",
      "Senior Software Engineer (Backend Engineer) - Benefits 427 no:: 841 pg no:: 29\n",
      "Sr Web Developer 428 no:: 841 pg no:: 29\n",
      "Senior iOS Developer 429 no:: 841 pg no:: 29\n",
      "Senior Software Developer 430 no:: 841 pg no:: 29\n",
      "Javascript Developer (Standard) 431 no:: 841 pg no:: 29\n",
      "Software Engineering Manager 432 no:: 841 pg no:: 29\n",
      "Associate Numerical Control Programmer 433 no:: 841 pg no:: 29\n",
      "Data Engineer I 434 no:: 841 pg no:: 29\n",
      "Data Engineer (SQL,SSIS,SSAS(Tabular), ADF) 435 no:: 841 pg no:: 29\n",
      "Cost Engineer Lead - TSI 436 no:: 841 pg no:: 29\n",
      "Data Engineer, IN Data Engineering & Analytics 437 no:: 841 pg no:: 29\n",
      "Data Engineer 438 no:: 841 pg no:: 29\n",
      "Data Engineer 439 no:: 841 pg no:: 29\n",
      "Senior Software Lead - Java Full Stack 440 no:: 841 pg no:: 29\n",
      "Data Engineer 441 no:: 841 pg no:: 29\n",
      "Applied Data Research Engineer 2 442 no:: 841 pg no:: 29\n",
      "Data Engineering IC2 443 no:: 841 pg no:: 29\n",
      "Data Analyst Associate 444 no:: 841 pg no:: 29\n",
      "Big Data Engineer 445 no:: 841 pg no:: 29\n",
      "Software Development Engineer 1 Backend 446 no:: 841 pg no:: 29\n",
      "Data Engineer 3 446 no:: 841 pg no:: 29\n",
      "GCP Data Engineer (Senior) 446 no:: 841 pg no:: 29\n",
      "Junior Software Engineer 447 no:: 841 pg no:: 29\n",
      "SO_IT_Infrastructure_Administrator_RPA_2024 448 no:: 841 pg no:: 29\n",
      "Engineer - Network Operations & Support (Network Operations & Support) - B2101_2 449 no:: 841 pg no:: 29\n",
      "Product Owner Data Engineer (Hybrid) 449 no:: 841 pg no:: 29\n",
      "Systems Engineer - IT Operations 449 no:: 841 pg no:: 29\n",
      "Software Engineer, Core 450 no:: 841 pg no:: 29\n",
      "AI Safety Data Scientist 450 no:: 841 pg no:: 29\n",
      "Data Engineer- Data Modeler, Datawarehouse, SQL, Python: 7+ yrs 450 no:: 841 pg no:: 29\n",
      "Senior Engineer Consultant-Data Engineering 451 no:: 841 pg no:: 29\n",
      "Software Engineer II 452 no:: 841 pg no:: 29\n",
      "Engineer, Non Destructive Testing 453 no:: 841 pg no:: 29\n",
      "Enabling Areas - Devops Engineer - Executive - DEC 453 no:: 841 pg no:: 29\n",
      "Senior Data Engineer 454 no:: 841 pg no:: 29\n",
      "Technical Support Engineering 455 no:: 841 pg no:: 29\n",
      "Enabling Areas - QA Lead - AM/DM - DEC 456 no:: 841 pg no:: 29\n",
      "ML Engineer 457 no:: 841 pg no:: 29\n",
      "Manager_Lead_GCP Data Engineer_Pune 458 no:: 841 pg no:: 29\n",
      "Staff Data Engineer - (Java Backend) 459 no:: 841 pg no:: 29\n",
      "Data Engineer - SSE 460 no:: 841 pg no:: 29\n",
      "Technical Support Engineer (Remote) 461 no:: 841 pg no:: 29\n",
      "Data Management Engineer 462 no:: 841 pg no:: 29\n",
      "Data Enginer 463 no:: 841 pg no:: 29\n",
      "Embedded Software Engineer - RISCV 463 no:: 841 pg no:: 29\n",
      "Software Engineer - (ETL/Databricks) 464 no:: 841 pg no:: 29\n",
      "Data Engineer - Phython, Pyspark, Spark ,SQL, AWS 465 no:: 841 pg no:: 29\n",
      "Systems Dev Engineer Contractor, ATE 466 no:: 841 pg no:: 29\n",
      "SE/SSE-ETL Engineer 467 no:: 841 pg no:: 29\n",
      "Quality Assurance Engineer, Amazon Smart Vehicles 468 no:: 841 pg no:: 29\n",
      "Automation Quality Assurance Engineer (Cypress, JavaScript) 469 no:: 841 pg no:: 29\n",
      "Software Engineer- CPU 470 no:: 841 pg no:: 29\n",
      "Technical Solutions Engineer, Platform, Google Cloud 471 no:: 841 pg no:: 29\n",
      "Senior Manager, Scaled Agile Services, Scrum Leadership 471 no:: 841 pg no:: 29\n",
      "Support Engineering Manager 472 no:: 841 pg no:: 29\n",
      "Data Analyst -Intern 473 no:: 841 pg no:: 29\n",
      "Data Engineer 473 no:: 841 pg no:: 29\n",
      "Engineer - Digital Data Development 474 no:: 841 pg no:: 29\n",
      "Database Engineer 475 no:: 841 pg no:: 29\n",
      "QA Engineer 4 476 no:: 841 pg no:: 29\n",
      "Engineer - Digital Data Development 477 no:: 841 pg no:: 29\n",
      "PDU Cloud Deployment & Support Engineer 478 no:: 841 pg no:: 29\n",
      "Technical Support Engineer III (Data Security) 479 no:: 841 pg no:: 29\n",
      "Data Scientist II, Forecasting, Selling Partner Services 479 no:: 841 pg no:: 29\n",
      "SDET Automation Test Engineer in Banking - Bangalore 480 no:: 841 pg no:: 29\n",
      "Core Software Engineer Python, Cloud, ML 481 no:: 841 pg no:: 29\n",
      "Data Engineer 482 no:: 841 pg no:: 29\n",
      "Test Engineer II 483 no:: 841 pg no:: 29\n",
      "Data Platform Engineer 483 no:: 841 pg no:: 29\n",
      "Support Engineer 483 no:: 841 pg no:: 29\n",
      "Data Engineer 484 no:: 841 pg no:: 29\n",
      "Associate Unix/Linux Systems Administrator 485 no:: 841 pg no:: 29\n",
      "Spark Engineer 486 no:: 841 pg no:: 29\n",
      "IET - Data Conversion - Associate 2 - Bangalore 486 no:: 841 pg no:: 29\n",
      "System Software Validation Engineer 487 no:: 841 pg no:: 29\n",
      "Associate Manager - Data and Analytics 488 no:: 841 pg no:: 29\n",
      "Test Solutions Engineer 489 no:: 841 pg no:: 29\n",
      "Staff Full Stack Engineer - Pulse 490 no:: 841 pg no:: 29\n",
      "DevOps Engineer 491 no:: 841 pg no:: 29\n",
      "Cloud Software Development Engineer 492 no:: 841 pg no:: 29\n",
      "Enabling Areas - Support Engineer(L3) - Sr. Executive - DEC 492 no:: 841 pg no:: 29\n",
      "Data Engineer - SIEM 493 no:: 841 pg no:: 29\n",
      "Adobe Business Analyst 494 no:: 841 pg no:: 29\n",
      "Physical Design Engineer II 495 no:: 841 pg no:: 29\n",
      "Infrastructure Engineer III- Oracle Database Administration 495 no:: 841 pg no:: 29\n",
      "Snowflake Data Engineer (3+ years) - Python, SQL, AWS, Azure, GCP 496 no:: 841 pg no:: 29\n",
      "MS Technical Specialist - Security 497 no:: 841 pg no:: 29\n",
      "ML Ops Engineer 498 no:: 841 pg no:: 29\n",
      "Data Engineer 499 no:: 841 pg no:: 29\n",
      "Deputy Manager_Assistant Lead_GCP Data Engineer_Pune 500 no:: 841 pg no:: 29\n",
      "C++ Software Engineer - 3D data processing 501 no:: 841 pg no:: 29\n",
      "Software Engineering Specialist 502 no:: 841 pg no:: 29\n",
      "Manager/AVP – Data Engineer 503 no:: 841 pg no:: 29\n",
      "Software Engineer II-Cloud Identity 504 no:: 841 pg no:: 29\n",
      "Frontend Playback Engineer- Typescript 505 no:: 841 pg no:: 29\n",
      "QA Engineer II 506 no:: 841 pg no:: 29\n",
      "Data Engineer with GCP 507 no:: 841 pg no:: 29\n",
      "GCP Data Engineer (Lead) 508 no:: 841 pg no:: 29\n",
      "Lead Engineer - Quality Assurance (Manual, Automation Testing) 509 no:: 841 pg no:: 29\n",
      "L2 Engineer- VMWare 510 no:: 841 pg no:: 29\n",
      "Test Engineer I 510 no:: 841 pg no:: 29\n",
      "Data Production Engineer - HDP/CDP 510 no:: 841 pg no:: 29\n",
      "Staff Engineer - Tools & Infra 511 no:: 841 pg no:: 29\n",
      "Systems Engr II 512 no:: 841 pg no:: 29\n",
      "PDM Intern 513 no:: 841 pg no:: 29\n",
      "Principal Software Engineer 513 no:: 841 pg no:: 29\n",
      "QA Automation_Engineer 514 no:: 841 pg no:: 29\n",
      "Software Engineer II 515 no:: 841 pg no:: 29\n",
      "Release Lead 515 no:: 841 pg no:: 29\n",
      "System Engineer for IoT/ Connected products 516 no:: 841 pg no:: 29\n",
      "Staff Platform Engineer 517 no:: 841 pg no:: 29\n",
      "Firmware Design Engineer 518 no:: 841 pg no:: 29\n",
      "TC_CS_DPP_Data Protection_Senior 519 no:: 841 pg no:: 29\n",
      "Security MFT Engineer I 519 no:: 841 pg no:: 29\n",
      "Production Support Engineer 520 no:: 841 pg no:: 29\n",
      "Senior Data Engineer 521 no:: 841 pg no:: 29\n",
      "Resilience and Disaster Recovery Governance Manager 522 no:: 841 pg no:: 29\n",
      "Principal Software Development Engineer - OCI VN Edge IDC 523 no:: 841 pg no:: 29\n",
      "ePT System Integration Engineer 524 no:: 841 pg no:: 29\n",
      "Site Reliability Engineer - Dedicated 525 no:: 841 pg no:: 29\n",
      "MIS Developer - Infrastructure Engineer II 526 no:: 841 pg no:: 29\n",
      "Site Reliability Engineer 527 no:: 841 pg no:: 29\n",
      "Data Architect 528 no:: 841 pg no:: 29\n",
      "Cloud Engineer III 529 no:: 841 pg no:: 29\n",
      "Adobe Reporting Specialist 529 no:: 841 pg no:: 29\n",
      "GWPC QA Analyst 530 no:: 841 pg no:: 29\n",
      "Analyst IT - Salesforce Developer 531 no:: 841 pg no:: 29\n",
      "Senior System Development Engineer, Google Distributed Cloud Hosted 531 no:: 841 pg no:: 29\n",
      "Staff Software Engineer - Machine Learning (ML) 531 no:: 841 pg no:: 29\n",
      "MLOps Engineer 532 no:: 841 pg no:: 29\n",
      "Associate, Solution Engineering 533 no:: 841 pg no:: 29\n",
      "Enabling Areas - Support Engineer(L3) - Executive - DEC 534 no:: 841 pg no:: 29\n",
      "AWS Data Engineer 535 no:: 841 pg no:: 29\n",
      "Senior Customer Operations Engineer 536 no:: 841 pg no:: 29\n",
      "Junior Software Engineer 537 no:: 841 pg no:: 29\n",
      "Staff Software Engineer 538 no:: 841 pg no:: 29\n",
      "ELASTIC STACK ENGINEER 539 no:: 841 pg no:: 29\n",
      "Staff Performance Engineer 539 no:: 841 pg no:: 29\n",
      "SSE/ Devops Engineer 540 no:: 841 pg no:: 29\n",
      "Staff Engineer-UI 541 no:: 841 pg no:: 29\n",
      "ESW Integration Engineer 542 no:: 841 pg no:: 29\n",
      "Enterprise Technology Engineer 543 no:: 841 pg no:: 29\n",
      "IT Engineer 544 no:: 841 pg no:: 29\n",
      "Technical Solution Manager 545 no:: 841 pg no:: 29\n",
      "MS Technical Specialist 546 no:: 841 pg no:: 29\n",
      "Software Engr II 547 no:: 841 pg no:: 29\n",
      "Software Engineer - NewGrad 548 no:: 841 pg no:: 29\n",
      "Staff Backend Engineer - Pulse 548 no:: 841 pg no:: 29\n",
      "Site Reliability Engineer (SRE) 549 no:: 841 pg no:: 29\n",
      "Senior Quality Assurance Engineer 550 no:: 841 pg no:: 29\n",
      "Sr. User Experience Designer 550 no:: 841 pg no:: 29\n",
      "Software Engineer III - C++ 551 no:: 841 pg no:: 29\n",
      "Software Engineer - Integration 552 no:: 841 pg no:: 29\n",
      "Principal Engineer 553 no:: 841 pg no:: 29\n",
      "Software System Designer 2 554 no:: 841 pg no:: 29\n",
      "Software Engineer 555 no:: 841 pg no:: 29\n",
      "Python Data Scientist 556 no:: 841 pg no:: 29\n",
      "Specialist Product Owner, Actimize 557 no:: 841 pg no:: 29\n",
      "Principal Software Engineer 558 no:: 841 pg no:: 29\n",
      "Member of Technical Staff- Java - OCI 559 no:: 841 pg no:: 29\n",
      "Azure Data Engineer 559 no:: 841 pg no:: 29\n",
      "IET - Maximo Technical - Manager - Bangalore 560 no:: 841 pg no:: 29\n",
      "Sr Software Engineer 561 no:: 841 pg no:: 29\n",
      "Network Security 562 no:: 841 pg no:: 29\n",
      "Principal Engineer - Development (GMI/AS400) 563 no:: 841 pg no:: 29\n",
      "IFS, SoC IR Analysis Engineer 564 no:: 841 pg no:: 29\n",
      "Senior Software Engineer - NFQE 565 no:: 841 pg no:: 29\n",
      "Sr. Data Engineer 566 no:: 841 pg no:: 29\n",
      "Data Labelling Analyst 567 no:: 841 pg no:: 29\n",
      "Sr Machine Learning Engineer 568 no:: 841 pg no:: 29\n",
      "Software Engineer- Salesforce 569 no:: 841 pg no:: 29\n",
      "Staff Software Engineer 570 no:: 841 pg no:: 29\n",
      "Digital Operations Engineer 571 no:: 841 pg no:: 29\n",
      "Senior UAT Engineer -Workflow & Systems 572 no:: 841 pg no:: 29\n",
      "Software Engineering Leader - Python, C, C++, Java, JavaScript 573 no:: 841 pg no:: 29\n",
      "Software Engineer 574 no:: 841 pg no:: 29\n",
      "Applications Developer 575 no:: 841 pg no:: 29\n",
      "Security Engineer 576 no:: 841 pg no:: 29\n",
      "Infrastructure Engineer - Enterprise PLM 577 no:: 841 pg no:: 29\n",
      "Artificial Intelligence Engineer 577 no:: 841 pg no:: 29\n",
      "Engineer 2 578 no:: 841 pg no:: 29\n",
      "Software Quality Engineer (Manual) 579 no:: 841 pg no:: 29\n",
      "Senior Director Software Engineering (Runtime Compute) 580 no:: 841 pg no:: 29\n",
      "Staff Frontend Engineer - ADOC 581 no:: 841 pg no:: 29\n",
      "Network Support Engineer 582 no:: 841 pg no:: 29\n",
      "Specialist - Technology Services 582 no:: 841 pg no:: 29\n",
      "Java Application Developer 583 no:: 841 pg no:: 29\n",
      "Assistant Manager_ Senior Engineer _GCP_Pune 584 no:: 841 pg no:: 29\n",
      "Lead QA 585 no:: 841 pg no:: 29\n",
      "Software Analyst 586 no:: 841 pg no:: 29\n",
      "Identity Operations Support Engineer 587 no:: 841 pg no:: 29\n",
      "Software Engineer 587 no:: 841 pg no:: 29\n",
      "Senior Service Engineer - GPO 588 no:: 841 pg no:: 29\n",
      "Software Engineer 589 no:: 841 pg no:: 29\n",
      "Senior Engineer-Wearables (Development) 590 no:: 841 pg no:: 29\n",
      "Lead Engineer - 2,Business Analyst 591 no:: 841 pg no:: 29\n",
      "Product Ops Engineer - API Product Operations 592 no:: 841 pg no:: 29\n",
      "Quality Engineer 593 no:: 841 pg no:: 29\n",
      "Android Developer 594 no:: 841 pg no:: 29\n",
      "Fullstack Engineer 595 no:: 841 pg no:: 29\n",
      "Senior Software Engineer - ADOC 596 no:: 841 pg no:: 29\n",
      "DET_ASSOCIATE SOFTWARE ENGINEER_GDSN 597 no:: 841 pg no:: 29\n",
      "Implementation Engineer 598 no:: 841 pg no:: 29\n",
      "Software Engineering SMTS (Apex + LWC) 599 no:: 841 pg no:: 29\n",
      "Mgr, Software Engineering 600 no:: 841 pg no:: 29\n",
      "Senior Software Engineer - ML 600 no:: 841 pg no:: 29\n",
      "MySQL DBA 601 no:: 841 pg no:: 29\n",
      "Senior Systems Engineer 602 no:: 841 pg no:: 29\n",
      "Engineering Manager 603 no:: 841 pg no:: 29\n",
      "Senior SDET - Cloud Testing 604 no:: 841 pg no:: 29\n",
      "Big Data Engineer 605 no:: 841 pg no:: 29\n",
      "Software Quality Assurance Lead 606 no:: 841 pg no:: 29\n",
      "Backend Developer (Node.js) 607 no:: 841 pg no:: 29\n",
      "Senior Machine Learning Engineer 608 no:: 841 pg no:: 29\n",
      "Manager, Support Engineering, Global Store 608 no:: 841 pg no:: 29\n",
      "Sr Software Engineer 609 no:: 841 pg no:: 29\n",
      "AIML Engineer 610 no:: 841 pg no:: 29\n",
      "Software Quality Automation Engineer 610 no:: 841 pg no:: 29\n",
      "Associate Manager, Engineering 611 no:: 841 pg no:: 29\n",
      "Software Engineer, Senior 611 no:: 841 pg no:: 29\n",
      "Senior Data Engineer (Optimization) 611 no:: 841 pg no:: 29\n",
      "ANALYST - Active Directory 612 no:: 841 pg no:: 29\n",
      "IT Service Desk Analyst 613 no:: 841 pg no:: 29\n",
      "Sr. D&T Data Scientist 614 no:: 841 pg no:: 29\n",
      "Security Engineer III-GRC 614 no:: 841 pg no:: 29\n",
      "Lead Engineer 615 no:: 841 pg no:: 29\n",
      "Sr Software Engineer 615 no:: 841 pg no:: 29\n",
      "Senior Software Engineer - Streaming Platform 616 no:: 841 pg no:: 29\n",
      "IoT Developer 617 no:: 841 pg no:: 29\n",
      "Lead Data Engineer (Manager) 618 no:: 841 pg no:: 29\n",
      "Senior Data Scientist-Digital Banking Kotak 811-Regional Sales 619 no:: 841 pg no:: 29\n",
      "Technical Associate – AWS Cloud Engineer 620 no:: 841 pg no:: 29\n",
      "Senior Applications Developer 620 no:: 841 pg no:: 29\n",
      "Senior Software Engineer 621 no:: 841 pg no:: 29\n",
      "MS Engineer - Network 622 no:: 841 pg no:: 29\n",
      "Capabilities & Insights Analyst - Engineering, Construction & Buildings 623 no:: 841 pg no:: 29\n",
      "Senior Data Scientist 624 no:: 841 pg no:: 29\n",
      "Engineer 3, Engineering Operations-2 625 no:: 841 pg no:: 29\n",
      "Senior Data Engineer 625 no:: 841 pg no:: 29\n",
      "Principal Engineer - Validation 626 no:: 841 pg no:: 29\n",
      "Frontend Developer 627 no:: 841 pg no:: 29\n",
      "Consultant, Business Analyst 628 no:: 841 pg no:: 29\n",
      "Senior Engineering Manager, Information Retrieval 629 no:: 841 pg no:: 29\n",
      "Junior Security Engineer 629 no:: 841 pg no:: 29\n",
      "Test Engineer - T24 630 no:: 841 pg no:: 29\n",
      "Lead Digital Engineer 631 no:: 841 pg no:: 29\n",
      "Senior Software Engineer (Informatica) || RR/1504/2023 || 4-6 Years 631 no:: 841 pg no:: 29\n",
      "Software Engineer Associate - Quant Research 632 no:: 841 pg no:: 29\n",
      "Security Analysis Specialist Advisor 633 no:: 841 pg no:: 29\n",
      "Senior UX Designer 634 no:: 841 pg no:: 29\n",
      "SOC STA Timing Engineer 635 no:: 841 pg no:: 29\n",
      "MTS Software System Design Eng. 635 no:: 841 pg no:: 29\n",
      "Full Stack Engineer (.net developer) 636 no:: 841 pg no:: 29\n",
      "Junior QA 637 no:: 841 pg no:: 29\n",
      "Senior Member of Technical Staff 638 no:: 841 pg no:: 29\n",
      "L3 Linux engineer with scripting 638 no:: 841 pg no:: 29\n",
      "Lead Consultant - OS Support Engineer 639 no:: 841 pg no:: 29\n",
      "Customer Solutions Architect 640 no:: 841 pg no:: 29\n",
      "Subcontractor 640 no:: 841 pg no:: 29\n",
      "Sr. Principal Consultant - Data Governance - CPG - India 641 no:: 841 pg no:: 29\n",
      "Business Analyst : Ops MI and Reporting Developer 642 no:: 841 pg no:: 29\n",
      "Security Analysis Specialist Advisor 643 no:: 841 pg no:: 29\n",
      "Lead Engineer, Engineering 644 no:: 841 pg no:: 29\n",
      "Senior Member of Technical Staff- Java - OCI 645 no:: 841 pg no:: 29\n",
      "Senior Site Reliability Engineer - Cloud 645 no:: 841 pg no:: 29\n",
      "Senior MS Network Engineer 646 no:: 841 pg no:: 29\n",
      "Platform SW Developer – Backend Development 647 no:: 841 pg no:: 29\n",
      "Associate Manager, Full Stack Development 648 no:: 841 pg no:: 29\n",
      "Staff Data Scientist (Human Resources Data) 648 no:: 841 pg no:: 29\n",
      "GW PC QA Analyst 649 no:: 841 pg no:: 29\n",
      "Software Engineer Associate - Quant Research 650 no:: 841 pg no:: 29\n",
      "Senior Consultant - AWS 651 no:: 841 pg no:: 29\n",
      "SAP Service Management (SM) Functional Analyst 651 no:: 841 pg no:: 29\n",
      "Software Engineering QA Team Lead 651 no:: 841 pg no:: 29\n",
      "Assistant Lead_Deputy Manager_Data Center Network Operations Engineer_Pune 652 no:: 841 pg no:: 29\n",
      "Software Engineer II- Enterprise PLM 653 no:: 841 pg no:: 29\n",
      "Software Engineer II 653 no:: 841 pg no:: 29\n",
      "Principal Product Manager 654 no:: 841 pg no:: 29\n",
      "Sr PEGA CSM_Bangalore/Chennai/Hyderabad 655 no:: 841 pg no:: 29\n",
      "Staff Infrastructure SRE Engineer - Infrastructure support 656 no:: 841 pg no:: 29\n",
      "Senior HPC Engineer, Professional Services 657 no:: 841 pg no:: 29\n",
      "Lead Engineer- Salesforce Health Cloud 658 no:: 841 pg no:: 29\n",
      "Business Analyst I 658 no:: 841 pg no:: 29\n",
      "Staff Site Reliability Engineer 658 no:: 841 pg no:: 29\n",
      "Principal Software Engr 659 no:: 841 pg no:: 29\n",
      "Sr. SW Engineer - Full stack (Java, React) 660 no:: 841 pg no:: 29\n",
      "Applications Technical Specialist II (HCM Functional Consultant (Oracle Learning Cloud)) 661 no:: 841 pg no:: 29\n",
      "Software Configuration Lead 661 no:: 841 pg no:: 29\n",
      "Senior Lead Engineer 661 no:: 841 pg no:: 29\n",
      "Business Intelligence Engineer, Amazon Payment Products (L6) 661 no:: 841 pg no:: 29\n",
      "DevOps Engineer 662 no:: 841 pg no:: 29\n",
      "iOS Developer 663 no:: 841 pg no:: 29\n",
      "STA Engineer 664 no:: 841 pg no:: 29\n",
      "IT Admin 665 no:: 841 pg no:: 29\n",
      "Software Architect 666 no:: 841 pg no:: 29\n",
      "Senior Software Engineer - Public Cloud 667 no:: 841 pg no:: 29\n",
      "Senior Network Analyst 668 no:: 841 pg no:: 29\n",
      "Sr. Software Engineer (Golang, Go developer) 669 no:: 841 pg no:: 29\n",
      "Senior Software Engineer (Javascript and C++) 670 no:: 841 pg no:: 29\n",
      "GCP Cloud Architect 671 no:: 841 pg no:: 29\n",
      "Staff Software Engineer 671 no:: 841 pg no:: 29\n",
      "TC_CS_NGSO TEM_Application Security_Senior 672 no:: 841 pg no:: 29\n",
      "Sr Advanced Project Engr 672 no:: 841 pg no:: 29\n",
      "Lead Engineer - Development 673 no:: 841 pg no:: 29\n",
      "Senior DevOps Engineer 674 no:: 841 pg no:: 29\n",
      "Mid QA 674 no:: 841 pg no:: 29\n",
      "Senior Software Engineer - AI/ML and Cloud Infrastructure 675 no:: 841 pg no:: 29\n",
      "Senior Engineer - MS, Technical Support 675 no:: 841 pg no:: 29\n",
      "Senior System Design Engineer - Diagnostics 676 no:: 841 pg no:: 29\n",
      "Senior Software Engineer 677 no:: 841 pg no:: 29\n",
      "Tech Lead - Database Engineer 678 no:: 841 pg no:: 29\n",
      "Enterprise Account Manager - Government & PSU 679 no:: 841 pg no:: 29\n",
      "MS Technical Lead CX 679 no:: 841 pg no:: 29\n",
      "Software Development Snr Manager- OCI 680 no:: 841 pg no:: 29\n",
      "Sr Reliability Engineer 680 no:: 841 pg no:: 29\n",
      "Technical Product Manager 680 no:: 841 pg no:: 29\n",
      "Snowflake 680 no:: 841 pg no:: 29\n",
      "MS Azure DevOps Engineer 680 no:: 841 pg no:: 29\n",
      "Data Engineer 681 no:: 841 pg no:: 29\n",
      "Staff Engineer - ADOC 682 no:: 841 pg no:: 29\n",
      "Software Engineer - Web applications, Java, Nodejs, Spring Boot ( 8+ years ) 683 no:: 841 pg no:: 29\n",
      "Mid Software Engineer 684 no:: 841 pg no:: 29\n",
      "Senior Software Engineer 685 no:: 841 pg no:: 29\n",
      "Senior Data Engineer 686 no:: 841 pg no:: 29\n",
      "AI/ML Engineer 687 no:: 841 pg no:: 29\n",
      "Senior Product Security Engineer 688 no:: 841 pg no:: 29\n",
      "Senior Security Engineer 688 no:: 841 pg no:: 29\n",
      "Product Architect-PRIME 689 no:: 841 pg no:: 29\n",
      "SAP Callidus - Senior Software Engineer - BF - 35972-52532 - JR101286 690 no:: 841 pg no:: 29\n",
      "Software Engineer-MBD 690 no:: 841 pg no:: 29\n",
      "Senior Database Developer 691 no:: 841 pg no:: 29\n",
      "Senior Associate Specialist - DC Infra Engineering and Operations 692 no:: 841 pg no:: 29\n",
      "QA Engineer_Polar Security 692 no:: 841 pg no:: 29\n",
      "Sr Software Engineer 693 no:: 841 pg no:: 29\n",
      "Principal Software Engineer 694 no:: 841 pg no:: 29\n",
      "Senior Engineer - DaaS 695 no:: 841 pg no:: 29\n",
      "Full Stack Programmer (Java) 695 no:: 841 pg no:: 29\n",
      "Senior Analyst - ML Platform (Backend) 696 no:: 841 pg no:: 29\n",
      "Digital Engineering Staff Engineer 697 no:: 841 pg no:: 29\n",
      "Lead Product Performance Test Engineer 698 no:: 841 pg no:: 29\n",
      "Sr. ASIC Controller Test & Reliability Engineer 698 no:: 841 pg no:: 29\n",
      "Apache Spark Developer 699 no:: 841 pg no:: 29\n",
      "Senior Software Engineer (.Net+ReactJS) 700 no:: 841 pg no:: 29\n",
      "QA Engineer 701 no:: 841 pg no:: 29\n",
      "Firmware Developer 702 no:: 841 pg no:: 29\n",
      "Senior Software Engineer 703 no:: 841 pg no:: 29\n",
      "Lead Cloud Database Administrator 704 no:: 841 pg no:: 29\n",
      "Software developer 705 no:: 841 pg no:: 29\n",
      "Product Designer 706 no:: 841 pg no:: 29\n",
      "QA Engineer 707 no:: 841 pg no:: 29\n",
      "Desktop Support Engineer 708 no:: 841 pg no:: 29\n",
      "Sr Staff Software Engineer 709 no:: 841 pg no:: 29\n",
      "Full Stack Software Engineer - Product ops 709 no:: 841 pg no:: 29\n",
      "Senior Software Engineer (Crystal Reports Developer) - RR/56/2024 ||5+ Years 709 no:: 841 pg no:: 29\n",
      "AM/DM- Strength & Durability Testing 710 no:: 841 pg no:: 29\n",
      "Product Support Engineer 711 no:: 841 pg no:: 29\n",
      "Software Engineer II (L3) - Marketing Technology 712 no:: 841 pg no:: 29\n",
      "Software Engineer - C developer 713 no:: 841 pg no:: 29\n",
      "Senior Backend Engineer - Node.js (in house) 713 no:: 841 pg no:: 29\n",
      "Lead Site Reliability Engineer 714 no:: 841 pg no:: 29\n",
      "Lead Site Reliability Engineer 715 no:: 841 pg no:: 29\n",
      "Telematics - Head 716 no:: 841 pg no:: 29\n",
      "Lead Cloud Database Administrator 716 no:: 841 pg no:: 29\n",
      "QE_ETL_Senior Manager 717 no:: 841 pg no:: 29\n",
      "Sr. Full Stack .Net Software Engineer 718 no:: 841 pg no:: 29\n",
      "Engineer 719 no:: 841 pg no:: 29\n",
      "System & Rulestream Application Engineer. 720 no:: 841 pg no:: 29\n",
      "Lead Software Engineer 721 no:: 841 pg no:: 29\n",
      "Senior Engineer - Salesforce Marketing Cloud 722 no:: 841 pg no:: 29\n",
      "Networks_L3 - LA 722 no:: 841 pg no:: 29\n",
      "Software Test Engineer 722 no:: 841 pg no:: 29\n",
      "Sr. Silicon Design Engineer 723 no:: 841 pg no:: 29\n",
      "Sr. Dot Net Developer 724 no:: 841 pg no:: 29\n",
      "iOS Developer 725 no:: 841 pg no:: 29\n",
      "Senior Engineer - Salesforce Health Cloud 726 no:: 841 pg no:: 29\n",
      "Network Security Engineer 726 no:: 841 pg no:: 29\n",
      "Senior Software Engineer I (.Net) 727 no:: 841 pg no:: 29\n",
      "Network Support Administrator III 728 no:: 841 pg no:: 29\n",
      "Salesforce functional Engineer 729 no:: 841 pg no:: 29\n",
      "iOS Developer 730 no:: 841 pg no:: 29\n",
      "Staff Engineer FrontEnd 731 no:: 841 pg no:: 29\n",
      "AI/ML Senior Developer 732 no:: 841 pg no:: 29\n",
      "Dot Net Developer 733 no:: 841 pg no:: 29\n",
      "Snowflake Engineer 734 no:: 841 pg no:: 29\n",
      "Senior Lead Engineer - Development( Dot net fullstack C#, HTML) 735 no:: 841 pg no:: 29\n",
      "Senior Salesforce QA 736 no:: 841 pg no:: 29\n",
      "Venture CTO 736 no:: 841 pg no:: 29\n",
      "Senior Test Automation Engineer 736 no:: 841 pg no:: 29\n",
      "Android Developer 737 no:: 841 pg no:: 29\n",
      "Technical Lead 737 no:: 841 pg no:: 29\n",
      "Java Developer 738 no:: 841 pg no:: 29\n",
      "Sr. Software Engineer 739 no:: 841 pg no:: 29\n",
      "Senior Node.js Full Stack Developer 740 no:: 841 pg no:: 29\n",
      "Sr Principal Software Developer 741 no:: 841 pg no:: 29\n",
      "Principal Engineer - Development (Java Developer, Full Stack) 742 no:: 841 pg no:: 29\n",
      "Android Developer 743 no:: 841 pg no:: 29\n",
      "Product Innovation Lead 744 no:: 841 pg no:: 29\n",
      "Senior Software Engineer 745 no:: 841 pg no:: 29\n",
      "Sr Power Bi Support Engineer 746 no:: 841 pg no:: 29\n",
      "Intern - QA Engineer - Rs 5000/month 747 no:: 841 pg no:: 29\n"
     ]
    }
   ],
   "source": [
    "for  card in cards:\n",
    "            #cards = driver.find_elements(By.XPATH,\"//div[contains(@class , 'jobCardContainer')]\")\n",
    "\n",
    "            card.click()\n",
    "            #pane = card.find_elements(By.XPATH,\"//div[@id='jobsearch-ViewjobPaneWrapper']\")\n",
    "            try:\n",
    "                title =   driver.find_element(By.XPATH,\"//h1[contains(@class,'JobDetails_jobTitle')]\").text\n",
    "            except:\n",
    "                title = 'None'\n",
    "            titles.append(title)\n",
    "            print(title,count,\"no::\",i,\"pg no::\",int(i/29))\n",
    "            try:\n",
    "                company = card.find_element(By.XPATH,\".//span[contains(@class,'EmployerProfile_employer')]\").text\n",
    "            except:\n",
    "                company = 'None'\n",
    "            companies.append(company)\n",
    "            try: \n",
    "                location = driver.find_element(By.XPATH,\"//div[contains(@class,'JobDetails_location')]\").text\n",
    "            except:\n",
    "                location = 'None'\n",
    "            locations.append(location)\n",
    "            try:\n",
    "                #rating_tag= driver.find_element(By.XPATH,\"//a/span[@class='body-medium'] \").text\n",
    "                rating = card.find_element(By.XPATH,\".//div[contains(@class,'EmployerProfile_rating')]\").text\n",
    "            except:\n",
    "                rating='None'\n",
    "            reviews.append(rating)\n",
    "            try:\n",
    "                salary = card.find_element(By.XPATH,\".//div[contains(@class,'JobCard_salaryEstimate')]\").text\n",
    "                if salary != 'None':\n",
    "                        count +=1\n",
    "            except:\n",
    "                #try:\n",
    "                    #iframe = driver.find_element(By.XPATH,\"//div[@class='avg_value sbold-title-l']\")\n",
    "                    #ActionChains(driver).move_to_element(iframe).perform()\n",
    "                    #a = driver.find_element(By.XPATH,\"//div[@class='avg_value sbold-title-l']\")\n",
    "                    #salary = a.get_attribute('innerText')[:-6]\n",
    "                #except:\n",
    "                salary = 'None'\n",
    "            salaries.append(salary)\n",
    "                   \n",
    "            try:  \n",
    "                show =  driver.find_element(By.XPATH,\"//button/span[contains(text(),'Show more')]\")\n",
    "                show.click()\n",
    "                description = driver.find_element(By.XPATH,\"//div[contains(@class,'JobDetails_jobDescription_')]\").text\n",
    "            except:\n",
    "                description = 'None'\n",
    "            descriptions.append(description)\n",
    "        #next_page= driver.find_elements(By.XPATH,\"//button[contains(@class,'load')]\")\n",
    "        #next_page[0].click()\n",
    "           # if i % 29 == 0:\n",
    "               # next_page= driver.find_elements(By.XPATH,\"//button[@data-test='load-more']\")\n",
    "               # next_page[0].click()\n",
    "                \n",
    "            \n",
    "            \n",
    "\n",
    "        \n",
    "        \n",
    "    "
   ]
  },
  {
   "cell_type": "code",
   "execution_count": 114,
   "id": "243cf7e4-a944-4f86-921f-ee20399327f5",
   "metadata": {},
   "outputs": [
    {
     "data": {
      "text/plain": [
       "900"
      ]
     },
     "execution_count": 114,
     "metadata": {},
     "output_type": "execute_result"
    }
   ],
   "source": [
    "len(descriptions)"
   ]
  },
  {
   "cell_type": "code",
   "execution_count": null,
   "id": "ff9da6b5-4012-483b-a3d9-3e8f50766c15",
   "metadata": {},
   "outputs": [],
   "source": [
    "for i in range(0,420):\n",
    "    cards = driver.find_elements(By.XPATH,\"//div[contains(@class, 'cardOutline')]\")\n",
    "    for card in cards:\n",
    "        card.click()\n",
    "        #pane = card.find_elements(By.XPATH,\"//div[@id='jobsearch-ViewjobPaneWrapper']\")\n",
    "        try:\n",
    "            title = card.find_element(By.XPATH,\".//span[contains(@id,'jobTitle')]\").text\n",
    "        except:\n",
    "            title = 'None'\n",
    "        titles.append(title)\n",
    "        print(title,count)\n",
    "        try:\n",
    "            company = card.find_element(By.XPATH,\".//span[@data-testid='company-name']\").text\n",
    "        except:\n",
    "            company = 'None'\n",
    "        companies.append(company)\n",
    "        try: \n",
    "            location = card.find_element(By.XPATH,\".//div[@data-testid='text-location']\").text\n",
    "        except:\n",
    "            location = 'None'\n",
    "        locations.append(location)\n",
    "        try:\n",
    "            rating_tag= driver.find_elements(By.XPATH,\".//div[@role='img']\")[0]\n",
    "            rating = rating_tag.get_attribute('aria-label')\n",
    "        except:\n",
    "            rating='None'\n",
    "        reviews.append(rating)\n",
    "        try:\n",
    "            nos =  driver.find_elements(By.XPATH,\".//a[contains(text(),'reviews')]\")[1].text\n",
    "        except:\n",
    "            nos = 'None'\n",
    "        noofreviews.append(nos)\n",
    "        try:\n",
    "            salary = card.find_elements(By.XPATH,'.//*[contains(text(), \"₹\")]')[0].text\n",
    "            if salary != 'None':\n",
    "                count +=1\n",
    "        except:\n",
    "            salary = 'None'\n",
    "        salaries.append(salary)\n",
    "        try: b = driver.find_element(By.XPATH,\"//div[@class='htmlCont'] \")\n",
    "             description = driver.find_elements(By.XPATH,\".//div[@id='jobDescriptionText']\")[0].text\n",
    "        except:\n",
    "            description = 'None'\n",
    "        descriptions.append(description)\n",
    "    next_page= driver.find_elements(By.XPATH,\"//a[@aria-label = 'Next Page']\")\n",
    "    next_page[0].click()\n",
    "        \n",
    "            \n",
    "            "
   ]
  },
  {
   "cell_type": "code",
   "execution_count": 32,
   "id": "7a1c4c84-f71f-4d26-9329-716fa8812963",
   "metadata": {},
   "outputs": [],
   "source": [
    "import pandas as pd\n",
    "df = pd.DataFrame()\n",
    "df['titles'] = titles\n",
    "df['companies'] = companies\n",
    "df['locations'] = locations\n",
    "df['reviews'] = reviews\n",
    "df['descriptions'] = descriptions\n",
    "df['salaries'] = salaries"
   ]
  },
  {
   "cell_type": "code",
   "execution_count": 33,
   "id": "c35a94fd-c429-4510-a44c-49035bca449c",
   "metadata": {},
   "outputs": [],
   "source": [
    "df.to_csv('glassdoor_data_engineer.csv')"
   ]
  },
  {
   "cell_type": "code",
   "execution_count": 19,
   "id": "f8bffec1-04dc-45b7-a3ea-6761ccec8839",
   "metadata": {},
   "outputs": [
    {
     "data": {
      "text/html": [
       "<div>\n",
       "<style scoped>\n",
       "    .dataframe tbody tr th:only-of-type {\n",
       "        vertical-align: middle;\n",
       "    }\n",
       "\n",
       "    .dataframe tbody tr th {\n",
       "        vertical-align: top;\n",
       "    }\n",
       "\n",
       "    .dataframe thead th {\n",
       "        text-align: right;\n",
       "    }\n",
       "</style>\n",
       "<table border=\"1\" class=\"dataframe\">\n",
       "  <thead>\n",
       "    <tr style=\"text-align: right;\">\n",
       "      <th></th>\n",
       "      <th>titles</th>\n",
       "      <th>companies</th>\n",
       "      <th>locations</th>\n",
       "      <th>reviews</th>\n",
       "      <th>noofreviews</th>\n",
       "      <th>descriptions</th>\n",
       "      <th>salaries</th>\n",
       "    </tr>\n",
       "  </thead>\n",
       "  <tbody>\n",
       "    <tr>\n",
       "      <th>0</th>\n",
       "      <td>Supply Chain Analyst</td>\n",
       "      <td>Wabi Sabi Styles</td>\n",
       "      <td>Noida, Uttar Pradesh</td>\n",
       "      <td>None</td>\n",
       "      <td>None</td>\n",
       "      <td>An inventory planner is a professional who is ...</td>\n",
       "      <td>₹20,000 - ₹28,000 a month</td>\n",
       "    </tr>\n",
       "    <tr>\n",
       "      <th>1</th>\n",
       "      <td>Senior Data Analyst/Modeler - Data Engineering</td>\n",
       "      <td>Exusia</td>\n",
       "      <td>Kolkata, West Bengal</td>\n",
       "      <td>4.1 out of 5 stars</td>\n",
       "      <td>205 reviews</td>\n",
       "      <td>Department: Sales and Delivery Team - Empower\\...</td>\n",
       "      <td>₹12,55,575 - ₹28,40,135 a year</td>\n",
       "    </tr>\n",
       "    <tr>\n",
       "      <th>2</th>\n",
       "      <td>Jr. Business Analyst [Walk in drive, good Engl...</td>\n",
       "      <td>BLSD LAB</td>\n",
       "      <td>Indore, Madhya Pradesh</td>\n",
       "      <td>3 out of 5 stars</td>\n",
       "      <td>2 reviews</td>\n",
       "      <td>About Us:\\nData Driven Foundry setting up its ...</td>\n",
       "      <td>₹17,000 - ₹25,000 a month</td>\n",
       "    </tr>\n",
       "    <tr>\n",
       "      <th>3</th>\n",
       "      <td>BPO: Non - Voice (Data Analyst &amp; Research Anal...</td>\n",
       "      <td>A &amp; A Infotech Solutions</td>\n",
       "      <td>Pettah, Thiruvananthapuram, Kerala</td>\n",
       "      <td>None</td>\n",
       "      <td>None</td>\n",
       "      <td>A&amp;A Infotech Solutions is a non-voice BPO comp...</td>\n",
       "      <td>₹9,000 - ₹13,000 a month</td>\n",
       "    </tr>\n",
       "    <tr>\n",
       "      <th>4</th>\n",
       "      <td>Canada Reporting &amp; Analytics — Analyst</td>\n",
       "      <td>Deloitte</td>\n",
       "      <td>Hyderabad, Telangana</td>\n",
       "      <td>3.9 out of 5 stars</td>\n",
       "      <td>12,626 reviews</td>\n",
       "      <td>Core Talent Services | Program &amp; Vendor Relati...</td>\n",
       "      <td>None</td>\n",
       "    </tr>\n",
       "    <tr>\n",
       "      <th>...</th>\n",
       "      <td>...</td>\n",
       "      <td>...</td>\n",
       "      <td>...</td>\n",
       "      <td>...</td>\n",
       "      <td>...</td>\n",
       "      <td>...</td>\n",
       "      <td>...</td>\n",
       "    </tr>\n",
       "    <tr>\n",
       "      <th>4072</th>\n",
       "      <td>Marketing Analyst</td>\n",
       "      <td>Anveshak Technology &amp; Knowledge Solutions</td>\n",
       "      <td>Gurgaon, Haryana</td>\n",
       "      <td>None</td>\n",
       "      <td>None</td>\n",
       "      <td>About Intertoons:\\nIntertoons is a premier pro...</td>\n",
       "      <td>₹20,000 - ₹35,000 a month</td>\n",
       "    </tr>\n",
       "    <tr>\n",
       "      <th>4073</th>\n",
       "      <td>Program Analyst</td>\n",
       "      <td>Streamline Healthcare Solutions</td>\n",
       "      <td>Bengaluru, Karnataka</td>\n",
       "      <td>None</td>\n",
       "      <td>None</td>\n",
       "      <td>About Intertoons:\\nIntertoons is a premier pro...</td>\n",
       "      <td>None</td>\n",
       "    </tr>\n",
       "    <tr>\n",
       "      <th>4074</th>\n",
       "      <td>HRIS Analyst</td>\n",
       "      <td>Bechtel</td>\n",
       "      <td>New Delhi, Delhi</td>\n",
       "      <td>None</td>\n",
       "      <td>None</td>\n",
       "      <td>About Intertoons:\\nIntertoons is a premier pro...</td>\n",
       "      <td>None</td>\n",
       "    </tr>\n",
       "    <tr>\n",
       "      <th>4075</th>\n",
       "      <td>ERP IT Business Analyst - Equipment Financing</td>\n",
       "      <td>Alcon</td>\n",
       "      <td>Bengaluru, Karnataka</td>\n",
       "      <td>None</td>\n",
       "      <td>None</td>\n",
       "      <td>About Intertoons:\\nIntertoons is a premier pro...</td>\n",
       "      <td>None</td>\n",
       "    </tr>\n",
       "    <tr>\n",
       "      <th>4076</th>\n",
       "      <td>Senior Power BI Developer</td>\n",
       "      <td>Autoliv India</td>\n",
       "      <td>Karnataka</td>\n",
       "      <td>None</td>\n",
       "      <td>None</td>\n",
       "      <td>None</td>\n",
       "      <td>None</td>\n",
       "    </tr>\n",
       "  </tbody>\n",
       "</table>\n",
       "<p>4077 rows × 7 columns</p>\n",
       "</div>"
      ],
      "text/plain": [
       "                                                 titles  \\\n",
       "0                                  Supply Chain Analyst   \n",
       "1        Senior Data Analyst/Modeler - Data Engineering   \n",
       "2     Jr. Business Analyst [Walk in drive, good Engl...   \n",
       "3     BPO: Non - Voice (Data Analyst & Research Anal...   \n",
       "4                Canada Reporting & Analytics — Analyst   \n",
       "...                                                 ...   \n",
       "4072                                  Marketing Analyst   \n",
       "4073                                    Program Analyst   \n",
       "4074                                       HRIS Analyst   \n",
       "4075      ERP IT Business Analyst - Equipment Financing   \n",
       "4076                          Senior Power BI Developer   \n",
       "\n",
       "                                      companies  \\\n",
       "0                              Wabi Sabi Styles   \n",
       "1                                        Exusia   \n",
       "2                                      BLSD LAB   \n",
       "3                      A & A Infotech Solutions   \n",
       "4                                      Deloitte   \n",
       "...                                         ...   \n",
       "4072  Anveshak Technology & Knowledge Solutions   \n",
       "4073            Streamline Healthcare Solutions   \n",
       "4074                                    Bechtel   \n",
       "4075                                      Alcon   \n",
       "4076                              Autoliv India   \n",
       "\n",
       "                               locations             reviews     noofreviews  \\\n",
       "0                   Noida, Uttar Pradesh                None            None   \n",
       "1                   Kolkata, West Bengal  4.1 out of 5 stars     205 reviews   \n",
       "2                 Indore, Madhya Pradesh    3 out of 5 stars       2 reviews   \n",
       "3     Pettah, Thiruvananthapuram, Kerala                None            None   \n",
       "4                   Hyderabad, Telangana  3.9 out of 5 stars  12,626 reviews   \n",
       "...                                  ...                 ...             ...   \n",
       "4072                    Gurgaon, Haryana                None            None   \n",
       "4073                Bengaluru, Karnataka                None            None   \n",
       "4074                    New Delhi, Delhi                None            None   \n",
       "4075                Bengaluru, Karnataka                None            None   \n",
       "4076                           Karnataka                None            None   \n",
       "\n",
       "                                           descriptions  \\\n",
       "0     An inventory planner is a professional who is ...   \n",
       "1     Department: Sales and Delivery Team - Empower\\...   \n",
       "2     About Us:\\nData Driven Foundry setting up its ...   \n",
       "3     A&A Infotech Solutions is a non-voice BPO comp...   \n",
       "4     Core Talent Services | Program & Vendor Relati...   \n",
       "...                                                 ...   \n",
       "4072  About Intertoons:\\nIntertoons is a premier pro...   \n",
       "4073  About Intertoons:\\nIntertoons is a premier pro...   \n",
       "4074  About Intertoons:\\nIntertoons is a premier pro...   \n",
       "4075  About Intertoons:\\nIntertoons is a premier pro...   \n",
       "4076                                               None   \n",
       "\n",
       "                            salaries  \n",
       "0          ₹20,000 - ₹28,000 a month  \n",
       "1     ₹12,55,575 - ₹28,40,135 a year  \n",
       "2          ₹17,000 - ₹25,000 a month  \n",
       "3           ₹9,000 - ₹13,000 a month  \n",
       "4                               None  \n",
       "...                              ...  \n",
       "4072       ₹20,000 - ₹35,000 a month  \n",
       "4073                            None  \n",
       "4074                            None  \n",
       "4075                            None  \n",
       "4076                            None  \n",
       "\n",
       "[4077 rows x 7 columns]"
      ]
     },
     "execution_count": 19,
     "metadata": {},
     "output_type": "execute_result"
    }
   ],
   "source": [
    "df"
   ]
  },
  {
   "cell_type": "code",
   "execution_count": 145,
   "id": "f288737b-b19c-4ca3-81cc-352f90cd1832",
   "metadata": {},
   "outputs": [
    {
     "name": "stdout",
     "output_type": "stream",
     "text": [
      "Senior Data scientist <selenium.webdriver.remote.webelement.WebElement (session=\"944691c2de861b10086eca457f75afd0\", element=\"0A0D0E8FF3D66222D38588259D4030EA_element_50\")>\n",
      "Deep Learning Engineer <selenium.webdriver.remote.webelement.WebElement (session=\"944691c2de861b10086eca457f75afd0\", element=\"0A0D0E8FF3D66222D38588259D4030EA_element_51\")>\n",
      "Data Science trainer <selenium.webdriver.remote.webelement.WebElement (session=\"944691c2de861b10086eca457f75afd0\", element=\"0A0D0E8FF3D66222D38588259D4030EA_element_52\")>\n",
      "Senior Associate - Data Science <selenium.webdriver.remote.webelement.WebElement (session=\"944691c2de861b10086eca457f75afd0\", element=\"0A0D0E8FF3D66222D38588259D4030EA_element_53\")>\n",
      "Manager GenAi Data Science <selenium.webdriver.remote.webelement.WebElement (session=\"944691c2de861b10086eca457f75afd0\", element=\"0A0D0E8FF3D66222D38588259D4030EA_element_54\")>\n",
      "DATA SCIENCE TRAINER <selenium.webdriver.remote.webelement.WebElement (session=\"944691c2de861b10086eca457f75afd0\", element=\"0A0D0E8FF3D66222D38588259D4030EA_element_55\")>\n",
      "Data Scientist (3+years) <selenium.webdriver.remote.webelement.WebElement (session=\"944691c2de861b10086eca457f75afd0\", element=\"0A0D0E8FF3D66222D38588259D4030EA_element_56\")>\n",
      "Technical Content Creator - Artificial Intelligence <selenium.webdriver.remote.webelement.WebElement (session=\"944691c2de861b10086eca457f75afd0\", element=\"0A0D0E8FF3D66222D38588259D4030EA_element_57\")>\n",
      "Data Science - Faculty <selenium.webdriver.remote.webelement.WebElement (session=\"944691c2de861b10086eca457f75afd0\", element=\"0A0D0E8FF3D66222D38588259D4030EA_element_58\")>\n",
      "Director - Data Science-Conversational AI <selenium.webdriver.remote.webelement.WebElement (session=\"944691c2de861b10086eca457f75afd0\", element=\"0A0D0E8FF3D66222D38588259D4030EA_element_59\")>\n",
      "Data Scientist - Image Processing <selenium.webdriver.remote.webelement.WebElement (session=\"944691c2de861b10086eca457f75afd0\", element=\"0A0D0E8FF3D66222D38588259D4030EA_element_60\")>\n",
      "ML Engineer - Computer Vision <selenium.webdriver.remote.webelement.WebElement (session=\"944691c2de861b10086eca457f75afd0\", element=\"0A0D0E8FF3D66222D38588259D4030EA_element_61\")>\n",
      "Machine Learning course <selenium.webdriver.remote.webelement.WebElement (session=\"944691c2de861b10086eca457f75afd0\", element=\"0A0D0E8FF3D66222D38588259D4030EA_element_62\")>\n",
      "Principal - Data Scientist <selenium.webdriver.remote.webelement.WebElement (session=\"944691c2de861b10086eca457f75afd0\", element=\"0A0D0E8FF3D66222D38588259D4030EA_element_63\")>\n",
      "Data Scientist - APJ Online Marketplaces Business Intelligence and Optimization Lead <selenium.webdriver.remote.webelement.WebElement (session=\"944691c2de861b10086eca457f75afd0\", element=\"0A0D0E8FF3D66222D38588259D4030EA_element_64\")>\n"
     ]
    }
   ],
   "source": [
    "for i in range(0,1):\n",
    "    cards = driver.find_elements(By.XPATH,\"//div[contains(@class, 'cardOutline')]\")\n",
    "    for card in cards:\n",
    "            card.click()\n",
    "            print(card.find_element(By.XPATH,\".//span[contains(@id,'jobTitle')]\").text,card)\n",
    "    "
   ]
  },
  {
   "cell_type": "code",
   "execution_count": null,
   "id": "3b84c9b7-2db2-4bcd-bbcc-aa97933a8a10",
   "metadata": {},
   "outputs": [],
   "source": []
  },
  {
   "cell_type": "code",
   "execution_count": 200,
   "id": "cec7a5b2-6fec-4efe-aa4f-1184caf525d1",
   "metadata": {},
   "outputs": [],
   "source": [
    "  cards = driver.find_elements(By.XPATH,\"//div[contains(@class, 'cardOutline')]\")"
   ]
  },
  {
   "cell_type": "code",
   "execution_count": 201,
   "id": "9a48b85d-26d1-42a1-b3c3-1b091f5bda4d",
   "metadata": {},
   "outputs": [],
   "source": [
    "cards[0].click()"
   ]
  },
  {
   "cell_type": "code",
   "execution_count": 188,
   "id": "0e0b3958-82c0-4731-b416-c023a49ff43e",
   "metadata": {},
   "outputs": [],
   "source": [
    " pane = driver.find_elements(By.XPATH,\"//div[@id='jobsearch-ViewjobPaneWrapper']\")[0]"
   ]
  },
  {
   "cell_type": "code",
   "execution_count": 189,
   "id": "e29c3eeb-524b-42de-9a4c-bc0668feded2",
   "metadata": {},
   "outputs": [
    {
     "data": {
      "text/plain": [
       "<selenium.webdriver.remote.webelement.WebElement (session=\"944691c2de861b10086eca457f75afd0\", element=\"277C6C30AE8D152C4E6DD4D8F6CE8E2C_element_12514\")>"
      ]
     },
     "execution_count": 189,
     "metadata": {},
     "output_type": "execute_result"
    }
   ],
   "source": [
    "    pane"
   ]
  },
  {
   "cell_type": "code",
   "execution_count": 202,
   "id": "dfb8281b-925a-4585-8a13-c2db095c8baa",
   "metadata": {},
   "outputs": [
    {
     "data": {
      "text/plain": [
       "[<selenium.webdriver.remote.webelement.WebElement (session=\"944691c2de861b10086eca457f75afd0\", element=\"B4B774FC151CD85174A0EF19D3630B63_element_16397\")>]"
      ]
     },
     "execution_count": 202,
     "metadata": {},
     "output_type": "execute_result"
    }
   ],
   "source": [
    "driver.find_elements(By.XPATH,\".//div[@role='img']\")"
   ]
  },
  {
   "cell_type": "code",
   "execution_count": 203,
   "id": "45e1e766-5d7a-4611-b66d-7d52b1b67a58",
   "metadata": {},
   "outputs": [
    {
     "data": {
      "text/plain": [
       "'3.9 out of 5 stars'"
      ]
     },
     "execution_count": 203,
     "metadata": {},
     "output_type": "execute_result"
    }
   ],
   "source": [
    "r = driver.find_elements(By.XPATH,\".//div[@role='img']\")[0]\n",
    "r.get_attribute('aria-label')"
   ]
  },
  {
   "cell_type": "code",
   "execution_count": 162,
   "id": "fe1ca7b3-6765-412c-9732-b0d17ec31905",
   "metadata": {},
   "outputs": [
    {
     "data": {
      "text/plain": [
       "'Analytics Engineer (WFH)'"
      ]
     },
     "execution_count": 162,
     "metadata": {},
     "output_type": "execute_result"
    }
   ],
   "source": [
    "cards[4].find_element(By.XPATH,\".//span[contains(@id,'jobTitle')]\").text"
   ]
  },
  {
   "cell_type": "code",
   "execution_count": 142,
   "id": "e83f5992-4f8e-4146-97c8-0d7bbce669f9",
   "metadata": {},
   "outputs": [
    {
     "data": {
      "text/plain": [
       "[<selenium.webdriver.remote.webelement.WebElement (session=\"944691c2de861b10086eca457f75afd0\", element=\"E9B5E468C66D10E55FF5D8F606EA194D_element_1540\")>,\n",
       " <selenium.webdriver.remote.webelement.WebElement (session=\"944691c2de861b10086eca457f75afd0\", element=\"E9B5E468C66D10E55FF5D8F606EA194D_element_1550\")>,\n",
       " <selenium.webdriver.remote.webelement.WebElement (session=\"944691c2de861b10086eca457f75afd0\", element=\"E9B5E468C66D10E55FF5D8F606EA194D_element_1551\")>,\n",
       " <selenium.webdriver.remote.webelement.WebElement (session=\"944691c2de861b10086eca457f75afd0\", element=\"E9B5E468C66D10E55FF5D8F606EA194D_element_1552\")>,\n",
       " <selenium.webdriver.remote.webelement.WebElement (session=\"944691c2de861b10086eca457f75afd0\", element=\"E9B5E468C66D10E55FF5D8F606EA194D_element_1553\")>,\n",
       " <selenium.webdriver.remote.webelement.WebElement (session=\"944691c2de861b10086eca457f75afd0\", element=\"E9B5E468C66D10E55FF5D8F606EA194D_element_1554\")>,\n",
       " <selenium.webdriver.remote.webelement.WebElement (session=\"944691c2de861b10086eca457f75afd0\", element=\"E9B5E468C66D10E55FF5D8F606EA194D_element_1555\")>,\n",
       " <selenium.webdriver.remote.webelement.WebElement (session=\"944691c2de861b10086eca457f75afd0\", element=\"E9B5E468C66D10E55FF5D8F606EA194D_element_1556\")>,\n",
       " <selenium.webdriver.remote.webelement.WebElement (session=\"944691c2de861b10086eca457f75afd0\", element=\"E9B5E468C66D10E55FF5D8F606EA194D_element_1557\")>,\n",
       " <selenium.webdriver.remote.webelement.WebElement (session=\"944691c2de861b10086eca457f75afd0\", element=\"E9B5E468C66D10E55FF5D8F606EA194D_element_1558\")>,\n",
       " <selenium.webdriver.remote.webelement.WebElement (session=\"944691c2de861b10086eca457f75afd0\", element=\"E9B5E468C66D10E55FF5D8F606EA194D_element_1559\")>,\n",
       " <selenium.webdriver.remote.webelement.WebElement (session=\"944691c2de861b10086eca457f75afd0\", element=\"E9B5E468C66D10E55FF5D8F606EA194D_element_1560\")>,\n",
       " <selenium.webdriver.remote.webelement.WebElement (session=\"944691c2de861b10086eca457f75afd0\", element=\"E9B5E468C66D10E55FF5D8F606EA194D_element_1561\")>,\n",
       " <selenium.webdriver.remote.webelement.WebElement (session=\"944691c2de861b10086eca457f75afd0\", element=\"E9B5E468C66D10E55FF5D8F606EA194D_element_1562\")>,\n",
       " <selenium.webdriver.remote.webelement.WebElement (session=\"944691c2de861b10086eca457f75afd0\", element=\"E9B5E468C66D10E55FF5D8F606EA194D_element_1563\")>]"
      ]
     },
     "execution_count": 142,
     "metadata": {},
     "output_type": "execute_result"
    }
   ],
   "source": [
    "cards"
   ]
  },
  {
   "cell_type": "code",
   "execution_count": 118,
   "id": "b010e8a8-931c-4ebe-861d-58bfc766a001",
   "metadata": {},
   "outputs": [],
   "source": [
    "a.append(2)"
   ]
  },
  {
   "cell_type": "code",
   "execution_count": 119,
   "id": "c3d36d70-56d9-41a1-bea4-f8b5ce0429d0",
   "metadata": {},
   "outputs": [
    {
     "data": {
      "text/plain": [
       "[2]"
      ]
     },
     "execution_count": 119,
     "metadata": {},
     "output_type": "execute_result"
    }
   ],
   "source": [
    "a"
   ]
  },
  {
   "cell_type": "code",
   "execution_count": null,
   "id": "b1ddd075-b705-4fee-86d4-58cb17fcf46f",
   "metadata": {},
   "outputs": [],
   "source": []
  }
 ],
 "metadata": {
  "kernelspec": {
   "display_name": "Python 3 (ipykernel)",
   "language": "python",
   "name": "python3"
  },
  "language_info": {
   "codemirror_mode": {
    "name": "ipython",
    "version": 3
   },
   "file_extension": ".py",
   "mimetype": "text/x-python",
   "name": "python",
   "nbconvert_exporter": "python",
   "pygments_lexer": "ipython3",
   "version": "3.10.13"
  }
 },
 "nbformat": 4,
 "nbformat_minor": 5
}
